{
  "nbformat": 4,
  "nbformat_minor": 0,
  "metadata": {
    "colab": {
      "provenance": [],
      "authorship_tag": "ABX9TyNsZILrADJ/1/t+ULLBphqD",
      "include_colab_link": true
    },
    "kernelspec": {
      "name": "python3",
      "display_name": "Python 3"
    },
    "language_info": {
      "name": "python"
    }
  },
  "cells": [
    {
      "cell_type": "markdown",
      "metadata": {
        "id": "view-in-github",
        "colab_type": "text"
      },
      "source": [
        "<a href=\"https://colab.research.google.com/github/pramanand-coder/Machine-Learning/blob/main/Movie_Recommendation.ipynb\" target=\"_parent\"><img src=\"https://colab.research.google.com/assets/colab-badge.svg\" alt=\"Open In Colab\"/></a>"
      ]
    },
    {
      "cell_type": "markdown",
      "source": [
        "# **Movie Recomendation System**"
      ],
      "metadata": {
        "id": "qWbngIhp0LHT"
      }
    },
    {
      "cell_type": "markdown",
      "source": [
        "**Recommender System** is a system that seeks to predict or filter preferences according to the user's choices.Recommender systems are utilized in a variety of areas including movies,music,news,books,research articles,search queries,social tags,and products in general.Recommender systems produce a list of recommendations in any of the two ways-\n",
        "\n",
        "**Collaborative filtering**:Collaborative filtering approaches build a model from the user's past behavior (i.e,items purchased or searched by the user)  as well as similar decisions made by other users.This model is then used to predict items(or ratings for items) that users may have an interest in.\n",
        "\n",
        "**Content-based filtering**:Content-based filtering approaches uses a series of discrete characteristics of an item in order to recommend additional items with similar properties. Content-based filtering methods are totally based on a description of the item and a profile of the user's preferences.it recommends items based on the user's past preferences.Let's develop a basic recommendation system using python and pandas.\n",
        "\n",
        "Let's develop a basic recommendation system by suggesting items that are most similar to a particular item,in this case ,mivies it just tells what movies/items are most similar to the user's movie choice."
      ],
      "metadata": {
        "id": "mAiEiDj_0dgx"
      }
    },
    {
      "cell_type": "markdown",
      "source": [
        "# **Import Library**"
      ],
      "metadata": {
        "id": "IZXlKu6e5b1l"
      }
    },
    {
      "cell_type": "code",
      "source": [
        "import numpy as np\n",
        "import pandas as pd"
      ],
      "metadata": {
        "id": "8-6Zm3Bp7rDB"
      },
      "execution_count": 1,
      "outputs": []
    },
    {
      "cell_type": "markdown",
      "source": [
        "## **Import Dataset**"
      ],
      "metadata": {
        "id": "8uvehKcH774b"
      }
    },
    {
      "cell_type": "code",
      "execution_count": 2,
      "metadata": {
        "id": "Vvr3ZTAny4aF"
      },
      "outputs": [],
      "source": [
        "data=pd.read_csv(r\"https://raw.githubusercontent.com/YBI-Foundation/Dataset/main/Movies%20Recommendation.csv\")"
      ]
    },
    {
      "cell_type": "code",
      "source": [
        "data.head()"
      ],
      "metadata": {
        "colab": {
          "base_uri": "https://localhost:8080/",
          "height": 716
        },
        "id": "FmYU8rMC8PlQ",
        "outputId": "d12ea2a6-3d25-4c65-94d7-9f91e837e6e5"
      },
      "execution_count": 3,
      "outputs": [
        {
          "output_type": "execute_result",
          "data": {
            "text/plain": [
              "   Movie_ID      Movie_Title                       Movie_Genre Movie_Language  \\\n",
              "0         1       Four Rooms                      Crime Comedy             en   \n",
              "1         2        Star Wars  Adventure Action Science Fiction             en   \n",
              "2         3     Finding Nemo                  Animation Family             en   \n",
              "3         4     Forrest Gump              Comedy Drama Romance             en   \n",
              "4         5  American Beauty                             Drama             en   \n",
              "\n",
              "   Movie_Budget  Movie_Popularity Movie_Release_Date  Movie_Revenue  \\\n",
              "0       4000000         22.876230         09-12-1995        4300000   \n",
              "1      11000000        126.393695         25-05-1977      775398007   \n",
              "2      94000000         85.688789         30-05-2003      940335536   \n",
              "3      55000000        138.133331         06-07-1994      677945399   \n",
              "4      15000000         80.878605         15-09-1999      356296601   \n",
              "\n",
              "   Movie_Runtime  Movie_Vote  ...  \\\n",
              "0           98.0         6.5  ...   \n",
              "1          121.0         8.1  ...   \n",
              "2          100.0         7.6  ...   \n",
              "3          142.0         8.2  ...   \n",
              "4          122.0         7.9  ...   \n",
              "\n",
              "                                      Movie_Homepage  \\\n",
              "0                                                NaN   \n",
              "1  http://www.starwars.com/films/star-wars-episod...   \n",
              "2              http://movies.disney.com/finding-nemo   \n",
              "3                                                NaN   \n",
              "4                      http://www.dreamworks.com/ab/   \n",
              "\n",
              "                                      Movie_Keywords  \\\n",
              "0          hotel new year's eve witch bet hotel room   \n",
              "1        android galaxy hermit death star lightsaber   \n",
              "2  father son relationship harbor underwater fish...   \n",
              "3  vietnam veteran hippie mentally disabled runni...   \n",
              "4  male nudity female nudity adultery midlife cri...   \n",
              "\n",
              "                                      Movie_Overview  \\\n",
              "0  It's Ted the Bellhop's first night on the job....   \n",
              "1  Princess Leia is captured and held hostage by ...   \n",
              "2  Nemo, an adventurous young clownfish, is unexp...   \n",
              "3  A man with a low IQ has accomplished great thi...   \n",
              "4  Lester Burnham, a depressed suburban father in...   \n",
              "\n",
              "                              Movie_Production_House  \\\n",
              "0  [{\"name\": \"Miramax Films\", \"id\": 14}, {\"name\":...   \n",
              "1  [{\"name\": \"Lucasfilm\", \"id\": 1}, {\"name\": \"Twe...   \n",
              "2     [{\"name\": \"Pixar Animation Studios\", \"id\": 3}]   \n",
              "3          [{\"name\": \"Paramount Pictures\", \"id\": 4}]   \n",
              "4  [{\"name\": \"DreamWorks SKG\", \"id\": 27}, {\"name\"...   \n",
              "\n",
              "                            Movie_Production_Country  \\\n",
              "0  [{\"iso_3166_1\": \"US\", \"name\": \"United States o...   \n",
              "1  [{\"iso_3166_1\": \"US\", \"name\": \"United States o...   \n",
              "2  [{\"iso_3166_1\": \"US\", \"name\": \"United States o...   \n",
              "3  [{\"iso_3166_1\": \"US\", \"name\": \"United States o...   \n",
              "4  [{\"iso_3166_1\": \"US\", \"name\": \"United States o...   \n",
              "\n",
              "                      Movie_Spoken_Language  \\\n",
              "0  [{\"iso_639_1\": \"en\", \"name\": \"English\"}]   \n",
              "1  [{\"iso_639_1\": \"en\", \"name\": \"English\"}]   \n",
              "2  [{\"iso_639_1\": \"en\", \"name\": \"English\"}]   \n",
              "3  [{\"iso_639_1\": \"en\", \"name\": \"English\"}]   \n",
              "4  [{\"iso_639_1\": \"en\", \"name\": \"English\"}]   \n",
              "\n",
              "                                       Movie_Tagline  \\\n",
              "0  Twelve outrageous guests. Four scandalous requ...   \n",
              "1       A long time ago in a galaxy far, far away...   \n",
              "2  There are 3.7 trillion fish in the ocean, they...   \n",
              "3  The world will never be the same, once you've ...   \n",
              "4                                       Look closer.   \n",
              "\n",
              "                                          Movie_Cast  \\\n",
              "0  Tim Roth Antonio Banderas Jennifer Beals Madon...   \n",
              "1  Mark Hamill Harrison Ford Carrie Fisher Peter ...   \n",
              "2  Albert Brooks Ellen DeGeneres Alexander Gould ...   \n",
              "3  Tom Hanks Robin Wright Gary Sinise Mykelti Wil...   \n",
              "4  Kevin Spacey Annette Bening Thora Birch Wes Be...   \n",
              "\n",
              "                                          Movie_Crew   Movie_Director  \n",
              "0  [{'name': 'Allison Anders', 'gender': 1, 'depa...   Allison Anders  \n",
              "1  [{'name': 'George Lucas', 'gender': 2, 'depart...     George Lucas  \n",
              "2  [{'name': 'Andrew Stanton', 'gender': 2, 'depa...   Andrew Stanton  \n",
              "3  [{'name': 'Alan Silvestri', 'gender': 2, 'depa...  Robert Zemeckis  \n",
              "4  [{'name': 'Thomas Newman', 'gender': 2, 'depar...       Sam Mendes  \n",
              "\n",
              "[5 rows x 21 columns]"
            ],
            "text/html": [
              "\n",
              "  <div id=\"df-e2f5ad68-f4ba-4219-95e6-2da484cc4f3d\">\n",
              "    <div class=\"colab-df-container\">\n",
              "      <div>\n",
              "<style scoped>\n",
              "    .dataframe tbody tr th:only-of-type {\n",
              "        vertical-align: middle;\n",
              "    }\n",
              "\n",
              "    .dataframe tbody tr th {\n",
              "        vertical-align: top;\n",
              "    }\n",
              "\n",
              "    .dataframe thead th {\n",
              "        text-align: right;\n",
              "    }\n",
              "</style>\n",
              "<table border=\"1\" class=\"dataframe\">\n",
              "  <thead>\n",
              "    <tr style=\"text-align: right;\">\n",
              "      <th></th>\n",
              "      <th>Movie_ID</th>\n",
              "      <th>Movie_Title</th>\n",
              "      <th>Movie_Genre</th>\n",
              "      <th>Movie_Language</th>\n",
              "      <th>Movie_Budget</th>\n",
              "      <th>Movie_Popularity</th>\n",
              "      <th>Movie_Release_Date</th>\n",
              "      <th>Movie_Revenue</th>\n",
              "      <th>Movie_Runtime</th>\n",
              "      <th>Movie_Vote</th>\n",
              "      <th>...</th>\n",
              "      <th>Movie_Homepage</th>\n",
              "      <th>Movie_Keywords</th>\n",
              "      <th>Movie_Overview</th>\n",
              "      <th>Movie_Production_House</th>\n",
              "      <th>Movie_Production_Country</th>\n",
              "      <th>Movie_Spoken_Language</th>\n",
              "      <th>Movie_Tagline</th>\n",
              "      <th>Movie_Cast</th>\n",
              "      <th>Movie_Crew</th>\n",
              "      <th>Movie_Director</th>\n",
              "    </tr>\n",
              "  </thead>\n",
              "  <tbody>\n",
              "    <tr>\n",
              "      <th>0</th>\n",
              "      <td>1</td>\n",
              "      <td>Four Rooms</td>\n",
              "      <td>Crime Comedy</td>\n",
              "      <td>en</td>\n",
              "      <td>4000000</td>\n",
              "      <td>22.876230</td>\n",
              "      <td>09-12-1995</td>\n",
              "      <td>4300000</td>\n",
              "      <td>98.0</td>\n",
              "      <td>6.5</td>\n",
              "      <td>...</td>\n",
              "      <td>NaN</td>\n",
              "      <td>hotel new year's eve witch bet hotel room</td>\n",
              "      <td>It's Ted the Bellhop's first night on the job....</td>\n",
              "      <td>[{\"name\": \"Miramax Films\", \"id\": 14}, {\"name\":...</td>\n",
              "      <td>[{\"iso_3166_1\": \"US\", \"name\": \"United States o...</td>\n",
              "      <td>[{\"iso_639_1\": \"en\", \"name\": \"English\"}]</td>\n",
              "      <td>Twelve outrageous guests. Four scandalous requ...</td>\n",
              "      <td>Tim Roth Antonio Banderas Jennifer Beals Madon...</td>\n",
              "      <td>[{'name': 'Allison Anders', 'gender': 1, 'depa...</td>\n",
              "      <td>Allison Anders</td>\n",
              "    </tr>\n",
              "    <tr>\n",
              "      <th>1</th>\n",
              "      <td>2</td>\n",
              "      <td>Star Wars</td>\n",
              "      <td>Adventure Action Science Fiction</td>\n",
              "      <td>en</td>\n",
              "      <td>11000000</td>\n",
              "      <td>126.393695</td>\n",
              "      <td>25-05-1977</td>\n",
              "      <td>775398007</td>\n",
              "      <td>121.0</td>\n",
              "      <td>8.1</td>\n",
              "      <td>...</td>\n",
              "      <td>http://www.starwars.com/films/star-wars-episod...</td>\n",
              "      <td>android galaxy hermit death star lightsaber</td>\n",
              "      <td>Princess Leia is captured and held hostage by ...</td>\n",
              "      <td>[{\"name\": \"Lucasfilm\", \"id\": 1}, {\"name\": \"Twe...</td>\n",
              "      <td>[{\"iso_3166_1\": \"US\", \"name\": \"United States o...</td>\n",
              "      <td>[{\"iso_639_1\": \"en\", \"name\": \"English\"}]</td>\n",
              "      <td>A long time ago in a galaxy far, far away...</td>\n",
              "      <td>Mark Hamill Harrison Ford Carrie Fisher Peter ...</td>\n",
              "      <td>[{'name': 'George Lucas', 'gender': 2, 'depart...</td>\n",
              "      <td>George Lucas</td>\n",
              "    </tr>\n",
              "    <tr>\n",
              "      <th>2</th>\n",
              "      <td>3</td>\n",
              "      <td>Finding Nemo</td>\n",
              "      <td>Animation Family</td>\n",
              "      <td>en</td>\n",
              "      <td>94000000</td>\n",
              "      <td>85.688789</td>\n",
              "      <td>30-05-2003</td>\n",
              "      <td>940335536</td>\n",
              "      <td>100.0</td>\n",
              "      <td>7.6</td>\n",
              "      <td>...</td>\n",
              "      <td>http://movies.disney.com/finding-nemo</td>\n",
              "      <td>father son relationship harbor underwater fish...</td>\n",
              "      <td>Nemo, an adventurous young clownfish, is unexp...</td>\n",
              "      <td>[{\"name\": \"Pixar Animation Studios\", \"id\": 3}]</td>\n",
              "      <td>[{\"iso_3166_1\": \"US\", \"name\": \"United States o...</td>\n",
              "      <td>[{\"iso_639_1\": \"en\", \"name\": \"English\"}]</td>\n",
              "      <td>There are 3.7 trillion fish in the ocean, they...</td>\n",
              "      <td>Albert Brooks Ellen DeGeneres Alexander Gould ...</td>\n",
              "      <td>[{'name': 'Andrew Stanton', 'gender': 2, 'depa...</td>\n",
              "      <td>Andrew Stanton</td>\n",
              "    </tr>\n",
              "    <tr>\n",
              "      <th>3</th>\n",
              "      <td>4</td>\n",
              "      <td>Forrest Gump</td>\n",
              "      <td>Comedy Drama Romance</td>\n",
              "      <td>en</td>\n",
              "      <td>55000000</td>\n",
              "      <td>138.133331</td>\n",
              "      <td>06-07-1994</td>\n",
              "      <td>677945399</td>\n",
              "      <td>142.0</td>\n",
              "      <td>8.2</td>\n",
              "      <td>...</td>\n",
              "      <td>NaN</td>\n",
              "      <td>vietnam veteran hippie mentally disabled runni...</td>\n",
              "      <td>A man with a low IQ has accomplished great thi...</td>\n",
              "      <td>[{\"name\": \"Paramount Pictures\", \"id\": 4}]</td>\n",
              "      <td>[{\"iso_3166_1\": \"US\", \"name\": \"United States o...</td>\n",
              "      <td>[{\"iso_639_1\": \"en\", \"name\": \"English\"}]</td>\n",
              "      <td>The world will never be the same, once you've ...</td>\n",
              "      <td>Tom Hanks Robin Wright Gary Sinise Mykelti Wil...</td>\n",
              "      <td>[{'name': 'Alan Silvestri', 'gender': 2, 'depa...</td>\n",
              "      <td>Robert Zemeckis</td>\n",
              "    </tr>\n",
              "    <tr>\n",
              "      <th>4</th>\n",
              "      <td>5</td>\n",
              "      <td>American Beauty</td>\n",
              "      <td>Drama</td>\n",
              "      <td>en</td>\n",
              "      <td>15000000</td>\n",
              "      <td>80.878605</td>\n",
              "      <td>15-09-1999</td>\n",
              "      <td>356296601</td>\n",
              "      <td>122.0</td>\n",
              "      <td>7.9</td>\n",
              "      <td>...</td>\n",
              "      <td>http://www.dreamworks.com/ab/</td>\n",
              "      <td>male nudity female nudity adultery midlife cri...</td>\n",
              "      <td>Lester Burnham, a depressed suburban father in...</td>\n",
              "      <td>[{\"name\": \"DreamWorks SKG\", \"id\": 27}, {\"name\"...</td>\n",
              "      <td>[{\"iso_3166_1\": \"US\", \"name\": \"United States o...</td>\n",
              "      <td>[{\"iso_639_1\": \"en\", \"name\": \"English\"}]</td>\n",
              "      <td>Look closer.</td>\n",
              "      <td>Kevin Spacey Annette Bening Thora Birch Wes Be...</td>\n",
              "      <td>[{'name': 'Thomas Newman', 'gender': 2, 'depar...</td>\n",
              "      <td>Sam Mendes</td>\n",
              "    </tr>\n",
              "  </tbody>\n",
              "</table>\n",
              "<p>5 rows × 21 columns</p>\n",
              "</div>\n",
              "      <button class=\"colab-df-convert\" onclick=\"convertToInteractive('df-e2f5ad68-f4ba-4219-95e6-2da484cc4f3d')\"\n",
              "              title=\"Convert this dataframe to an interactive table.\"\n",
              "              style=\"display:none;\">\n",
              "        \n",
              "  <svg xmlns=\"http://www.w3.org/2000/svg\" height=\"24px\"viewBox=\"0 0 24 24\"\n",
              "       width=\"24px\">\n",
              "    <path d=\"M0 0h24v24H0V0z\" fill=\"none\"/>\n",
              "    <path d=\"M18.56 5.44l.94 2.06.94-2.06 2.06-.94-2.06-.94-.94-2.06-.94 2.06-2.06.94zm-11 1L8.5 8.5l.94-2.06 2.06-.94-2.06-.94L8.5 2.5l-.94 2.06-2.06.94zm10 10l.94 2.06.94-2.06 2.06-.94-2.06-.94-.94-2.06-.94 2.06-2.06.94z\"/><path d=\"M17.41 7.96l-1.37-1.37c-.4-.4-.92-.59-1.43-.59-.52 0-1.04.2-1.43.59L10.3 9.45l-7.72 7.72c-.78.78-.78 2.05 0 2.83L4 21.41c.39.39.9.59 1.41.59.51 0 1.02-.2 1.41-.59l7.78-7.78 2.81-2.81c.8-.78.8-2.07 0-2.86zM5.41 20L4 18.59l7.72-7.72 1.47 1.35L5.41 20z\"/>\n",
              "  </svg>\n",
              "      </button>\n",
              "      \n",
              "  <style>\n",
              "    .colab-df-container {\n",
              "      display:flex;\n",
              "      flex-wrap:wrap;\n",
              "      gap: 12px;\n",
              "    }\n",
              "\n",
              "    .colab-df-convert {\n",
              "      background-color: #E8F0FE;\n",
              "      border: none;\n",
              "      border-radius: 50%;\n",
              "      cursor: pointer;\n",
              "      display: none;\n",
              "      fill: #1967D2;\n",
              "      height: 32px;\n",
              "      padding: 0 0 0 0;\n",
              "      width: 32px;\n",
              "    }\n",
              "\n",
              "    .colab-df-convert:hover {\n",
              "      background-color: #E2EBFA;\n",
              "      box-shadow: 0px 1px 2px rgba(60, 64, 67, 0.3), 0px 1px 3px 1px rgba(60, 64, 67, 0.15);\n",
              "      fill: #174EA6;\n",
              "    }\n",
              "\n",
              "    [theme=dark] .colab-df-convert {\n",
              "      background-color: #3B4455;\n",
              "      fill: #D2E3FC;\n",
              "    }\n",
              "\n",
              "    [theme=dark] .colab-df-convert:hover {\n",
              "      background-color: #434B5C;\n",
              "      box-shadow: 0px 1px 3px 1px rgba(0, 0, 0, 0.15);\n",
              "      filter: drop-shadow(0px 1px 2px rgba(0, 0, 0, 0.3));\n",
              "      fill: #FFFFFF;\n",
              "    }\n",
              "  </style>\n",
              "\n",
              "      <script>\n",
              "        const buttonEl =\n",
              "          document.querySelector('#df-e2f5ad68-f4ba-4219-95e6-2da484cc4f3d button.colab-df-convert');\n",
              "        buttonEl.style.display =\n",
              "          google.colab.kernel.accessAllowed ? 'block' : 'none';\n",
              "\n",
              "        async function convertToInteractive(key) {\n",
              "          const element = document.querySelector('#df-e2f5ad68-f4ba-4219-95e6-2da484cc4f3d');\n",
              "          const dataTable =\n",
              "            await google.colab.kernel.invokeFunction('convertToInteractive',\n",
              "                                                     [key], {});\n",
              "          if (!dataTable) return;\n",
              "\n",
              "          const docLinkHtml = 'Like what you see? Visit the ' +\n",
              "            '<a target=\"_blank\" href=https://colab.research.google.com/notebooks/data_table.ipynb>data table notebook</a>'\n",
              "            + ' to learn more about interactive tables.';\n",
              "          element.innerHTML = '';\n",
              "          dataTable['output_type'] = 'display_data';\n",
              "          await google.colab.output.renderOutput(dataTable, element);\n",
              "          const docLink = document.createElement('div');\n",
              "          docLink.innerHTML = docLinkHtml;\n",
              "          element.appendChild(docLink);\n",
              "        }\n",
              "      </script>\n",
              "    </div>\n",
              "  </div>\n",
              "  "
            ]
          },
          "metadata": {},
          "execution_count": 3
        }
      ]
    },
    {
      "cell_type": "code",
      "source": [
        "data.describe()"
      ],
      "metadata": {
        "colab": {
          "base_uri": "https://localhost:8080/",
          "height": 300
        },
        "id": "M5RSZAPk8Tnf",
        "outputId": "af429e1f-780b-48af-a704-bb6016736492"
      },
      "execution_count": 4,
      "outputs": [
        {
          "output_type": "execute_result",
          "data": {
            "text/plain": [
              "          Movie_ID  Movie_Budget  Movie_Popularity  Movie_Revenue  \\\n",
              "count  4760.000000  4.760000e+03       4760.000000   4.760000e+03   \n",
              "mean   2382.566387  2.920129e+07         21.599510   8.263743e+07   \n",
              "std    1377.270159  4.075620e+07         31.887919   1.630554e+08   \n",
              "min       1.000000  0.000000e+00          0.000372   0.000000e+00   \n",
              "25%    1190.750000  9.257500e+05          4.807074   0.000000e+00   \n",
              "50%    2380.500000  1.500000e+07         13.119058   1.944716e+07   \n",
              "75%    3572.250000  4.000000e+07         28.411929   9.341276e+07   \n",
              "max    4788.000000  3.800000e+08        875.581305   2.787965e+09   \n",
              "\n",
              "       Movie_Runtime   Movie_Vote  Movie_Vote_Count  \n",
              "count    4758.000000  4760.000000       4760.000000  \n",
              "mean      107.184111     6.113866        692.508403  \n",
              "std        21.960332     1.141294       1235.007337  \n",
              "min         0.000000     0.000000          0.000000  \n",
              "25%        94.000000     5.600000         55.000000  \n",
              "50%       104.000000     6.200000        238.000000  \n",
              "75%       118.000000     6.800000        740.250000  \n",
              "max       338.000000    10.000000      13752.000000  "
            ],
            "text/html": [
              "\n",
              "  <div id=\"df-7e69c358-3500-4d1f-a47b-6b1551f892a4\">\n",
              "    <div class=\"colab-df-container\">\n",
              "      <div>\n",
              "<style scoped>\n",
              "    .dataframe tbody tr th:only-of-type {\n",
              "        vertical-align: middle;\n",
              "    }\n",
              "\n",
              "    .dataframe tbody tr th {\n",
              "        vertical-align: top;\n",
              "    }\n",
              "\n",
              "    .dataframe thead th {\n",
              "        text-align: right;\n",
              "    }\n",
              "</style>\n",
              "<table border=\"1\" class=\"dataframe\">\n",
              "  <thead>\n",
              "    <tr style=\"text-align: right;\">\n",
              "      <th></th>\n",
              "      <th>Movie_ID</th>\n",
              "      <th>Movie_Budget</th>\n",
              "      <th>Movie_Popularity</th>\n",
              "      <th>Movie_Revenue</th>\n",
              "      <th>Movie_Runtime</th>\n",
              "      <th>Movie_Vote</th>\n",
              "      <th>Movie_Vote_Count</th>\n",
              "    </tr>\n",
              "  </thead>\n",
              "  <tbody>\n",
              "    <tr>\n",
              "      <th>count</th>\n",
              "      <td>4760.000000</td>\n",
              "      <td>4.760000e+03</td>\n",
              "      <td>4760.000000</td>\n",
              "      <td>4.760000e+03</td>\n",
              "      <td>4758.000000</td>\n",
              "      <td>4760.000000</td>\n",
              "      <td>4760.000000</td>\n",
              "    </tr>\n",
              "    <tr>\n",
              "      <th>mean</th>\n",
              "      <td>2382.566387</td>\n",
              "      <td>2.920129e+07</td>\n",
              "      <td>21.599510</td>\n",
              "      <td>8.263743e+07</td>\n",
              "      <td>107.184111</td>\n",
              "      <td>6.113866</td>\n",
              "      <td>692.508403</td>\n",
              "    </tr>\n",
              "    <tr>\n",
              "      <th>std</th>\n",
              "      <td>1377.270159</td>\n",
              "      <td>4.075620e+07</td>\n",
              "      <td>31.887919</td>\n",
              "      <td>1.630554e+08</td>\n",
              "      <td>21.960332</td>\n",
              "      <td>1.141294</td>\n",
              "      <td>1235.007337</td>\n",
              "    </tr>\n",
              "    <tr>\n",
              "      <th>min</th>\n",
              "      <td>1.000000</td>\n",
              "      <td>0.000000e+00</td>\n",
              "      <td>0.000372</td>\n",
              "      <td>0.000000e+00</td>\n",
              "      <td>0.000000</td>\n",
              "      <td>0.000000</td>\n",
              "      <td>0.000000</td>\n",
              "    </tr>\n",
              "    <tr>\n",
              "      <th>25%</th>\n",
              "      <td>1190.750000</td>\n",
              "      <td>9.257500e+05</td>\n",
              "      <td>4.807074</td>\n",
              "      <td>0.000000e+00</td>\n",
              "      <td>94.000000</td>\n",
              "      <td>5.600000</td>\n",
              "      <td>55.000000</td>\n",
              "    </tr>\n",
              "    <tr>\n",
              "      <th>50%</th>\n",
              "      <td>2380.500000</td>\n",
              "      <td>1.500000e+07</td>\n",
              "      <td>13.119058</td>\n",
              "      <td>1.944716e+07</td>\n",
              "      <td>104.000000</td>\n",
              "      <td>6.200000</td>\n",
              "      <td>238.000000</td>\n",
              "    </tr>\n",
              "    <tr>\n",
              "      <th>75%</th>\n",
              "      <td>3572.250000</td>\n",
              "      <td>4.000000e+07</td>\n",
              "      <td>28.411929</td>\n",
              "      <td>9.341276e+07</td>\n",
              "      <td>118.000000</td>\n",
              "      <td>6.800000</td>\n",
              "      <td>740.250000</td>\n",
              "    </tr>\n",
              "    <tr>\n",
              "      <th>max</th>\n",
              "      <td>4788.000000</td>\n",
              "      <td>3.800000e+08</td>\n",
              "      <td>875.581305</td>\n",
              "      <td>2.787965e+09</td>\n",
              "      <td>338.000000</td>\n",
              "      <td>10.000000</td>\n",
              "      <td>13752.000000</td>\n",
              "    </tr>\n",
              "  </tbody>\n",
              "</table>\n",
              "</div>\n",
              "      <button class=\"colab-df-convert\" onclick=\"convertToInteractive('df-7e69c358-3500-4d1f-a47b-6b1551f892a4')\"\n",
              "              title=\"Convert this dataframe to an interactive table.\"\n",
              "              style=\"display:none;\">\n",
              "        \n",
              "  <svg xmlns=\"http://www.w3.org/2000/svg\" height=\"24px\"viewBox=\"0 0 24 24\"\n",
              "       width=\"24px\">\n",
              "    <path d=\"M0 0h24v24H0V0z\" fill=\"none\"/>\n",
              "    <path d=\"M18.56 5.44l.94 2.06.94-2.06 2.06-.94-2.06-.94-.94-2.06-.94 2.06-2.06.94zm-11 1L8.5 8.5l.94-2.06 2.06-.94-2.06-.94L8.5 2.5l-.94 2.06-2.06.94zm10 10l.94 2.06.94-2.06 2.06-.94-2.06-.94-.94-2.06-.94 2.06-2.06.94z\"/><path d=\"M17.41 7.96l-1.37-1.37c-.4-.4-.92-.59-1.43-.59-.52 0-1.04.2-1.43.59L10.3 9.45l-7.72 7.72c-.78.78-.78 2.05 0 2.83L4 21.41c.39.39.9.59 1.41.59.51 0 1.02-.2 1.41-.59l7.78-7.78 2.81-2.81c.8-.78.8-2.07 0-2.86zM5.41 20L4 18.59l7.72-7.72 1.47 1.35L5.41 20z\"/>\n",
              "  </svg>\n",
              "      </button>\n",
              "      \n",
              "  <style>\n",
              "    .colab-df-container {\n",
              "      display:flex;\n",
              "      flex-wrap:wrap;\n",
              "      gap: 12px;\n",
              "    }\n",
              "\n",
              "    .colab-df-convert {\n",
              "      background-color: #E8F0FE;\n",
              "      border: none;\n",
              "      border-radius: 50%;\n",
              "      cursor: pointer;\n",
              "      display: none;\n",
              "      fill: #1967D2;\n",
              "      height: 32px;\n",
              "      padding: 0 0 0 0;\n",
              "      width: 32px;\n",
              "    }\n",
              "\n",
              "    .colab-df-convert:hover {\n",
              "      background-color: #E2EBFA;\n",
              "      box-shadow: 0px 1px 2px rgba(60, 64, 67, 0.3), 0px 1px 3px 1px rgba(60, 64, 67, 0.15);\n",
              "      fill: #174EA6;\n",
              "    }\n",
              "\n",
              "    [theme=dark] .colab-df-convert {\n",
              "      background-color: #3B4455;\n",
              "      fill: #D2E3FC;\n",
              "    }\n",
              "\n",
              "    [theme=dark] .colab-df-convert:hover {\n",
              "      background-color: #434B5C;\n",
              "      box-shadow: 0px 1px 3px 1px rgba(0, 0, 0, 0.15);\n",
              "      filter: drop-shadow(0px 1px 2px rgba(0, 0, 0, 0.3));\n",
              "      fill: #FFFFFF;\n",
              "    }\n",
              "  </style>\n",
              "\n",
              "      <script>\n",
              "        const buttonEl =\n",
              "          document.querySelector('#df-7e69c358-3500-4d1f-a47b-6b1551f892a4 button.colab-df-convert');\n",
              "        buttonEl.style.display =\n",
              "          google.colab.kernel.accessAllowed ? 'block' : 'none';\n",
              "\n",
              "        async function convertToInteractive(key) {\n",
              "          const element = document.querySelector('#df-7e69c358-3500-4d1f-a47b-6b1551f892a4');\n",
              "          const dataTable =\n",
              "            await google.colab.kernel.invokeFunction('convertToInteractive',\n",
              "                                                     [key], {});\n",
              "          if (!dataTable) return;\n",
              "\n",
              "          const docLinkHtml = 'Like what you see? Visit the ' +\n",
              "            '<a target=\"_blank\" href=https://colab.research.google.com/notebooks/data_table.ipynb>data table notebook</a>'\n",
              "            + ' to learn more about interactive tables.';\n",
              "          element.innerHTML = '';\n",
              "          dataTable['output_type'] = 'display_data';\n",
              "          await google.colab.output.renderOutput(dataTable, element);\n",
              "          const docLink = document.createElement('div');\n",
              "          docLink.innerHTML = docLinkHtml;\n",
              "          element.appendChild(docLink);\n",
              "        }\n",
              "      </script>\n",
              "    </div>\n",
              "  </div>\n",
              "  "
            ]
          },
          "metadata": {},
          "execution_count": 4
        }
      ]
    },
    {
      "cell_type": "code",
      "source": [
        "data.info()"
      ],
      "metadata": {
        "colab": {
          "base_uri": "https://localhost:8080/"
        },
        "id": "-y6-R_Bn8s_8",
        "outputId": "c2cba7f6-40fc-40fe-a8a9-7e97818e7228"
      },
      "execution_count": 5,
      "outputs": [
        {
          "output_type": "stream",
          "name": "stdout",
          "text": [
            "<class 'pandas.core.frame.DataFrame'>\n",
            "RangeIndex: 4760 entries, 0 to 4759\n",
            "Data columns (total 21 columns):\n",
            " #   Column                    Non-Null Count  Dtype  \n",
            "---  ------                    --------------  -----  \n",
            " 0   Movie_ID                  4760 non-null   int64  \n",
            " 1   Movie_Title               4760 non-null   object \n",
            " 2   Movie_Genre               4760 non-null   object \n",
            " 3   Movie_Language            4760 non-null   object \n",
            " 4   Movie_Budget              4760 non-null   int64  \n",
            " 5   Movie_Popularity          4760 non-null   float64\n",
            " 6   Movie_Release_Date        4760 non-null   object \n",
            " 7   Movie_Revenue             4760 non-null   int64  \n",
            " 8   Movie_Runtime             4758 non-null   float64\n",
            " 9   Movie_Vote                4760 non-null   float64\n",
            " 10  Movie_Vote_Count          4760 non-null   int64  \n",
            " 11  Movie_Homepage            1699 non-null   object \n",
            " 12  Movie_Keywords            4373 non-null   object \n",
            " 13  Movie_Overview            4757 non-null   object \n",
            " 14  Movie_Production_House    4760 non-null   object \n",
            " 15  Movie_Production_Country  4760 non-null   object \n",
            " 16  Movie_Spoken_Language     4760 non-null   object \n",
            " 17  Movie_Tagline             3942 non-null   object \n",
            " 18  Movie_Cast                4733 non-null   object \n",
            " 19  Movie_Crew                4760 non-null   object \n",
            " 20  Movie_Director            4738 non-null   object \n",
            "dtypes: float64(3), int64(4), object(14)\n",
            "memory usage: 781.1+ KB\n"
          ]
        }
      ]
    },
    {
      "cell_type": "code",
      "source": [
        "data.isnull().sum()"
      ],
      "metadata": {
        "colab": {
          "base_uri": "https://localhost:8080/"
        },
        "id": "CnuODnrT86p-",
        "outputId": "57ccd145-701a-482a-9b08-fab2d239d1f0"
      },
      "execution_count": 6,
      "outputs": [
        {
          "output_type": "execute_result",
          "data": {
            "text/plain": [
              "Movie_ID                       0\n",
              "Movie_Title                    0\n",
              "Movie_Genre                    0\n",
              "Movie_Language                 0\n",
              "Movie_Budget                   0\n",
              "Movie_Popularity               0\n",
              "Movie_Release_Date             0\n",
              "Movie_Revenue                  0\n",
              "Movie_Runtime                  2\n",
              "Movie_Vote                     0\n",
              "Movie_Vote_Count               0\n",
              "Movie_Homepage              3061\n",
              "Movie_Keywords               387\n",
              "Movie_Overview                 3\n",
              "Movie_Production_House         0\n",
              "Movie_Production_Country       0\n",
              "Movie_Spoken_Language          0\n",
              "Movie_Tagline                818\n",
              "Movie_Cast                    27\n",
              "Movie_Crew                     0\n",
              "Movie_Director                22\n",
              "dtype: int64"
            ]
          },
          "metadata": {},
          "execution_count": 6
        }
      ]
    },
    {
      "cell_type": "code",
      "source": [
        "data.shape"
      ],
      "metadata": {
        "colab": {
          "base_uri": "https://localhost:8080/"
        },
        "id": "MBitbO9n9AZc",
        "outputId": "a900301d-d3ae-40c3-bd42-e157608ef290"
      },
      "execution_count": 7,
      "outputs": [
        {
          "output_type": "execute_result",
          "data": {
            "text/plain": [
              "(4760, 21)"
            ]
          },
          "metadata": {},
          "execution_count": 7
        }
      ]
    },
    {
      "cell_type": "code",
      "source": [
        "data.columns"
      ],
      "metadata": {
        "colab": {
          "base_uri": "https://localhost:8080/"
        },
        "id": "yAPVIJMh9Lru",
        "outputId": "3f533da8-303b-480d-caa3-a4e3bfb806e6"
      },
      "execution_count": 8,
      "outputs": [
        {
          "output_type": "execute_result",
          "data": {
            "text/plain": [
              "Index(['Movie_ID', 'Movie_Title', 'Movie_Genre', 'Movie_Language',\n",
              "       'Movie_Budget', 'Movie_Popularity', 'Movie_Release_Date',\n",
              "       'Movie_Revenue', 'Movie_Runtime', 'Movie_Vote', 'Movie_Vote_Count',\n",
              "       'Movie_Homepage', 'Movie_Keywords', 'Movie_Overview',\n",
              "       'Movie_Production_House', 'Movie_Production_Country',\n",
              "       'Movie_Spoken_Language', 'Movie_Tagline', 'Movie_Cast', 'Movie_Crew',\n",
              "       'Movie_Director'],\n",
              "      dtype='object')"
            ]
          },
          "metadata": {},
          "execution_count": 8
        }
      ]
    },
    {
      "cell_type": "markdown",
      "source": [
        "# **Get Feature Selection**"
      ],
      "metadata": {
        "id": "sIFMEjUd9Rm2"
      }
    },
    {
      "cell_type": "code",
      "source": [
        "data_features=data[[\"Movie_Genre\",\"Movie_Keywords\",\"Movie_Tagline\",\"Movie_Cast\",\"Movie_Director\"]].fillna('')"
      ],
      "metadata": {
        "id": "K4Rzbd529NgC"
      },
      "execution_count": 9,
      "outputs": []
    },
    {
      "cell_type": "markdown",
      "source": [
        "Selected five features to recommend movies"
      ],
      "metadata": {
        "id": "80S0qJ5X-AWM"
      }
    },
    {
      "cell_type": "code",
      "source": [
        "data_features.head()"
      ],
      "metadata": {
        "colab": {
          "base_uri": "https://localhost:8080/",
          "height": 206
        },
        "id": "RtoveXg19_re",
        "outputId": "d89ffe3c-6785-4a3d-e33c-c6030f133c15"
      },
      "execution_count": 10,
      "outputs": [
        {
          "output_type": "execute_result",
          "data": {
            "text/plain": [
              "                        Movie_Genre  \\\n",
              "0                      Crime Comedy   \n",
              "1  Adventure Action Science Fiction   \n",
              "2                  Animation Family   \n",
              "3              Comedy Drama Romance   \n",
              "4                             Drama   \n",
              "\n",
              "                                      Movie_Keywords  \\\n",
              "0          hotel new year's eve witch bet hotel room   \n",
              "1        android galaxy hermit death star lightsaber   \n",
              "2  father son relationship harbor underwater fish...   \n",
              "3  vietnam veteran hippie mentally disabled runni...   \n",
              "4  male nudity female nudity adultery midlife cri...   \n",
              "\n",
              "                                       Movie_Tagline  \\\n",
              "0  Twelve outrageous guests. Four scandalous requ...   \n",
              "1       A long time ago in a galaxy far, far away...   \n",
              "2  There are 3.7 trillion fish in the ocean, they...   \n",
              "3  The world will never be the same, once you've ...   \n",
              "4                                       Look closer.   \n",
              "\n",
              "                                          Movie_Cast   Movie_Director  \n",
              "0  Tim Roth Antonio Banderas Jennifer Beals Madon...   Allison Anders  \n",
              "1  Mark Hamill Harrison Ford Carrie Fisher Peter ...     George Lucas  \n",
              "2  Albert Brooks Ellen DeGeneres Alexander Gould ...   Andrew Stanton  \n",
              "3  Tom Hanks Robin Wright Gary Sinise Mykelti Wil...  Robert Zemeckis  \n",
              "4  Kevin Spacey Annette Bening Thora Birch Wes Be...       Sam Mendes  "
            ],
            "text/html": [
              "\n",
              "  <div id=\"df-2eff0013-f962-4149-82d0-aac669fefeae\">\n",
              "    <div class=\"colab-df-container\">\n",
              "      <div>\n",
              "<style scoped>\n",
              "    .dataframe tbody tr th:only-of-type {\n",
              "        vertical-align: middle;\n",
              "    }\n",
              "\n",
              "    .dataframe tbody tr th {\n",
              "        vertical-align: top;\n",
              "    }\n",
              "\n",
              "    .dataframe thead th {\n",
              "        text-align: right;\n",
              "    }\n",
              "</style>\n",
              "<table border=\"1\" class=\"dataframe\">\n",
              "  <thead>\n",
              "    <tr style=\"text-align: right;\">\n",
              "      <th></th>\n",
              "      <th>Movie_Genre</th>\n",
              "      <th>Movie_Keywords</th>\n",
              "      <th>Movie_Tagline</th>\n",
              "      <th>Movie_Cast</th>\n",
              "      <th>Movie_Director</th>\n",
              "    </tr>\n",
              "  </thead>\n",
              "  <tbody>\n",
              "    <tr>\n",
              "      <th>0</th>\n",
              "      <td>Crime Comedy</td>\n",
              "      <td>hotel new year's eve witch bet hotel room</td>\n",
              "      <td>Twelve outrageous guests. Four scandalous requ...</td>\n",
              "      <td>Tim Roth Antonio Banderas Jennifer Beals Madon...</td>\n",
              "      <td>Allison Anders</td>\n",
              "    </tr>\n",
              "    <tr>\n",
              "      <th>1</th>\n",
              "      <td>Adventure Action Science Fiction</td>\n",
              "      <td>android galaxy hermit death star lightsaber</td>\n",
              "      <td>A long time ago in a galaxy far, far away...</td>\n",
              "      <td>Mark Hamill Harrison Ford Carrie Fisher Peter ...</td>\n",
              "      <td>George Lucas</td>\n",
              "    </tr>\n",
              "    <tr>\n",
              "      <th>2</th>\n",
              "      <td>Animation Family</td>\n",
              "      <td>father son relationship harbor underwater fish...</td>\n",
              "      <td>There are 3.7 trillion fish in the ocean, they...</td>\n",
              "      <td>Albert Brooks Ellen DeGeneres Alexander Gould ...</td>\n",
              "      <td>Andrew Stanton</td>\n",
              "    </tr>\n",
              "    <tr>\n",
              "      <th>3</th>\n",
              "      <td>Comedy Drama Romance</td>\n",
              "      <td>vietnam veteran hippie mentally disabled runni...</td>\n",
              "      <td>The world will never be the same, once you've ...</td>\n",
              "      <td>Tom Hanks Robin Wright Gary Sinise Mykelti Wil...</td>\n",
              "      <td>Robert Zemeckis</td>\n",
              "    </tr>\n",
              "    <tr>\n",
              "      <th>4</th>\n",
              "      <td>Drama</td>\n",
              "      <td>male nudity female nudity adultery midlife cri...</td>\n",
              "      <td>Look closer.</td>\n",
              "      <td>Kevin Spacey Annette Bening Thora Birch Wes Be...</td>\n",
              "      <td>Sam Mendes</td>\n",
              "    </tr>\n",
              "  </tbody>\n",
              "</table>\n",
              "</div>\n",
              "      <button class=\"colab-df-convert\" onclick=\"convertToInteractive('df-2eff0013-f962-4149-82d0-aac669fefeae')\"\n",
              "              title=\"Convert this dataframe to an interactive table.\"\n",
              "              style=\"display:none;\">\n",
              "        \n",
              "  <svg xmlns=\"http://www.w3.org/2000/svg\" height=\"24px\"viewBox=\"0 0 24 24\"\n",
              "       width=\"24px\">\n",
              "    <path d=\"M0 0h24v24H0V0z\" fill=\"none\"/>\n",
              "    <path d=\"M18.56 5.44l.94 2.06.94-2.06 2.06-.94-2.06-.94-.94-2.06-.94 2.06-2.06.94zm-11 1L8.5 8.5l.94-2.06 2.06-.94-2.06-.94L8.5 2.5l-.94 2.06-2.06.94zm10 10l.94 2.06.94-2.06 2.06-.94-2.06-.94-.94-2.06-.94 2.06-2.06.94z\"/><path d=\"M17.41 7.96l-1.37-1.37c-.4-.4-.92-.59-1.43-.59-.52 0-1.04.2-1.43.59L10.3 9.45l-7.72 7.72c-.78.78-.78 2.05 0 2.83L4 21.41c.39.39.9.59 1.41.59.51 0 1.02-.2 1.41-.59l7.78-7.78 2.81-2.81c.8-.78.8-2.07 0-2.86zM5.41 20L4 18.59l7.72-7.72 1.47 1.35L5.41 20z\"/>\n",
              "  </svg>\n",
              "      </button>\n",
              "      \n",
              "  <style>\n",
              "    .colab-df-container {\n",
              "      display:flex;\n",
              "      flex-wrap:wrap;\n",
              "      gap: 12px;\n",
              "    }\n",
              "\n",
              "    .colab-df-convert {\n",
              "      background-color: #E8F0FE;\n",
              "      border: none;\n",
              "      border-radius: 50%;\n",
              "      cursor: pointer;\n",
              "      display: none;\n",
              "      fill: #1967D2;\n",
              "      height: 32px;\n",
              "      padding: 0 0 0 0;\n",
              "      width: 32px;\n",
              "    }\n",
              "\n",
              "    .colab-df-convert:hover {\n",
              "      background-color: #E2EBFA;\n",
              "      box-shadow: 0px 1px 2px rgba(60, 64, 67, 0.3), 0px 1px 3px 1px rgba(60, 64, 67, 0.15);\n",
              "      fill: #174EA6;\n",
              "    }\n",
              "\n",
              "    [theme=dark] .colab-df-convert {\n",
              "      background-color: #3B4455;\n",
              "      fill: #D2E3FC;\n",
              "    }\n",
              "\n",
              "    [theme=dark] .colab-df-convert:hover {\n",
              "      background-color: #434B5C;\n",
              "      box-shadow: 0px 1px 3px 1px rgba(0, 0, 0, 0.15);\n",
              "      filter: drop-shadow(0px 1px 2px rgba(0, 0, 0, 0.3));\n",
              "      fill: #FFFFFF;\n",
              "    }\n",
              "  </style>\n",
              "\n",
              "      <script>\n",
              "        const buttonEl =\n",
              "          document.querySelector('#df-2eff0013-f962-4149-82d0-aac669fefeae button.colab-df-convert');\n",
              "        buttonEl.style.display =\n",
              "          google.colab.kernel.accessAllowed ? 'block' : 'none';\n",
              "\n",
              "        async function convertToInteractive(key) {\n",
              "          const element = document.querySelector('#df-2eff0013-f962-4149-82d0-aac669fefeae');\n",
              "          const dataTable =\n",
              "            await google.colab.kernel.invokeFunction('convertToInteractive',\n",
              "                                                     [key], {});\n",
              "          if (!dataTable) return;\n",
              "\n",
              "          const docLinkHtml = 'Like what you see? Visit the ' +\n",
              "            '<a target=\"_blank\" href=https://colab.research.google.com/notebooks/data_table.ipynb>data table notebook</a>'\n",
              "            + ' to learn more about interactive tables.';\n",
              "          element.innerHTML = '';\n",
              "          dataTable['output_type'] = 'display_data';\n",
              "          await google.colab.output.renderOutput(dataTable, element);\n",
              "          const docLink = document.createElement('div');\n",
              "          docLink.innerHTML = docLinkHtml;\n",
              "          element.appendChild(docLink);\n",
              "        }\n",
              "      </script>\n",
              "    </div>\n",
              "  </div>\n",
              "  "
            ]
          },
          "metadata": {},
          "execution_count": 10
        }
      ]
    },
    {
      "cell_type": "code",
      "source": [
        "data_features.shape"
      ],
      "metadata": {
        "colab": {
          "base_uri": "https://localhost:8080/"
        },
        "id": "9zPY38bY98J2",
        "outputId": "51345443-16fd-4ca2-f42b-604539dceca5"
      },
      "execution_count": 11,
      "outputs": [
        {
          "output_type": "execute_result",
          "data": {
            "text/plain": [
              "(4760, 5)"
            ]
          },
          "metadata": {},
          "execution_count": 11
        }
      ]
    },
    {
      "cell_type": "code",
      "source": [
        "x=data_features['Movie_Genre']+' '+data_features['Movie_Tagline']+' '+data_features['Movie_Cast']+' '+data_features['Movie_Director']"
      ],
      "metadata": {
        "id": "xzfYR2vv-V3-"
      },
      "execution_count": 12,
      "outputs": []
    },
    {
      "cell_type": "code",
      "source": [
        "x"
      ],
      "metadata": {
        "colab": {
          "base_uri": "https://localhost:8080/"
        },
        "id": "ZUWXQrqD-5Hu",
        "outputId": "e8e64f50-ea15-41a9-b481-66088fa388ed"
      },
      "execution_count": 13,
      "outputs": [
        {
          "output_type": "execute_result",
          "data": {
            "text/plain": [
              "0       Crime Comedy Twelve outrageous guests. Four sc...\n",
              "1       Adventure Action Science Fiction A long time a...\n",
              "2       Animation Family There are 3.7 trillion fish i...\n",
              "3       Comedy Drama Romance The world will never be t...\n",
              "4       Drama Look closer. Kevin Spacey Annette Bening...\n",
              "                              ...                        \n",
              "4755    Horror The hot spot where Satan's waitin'. Lis...\n",
              "4756    Comedy Family Drama It’s better to stand out t...\n",
              "4757    Thriller Drama She never knew it could happen ...\n",
              "4758                                            Family   \n",
              "4759       Documentary  Tony Oppedisano Simon Napier-Bell\n",
              "Length: 4760, dtype: object"
            ]
          },
          "metadata": {},
          "execution_count": 13
        }
      ]
    },
    {
      "cell_type": "code",
      "source": [
        "x.shape"
      ],
      "metadata": {
        "colab": {
          "base_uri": "https://localhost:8080/"
        },
        "id": "Q66qJvBq-82H",
        "outputId": "f5fdf643-0f2e-437b-e04d-3a27159b485b"
      },
      "execution_count": 14,
      "outputs": [
        {
          "output_type": "execute_result",
          "data": {
            "text/plain": [
              "(4760,)"
            ]
          },
          "metadata": {},
          "execution_count": 14
        }
      ]
    },
    {
      "cell_type": "markdown",
      "source": [
        "***Get Features Text Conversion to Tokens***"
      ],
      "metadata": {
        "id": "Yog8pW7__GFs"
      }
    },
    {
      "cell_type": "code",
      "source": [
        "from sklearn.feature_extraction.text import TfidfVectorizer"
      ],
      "metadata": {
        "id": "sjkOjK9j_Ch4"
      },
      "execution_count": 15,
      "outputs": []
    },
    {
      "cell_type": "code",
      "source": [
        "model=TfidfVectorizer()"
      ],
      "metadata": {
        "id": "qEWnCqo8_aTE"
      },
      "execution_count": 16,
      "outputs": []
    },
    {
      "cell_type": "code",
      "source": [
        "X=model.fit_transform(x)"
      ],
      "metadata": {
        "id": "nRuD8bn7_52S"
      },
      "execution_count": 17,
      "outputs": []
    },
    {
      "cell_type": "code",
      "source": [
        "print(X)"
      ],
      "metadata": {
        "colab": {
          "base_uri": "https://localhost:8080/"
        },
        "id": "i886Px02ACuO",
        "outputId": "d52760ae-da95-46ac-d4cc-3eac1ac93e34"
      },
      "execution_count": 18,
      "outputs": [
        {
          "output_type": "stream",
          "name": "stdout",
          "text": [
            "  (0, 536)\t0.18650035534391993\n",
            "  (0, 425)\t0.163573988034563\n",
            "  (0, 12942)\t0.1673343571078569\n",
            "  (0, 8260)\t0.16243380336877533\n",
            "  (0, 8073)\t0.1895214821424654\n",
            "  (0, 1162)\t0.19294655321876156\n",
            "  (0, 6582)\t0.11189186354263483\n",
            "  (0, 1012)\t0.15832102537496356\n",
            "  (0, 635)\t0.15317383577872903\n",
            "  (0, 11059)\t0.163573988034563\n",
            "  (0, 12888)\t0.11963620447432914\n",
            "  (0, 7696)\t0.11052960016040947\n",
            "  (0, 9522)\t0.0817193034473646\n",
            "  (0, 4238)\t0.1813531657476854\n",
            "  (0, 14325)\t0.15477747865376898\n",
            "  (0, 9299)\t0.13177600168161205\n",
            "  (0, 14080)\t0.20157704304573848\n",
            "  (0, 4683)\t0.098789221275497\n",
            "  (0, 14047)\t0.12205988813713547\n",
            "  (0, 6652)\t0.17174230442934296\n",
            "  (0, 12768)\t0.11431048024187192\n",
            "  (0, 9596)\t0.1084085633118925\n",
            "  (0, 3252)\t0.1387089301293658\n",
            "  (0, 4594)\t0.13827045908436408\n",
            "  (0, 5989)\t0.2263333132749165\n",
            "  :\t:\n",
            "  (4757, 1894)\t0.30757798308075385\n",
            "  (4757, 11986)\t0.30757798308075385\n",
            "  (4757, 699)\t0.29336587999264124\n",
            "  (4757, 4852)\t0.258986481674795\n",
            "  (4757, 12273)\t0.258986481674795\n",
            "  (4757, 990)\t0.2017079859012847\n",
            "  (4757, 2910)\t0.2126571431460345\n",
            "  (4757, 5624)\t0.23256575558502307\n",
            "  (4757, 11699)\t0.17574280735214792\n",
            "  (4757, 9341)\t0.19618287718072355\n",
            "  (4757, 7169)\t0.2511649969371266\n",
            "  (4757, 5877)\t0.1824610108818817\n",
            "  (4757, 7089)\t0.1866512308804554\n",
            "  (4757, 12845)\t0.08173029845757258\n",
            "  (4757, 12916)\t0.10610980394127228\n",
            "  (4757, 6421)\t0.12266242201117997\n",
            "  (4757, 9297)\t0.15532169957924374\n",
            "  (4757, 3766)\t0.060644484319855856\n",
            "  (4758, 4374)\t1.0\n",
            "  (4759, 9616)\t0.5572028145970158\n",
            "  (4759, 9188)\t0.5131890638764602\n",
            "  (4759, 3647)\t0.30216883908425024\n",
            "  (4759, 11875)\t0.329655024339566\n",
            "  (4759, 12960)\t0.32296479807592227\n",
            "  (4759, 1247)\t0.34910930228325543\n"
          ]
        }
      ]
    },
    {
      "cell_type": "code",
      "source": [
        "X.shape"
      ],
      "metadata": {
        "colab": {
          "base_uri": "https://localhost:8080/"
        },
        "id": "or7FWLCcAEkc",
        "outputId": "034fbc24-9268-4d8d-c4bc-706852fa6ea6"
      },
      "execution_count": 19,
      "outputs": [
        {
          "output_type": "execute_result",
          "data": {
            "text/plain": [
              "(4760, 14522)"
            ]
          },
          "metadata": {},
          "execution_count": 19
        }
      ]
    },
    {
      "cell_type": "markdown",
      "source": [
        "# ***Get Similarity Score Using Cosine Similarity***"
      ],
      "metadata": {
        "id": "BcbJ3izxAczo"
      }
    },
    {
      "cell_type": "markdown",
      "source": [
        "cosine_similarity computes the L2-normalized dot product of vectors.Euclidean(L2) normalization projects the vectors onto the unit sphere,and their dot product is then the cosine of the angle between the points denoted by the vectors."
      ],
      "metadata": {
        "id": "bECQGSpSAvXw"
      }
    },
    {
      "cell_type": "code",
      "source": [
        "from sklearn.metrics.pairwise import cosine_similarity"
      ],
      "metadata": {
        "id": "uUtcPDwaAH7v"
      },
      "execution_count": 20,
      "outputs": []
    },
    {
      "cell_type": "code",
      "source": [
        "Similarity_score=cosine_similarity(X)"
      ],
      "metadata": {
        "id": "y8bjl_jMBdZg"
      },
      "execution_count": 21,
      "outputs": []
    },
    {
      "cell_type": "code",
      "source": [
        "Similarity_score"
      ],
      "metadata": {
        "colab": {
          "base_uri": "https://localhost:8080/"
        },
        "id": "LwpP2dEVBql5",
        "outputId": "f472fa21-7c9f-4fc8-a29d-b2e5619c25fc"
      },
      "execution_count": 22,
      "outputs": [
        {
          "output_type": "execute_result",
          "data": {
            "text/plain": [
              "array([[1.        , 0.02078195, 0.05449681, ..., 0.        , 0.        ,\n",
              "        0.        ],\n",
              "       [0.02078195, 1.        , 0.01356195, ..., 0.        , 0.        ,\n",
              "        0.        ],\n",
              "       [0.05449681, 0.01356195, 1.        , ..., 0.        , 0.10459462,\n",
              "        0.        ],\n",
              "       ...,\n",
              "       [0.        , 0.        , 0.        , ..., 1.        , 0.        ,\n",
              "        0.        ],\n",
              "       [0.        , 0.        , 0.10459462, ..., 0.        , 1.        ,\n",
              "        0.        ],\n",
              "       [0.        , 0.        , 0.        , ..., 0.        , 0.        ,\n",
              "        1.        ]])"
            ]
          },
          "metadata": {},
          "execution_count": 22
        }
      ]
    },
    {
      "cell_type": "code",
      "source": [
        "Similarity_score.shape"
      ],
      "metadata": {
        "colab": {
          "base_uri": "https://localhost:8080/"
        },
        "id": "VHUaUWGEBt9F",
        "outputId": "81fe8d39-df71-44b4-cab0-1419ba717c61"
      },
      "execution_count": 23,
      "outputs": [
        {
          "output_type": "execute_result",
          "data": {
            "text/plain": [
              "(4760, 4760)"
            ]
          },
          "metadata": {},
          "execution_count": 23
        }
      ]
    },
    {
      "cell_type": "markdown",
      "source": [
        "# **Get Movie Name as Input from User and Validate for Closest Spelling**"
      ],
      "metadata": {
        "id": "mLzlPQ8BCD36"
      }
    },
    {
      "cell_type": "code",
      "source": [
        "Fav_Movie_Name=input(\"Enter Your Favourate Movie Name: \")"
      ],
      "metadata": {
        "colab": {
          "base_uri": "https://localhost:8080/"
        },
        "id": "s5dtlKU2B2AD",
        "outputId": "366dddbd-66e4-4886-93fb-d2632d72fc6d"
      },
      "execution_count": 24,
      "outputs": [
        {
          "name": "stdout",
          "output_type": "stream",
          "text": [
            "Enter Your Favourate Movie Name: avtaar\n"
          ]
        }
      ]
    },
    {
      "cell_type": "code",
      "source": [
        "All_Movies_Title_List=data[\"Movie_Title\"].tolist()"
      ],
      "metadata": {
        "id": "JboDzeMdChHf"
      },
      "execution_count": 25,
      "outputs": []
    },
    {
      "cell_type": "code",
      "source": [
        "import difflib"
      ],
      "metadata": {
        "id": "zvNFed9ICtyv"
      },
      "execution_count": 26,
      "outputs": []
    },
    {
      "cell_type": "code",
      "source": [
        "Movie_Recommendation=difflib.get_close_matches(Fav_Movie_Name,All_Movies_Title_List)\n",
        "print(Movie_Recommendation)"
      ],
      "metadata": {
        "colab": {
          "base_uri": "https://localhost:8080/"
        },
        "id": "G4sNl1wuCxiS",
        "outputId": "bbf3ad14-65c5-41c5-b59a-321b871c8eeb"
      },
      "execution_count": 27,
      "outputs": [
        {
          "output_type": "stream",
          "name": "stdout",
          "text": [
            "['Avatar', 'Gattaca']\n"
          ]
        }
      ]
    },
    {
      "cell_type": "code",
      "source": [
        "Close_match=Movie_Recommendation[0]\n",
        "print(Close_match)"
      ],
      "metadata": {
        "colab": {
          "base_uri": "https://localhost:8080/"
        },
        "id": "OPnA_i5GDNPH",
        "outputId": "445dad02-9248-480b-b74a-9d345d13b48e"
      },
      "execution_count": 28,
      "outputs": [
        {
          "output_type": "stream",
          "name": "stdout",
          "text": [
            "Avatar\n"
          ]
        }
      ]
    },
    {
      "cell_type": "code",
      "source": [
        "Index_of_Close_Match_Movie=data[data.Movie_Title==Close_match]['Movie_ID'].values[0]\n",
        "print(Index_of_Close_Match_Movie)"
      ],
      "metadata": {
        "colab": {
          "base_uri": "https://localhost:8080/"
        },
        "id": "RzO1Se5cDbUK",
        "outputId": "b455b3d9-dd39-402b-9289-999d6968c6d3"
      },
      "execution_count": 29,
      "outputs": [
        {
          "output_type": "stream",
          "name": "stdout",
          "text": [
            "2692\n"
          ]
        }
      ]
    },
    {
      "cell_type": "markdown",
      "source": [
        "getting a list of similar movies"
      ],
      "metadata": {
        "id": "CxKi0K-yDzVt"
      }
    },
    {
      "cell_type": "code",
      "source": [
        "Recommendation_Score=list(enumerate(Similarity_score[Index_of_Close_Match_Movie]))\n",
        "print(Recommendation_Score)"
      ],
      "metadata": {
        "colab": {
          "base_uri": "https://localhost:8080/"
        },
        "id": "qMg6jbC_DvKp",
        "outputId": "b12293c3-6a73-463e-e077-6b99add46644"
      },
      "execution_count": 30,
      "outputs": [
        {
          "output_type": "stream",
          "name": "stdout",
          "text": [
            "[(0, 0.015132661710742871), (1, 0.0), (2, 0.0), (3, 0.013160861066208182), (4, 0.003851308882924458), (5, 0.012893279604867932), (6, 0.006863424443014932), (7, 0.016334550221448203), (8, 0.004026474348973654), (9, 0.011616885377901938), (10, 0.010855416814072826), (11, 0.004174935359223957), (12, 0.003842269257802477), (13, 0.01657078311138428), (14, 0.0), (15, 0.03224621584310476), (16, 0.0077627823325600405), (17, 0.0), (18, 0.018745034910232175), (19, 0.014606824584883169), (20, 0.0037947491921736737), (21, 0.020036828419402186), (22, 0.012436340527687805), (23, 0.003777178369759907), (24, 0.002050230099149021), (25, 0.03717968782262829), (26, 0.0034792019301030713), (27, 0.006963521489129899), (28, 0.0), (29, 0.03393356259662869), (30, 0.006292315877482683), (31, 0.009437136355369781), (32, 0.002897883212490397), (33, 0.023860752950596063), (34, 0.01043174029078962), (35, 0.010426239977903956), (36, 0.0), (37, 0.0), (38, 0.011244275337443281), (39, 0.006181814322379095), (40, 0.012814845507126521), (41, 0.004170563080074129), (42, 0.00995065181679273), (43, 0.022182660234458508), (44, 0.05334089092532415), (45, 0.0), (46, 0.025946290830289376), (47, 0.015685165090930507), (48, 0.021601961518978703), (49, 0.0), (50, 0.009994859486952067), (51, 0.020868516990382613), (52, 0.02091993724596297), (53, 0.0), (54, 0.0), (55, 0.0), (56, 0.012328885033881172), (57, 0.018138388681043238), (58, 0.0), (59, 0.0), (60, 0.013462418105109548), (61, 0.025891603474983843), (62, 0.1411679395649748), (63, 0.011413899262470266), (64, 0.0), (65, 0.0), (66, 0.0036376545328572806), (67, 0.027985821851186962), (68, 0.021908032229757617), (69, 0.005786943607597079), (70, 0.019691225357196234), (71, 0.0037226294001610296), (72, 0.017678306819315044), (73, 0.0), (74, 0.0034696565393201595), (75, 0.017606760372870362), (76, 0.0051638190145714856), (77, 0.004554415901452416), (78, 0.005589737114236367), (79, 0.01550212147680588), (80, 0.006490544021351888), (81, 0.010100363855360027), (82, 0.002887810617590309), (83, 0.01641790529348009), (84, 0.04231696706669597), (85, 0.012699456838052077), (86, 0.017330904189784647), (87, 0.017944104526018932), (88, 0.03334723534542506), (89, 0.05287345228950495), (90, 0.006941532014392703), (91, 0.0), (92, 0.0029129895750965385), (93, 0.005928241703333189), (94, 0.005853417532128638), (95, 0.006429852069295178), (96, 0.012233751165061733), (97, 0.003136981310618073), (98, 0.0032906338249973697), (99, 0.014156363843022792), (100, 0.0), (101, 0.0), (102, 0.007035863365161963), (103, 0.002959147439997845), (104, 0.015214706278736638), (105, 0.012109366143049362), (106, 0.01871001707136532), (107, 0.011919866214169073), (108, 0.050240250650165415), (109, 0.03592621769617074), (110, 0.11509697595804669), (111, 0.012278492416772657), (112, 0.037625285602419185), (113, 0.012546844807382596), (114, 0.0034877223021143543), (115, 0.0036833896219336834), (116, 0.03714630085599959), (117, 0.0), (118, 0.006277593263552363), (119, 0.016883460965315115), (120, 0.014903216507315253), (121, 0.0029717525670610273), (122, 0.0), (123, 0.015279669317174994), (124, 0.036896080118051164), (125, 0.0072574772356452065), (126, 0.051017321237235624), (127, 0.0033020140407458358), (128, 0.007747177272267277), (129, 0.0022611530172958944), (130, 0.011148117427440004), (131, 0.011925700034400943), (132, 0.0031163763330646003), (133, 0.0), (134, 0.0), (135, 0.006627627969400434), (136, 0.003408001898592668), (137, 0.0746197114777721), (138, 0.04239166500401858), (139, 0.011435426879149798), (140, 0.0032864862386671185), (141, 0.0), (142, 0.02664759494546983), (143, 0.010361065155456104), (144, 0.01528757988299999), (145, 0.024836284655996268), (146, 0.0), (147, 0.017560124238598755), (148, 0.013713143312221333), (149, 0.015661649208599096), (150, 0.0), (151, 0.0), (152, 0.006400586526949086), (153, 0.0), (154, 0.003302494278090937), (155, 0.02412371257036159), (156, 0.002690699999067248), (157, 0.003134137200953598), (158, 0.003056462664916321), (159, 0.011067044320840231), (160, 0.027017080379049516), (161, 0.05352097299600439), (162, 0.0), (163, 0.0), (164, 0.003299529052226212), (165, 0.0028913307839563743), (166, 0.04454435802269682), (167, 0.036779143753849275), (168, 0.0), (169, 0.0034031051579182926), (170, 0.015030906192141629), (171, 0.0), (172, 0.01315686005795999), (173, 0.014205197379429815), (174, 0.03477864442660977), (175, 0.03153930101210455), (176, 0.04030495401182271), (177, 0.009415691516751486), (178, 0.003665892463214493), (179, 0.0), (180, 0.011071098855333592), (181, 0.010148341742002619), (182, 0.0036609541748323037), (183, 0.0030894656108507476), (184, 0.0030426848163543044), (185, 0.04609342960886185), (186, 0.0), (187, 0.00540985098658878), (188, 0.0), (189, 0.0073150618873251685), (190, 0.015614025896362054), (191, 0.005442223365877879), (192, 0.0038839082646226907), (193, 0.030103305062734873), (194, 0.0029985628102780684), (195, 0.0028357368489202524), (196, 0.0028078389523793048), (197, 0.0032613100809052334), (198, 0.0033340757215360155), (199, 0.017475351695395096), (200, 0.009145935634920334), (201, 0.017118263562658307), (202, 0.0020853485704426826), (203, 0.022051391923821696), (204, 0.026018803240090264), (205, 0.0), (206, 0.01491591027089852), (207, 0.018430871057167217), (208, 0.01073973392837713), (209, 0.023833784568431517), (210, 0.05158090395042279), (211, 0.00391101368625273), (212, 0.02177068419767896), (213, 0.027015665771329727), (214, 0.0), (215, 0.0034119523157989926), (216, 0.014355012672051356), (217, 0.009090032325819501), (218, 0.021285352724497462), (219, 0.0), (220, 0.006848426767293927), (221, 0.0031965037043364696), (222, 0.027389238613770156), (223, 0.0), (224, 0.0025843789124568076), (225, 0.0), (226, 0.0032904464291144387), (227, 0.004030674290934007), (228, 0.002420668540438184), (229, 0.0034524143466365567), (230, 0.0), (231, 0.013023068299155297), (232, 0.0), (233, 0.005842655407548777), (234, 0.005342150255899266), (235, 0.0041875236590963785), (236, 0.01702949464050415), (237, 0.0), (238, 0.009734616587170643), (239, 0.007246419604107013), (240, 0.03553826468657333), (241, 0.04159298559254903), (242, 0.0028856505020556683), (243, 0.015000731099399684), (244, 0.017793571953613512), (245, 0.0), (246, 0.003575767036097168), (247, 0.003335844417597474), (248, 0.0), (249, 0.0027708900510038585), (250, 0.0426636852991619), (251, 0.021336954257521037), (252, 0.0031228484515511954), (253, 0.004014841303050196), (254, 0.0928364962588947), (255, 0.010493757740753184), (256, 0.009053483189408235), (257, 0.02899170012815217), (258, 0.0), (259, 0.0), (260, 0.006249358310457152), (261, 0.030753647434319957), (262, 0.003555634789849155), (263, 0.011356008114474011), (264, 0.0), (265, 0.0), (266, 0.015109685062629828), (267, 0.002796501413560963), (268, 0.003115682767954963), (269, 0.03259922176655169), (270, 0.01414500227438439), (271, 0.016043682318902023), (272, 0.0), (273, 0.01756070475393124), (274, 0.015180620355610401), (275, 0.0), (276, 0.01919345702700341), (277, 0.009460384895302562), (278, 0.0027246027457664083), (279, 0.02247640039690489), (280, 0.02786286753130132), (281, 0.01626670122539695), (282, 0.08410152445491866), (283, 0.00230900129337145), (284, 0.03623720833636254), (285, 0.01184756226601719), (286, 0.00292742883524329), (287, 0.022284988661959923), (288, 0.013969723307134967), (289, 0.005368426468314303), (290, 0.0048715505981453), (291, 0.01430452168045827), (292, 0.07803994523818952), (293, 0.00233437674210595), (294, 0.004631204086858285), (295, 0.004812644790244257), (296, 0.023726841161894312), (297, 0.0), (298, 0.0), (299, 0.0), (300, 0.0), (301, 0.0), (302, 0.0), (303, 0.007304778709352817), (304, 0.013911859359139151), (305, 0.006236567775324575), (306, 0.0055722956139163836), (307, 0.01423410031068451), (308, 0.004712788473180726), (309, 0.01143493060914986), (310, 0.005802694142677004), (311, 0.009266327230097945), (312, 0.0), (313, 0.01895659844970469), (314, 0.005585713644149631), (315, 0.006155054553016745), (316, 0.006188471895090363), (317, 0.0031106816060556), (318, 0.003923415293473454), (319, 0.0), (320, 0.006619577112837691), (321, 0.006111369031852459), (322, 0.0061776491923625715), (323, 0.005867079006871289), (324, 0.003145692624925816), (325, 0.00349833382133118), (326, 0.004299817811517931), (327, 0.015876108585260153), (328, 0.01222481157186009), (329, 0.010183871550004718), (330, 0.03178944758280947), (331, 0.0), (332, 0.020622298014464177), (333, 0.015165865817453182), (334, 0.04550188349714277), (335, 0.0), (336, 0.007954168023916908), (337, 0.0), (338, 0.0), (339, 0.0), (340, 0.0), (341, 0.006667451378248878), (342, 0.026055763329386743), (343, 0.016118866420988136), (344, 0.0), (345, 0.03384325050227231), (346, 0.016069272170695773), (347, 0.006206776793536683), (348, 0.003626475724842107), (349, 0.003496469990826548), (350, 0.011087964170511718), (351, 0.0024568337895959557), (352, 0.0), (353, 0.01605699654199137), (354, 0.01592098455940176), (355, 0.003010014799136031), (356, 0.019931108535146447), (357, 0.003031817718802745), (358, 0.014499108256940096), (359, 0.003414112378184223), (360, 0.015329751423789426), (361, 0.0), (362, 0.0), (363, 0.0), (364, 0.024804166329968406), (365, 0.0), (366, 0.0), (367, 0.008951826914790831), (368, 0.011578205442343463), (369, 0.006913794697084069), (370, 0.02031460353218171), (371, 0.03972845103006022), (372, 0.003302095264303433), (373, 0.003313100999062306), (374, 0.014853941282041058), (375, 0.005864772148859759), (376, 0.0), (377, 0.003808611219238545), (378, 0.003547933909424418), (379, 0.0), (380, 0.007133564451556704), (381, 0.0), (382, 0.0), (383, 0.02664022349795626), (384, 0.06608172356118572), (385, 0.011056392410722999), (386, 0.0), (387, 0.004043658415340927), (388, 0.0031251052075201), (389, 0.006416528552858753), (390, 0.0), (391, 0.0), (392, 0.0), (393, 0.0), (394, 0.0), (395, 0.0038618990743882805), (396, 0.011821899467681082), (397, 0.0058232037256956545), (398, 0.02990221354625519), (399, 0.0030240225734082696), (400, 0.003405630350477527), (401, 0.0), (402, 0.004656195206269838), (403, 0.013167410251946031), (404, 0.0), (405, 0.0), (406, 0.010098021185159914), (407, 0.011404994142914826), (408, 0.06465243221287964), (409, 0.02478607208394163), (410, 0.0034731782100065767), (411, 0.0), (412, 0.06321255382047206), (413, 0.012716405882046455), (414, 0.008567606400023395), (415, 0.0), (416, 0.003416089170556927), (417, 0.01825823224404131), (418, 0.016621264483798075), (419, 0.0041731788756199425), (420, 0.006815479128469708), (421, 0.0485824847402169), (422, 0.0), (423, 0.0), (424, 0.07768818001892283), (425, 0.007037808853868042), (426, 0.005583041911159961), (427, 0.0), (428, 0.0401605001199182), (429, 0.018990683040562062), (430, 0.03879630969878534), (431, 0.004280730123040143), (432, 0.002690457551032959), (433, 0.007590894477506655), (434, 0.011613978610002882), (435, 0.012564157114036634), (436, 0.011292268744118391), (437, 0.0033664229744380467), (438, 0.05891377207111643), (439, 0.0), (440, 0.0), (441, 0.012061512590418504), (442, 0.029498487218757936), (443, 0.011021324991359733), (444, 0.003898696956432811), (445, 0.0028700738566484023), (446, 0.0034424975997168496), (447, 0.019568173939868483), (448, 0.004158590487243665), (449, 0.0030000957557219845), (450, 0.02007748626926651), (451, 0.00679596075148505), (452, 0.02000165414576808), (453, 0.0024698523010951556), (454, 0.0), (455, 0.02136145897474405), (456, 0.0035271502017778546), (457, 0.002981916720503019), (458, 0.01942962928624314), (459, 0.03486814119186539), (460, 0.006652277897414388), (461, 0.0), (462, 0.04097643459870486), (463, 0.029537668525022338), (464, 0.003239080327904848), (465, 0.03414699401800647), (466, 0.003352533886795464), (467, 0.006329912218894906), (468, 0.005933652812178181), (469, 0.004945480040541568), (470, 0.010025869225132962), (471, 0.003211836315085726), (472, 0.0035791356980868576), (473, 0.0032084652997980806), (474, 0.011300172867113503), (475, 0.004572685377701969), (476, 0.004188850499143238), (477, 0.008854631291621971), (478, 0.003954072447122296), (479, 0.06615061957707873), (480, 0.0028815930847329923), (481, 0.01995106741698312), (482, 0.011376224599537636), (483, 0.012786609911715775), (484, 0.0), (485, 0.013779159045254993), (486, 0.0), (487, 0.003097376840878842), (488, 0.003677527771508865), (489, 0.004405907756502009), (490, 0.0031708478327355017), (491, 0.0), (492, 0.0), (493, 0.010583436909251863), (494, 0.009613717382001077), (495, 0.002828909812647756), (496, 0.01308518781785567), (497, 0.0), (498, 0.0), (499, 0.0037224474635059743), (500, 0.014343709155297413), (501, 0.013630719065986875), (502, 0.02129870767304723), (503, 0.010346217386002873), (504, 0.0035242409773213654), (505, 0.0040518474886630145), (506, 0.0), (507, 0.003598373128739124), (508, 0.0038980518329938428), (509, 0.01039742357621102), (510, 0.017728268725452048), (511, 0.005677900523866234), (512, 0.0069814890410714895), (513, 0.006476523211448375), (514, 0.006670213264964541), (515, 0.03302041993028876), (516, 0.0), (517, 0.0), (518, 0.004353762338169629), (519, 0.05816973375556276), (520, 0.0), (521, 0.01143267740185201), (522, 0.035033276297628604), (523, 0.018077972556790292), (524, 0.003213767393954362), (525, 0.0), (526, 0.004086905627517607), (527, 0.011520279091200828), (528, 0.0), (529, 0.0), (530, 0.03836961455554677), (531, 0.0), (532, 0.013854123885807406), (533, 0.023083278751905394), (534, 0.01955474189501344), (535, 0.0), (536, 0.0), (537, 0.007349050876383415), (538, 0.0), (539, 0.010356573555688562), (540, 0.04457111359988685), (541, 0.0032734520556484247), (542, 0.012573471726785114), (543, 0.02213589384685928), (544, 0.013236933523588519), (545, 0.018824646328380743), (546, 0.0), (547, 0.03369765574470222), (548, 0.0), (549, 0.0), (550, 0.007000777060031307), (551, 0.015953665492831535), (552, 0.0), (553, 0.02887272209850903), (554, 0.0), (555, 0.018196531463336302), (556, 0.0), (557, 0.0), (558, 0.01102206861980269), (559, 0.005458843085324292), (560, 0.015676907618115233), (561, 0.00767100101535575), (562, 0.00728232456170256), (563, 0.00812241595870555), (564, 0.004098978645047577), (565, 0.0), (566, 0.030829050061887145), (567, 0.0), (568, 0.010893321600993806), (569, 0.0), (570, 0.0), (571, 0.007557839522471622), (572, 0.0), (573, 0.0), (574, 0.0), (575, 0.0), (576, 0.004243053095244122), (577, 0.0), (578, 0.04565445437929581), (579, 0.0033604586202063075), (580, 0.010031749810348016), (581, 0.008020299622234562), (582, 0.0), (583, 0.010400658692373438), (584, 0.02006986983430445), (585, 0.0), (586, 0.023181695957604997), (587, 0.0037176870139671685), (588, 0.003743310868183765), (589, 0.0029719065177556125), (590, 0.03156084891169737), (591, 0.0), (592, 0.0), (593, 0.04157032173904308), (594, 0.003373575664227086), (595, 0.007808899314263419), (596, 0.004329112693541075), (597, 0.01336103901925939), (598, 0.003438387304312252), (599, 0.0), (600, 0.0), (601, 0.0), (602, 0.0), (603, 0.0), (604, 0.019521192365863846), (605, 0.0028873128643087235), (606, 0.009731762795071854), (607, 0.0025178557916413226), (608, 0.008802938307415114), (609, 0.019959438647754114), (610, 0.0), (611, 0.005490039742699245), (612, 0.003387779315160415), (613, 0.020888956348309173), (614, 0.003977854947714567), (615, 0.054392797912802326), (616, 0.002699725770717262), (617, 0.008343486939294611), (618, 0.03721597786277338), (619, 0.006428793543405853), (620, 0.015407916618511118), (621, 0.012358671620073399), (622, 0.020289922894547653), (623, 0.0035034781133524108), (624, 0.0028449117735514203), (625, 0.005318429566535567), (626, 0.0027614578396985313), (627, 0.005575517390016814), (628, 0.011515639763027743), (629, 0.040848932525894895), (630, 0.0), (631, 0.01590624765126659), (632, 0.05244986738754055), (633, 0.00587222650850295), (634, 0.005655175099586331), (635, 0.01932945344852208), (636, 0.01067476910261941), (637, 0.0565689750859058), (638, 0.021580481149799314), (639, 0.0056666407314080475), (640, 0.005047018831525077), (641, 0.023013299023184126), (642, 0.00857061176145225), (643, 0.027912622005985634), (644, 0.008595909454048738), (645, 0.0027460531775893916), (646, 0.0034386748469229724), (647, 0.0031406433669411977), (648, 0.0), (649, 0.0), (650, 0.0), (651, 0.0032801834759502682), (652, 0.02056517488715795), (653, 0.017016381738214383), (654, 0.017013470642372033), (655, 0.003020303667679), (656, 0.0), (657, 0.035523900172874386), (658, 0.0), (659, 0.003170018513302035), (660, 0.00976971671855776), (661, 0.006509098254199004), (662, 0.0), (663, 0.0), (664, 0.019561918304563983), (665, 0.0), (666, 0.006978289218919984), (667, 0.0182970648510746), (668, 0.01322741144948094), (669, 0.02834750750968009), (670, 0.033778539245406546), (671, 0.0), (672, 0.02918599056478118), (673, 0.05624869808945741), (674, 0.0), (675, 0.020418279485884722), (676, 0.017936403459783798), (677, 0.02493634541362748), (678, 0.015323763585396617), (679, 0.0), (680, 0.004202299959592094), (681, 0.0), (682, 0.05243618158938393), (683, 0.01508426795293124), (684, 0.01755691466063026), (685, 0.0065333007649020815), (686, 0.0), (687, 0.005901062703375842), (688, 0.011095713418750416), (689, 0.009669529703495735), (690, 0.005175347800796172), (691, 0.032141954566172984), (692, 0.013329977071541686), (693, 0.038152376131363804), (694, 0.00872628011241184), (695, 0.014442438014672588), (696, 0.00917897881040148), (697, 0.0037972553892055955), (698, 0.003291826123562223), (699, 0.0), (700, 0.0), (701, 0.021598096478381693), (702, 0.0), (703, 0.003266698573317959), (704, 0.0), (705, 0.0033338873656370686), (706, 0.002808423716756925), (707, 0.0029807480062366055), (708, 0.0), (709, 0.0), (710, 0.0), (711, 0.0), (712, 0.0035484827694773316), (713, 0.0), (714, 0.0), (715, 0.0037231865900972175), (716, 0.009996039271370041), (717, 0.0037574128167752476), (718, 0.0), (719, 0.015370178336086662), (720, 0.0), (721, 0.04398051056646105), (722, 0.003113264880713175), (723, 0.005301166352248635), (724, 0.0), (725, 0.0), (726, 0.0), (727, 0.009427841528028792), (728, 0.010251388340930968), (729, 0.010743607506642345), (730, 0.0), (731, 0.00321899787727419), (732, 0.018519137149161705), (733, 0.01647892083016789), (734, 0.014741388075740406), (735, 0.004291849076846312), (736, 0.0), (737, 0.0038721056280870037), (738, 0.004706427569071585), (739, 0.004006727864756895), (740, 0.0021822979783967583), (741, 0.0), (742, 0.010112628017263614), (743, 0.009676360792951411), (744, 0.008921722238677515), (745, 0.008800644670761545), (746, 0.0), (747, 0.0), (748, 0.012351612419500078), (749, 0.0035046355695597616), (750, 0.00965786825816331), (751, 0.0), (752, 0.013072325795250979), (753, 0.01814498607540497), (754, 0.0), (755, 0.0038282762685263668), (756, 0.0055967954615865215), (757, 0.027336629562490652), (758, 0.0), (759, 0.0031059206661487857), (760, 0.01661974563097024), (761, 0.06683392279172676), (762, 0.023884999635165383), (763, 0.02001547726449467), (764, 0.0), (765, 0.007187916491510392), (766, 0.03097229056315604), (767, 0.0031679008232898347), (768, 0.02566433529244912), (769, 0.009624614813948086), (770, 0.0), (771, 0.0), (772, 0.0), (773, 0.0), (774, 0.04862269869178252), (775, 0.020982587175021005), (776, 0.0217641137745494), (777, 0.0042318963565156345), (778, 0.012092966448522402), (779, 0.024794574361569635), (780, 0.0), (781, 0.0), (782, 0.015080729471734094), (783, 0.003360526852365437), (784, 0.0), (785, 0.0), (786, 0.0), (787, 0.03886408944582782), (788, 0.05206570563277954), (789, 0.0), (790, 0.016111006053837824), (791, 0.0032622962830462796), (792, 0.014493287594715866), (793, 0.00627571054328084), (794, 0.003794671701993261), (795, 0.0197999178160425), (796, 0.02292413193398298), (797, 0.0), (798, 0.0034051431158124935), (799, 0.019151354838215336), (800, 0.008627900642412452), (801, 0.01473522292813188), (802, 0.006581805781989651), (803, 0.005431771606292314), (804, 0.008462803863049645), (805, 0.0033411079502126757), (806, 0.012663428023501943), (807, 0.0), (808, 0.027303546647652208), (809, 0.00693392704366449), (810, 0.005478103546098259), (811, 0.006023116229141744), (812, 0.04629007920006563), (813, 0.003777449433482865), (814, 0.0), (815, 0.0030766750778542643), (816, 0.010289744587664152), (817, 0.003331554284351745), (818, 0.04856336709346987), (819, 0.0), (820, 0.0), (821, 0.0), (822, 0.0), (823, 0.0465786698195271), (824, 0.03258843128833731), (825, 0.014509190419469511), (826, 0.003661616588940848), (827, 0.014975417253203508), (828, 0.013772455339964318), (829, 0.02217225160835825), (830, 0.003529359478359773), (831, 0.006249603750084138), (832, 0.032914637963023526), (833, 0.019455042963439806), (834, 0.010994713852680282), (835, 0.011150160808322034), (836, 0.0), (837, 0.0), (838, 0.003200775253761163), (839, 0.0), (840, 0.0), (841, 0.0), (842, 0.020002865304361434), (843, 0.002840515405404394), (844, 0.016939889735535375), (845, 0.009710371308082917), (846, 0.0), (847, 0.01698197045818365), (848, 0.00352737852811445), (849, 0.005938953691631574), (850, 0.01537430402254545), (851, 0.011829109455505478), (852, 0.03926369520563526), (853, 0.022104306903653843), (854, 0.0034655684607443125), (855, 0.007394420793894077), (856, 0.003119658521390604), (857, 0.0037078648342269635), (858, 0.02355556458881506), (859, 0.0), (860, 0.02417143464712299), (861, 0.007217450517475183), (862, 0.009898424119145542), (863, 0.009464503588836926), (864, 0.03700131049056301), (865, 0.0036699985006712773), (866, 0.01804456745485028), (867, 0.003507048498709424), (868, 0.009299726218709711), (869, 0.00920541175809768), (870, 0.03022465429868558), (871, 0.00367732621371154), (872, 0.003768597153355676), (873, 0.023754106249384645), (874, 0.04037975803313085), (875, 0.015516386376123245), (876, 0.025805662488820505), (877, 0.0691058231476453), (878, 0.017615038383619226), (879, 0.020083229574658756), (880, 0.009288142235097377), (881, 0.0), (882, 0.0), (883, 0.0032460223299599117), (884, 0.003964873104674992), (885, 0.030728576749434102), (886, 0.0034202983767037238), (887, 0.003956276209092812), (888, 0.01844911080216656), (889, 0.004503370262708838), (890, 0.0038289146985203454), (891, 0.005886938976413393), (892, 0.0), (893, 0.005842265476054404), (894, 0.013398252316362165), (895, 0.026344005807841606), (896, 0.021247199529638293), (897, 0.015434857720365014), (898, 0.0063406218474654635), (899, 0.014625838451569883), (900, 0.009089458604694647), (901, 0.002757383785624581), (902, 0.0064323473905423065), (903, 0.035242683601478704), (904, 0.05498263668167459), (905, 0.0161543783536583), (906, 0.0), (907, 0.003199058104276561), (908, 0.00964156936778754), (909, 0.0), (910, 0.008043586877460242), (911, 0.0461867132789097), (912, 0.0), (913, 0.0), (914, 0.0), (915, 0.014427015500958554), (916, 0.025232422002149098), (917, 0.03144157615786043), (918, 0.015969194067970878), (919, 0.006377028317328972), (920, 0.0), (921, 0.01381605924435539), (922, 0.004081277132040684), (923, 0.008835039101254528), (924, 0.0029820793770302754), (925, 0.0037144818215847004), (926, 0.0), (927, 0.005596453989218283), (928, 0.014467919681567258), (929, 0.019423060633025662), (930, 0.009647202763894346), (931, 0.016532443845190124), (932, 0.005233624254381878), (933, 0.003158850318034993), (934, 0.024244687588109222), (935, 0.0033612076450143277), (936, 0.01925483051756214), (937, 0.02550108755077014), (938, 0.0), (939, 0.011127635167083608), (940, 0.010580619107946094), (941, 0.0028889009056138203), (942, 0.030832734108640902), (943, 0.0), (944, 0.003409288168453778), (945, 0.0), (946, 0.0), (947, 0.023803948062978718), (948, 0.011118191539651897), (949, 0.004242618514964218), (950, 0.0), (951, 0.0029925367352823086), (952, 0.04281788677675982), (953, 0.007515856852142625), (954, 0.0), (955, 0.0), (956, 0.0), (957, 0.022589148378483217), (958, 0.0), (959, 0.0031962460482384387), (960, 0.0), (961, 0.0), (962, 0.013937650785673151), (963, 0.009376311468235483), (964, 0.0), (965, 0.0), (966, 0.0036781686269660827), (967, 0.03012308571190323), (968, 0.027537195227988476), (969, 0.00336868580750566), (970, 0.017276872229322525), (971, 0.0), (972, 0.0), (973, 0.0033969626085218045), (974, 0.0058167124825872), (975, 0.0031350862513767957), (976, 0.040891366282549746), (977, 0.0), (978, 0.0), (979, 0.005716159147787234), (980, 0.010340318410388662), (981, 0.008012756147584918), (982, 0.0), (983, 0.0), (984, 0.00311753313646233), (985, 0.0037892147291592026), (986, 0.017946474776206905), (987, 0.0038106386546548337), (988, 0.01926110765966607), (989, 0.021133120477802553), (990, 0.0), (991, 0.009214265320593065), (992, 0.006533372153483319), (993, 0.0035071038833228447), (994, 0.013779433666421818), (995, 0.0), (996, 0.007612651366363002), (997, 0.005669798943851645), (998, 0.004281490490096968), (999, 0.004367992270622767), (1000, 0.019246553510303188), (1001, 0.009558819731261485), (1002, 0.003354714917629389), (1003, 0.02876242024718007), (1004, 0.003217575145516584), (1005, 0.019624977108560242), (1006, 0.003902050963020099), (1007, 0.0034946955669238598), (1008, 0.0), (1009, 0.010142602699088857), (1010, 0.0), (1011, 0.0), (1012, 0.017614735524441854), (1013, 0.0), (1014, 0.0), (1015, 0.032660580999055576), (1016, 0.0), (1017, 0.01884826877980004), (1018, 0.013952762758979883), (1019, 0.003271442594923859), (1020, 0.0036074314003342036), (1021, 0.08595224426131358), (1022, 0.0), (1023, 0.014812274163139209), (1024, 0.05073419076994114), (1025, 0.0), (1026, 0.003360693584726013), (1027, 0.0033472097445276746), (1028, 0.0), (1029, 0.0), (1030, 0.07059788532227607), (1031, 0.0), (1032, 0.003247841183248491), (1033, 0.036682677583156256), (1034, 0.003661552918896864), (1035, 0.018676772588342362), (1036, 0.003182888706937878), (1037, 0.002869322323984144), (1038, 0.0), (1039, 0.0), (1040, 0.0026052580411041674), (1041, 0.00920427714881626), (1042, 0.003087668972618998), (1043, 0.04371869072918647), (1044, 0.010211288647407874), (1045, 0.022127779035721155), (1046, 0.03652531869049333), (1047, 0.015613440372207129), (1048, 0.003625526476222002), (1049, 0.0040268721029479105), (1050, 0.01194203701185033), (1051, 0.0), (1052, 0.0258603018808), (1053, 0.01630933631762456), (1054, 0.014634618669052938), (1055, 0.0), (1056, 0.0), (1057, 0.0304659356357132), (1058, 0.017676535673509974), (1059, 0.03396739458848624), (1060, 0.03607608820750142), (1061, 0.014385684477372854), (1062, 0.0), (1063, 0.04473099232371722), (1064, 0.02447035246138962), (1065, 0.008686315111727412), (1066, 0.0), (1067, 0.0), (1068, 0.038212915131835945), (1069, 0.0), (1070, 0.0), (1071, 0.009249523891311378), (1072, 0.0036511619136385862), (1073, 0.0), (1074, 0.028291780650303175), (1075, 0.0036292103552642272), (1076, 0.009477365056649263), (1077, 0.004174025814759353), (1078, 0.011836602556312355), (1079, 0.003462786765225597), (1080, 0.0030348082405540376), (1081, 0.0), (1082, 0.006429396356982857), (1083, 0.01092743780906592), (1084, 0.0034789049250961894), (1085, 0.05156825536353997), (1086, 0.0), (1087, 0.016025742202159413), (1088, 0.0025767526967052294), (1089, 0.0), (1090, 0.019795369250624913), (1091, 0.0), (1092, 0.013140202145924231), (1093, 0.0), (1094, 0.0), (1095, 0.0393484676585677), (1096, 0.0032236051909699122), (1097, 0.0), (1098, 0.02554055441956964), (1099, 0.006777933389380856), (1100, 0.003104150036980106), (1101, 0.0), (1102, 0.0679966927063922), (1103, 0.0), (1104, 0.016864639542564352), (1105, 0.0), (1106, 0.0), (1107, 0.01877196912502964), (1108, 0.0), (1109, 0.0037295637313816956), (1110, 0.003225531186410191), (1111, 0.012040990215029272), (1112, 0.025046824718954832), (1113, 0.0), (1114, 0.01432222045378172), (1115, 0.012351895135029177), (1116, 0.010583028443386619), (1117, 0.003377093808137599), (1118, 0.045359753960866035), (1119, 0.021995722718578532), (1120, 0.005306026352493073), (1121, 0.004717960366241018), (1122, 0.003595233702575918), (1123, 0.010072671846781525), (1124, 0.015449742544925616), (1125, 0.008596812796351556), (1126, 0.0), (1127, 0.0059751419036992975), (1128, 0.010145715838783933), (1129, 0.02902133198778618), (1130, 0.0), (1131, 0.0036017022081476628), (1132, 0.02721804043645517), (1133, 0.0), (1134, 0.08080719640999087), (1135, 0.0), (1136, 0.014319197482777053), (1137, 0.03552407596885647), (1138, 0.00919791333243742), (1139, 0.0), (1140, 0.01082976904784021), (1141, 0.020545957699874242), (1142, 0.0), (1143, 0.0), (1144, 0.011545390836464277), (1145, 0.00429076368894567), (1146, 0.048259535223017215), (1147, 0.0), (1148, 0.02349498447829341), (1149, 0.0), (1150, 0.006880260194594832), (1151, 0.0), (1152, 0.01865424689626793), (1153, 0.004259833308219457), (1154, 0.005309818138070165), (1155, 0.0), (1156, 0.0), (1157, 0.01106011172957812), (1158, 0.006953306062800779), (1159, 0.0), (1160, 0.012401261601861993), (1161, 0.003105044382004931), (1162, 0.01773697014238079), (1163, 0.00354572120223952), (1164, 0.006364094916476197), (1165, 0.0), (1166, 0.0), (1167, 0.006622711864181005), (1168, 0.004098438372341038), (1169, 0.004214064426255321), (1170, 0.0034529678353191024), (1171, 0.0), (1172, 0.0), (1173, 0.04731210558845252), (1174, 0.010943292664297093), (1175, 0.024109615375323613), (1176, 0.0037439223763474643), (1177, 0.009295223207170425), (1178, 0.0), (1179, 0.009920236556715523), (1180, 0.0), (1181, 0.03548776415121865), (1182, 0.004025891286582552), (1183, 0.017448116907754566), (1184, 0.023470767537081286), (1185, 0.0187716614862079), (1186, 0.032098872821936256), (1187, 0.004216229083735269), (1188, 0.009924729949640228), (1189, 0.0), (1190, 0.0), (1191, 0.009700555605792778), (1192, 0.021472554248899513), (1193, 0.0), (1194, 0.02165386852530246), (1195, 0.03381377215011548), (1196, 0.0), (1197, 0.00559545603078487), (1198, 0.0), (1199, 0.0031440146240542216), (1200, 0.0), (1201, 0.0), (1202, 0.028664624623778112), (1203, 0.0642682440472688), (1204, 0.0034225675201122814), (1205, 0.03620778075025549), (1206, 0.014661655497780002), (1207, 0.006065536387117679), (1208, 0.003995348096050772), (1209, 0.002825535793802472), (1210, 0.004188520843276338), (1211, 0.005926806354499147), (1212, 0.0), (1213, 0.008429233129436645), (1214, 0.008056247575141976), (1215, 0.018486072605352084), (1216, 0.022064748708681102), (1217, 0.003231846523409814), (1218, 0.0), (1219, 0.002875066263060882), (1220, 0.023385127512859094), (1221, 0.0), (1222, 0.0), (1223, 0.009892930578483132), (1224, 0.01907717995412416), (1225, 0.0105644695328568), (1226, 0.017386289658688294), (1227, 0.0), (1228, 0.0), (1229, 0.009735306424244469), (1230, 0.017229662777033534), (1231, 0.008798576100245295), (1232, 0.0202376814127289), (1233, 0.0), (1234, 0.014130807730991155), (1235, 0.0), (1236, 0.04330076368466559), (1237, 0.01627154592790593), (1238, 0.011528393586004534), (1239, 0.011754791178224734), (1240, 0.0), (1241, 0.04931349591325131), (1242, 0.0), (1243, 0.07629136613412422), (1244, 0.0), (1245, 0.024681185136749745), (1246, 0.0), (1247, 0.003302543314491778), (1248, 0.056873068107640846), (1249, 0.02064271604856796), (1250, 0.01161465949499305), (1251, 0.0028922205369890717), (1252, 0.019745697981300298), (1253, 0.0), (1254, 0.025988368479953103), (1255, 0.008880202855747976), (1256, 0.0), (1257, 0.06041499845996552), (1258, 0.0), (1259, 0.014401575875057745), (1260, 0.011476469807919578), (1261, 0.06103280904966153), (1262, 0.006604444915334847), (1263, 0.0), (1264, 0.01472226373698037), (1265, 0.0), (1266, 0.01910325493429735), (1267, 0.010306647335888963), (1268, 0.0), (1269, 0.0), (1270, 0.0283367236126593), (1271, 0.0), (1272, 0.04882756552894163), (1273, 0.0036085000574232985), (1274, 0.024074974953202138), (1275, 0.022940696861945074), (1276, 0.012326007364864888), (1277, 0.0027353456950661337), (1278, 0.024500979658338133), (1279, 0.013950303269100659), (1280, 0.00638853208911418), (1281, 0.005777155437187837), (1282, 0.011410751142700121), (1283, 0.03382784052671551), (1284, 0.003256677238324231), (1285, 0.0), (1286, 0.0032171025305989605), (1287, 0.0), (1288, 0.0), (1289, 0.0), (1290, 0.01979274512229102), (1291, 0.0), (1292, 0.05855720007875873), (1293, 0.0), (1294, 0.00386660908649081), (1295, 0.0), (1296, 0.0), (1297, 0.0), (1298, 0.0038225311504988067), (1299, 0.0), (1300, 0.01353101504448169), (1301, 0.0028844909989722335), (1302, 0.050947893134015966), (1303, 0.016353723577108972), (1304, 0.003599723640778556), (1305, 0.0028498891755698065), (1306, 0.01016590102113259), (1307, 0.012068828294561318), (1308, 0.0034744302354230688), (1309, 0.005574493310732845), (1310, 0.011588906261393438), (1311, 0.0), (1312, 0.002871043056629839), (1313, 0.0035688518406874594), (1314, 0.03502295673772807), (1315, 0.0), (1316, 0.010372655949655609), (1317, 0.018786491810370228), (1318, 0.00293628197028465), (1319, 0.003647740184574209), (1320, 0.007138549584074917), (1321, 0.0), (1322, 0.0), (1323, 0.0), (1324, 0.003808084915772801), (1325, 0.01874183154521264), (1326, 0.0), (1327, 0.010635928054396834), (1328, 0.0), (1329, 0.010836420487396255), (1330, 0.009142100438480388), (1331, 0.021553642943565023), (1332, 0.006842849165994353), (1333, 0.0), (1334, 0.01357650385211932), (1335, 0.01852717408844472), (1336, 0.0), (1337, 0.01942078245788028), (1338, 0.012987327965090402), (1339, 0.013828316224221926), (1340, 0.0032881380064166683), (1341, 0.10120010207000306), (1342, 0.01826774147205511), (1343, 0.018560512646622968), (1344, 0.007307563707108103), (1345, 0.0), (1346, 0.0), (1347, 0.006024575195297451), (1348, 0.01420965599201834), (1349, 0.004154284741244842), (1350, 0.003376799514797741), (1351, 0.031160467342769626), (1352, 0.0029482485860874157), (1353, 0.0), (1354, 0.0), (1355, 0.0040591739512317905), (1356, 0.008187748381048384), (1357, 0.002903459544776551), (1358, 0.0579409699929215), (1359, 0.0035617439651532915), (1360, 0.016636809913899188), (1361, 0.021908218617657876), (1362, 0.0), (1363, 0.0), (1364, 0.0037904240439310343), (1365, 0.02319331623841973), (1366, 0.0026854730998096665), (1367, 0.043399232662233174), (1368, 0.0), (1369, 0.04779323795421386), (1370, 0.00305899303412958), (1371, 0.008711878421248594), (1372, 0.0033232049026019218), (1373, 0.0), (1374, 0.01158120784249882), (1375, 0.009295847504227777), (1376, 0.0), (1377, 0.02831897346155842), (1378, 0.003393679788118201), (1379, 0.04494057751366761), (1380, 0.006604505334719115), (1381, 0.007213637605758235), (1382, 0.016033327139962073), (1383, 0.04933940208446005), (1384, 0.022819019843656606), (1385, 0.019745299210667464), (1386, 0.02507954807909693), (1387, 0.011207409336474343), (1388, 0.0), (1389, 0.050093409063273656), (1390, 0.0), (1391, 0.006576206847608141), (1392, 0.0031648706112845605), (1393, 0.057658932961841686), (1394, 0.0031518789747878406), (1395, 0.005833531385252182), (1396, 0.01849551199120775), (1397, 0.0285744376753595), (1398, 0.03538689689481654), (1399, 0.0), (1400, 0.010533147491738384), (1401, 0.024232315247172263), (1402, 0.0037116139546288676), (1403, 0.02884499380403745), (1404, 0.003152777992697752), (1405, 0.03724216933964912), (1406, 0.016330384333662358), (1407, 0.006677390678717837), (1408, 0.0034736188150962222), (1409, 0.003648685455707967), (1410, 0.0032381658833267597), (1411, 0.0034791689738000293), (1412, 0.034101836834987666), (1413, 0.02206163456653578), (1414, 0.009323329174623158), (1415, 0.0027537111247332457), (1416, 0.003133691472221123), (1417, 0.022605514170890274), (1418, 0.02152666600023625), (1419, 0.01582292356209688), (1420, 0.01652562042985052), (1421, 0.00968007814409241), (1422, 0.0038398431763330704), (1423, 0.002987090886447528), (1424, 0.0), (1425, 0.01247504139080263), (1426, 0.006534825596287374), (1427, 0.003569900441157956), (1428, 0.005717298226981985), (1429, 0.011612369593604736), (1430, 0.03676118052021041), (1431, 0.006159632498773467), (1432, 0.01719513569740562), (1433, 0.009534089310191568), (1434, 0.0031727553728106697), (1435, 0.006254485319048888), (1436, 0.01723799850453781), (1437, 0.0), (1438, 0.012549209811301873), (1439, 0.0037746797267711445), (1440, 0.013461902430321613), (1441, 0.0), (1442, 0.008879191668738183), (1443, 0.028697651898793967), (1444, 0.0), (1445, 0.021631304241286595), (1446, 0.0032871152224292948), (1447, 0.0), (1448, 0.01059609045565293), (1449, 0.006433849049286656), (1450, 0.002712921743793228), (1451, 0.005908894254298809), (1452, 0.006327199710449581), (1453, 0.00949478191908015), (1454, 0.010542857429571282), (1455, 0.017050114416996238), (1456, 0.002994392304191289), (1457, 0.0), (1458, 0.005479310821066276), (1459, 0.0), (1460, 0.0), (1461, 0.010825175149055547), (1462, 0.009011442192200037), (1463, 0.0033820424678886168), (1464, 0.04409125200850645), (1465, 0.013688355550595), (1466, 0.0), (1467, 0.0), (1468, 0.0), (1469, 0.006453372845921554), (1470, 0.0), (1471, 0.030791354577503694), (1472, 0.009257990046864607), (1473, 0.0), (1474, 0.004051980050906092), (1475, 0.0036564288793917423), (1476, 0.003532707882451713), (1477, 0.0033911843391383166), (1478, 0.017273427049773832), (1479, 0.0036457052497688883), (1480, 0.0054922909437441015), (1481, 0.018666598488782944), (1482, 0.040697416962487375), (1483, 0.01865207371407725), (1484, 0.010065528938965482), (1485, 0.0), (1486, 0.012203805660641023), (1487, 0.0), (1488, 0.01042432089082768), (1489, 0.01072923729254853), (1490, 0.0), (1491, 0.0), (1492, 0.033027050246370086), (1493, 0.006171830216329478), (1494, 0.014588629023518955), (1495, 0.0), (1496, 0.0), (1497, 0.004234594897910191), (1498, 0.010246644261243412), (1499, 0.042794932223568845), (1500, 0.04079265907472667), (1501, 0.011854074314958987), (1502, 0.006328417276515336), (1503, 0.0029368491964952073), (1504, 0.009163405680526778), (1505, 0.031629330171230145), (1506, 0.056401718372603285), (1507, 0.010708430624484696), (1508, 0.0), (1509, 0.012514992011396213), (1510, 0.031921477383170214), (1511, 0.0), (1512, 0.021540515407053044), (1513, 0.014950509391686937), (1514, 0.015228448334438503), (1515, 0.03182625003755506), (1516, 0.003860847164504924), (1517, 0.0), (1518, 0.003489050433958628), (1519, 0.009012572862570062), (1520, 0.0), (1521, 0.0), (1522, 0.0), (1523, 0.022957260610829176), (1524, 0.0), (1525, 0.0), (1526, 0.010562383968135008), (1527, 0.053095960289607134), (1528, 0.0031232759759000535), (1529, 0.0), (1530, 0.03166882108292868), (1531, 0.006274552466478196), (1532, 0.0), (1533, 0.0032688465957224984), (1534, 0.0), (1535, 0.0), (1536, 0.010092211057201622), (1537, 0.010717539851066351), (1538, 0.016042915752334113), (1539, 0.013345630179805664), (1540, 0.01091930613778402), (1541, 0.0), (1542, 0.015551026313739669), (1543, 0.0029900725008554685), (1544, 0.03246700357428065), (1545, 0.0), (1546, 0.005040779392991095), (1547, 0.004046713948848944), (1548, 0.0), (1549, 0.0), (1550, 0.0035310612779869267), (1551, 0.00612520862400159), (1552, 0.0), (1553, 0.0029409024165596657), (1554, 0.00693398502863668), (1555, 0.008997476185730723), (1556, 0.0), (1557, 0.0), (1558, 0.0035305427413557296), (1559, 0.005846546260643844), (1560, 0.035911785583246994), (1561, 0.0), (1562, 0.005774018157356805), (1563, 0.0), (1564, 0.0), (1565, 0.0028474828156614205), (1566, 0.005915294740490298), (1567, 0.01736281370801126), (1568, 0.04286161351326398), (1569, 0.0), (1570, 0.0037886264023228454), (1571, 0.0124903967435246), (1572, 0.014828624465014326), (1573, 0.006012019149313301), (1574, 0.003953850976146446), (1575, 0.0065741816396037), (1576, 0.0048395700750855026), (1577, 0.0), (1578, 0.0), (1579, 0.023974908097822087), (1580, 0.0038329404244472165), (1581, 0.0), (1582, 0.012703948713496423), (1583, 0.012206875891914657), (1584, 0.0), (1585, 0.032849471330807824), (1586, 0.0), (1587, 0.006910507347072955), (1588, 0.006287811884529624), (1589, 0.0), (1590, 0.005263151694878761), (1591, 0.018920728999789135), (1592, 0.0), (1593, 0.003931638118818878), (1594, 0.003682931368029977), (1595, 0.01753716168282074), (1596, 0.0), (1597, 0.003250276912992686), (1598, 0.003406018201104282), (1599, 0.0), (1600, 0.0), (1601, 0.0), (1602, 0.0), (1603, 0.0), (1604, 0.0), (1605, 0.0033102064009255605), (1606, 0.0), (1607, 0.0), (1608, 0.008468724484827227), (1609, 0.021704401515080456), (1610, 0.0), (1611, 0.0), (1612, 0.017227464881286417), (1613, 0.0), (1614, 0.006598656204255199), (1615, 0.0), (1616, 0.002941522121322181), (1617, 0.003317623193164347), (1618, 0.0), (1619, 0.015173187941944551), (1620, 0.013052732199199574), (1621, 0.019555858365683215), (1622, 0.006171207382226222), (1623, 0.005630163392792503), (1624, 0.0029420137676003195), (1625, 0.0029325616567142687), (1626, 0.0), (1627, 0.008927653277158182), (1628, 0.003191708709368591), (1629, 0.03362221526732653), (1630, 0.01584896670306428), (1631, 0.005675619405977936), (1632, 0.005706167553824146), (1633, 0.006221355379362495), (1634, 0.03712112164114281), (1635, 0.006548783145791064), (1636, 0.0), (1637, 0.003898889489066873), (1638, 0.0), (1639, 0.0), (1640, 0.0), (1641, 0.003365494248373585), (1642, 0.0035274605495080416), (1643, 0.010495569065466014), (1644, 0.0), (1645, 0.0035233644816778575), (1646, 0.0), (1647, 0.12747562522212105), (1648, 0.03828177126905169), (1649, 0.0), (1650, 0.013175049568894115), (1651, 0.0), (1652, 0.05344740475033049), (1653, 0.009755114486784967), (1654, 0.011555266702212071), (1655, 0.003877395071165509), (1656, 0.0042241799240055646), (1657, 0.02776288232533762), (1658, 0.004043487225051678), (1659, 0.007238249509411204), (1660, 0.003622143846737853), (1661, 0.006823125698961534), (1662, 0.01600975901098433), (1663, 0.0033132325585683094), (1664, 0.0), (1665, 0.018976625053814138), (1666, 0.003210808476695516), (1667, 0.018491577125364762), (1668, 0.0), (1669, 0.0), (1670, 0.004218781340572601), (1671, 0.02960810409737217), (1672, 0.0032957742915771444), (1673, 0.0), (1674, 0.011558460044286144), (1675, 0.05039190509933346), (1676, 0.05051824938937735), (1677, 0.0027970908359989492), (1678, 0.03284459488710964), (1679, 0.0), (1680, 0.017748226323363682), (1681, 0.0166921928719309), (1682, 0.023947595786751857), (1683, 0.003503719872381439), (1684, 0.010421960903338719), (1685, 0.003870333773466103), (1686, 0.0), (1687, 0.02171133202948498), (1688, 0.01569893874471184), (1689, 0.0), (1690, 0.0031864256178188396), (1691, 0.0029194284389319155), (1692, 0.011401965427527971), (1693, 0.003562593756197778), (1694, 0.014398101979577305), (1695, 0.0), (1696, 0.00703816182358976), (1697, 0.0), (1698, 0.0), (1699, 0.005984606892607364), (1700, 0.0), (1701, 0.013544586442350449), (1702, 0.047879042469603506), (1703, 0.0039026477458787828), (1704, 0.0), (1705, 0.010949399763808878), (1706, 0.003517261643115269), (1707, 0.021089325294835037), (1708, 0.004279568342795517), (1709, 0.0), (1710, 0.014950557244258334), (1711, 0.004354333420024408), (1712, 0.0036655622506151122), (1713, 0.04502483627537448), (1714, 0.0105901058300274), (1715, 0.009893293197840883), (1716, 0.021019686084423575), (1717, 0.0034213180491460236), (1718, 0.0120856540496278), (1719, 0.0030038394620305496), (1720, 0.03596924591738575), (1721, 0.02957166780668287), (1722, 0.0034633820235812464), (1723, 0.016239090895538266), (1724, 0.00680400893072323), (1725, 0.0), (1726, 0.0), (1727, 0.013754252508067777), (1728, 0.0), (1729, 0.0), (1730, 0.003305146645640794), (1731, 0.0), (1732, 0.00728652451512803), (1733, 0.0038780804419705603), (1734, 0.0), (1735, 0.009542144373512432), (1736, 0.01363371639860756), (1737, 0.0), (1738, 0.00980572613090064), (1739, 0.01711829892478342), (1740, 0.01963066567480208), (1741, 0.020724244314685156), (1742, 0.0036193809311901625), (1743, 0.002980744184925634), (1744, 0.003476255549872871), (1745, 0.0), (1746, 0.0), (1747, 0.0028282654220765633), (1748, 0.004420583334377746), (1749, 0.03266207343080098), (1750, 0.04363130798232076), (1751, 0.0), (1752, 0.04738430642960846), (1753, 0.005706507676018714), (1754, 0.015288527147724964), (1755, 0.0), (1756, 0.0), (1757, 0.028680715635469096), (1758, 0.0), (1759, 0.02404156566015632), (1760, 0.0089398513494599), (1761, 0.006948698609611446), (1762, 0.0030325429698984632), (1763, 0.033437335182707494), (1764, 0.01226122339378038), (1765, 0.0036662797636194486), (1766, 0.0), (1767, 0.0), (1768, 0.003463981672984614), (1769, 0.0), (1770, 0.04697604054010811), (1771, 0.0), (1772, 0.005165914768581513), (1773, 0.006142947965368565), (1774, 0.02388306930836526), (1775, 0.0), (1776, 0.011434909982798573), (1777, 0.0), (1778, 0.0), (1779, 0.010421259500804792), (1780, 0.0020170370205210403), (1781, 0.015145661039651738), (1782, 0.0031112477652844197), (1783, 0.0), (1784, 0.005719617244158362), (1785, 0.0), (1786, 0.0), (1787, 0.011193177321313821), (1788, 0.03569243927337565), (1789, 0.014222395762129279), (1790, 0.0), (1791, 0.0065455127526570945), (1792, 0.00462967598392527), (1793, 0.013426410505873607), (1794, 0.0), (1795, 0.04211875856626292), (1796, 0.020153455835963643), (1797, 0.009474515664095318), (1798, 0.01669784319987582), (1799, 0.01745318002298559), (1800, 0.0), (1801, 0.002863431065430443), (1802, 0.016881640740792212), (1803, 0.0), (1804, 0.0), (1805, 0.0035633102623137108), (1806, 0.010118336795732513), (1807, 0.014411523632857387), (1808, 0.003069502194999293), (1809, 0.06948089328824196), (1810, 0.0), (1811, 0.009940252020836388), (1812, 0.006304525453254617), (1813, 0.003096741415052963), (1814, 0.0032622360657395795), (1815, 0.018027732135041122), (1816, 0.008554399046201446), (1817, 0.026492620400989826), (1818, 0.010648812281973133), (1819, 0.008980139444426867), (1820, 0.0), (1821, 0.014322900801115021), (1822, 0.0039543213025815096), (1823, 0.0), (1824, 0.0), (1825, 0.0), (1826, 0.0031808997713961683), (1827, 0.003029540395473835), (1828, 0.002810407293857286), (1829, 0.006318794612691541), (1830, 0.003154132762883061), (1831, 0.0038695941470139727), (1832, 0.016653206359927047), (1833, 0.0033253407659936955), (1834, 0.0), (1835, 0.0), (1836, 0.0), (1837, 0.04719769672634243), (1838, 0.026328309000755043), (1839, 0.0), (1840, 0.00582726839791229), (1841, 0.012909188768485767), (1842, 0.0), (1843, 0.00419492689796047), (1844, 0.0), (1845, 0.038986232943326066), (1846, 0.005952056112966471), (1847, 0.039089952038856075), (1848, 0.003588674357825549), (1849, 0.011519360019575587), (1850, 0.05595095024548771), (1851, 0.0036400963368503486), (1852, 0.00636678704917427), (1853, 0.023079700810458036), (1854, 0.013668873105425802), (1855, 0.0), (1856, 0.0), (1857, 0.00584137075668936), (1858, 0.014363820832110335), (1859, 0.006410574377376188), (1860, 0.0034857148838575696), (1861, 0.02694366663465435), (1862, 0.004172468129835322), (1863, 0.0), (1864, 0.009270023382858787), (1865, 0.029206824040528667), (1866, 0.010492255467681346), (1867, 0.0), (1868, 0.04168073492838637), (1869, 0.0031599061083280623), (1870, 0.020024238426303815), (1871, 0.05208804438486536), (1872, 0.025314685737193542), (1873, 0.00600248202852648), (1874, 0.014159726085637975), (1875, 0.013648126633046292), (1876, 0.020772294240841864), (1877, 0.003403633240167831), (1878, 0.06361147900724924), (1879, 0.0), (1880, 0.01954895124645298), (1881, 0.007064801837254934), (1882, 0.0038615564391403724), (1883, 0.0), (1884, 0.002951864259372427), (1885, 0.04519606994127809), (1886, 0.09791897169650336), (1887, 0.003910281886907252), (1888, 0.0), (1889, 0.0), (1890, 0.0038801702342031023), (1891, 0.003519662570261763), (1892, 0.008830451768073531), (1893, 0.003667266399753869), (1894, 0.0), (1895, 0.022548603681922498), (1896, 0.003820480729767561), (1897, 0.01087889422198066), (1898, 0.0), (1899, 0.0), (1900, 0.011210056388424528), (1901, 0.006145781196853511), (1902, 0.010244455282077281), (1903, 0.0), (1904, 0.006865017417187196), (1905, 0.0037316465508109766), (1906, 0.020542768183859906), (1907, 0.0038142035463049058), (1908, 0.012144942208670236), (1909, 0.004168494679409311), (1910, 0.004959469125048518), (1911, 0.011960002996159753), (1912, 0.0), (1913, 0.0), (1914, 0.0059308903498786645), (1915, 0.0), (1916, 0.0035239677148339193), (1917, 0.0), (1918, 0.010070711645458532), (1919, 0.017291054903441856), (1920, 0.014534872225646662), (1921, 0.0032560916246002023), (1922, 0.015049183677531996), (1923, 0.013874913939122433), (1924, 0.011884519989653659), (1925, 0.005039312567507769), (1926, 0.0), (1927, 0.02688313258510272), (1928, 0.0), (1929, 0.003061340116647246), (1930, 0.006321413668610038), (1931, 0.0099365446115479), (1932, 0.0), (1933, 0.005895557215542623), (1934, 0.010102154415549725), (1935, 0.022902201335556864), (1936, 0.0036528838580754982), (1937, 0.027968260120519013), (1938, 0.0), (1939, 0.007868589520834112), (1940, 0.006892906019539495), (1941, 0.007923334376965177), (1942, 0.019722891581910984), (1943, 0.0033607886266372616), (1944, 0.0), (1945, 0.010416365090164286), (1946, 0.0033352396602063807), (1947, 0.0041704732495381055), (1948, 0.015104512222582184), (1949, 0.015855315726026407), (1950, 0.012154677557793342), (1951, 0.015887431632660674), (1952, 0.006844403088379471), (1953, 0.0058514043138051764), (1954, 0.0031345701172502565), (1955, 0.0), (1956, 0.0), (1957, 0.019465991375726764), (1958, 0.01734553401184643), (1959, 0.003642405118346771), (1960, 0.012285385023379364), (1961, 0.0), (1962, 0.0066893804854002495), (1963, 0.0), (1964, 0.009120869605104675), (1965, 0.0), (1966, 0.0), (1967, 0.01908742082258958), (1968, 0.011015971346258785), (1969, 0.003613667563458093), (1970, 0.07296928301505215), (1971, 0.010648676724692541), (1972, 0.0), (1973, 0.04670093308838508), (1974, 0.0), (1975, 0.006182379456170902), (1976, 0.04021212610927554), (1977, 0.10242517402534493), (1978, 0.0), (1979, 0.0), (1980, 0.003921729537086632), (1981, 0.007849883417015455), (1982, 0.049897067405204575), (1983, 0.019196238293769378), (1984, 0.0), (1985, 0.03011576344735431), (1986, 0.022168748854067208), (1987, 0.008171749769310156), (1988, 0.022119199147512005), (1989, 0.016155541258775257), (1990, 0.03974161135251752), (1991, 0.006033111234490896), (1992, 0.014801859705552513), (1993, 0.005734637104623609), (1994, 0.11163579515551389), (1995, 0.0037163872609916686), (1996, 0.029113386826866892), (1997, 0.03126134189548714), (1998, 0.006367865141842693), (1999, 0.034769802923924994), (2000, 0.01980076299971827), (2001, 0.0), (2002, 0.0), (2003, 0.0), (2004, 0.0032531502297465926), (2005, 0.0223685396649103), (2006, 0.0), (2007, 0.0), (2008, 0.02237623750492078), (2009, 0.0), (2010, 0.002944442023580904), (2011, 0.034775513299126155), (2012, 0.056167964354784064), (2013, 0.02963075870326081), (2014, 0.0), (2015, 0.006951631784185888), (2016, 0.014143715299082229), (2017, 0.0), (2018, 0.04846771273868055), (2019, 0.0), (2020, 0.03570981900835545), (2021, 0.0), (2022, 0.008559431791879032), (2023, 0.03298284197543261), (2024, 0.018698658332545318), (2025, 0.0), (2026, 0.029417123898521087), (2027, 0.026522527920998424), (2028, 0.0), (2029, 0.012233023032517387), (2030, 0.0), (2031, 0.008202851072347112), (2032, 0.0), (2033, 0.0), (2034, 0.002680253504038217), (2035, 0.02393175207528509), (2036, 0.0), (2037, 0.043866946199593915), (2038, 0.0), (2039, 0.0027564704386061232), (2040, 0.020891489115590925), (2041, 0.0), (2042, 0.0), (2043, 0.0), (2044, 0.006519679088517298), (2045, 0.022787973313426337), (2046, 0.0), (2047, 0.0030432356803186426), (2048, 0.0343897121893219), (2049, 0.0038075885419985443), (2050, 0.0), (2051, 0.004179060621623772), (2052, 0.0), (2053, 0.01915472550091309), (2054, 0.0), (2055, 0.03309986508178593), (2056, 0.011678269641575935), (2057, 0.016473662933540557), (2058, 0.010474539923920263), (2059, 0.0), (2060, 0.0032147419936392305), (2061, 0.009489240551446346), (2062, 0.017163563302497915), (2063, 0.0), (2064, 0.008483680273927152), (2065, 0.012197744872273054), (2066, 0.01811655898704469), (2067, 0.003856290810691053), (2068, 0.0031989324129281732), (2069, 0.009936952063668247), (2070, 0.026466839204361096), (2071, 0.0), (2072, 0.003234408611335153), (2073, 0.003460699827765025), (2074, 0.014549131683444332), (2075, 0.01228286902476528), (2076, 0.013285871809283298), (2077, 0.011211829849534907), (2078, 0.00456094617288494), (2079, 0.0), (2080, 0.012148466628317159), (2081, 0.0), (2082, 0.04238690483795464), (2083, 0.003881290234333873), (2084, 0.006782190747269412), (2085, 0.0), (2086, 0.0), (2087, 0.003764867330992418), (2088, 0.010452272996274046), (2089, 0.011669877231431963), (2090, 0.0), (2091, 0.01091148281077477), (2092, 0.0), (2093, 0.028520752945956962), (2094, 0.032979842613620546), (2095, 0.0), (2096, 0.01998349016803941), (2097, 0.013608150957130201), (2098, 0.0), (2099, 0.003104370294596769), (2100, 0.0427974526926622), (2101, 0.011823484152957945), (2102, 0.03746413149439241), (2103, 0.015331282801419994), (2104, 0.010328496124951538), (2105, 0.0037391931096187555), (2106, 0.0), (2107, 0.0), (2108, 0.0037692355566254815), (2109, 0.015814555466931297), (2110, 0.01525961131022857), (2111, 0.0028981945003598232), (2112, 0.07323886890285007), (2113, 0.008441042377488628), (2114, 0.017784587357014194), (2115, 0.0), (2116, 0.0036619910299557925), (2117, 0.0032451437554551956), (2118, 0.0), (2119, 0.0256091216445838), (2120, 0.0), (2121, 0.008777938884836411), (2122, 0.003553272476905413), (2123, 0.003322565584081402), (2124, 0.0), (2125, 0.0), (2126, 0.013071633591099722), (2127, 0.00318824889185842), (2128, 0.0), (2129, 0.003293653207843068), (2130, 0.006186828531639242), (2131, 0.003310693994148763), (2132, 0.0027425814023473486), (2133, 0.06418866562546324), (2134, 0.004130982956972359), (2135, 0.0), (2136, 0.006647427777071819), (2137, 0.004208537363084113), (2138, 0.0), (2139, 0.005999651521285382), (2140, 0.0), (2141, 0.003266686974108917), (2142, 0.00426610364394987), (2143, 0.015885008894855793), (2144, 0.014575643707937163), (2145, 0.01964431977457992), (2146, 0.0030544292964734005), (2147, 0.0), (2148, 0.0037026813368803133), (2149, 0.02114641023352313), (2150, 0.0), (2151, 0.0655499253143321), (2152, 0.0), (2153, 0.0), (2154, 0.027361061899798263), (2155, 0.003556754827162161), (2156, 0.009829499514324852), (2157, 0.031457507478350376), (2158, 0.01122546484694091), (2159, 0.003854759899774091), (2160, 0.010716164589680756), (2161, 0.023581533669902666), (2162, 0.013121858310893315), (2163, 0.003031470115400647), (2164, 0.0), (2165, 0.0), (2166, 0.0031381635622575086), (2167, 0.0244498518261809), (2168, 0.0), (2169, 0.003423992158108359), (2170, 0.0), (2171, 0.0), (2172, 0.0), (2173, 0.03136242802092672), (2174, 0.03196858761451702), (2175, 0.01068860318447161), (2176, 0.004302478036997713), (2177, 0.017211199501738075), (2178, 0.014613445028727044), (2179, 0.0), (2180, 0.0), (2181, 0.00715804501228521), (2182, 0.0), (2183, 0.0), (2184, 0.010328969117485718), (2185, 0.009351133291387157), (2186, 0.0), (2187, 0.0038335835244989224), (2188, 0.010161581536048235), (2189, 0.004263292402444747), (2190, 0.003472814997273812), (2191, 0.05963095627142147), (2192, 0.0038231353399980684), (2193, 0.014189904870774414), (2194, 0.0), (2195, 0.0033915167209341394), (2196, 0.018983879949141205), (2197, 0.013809242245124219), (2198, 0.02665048793306036), (2199, 0.004288426754448224), (2200, 0.0), (2201, 0.0033383893027792108), (2202, 0.0), (2203, 0.009869626883933122), (2204, 0.0), (2205, 0.011019307017019902), (2206, 0.01510996201515153), (2207, 0.020692342272691695), (2208, 0.0061554096947778565), (2209, 0.004058296656651744), (2210, 0.018639709955312535), (2211, 0.013735203652957665), (2212, 0.04681121942188765), (2213, 0.0028973503226927635), (2214, 0.020475722665618666), (2215, 0.0), (2216, 0.019122430166407488), (2217, 0.0), (2218, 0.0), (2219, 0.0), (2220, 0.0), (2221, 0.03907727440942522), (2222, 0.0), (2223, 0.004320015402959379), (2224, 0.017617769184960975), (2225, 0.0), (2226, 0.0030021261283368784), (2227, 0.0), (2228, 0.012333317779315308), (2229, 0.018105512401393676), (2230, 0.003137432319856749), (2231, 0.006997659497397091), (2232, 0.0062598735109508225), (2233, 0.0), (2234, 0.0), (2235, 0.013958178437249887), (2236, 0.012065446559559077), (2237, 0.021590160825706056), (2238, 0.0), (2239, 0.011213279578842324), (2240, 0.0035989587943992827), (2241, 0.0), (2242, 0.0034909859881149304), (2243, 0.0), (2244, 0.012912124892199617), (2245, 0.006255423040323426), (2246, 0.0062895569341050095), (2247, 0.0), (2248, 0.00316949840370193), (2249, 0.0), (2250, 0.011638686744012425), (2251, 0.004129950848001236), (2252, 0.01686329245151192), (2253, 0.0), (2254, 0.02006953119112266), (2255, 0.010787918567149089), (2256, 0.0), (2257, 0.0038081414565211253), (2258, 0.0219577624636072), (2259, 0.0), (2260, 0.003829666599209438), (2261, 0.0), (2262, 0.0), (2263, 0.0), (2264, 0.011836653614283156), (2265, 0.012721077233506576), (2266, 0.003651716079909272), (2267, 0.0), (2268, 0.003467799091748948), (2269, 0.0034397350051283615), (2270, 0.003168609770868514), (2271, 0.0), (2272, 0.0), (2273, 0.00634197280220036), (2274, 0.0), (2275, 0.018633497865731014), (2276, 0.02802531410094382), (2277, 0.0035915711980838445), (2278, 0.006544664934447385), (2279, 0.01538042864036884), (2280, 0.015089446013860796), (2281, 0.0), (2282, 0.0), (2283, 0.006605815229186319), (2284, 0.015404168965413544), (2285, 0.01486463014384716), (2286, 0.004183739532506565), (2287, 0.003012123029960452), (2288, 0.0031416277924825103), (2289, 0.0029484438289172875), (2290, 0.018687386056705033), (2291, 0.010299824846523843), (2292, 0.0035172565073131744), (2293, 0.0033718410981360388), (2294, 0.06119603766359567), (2295, 0.0468321071743792), (2296, 0.0), (2297, 0.0), (2298, 0.020944283245162745), (2299, 0.004439948138769033), (2300, 0.0), (2301, 0.024320360194648935), (2302, 0.0038194370390988207), (2303, 0.013733280317081795), (2304, 0.010269025282648841), (2305, 0.0), (2306, 0.004325627196299951), (2307, 0.0), (2308, 0.0), (2309, 0.014812922265118244), (2310, 0.004097390837222287), (2311, 0.0), (2312, 0.0), (2313, 0.0036800960945841416), (2314, 0.007197086624830828), (2315, 0.0), (2316, 0.04540660833896224), (2317, 0.0027537090356468375), (2318, 0.07526804200514296), (2319, 0.0035156443491268403), (2320, 0.003447750980714756), (2321, 0.013069035377255976), (2322, 0.0), (2323, 0.0031871580901002114), (2324, 0.003824355205023739), (2325, 0.0), (2326, 0.004534607655792238), (2327, 0.0), (2328, 0.0066177756331476925), (2329, 0.0), (2330, 0.006356116733833274), (2331, 0.0), (2332, 0.0), (2333, 0.0), (2334, 0.0203631116773957), (2335, 0.011000506688328861), (2336, 0.017014781048244932), (2337, 0.0), (2338, 0.0032567873504061825), (2339, 0.012370150518764212), (2340, 0.0031622476645199117), (2341, 0.0), (2342, 0.0), (2343, 0.03753497485841474), (2344, 0.008965112442166974), (2345, 0.0), (2346, 0.012800265410912011), (2347, 0.02437488412918743), (2348, 0.00799713256845933), (2349, 0.004237103912210487), (2350, 0.0038810983539853306), (2351, 0.0), (2352, 0.0), (2353, 0.01810626538358989), (2354, 0.0034059670103299302), (2355, 0.00789267128058505), (2356, 0.0038074858148767457), (2357, 0.0), (2358, 0.12308559948058188), (2359, 0.002745350684488057), (2360, 0.0), (2361, 0.003761144940287344), (2362, 0.023871183054379304), (2363, 0.010328356601082294), (2364, 0.0), (2365, 0.042357711117373346), (2366, 0.020621451202246517), (2367, 0.0032009789138771412), (2368, 0.020489907981844694), (2369, 0.0), (2370, 0.0035321230767652993), (2371, 0.047076558703787595), (2372, 0.0), (2373, 0.0), (2374, 0.06898492826634449), (2375, 0.00360828219932818), (2376, 0.024364190513493856), (2377, 0.0), (2378, 0.0040078772271284835), (2379, 0.004277688823508275), (2380, 0.0), (2381, 0.0), (2382, 0.0030236448232384846), (2383, 0.015046364590861309), (2384, 0.0), (2385, 0.0034029471774505615), (2386, 0.0035098447722239586), (2387, 0.003441204394277483), (2388, 0.003744542818484758), (2389, 0.0), (2390, 0.004101524642216269), (2391, 0.003234205976882208), (2392, 0.0038596046398231237), (2393, 0.0037883672982982667), (2394, 0.030030101561762012), (2395, 0.0), (2396, 0.0034686377979935156), (2397, 0.0034446429603159413), (2398, 0.0), (2399, 0.0032186450535156047), (2400, 0.003344838983656411), (2401, 0.0028977506398093324), (2402, 0.0029231939872905286), (2403, 0.00430407114042125), (2404, 0.004039833766424415), (2405, 0.0035741787359740017), (2406, 0.01992368476390899), (2407, 0.004093783804840862), (2408, 0.03457435259797019), (2409, 0.0), (2410, 0.0033533599733771564), (2411, 0.0037813649249351855), (2412, 0.015637095784143653), (2413, 0.039685520438814126), (2414, 0.0), (2415, 0.00359884803863102), (2416, 0.00292016330132093), (2417, 0.05434707061033531), (2418, 0.015576781615592849), (2419, 0.0037759207601170946), (2420, 0.0), (2421, 0.017282209069291506), (2422, 0.0032231238584406277), (2423, 0.0037409183904886633), (2424, 0.00824788012995482), (2425, 0.0038496649129392737), (2426, 0.009202394045461889), (2427, 0.009643691581092838), (2428, 0.009615820153196375), (2429, 0.014467953317756188), (2430, 0.0035844306376944693), (2431, 0.0), (2432, 0.006138264598089105), (2433, 0.0), (2434, 0.003585172713254559), (2435, 0.0), (2436, 0.015240240459272369), (2437, 0.0036618239923470485), (2438, 0.004189150144694148), (2439, 0.009077448589415204), (2440, 0.023913714284495992), (2441, 0.0028043721651019793), (2442, 0.005468954590272034), (2443, 0.04338988012817565), (2444, 0.008525098349342996), (2445, 0.0), (2446, 0.003155298440421219), (2447, 0.01580895645992452), (2448, 0.003815941686446345), (2449, 0.025238585545205895), (2450, 0.0), (2451, 0.0), (2452, 0.0), (2453, 0.0028988503022213444), (2454, 0.0035860903616750555), (2455, 0.0), (2456, 0.0), (2457, 0.0032012351041409066), (2458, 0.0), (2459, 0.010327672373462046), (2460, 0.017081773396764508), (2461, 0.003577617952237308), (2462, 0.0), (2463, 0.014609323713689996), (2464, 0.012741452739306538), (2465, 0.0), (2466, 0.0037115457194058974), (2467, 0.0328040107858309), (2468, 0.01607799298268141), (2469, 0.020903615937043887), (2470, 0.0), (2471, 0.0), (2472, 0.0), (2473, 0.0032824459578887485), (2474, 0.018997749950194064), (2475, 0.0032452609548725246), (2476, 0.03787609991596194), (2477, 0.010146043607670387), (2478, 0.0038986774193769864), (2479, 0.0), (2480, 0.016754512493934417), (2481, 0.04233668800516394), (2482, 0.003529534788815181), (2483, 0.0), (2484, 0.027869172768687774), (2485, 0.0), (2486, 0.016797672814978154), (2487, 0.03483425607021447), (2488, 0.0035532464946609714), (2489, 0.0139437599895683), (2490, 0.004278584892725456), (2491, 0.0), (2492, 0.002968894175714404), (2493, 0.0), (2494, 0.013965936223350524), (2495, 0.0030184751226413), (2496, 0.00956308344057527), (2497, 0.0), (2498, 0.0), (2499, 0.0), (2500, 0.0), (2501, 0.026838538524018338), (2502, 0.002821439822122775), (2503, 0.011222464428212682), (2504, 0.0), (2505, 0.003732907811315249), (2506, 0.005472753633768289), (2507, 0.004160822698380748), (2508, 0.0), (2509, 0.002745290630942513), (2510, 0.013162779389345606), (2511, 0.0), (2512, 0.012522116274144254), (2513, 0.028359278139641297), (2514, 0.0), (2515, 0.0), (2516, 0.0), (2517, 0.05099236221636565), (2518, 0.0), (2519, 0.00877173452348408), (2520, 0.002705110351527726), (2521, 0.0), (2522, 0.021420225165728224), (2523, 0.0), (2524, 0.021547190022906296), (2525, 0.003435025528752434), (2526, 0.0026712664883809193), (2527, 0.00275343550854745), (2528, 0.003096629715026347), (2529, 0.004298822467913119), (2530, 0.05486050010733436), (2531, 0.0030233258692107974), (2532, 0.0), (2533, 0.0032308805576571845), (2534, 0.0013558984067433973), (2535, 0.0035690140817063246), (2536, 0.0), (2537, 0.004173192188281358), (2538, 0.084895055862774), (2539, 0.0), (2540, 0.009044061933851905), (2541, 0.004954858946261205), (2542, 0.0), (2543, 0.0), (2544, 0.0036754557377053176), (2545, 0.003521601314440964), (2546, 0.01370734446643666), (2547, 0.0), (2548, 0.0), (2549, 0.0), (2550, 0.057609136016709014), (2551, 0.0), (2552, 0.0031128966002965676), (2553, 0.024137220741510243), (2554, 0.003271480417001632), (2555, 0.011146862416346486), (2556, 0.00287873228269687), (2557, 0.004469479671101565), (2558, 0.00956401474343558), (2559, 0.003966931085021423), (2560, 0.027452739026614558), (2561, 0.0030883965477648385), (2562, 0.0), (2563, 0.012072799707659076), (2564, 0.0), (2565, 0.016768992460647662), (2566, 0.0), (2567, 0.007799511908611366), (2568, 0.00549982950142297), (2569, 0.002911113514696328), (2570, 0.0035809754019872635), (2571, 0.0032144119159031644), (2572, 0.003189001632379655), (2573, 0.005726081221627281), (2574, 0.0), (2575, 0.0), (2576, 0.007706153242652829), (2577, 0.0), (2578, 0.0), (2579, 0.06634455529845971), (2580, 0.008005629876827533), (2581, 0.010189954677789438), (2582, 0.032315268906077416), (2583, 0.0), (2584, 0.0), (2585, 0.0034473371477355234), (2586, 0.0), (2587, 0.014350089321035805), (2588, 0.0), (2589, 0.0), (2590, 0.0), (2591, 0.0026271733661038955), (2592, 0.003708228616120458), (2593, 0.003071770473011299), (2594, 0.0), (2595, 0.0038680092954804777), (2596, 0.0), (2597, 0.0), (2598, 0.02834717247299124), (2599, 0.006898926281513144), (2600, 0.010746289851674773), (2601, 0.013707436818370623), (2602, 0.014959372749679524), (2603, 0.012201334952033231), (2604, 0.0), (2605, 0.0), (2606, 0.009987358028227335), (2607, 0.01751400175879224), (2608, 0.0), (2609, 0.003913796045407385), (2610, 0.003927049070417269), (2611, 0.0027122924916247837), (2612, 0.0032833475953800155), (2613, 0.0035731030878785918), (2614, 0.03759712833212615), (2615, 0.0), (2616, 0.0), (2617, 0.016560019816515534), (2618, 0.022232789564808404), (2619, 0.003562292478319981), (2620, 0.0), (2621, 0.050788285973843904), (2622, 0.005382265406223308), (2623, 0.003803990717046385), (2624, 0.0033026750041599035), (2625, 0.013464855907842393), (2626, 0.007272187049752248), (2627, 0.0), (2628, 0.004122946247272984), (2629, 0.0040304751946752555), (2630, 0.07081121804531755), (2631, 0.0), (2632, 0.020118569242312104), (2633, 0.013293803521399616), (2634, 0.002999947455774509), (2635, 0.011391244585152074), (2636, 0.002206688400807935), (2637, 0.0), (2638, 0.029857723625024937), (2639, 0.021424504028875753), (2640, 0.013990839757033573), (2641, 0.0), (2642, 0.0030190297762095605), (2643, 0.003836750812332642), (2644, 0.01916647183394216), (2645, 0.02672798177718043), (2646, 0.026473460133167363), (2647, 0.031772968424946875), (2648, 0.0), (2649, 0.018571890146891083), (2650, 0.025522780099842768), (2651, 0.00289518431150611), (2652, 0.002963043656352865), (2653, 0.0727013710133614), (2654, 0.021262224203664123), (2655, 0.011030468109972234), (2656, 0.0), (2657, 0.0), (2658, 0.0), (2659, 0.0), (2660, 0.007045437811127484), (2661, 0.004320740836700484), (2662, 0.0), (2663, 0.0), (2664, 0.003847970124614821), (2665, 0.009033305275132809), (2666, 0.0), (2667, 0.0), (2668, 0.030185508095228984), (2669, 0.0), (2670, 0.0), (2671, 0.0), (2672, 0.0), (2673, 0.0038787774438088078), (2674, 0.0028669109475363197), (2675, 0.0), (2676, 0.0), (2677, 0.0), (2678, 0.005414702645053702), (2679, 0.003187847419403965), (2680, 0.015691724201957784), (2681, 0.0), (2682, 0.005604287608772057), (2683, 0.006405557761095212), (2684, 0.0), (2685, 0.0), (2686, 0.0), (2687, 0.03291095173606283), (2688, 0.010036407355373103), (2689, 0.02975478148460841), (2690, 0.0), (2691, 0.013021712144948286), (2692, 1.0000000000000002), (2693, 0.0), (2694, 0.00462425738212303), (2695, 0.01886990089562729), (2696, 0.0035011748235857466), (2697, 0.016034520067948192), (2698, 0.014382664955888077), (2699, 0.031194386430482023), (2700, 0.006056805251350141), (2701, 0.0), (2702, 0.004066778254559077), (2703, 0.0), (2704, 0.0), (2705, 0.0032144170529727852), (2706, 0.03846250576590247), (2707, 0.0034657673605229256), (2708, 0.0), (2709, 0.0), (2710, 0.035934913098466005), (2711, 0.005702203752152555), (2712, 0.024217583091398025), (2713, 0.033642916724502536), (2714, 0.011013861002220335), (2715, 0.0), (2716, 0.00882249582855598), (2717, 0.0), (2718, 0.033035158922589125), (2719, 0.0), (2720, 0.0036583471443334447), (2721, 0.002900903012767142), (2722, 0.004264550137885038), (2723, 0.039969843763272034), (2724, 0.008381590847512806), (2725, 0.0035574400125280093), (2726, 0.011721768760125694), (2727, 0.018573338001000805), (2728, 0.0032743655559370304), (2729, 0.0), (2730, 0.0), (2731, 0.003875594926129454), (2732, 0.012307864432707526), (2733, 0.007198073627480414), (2734, 0.0), (2735, 0.003404444729215668), (2736, 0.02674151783820618), (2737, 0.0), (2738, 0.003652230871480455), (2739, 0.012844740550973677), (2740, 0.014961394029977648), (2741, 0.0028816163930889195), (2742, 0.025494706734682737), (2743, 0.00332371060888469), (2744, 0.013284929036220442), (2745, 0.06118934550508247), (2746, 0.003357015126744948), (2747, 0.0027749595773407633), (2748, 0.003345794127892821), (2749, 0.0), (2750, 0.0), (2751, 0.03826211371736711), (2752, 0.012813396163087203), (2753, 0.0029408261689491426), (2754, 0.0), (2755, 0.0034067811504292275), (2756, 0.0), (2757, 0.004545452597695197), (2758, 0.0027868753713558682), (2759, 0.015033356512711855), (2760, 0.022778366375228426), (2761, 0.03836135411642398), (2762, 0.03559565993392381), (2763, 0.0), (2764, 0.004160876243666988), (2765, 0.003128728814680649), (2766, 0.0025788888748752782), (2767, 0.028244246179625628), (2768, 0.023767792801815454), (2769, 0.0037768120128255957), (2770, 0.0), (2771, 0.017251085515046446), (2772, 0.003461613200867313), (2773, 0.0), (2774, 0.0), (2775, 0.004149471672503326), (2776, 0.00402347987763991), (2777, 0.011852342453334934), (2778, 0.010111862145965987), (2779, 0.0031550951533855917), (2780, 0.01664175352871731), (2781, 0.0), (2782, 0.036466333109266946), (2783, 0.0033760462444386453), (2784, 0.021106955696892696), (2785, 0.0), (2786, 0.003534113676953623), (2787, 0.005853681935137865), (2788, 0.015650629239343357), (2789, 0.013896867142645455), (2790, 0.00654446319422454), (2791, 0.03774166560095778), (2792, 0.0035787679798528135), (2793, 0.0), (2794, 0.0), (2795, 0.021898694072805577), (2796, 0.0037748338315524536), (2797, 0.004229733302642504), (2798, 0.0158131793286806), (2799, 0.0), (2800, 0.003260707120687095), (2801, 0.005910414280552775), (2802, 0.034074801229562274), (2803, 0.00875616609656471), (2804, 0.0), (2805, 0.019873793602515767), (2806, 0.0), (2807, 0.03493032109992594), (2808, 0.029421142206305463), (2809, 0.003697740153184316), (2810, 0.0), (2811, 0.0), (2812, 0.003486726554979746), (2813, 0.0), (2814, 0.0), (2815, 0.009501124801143556), (2816, 0.011529807296629304), (2817, 0.0), (2818, 0.0), (2819, 0.0064775713600115515), (2820, 0.005762328432809998), (2821, 0.00320500981320842), (2822, 0.029366595524958395), (2823, 0.026354784987894814), (2824, 0.0), (2825, 0.00943451587351748), (2826, 0.0037936844630217154), (2827, 0.0), (2828, 0.0), (2829, 0.0), (2830, 0.0038648441398777753), (2831, 0.012446810743130126), (2832, 0.004089710481825767), (2833, 0.008183273598510647), (2834, 0.0036802301328697187), (2835, 0.0), (2836, 0.0), (2837, 0.0), (2838, 0.00378282882265442), (2839, 0.0), (2840, 0.009317915423232334), (2841, 0.024035849085794744), (2842, 0.0), (2843, 0.013006608850466558), (2844, 0.011553560019487909), (2845, 0.0028613034584516923), (2846, 0.003785006749303727), (2847, 0.006268929627949309), (2848, 0.004195596206626078), (2849, 0.01198761521319636), (2850, 0.0), (2851, 0.0), (2852, 0.0), (2853, 0.0031745872851036304), (2854, 0.009143855766619084), (2855, 0.0), (2856, 0.0), (2857, 0.0037487332050744272), (2858, 0.004194557335860586), (2859, 0.003429976263078614), (2860, 0.0), (2861, 0.004016575434561272), (2862, 0.0032143570688568817), (2863, 0.0036208770464047), (2864, 0.0), (2865, 0.0), (2866, 0.0), (2867, 0.02728857921107098), (2868, 0.04466799227410741), (2869, 0.04806988466733924), (2870, 0.004026373847208459), (2871, 0.01462681549177989), (2872, 0.0034190160488493616), (2873, 0.010858691011935387), (2874, 0.018598356025417713), (2875, 0.0), (2876, 0.03558846143802185), (2877, 0.0), (2878, 0.0036593000904448676), (2879, 0.010455025410419717), (2880, 0.0), (2881, 0.010783188535044457), (2882, 0.003279047943002407), (2883, 0.0041515660490263), (2884, 0.0037638217876532886), (2885, 0.019521065748902198), (2886, 0.011854657211100062), (2887, 0.040493971997823744), (2888, 0.004191607449288429), (2889, 0.004087864353098671), (2890, 0.003339494019139363), (2891, 0.0), (2892, 0.0027579825324319353), (2893, 0.06399634550908362), (2894, 0.0035186742945785047), (2895, 0.004143430987174692), (2896, 0.0), (2897, 0.008944994579632019), (2898, 0.0), (2899, 0.008743645092886596), (2900, 0.003075000353667023), (2901, 0.0038101051729312187), (2902, 0.0023549131271343128), (2903, 0.020453330064118105), (2904, 0.003404405095799322), (2905, 0.0), (2906, 0.0), (2907, 0.002741404811596384), (2908, 0.037514297197828714), (2909, 0.0033455285959002926), (2910, 0.019194747359008987), (2911, 0.0036033453613034806), (2912, 0.03771499477350258), (2913, 0.007534503615991124), (2914, 0.003541964756213574), (2915, 0.004149616010970105), (2916, 0.0033235109659070002), (2917, 0.0247164828034295), (2918, 0.014596468561256012), (2919, 0.020372313308992626), (2920, 0.03461998958141486), (2921, 0.0), (2922, 0.0), (2923, 0.004042450224401267), (2924, 0.003956290486584144), (2925, 0.014264523826346163), (2926, 0.003552635644329871), (2927, 0.0), (2928, 0.0), (2929, 0.014995358404297684), (2930, 0.0), (2931, 0.022086571437678077), (2932, 0.02210823657669181), (2933, 0.012367676491756116), (2934, 0.013535099971471497), (2935, 0.010360649723049592), (2936, 0.004228038942963144), (2937, 0.0043706859417560265), (2938, 0.0), (2939, 0.018042228118284882), (2940, 0.003576878771073515), (2941, 0.0), (2942, 0.012437306718904697), (2943, 0.003460373649572292), (2944, 0.06206431780190221), (2945, 0.0032413278703217526), (2946, 0.0031203387488166505), (2947, 0.005384885405352929), (2948, 0.011654690917313575), (2949, 0.00577733915972423), (2950, 0.033923914493747064), (2951, 0.0), (2952, 0.0), (2953, 0.0034799581300273895), (2954, 0.0030641533433786033), (2955, 0.0), (2956, 0.0), (2957, 0.0036110097354832547), (2958, 0.0), (2959, 0.006354976094077704), (2960, 0.006292318699528864), (2961, 0.019593762824701454), (2962, 0.010414785567090551), (2963, 0.016574372290401304), (2964, 0.0036710667348100762), (2965, 0.003205374062340543), (2966, 0.003694082169295638), (2967, 0.0), (2968, 0.0), (2969, 0.020135730388611994), (2970, 0.003551511835325686), (2971, 0.057192875995060614), (2972, 0.03351777121949452), (2973, 0.0), (2974, 0.003683936058850693), (2975, 0.012896951632480943), (2976, 0.0029914731448322444), (2977, 0.015307853012988325), (2978, 0.01642459104767564), (2979, 0.0), (2980, 0.014261817215931052), (2981, 0.03959054141930335), (2982, 0.0), (2983, 0.0), (2984, 0.005530604368619618), (2985, 0.011913933037489782), (2986, 0.003627252436656246), (2987, 0.0041408140195916794), (2988, 0.010270055691835861), (2989, 0.0041386858086747665), (2990, 0.0), (2991, 0.006446261220158837), (2992, 0.016086174351996024), (2993, 0.0036393031407237595), (2994, 0.009101388480931309), (2995, 0.026943823876975356), (2996, 0.02033485852243258), (2997, 0.0030643967158095935), (2998, 0.004451692463991415), (2999, 0.0037002832905836916), (3000, 0.02404076039980308), (3001, 0.0), (3002, 0.0), (3003, 0.0036177337665420544), (3004, 0.03786222080241108), (3005, 0.006172303411601285), (3006, 0.0), (3007, 0.0033330394122204586), (3008, 0.0), (3009, 0.0), (3010, 0.05879328124087937), (3011, 0.005808504943772568), (3012, 0.019717316083981244), (3013, 0.003703983420708376), (3014, 0.0031338919793630587), (3015, 0.0038325488912824184), (3016, 0.003576398967041094), (3017, 0.03109318840372585), (3018, 0.008477576956215182), (3019, 0.019950493024434378), (3020, 0.003784844449142645), (3021, 0.0), (3022, 0.006266571760306), (3023, 0.06303441547324351), (3024, 0.0027190415320829226), (3025, 0.0), (3026, 0.0041802271223374005), (3027, 0.002765243989197875), (3028, 0.03696904898403883), (3029, 0.0), (3030, 0.004023739680862522), (3031, 0.004399582153638409), (3032, 0.011019567060935962), (3033, 0.011758718114095996), (3034, 0.0), (3035, 0.00795531046586563), (3036, 0.02156696735201369), (3037, 0.0031353446969654636), (3038, 0.0), (3039, 0.011372626845709641), (3040, 0.004104018599525342), (3041, 0.0), (3042, 0.0041402320238092365), (3043, 0.020491221318856945), (3044, 0.003488460743938276), (3045, 0.04417668272203244), (3046, 0.014647332740551335), (3047, 0.0), (3048, 0.0), (3049, 0.006698435460426082), (3050, 0.0031552096078414954), (3051, 0.0042190819549016), (3052, 0.004056802565364103), (3053, 0.08912314259269849), (3054, 0.0), (3055, 0.004176806724017822), (3056, 0.0026307116169258377), (3057, 0.0028100560728935085), (3058, 0.0), (3059, 0.0), (3060, 0.0), (3061, 0.0), (3062, 0.003261478328463431), (3063, 0.0), (3064, 0.003804528360607431), (3065, 0.007993980603646988), (3066, 0.0), (3067, 0.01302740672740335), (3068, 0.02769845055572579), (3069, 0.003181369925114887), (3070, 0.013686138254213862), (3071, 0.0032340336578514047), (3072, 0.003873060042261849), (3073, 0.0), (3074, 0.003791931949886507), (3075, 0.0033298770219873674), (3076, 0.015065667523367418), (3077, 0.0), (3078, 0.0), (3079, 0.0060241835444968675), (3080, 0.0), (3081, 0.0036332216795645187), (3082, 0.0), (3083, 0.02633205963203009), (3084, 0.004162403207965305), (3085, 0.026290125709021568), (3086, 0.018940083354517766), (3087, 0.0), (3088, 0.0), (3089, 0.0), (3090, 0.0), (3091, 0.05654927442710597), (3092, 0.0), (3093, 0.0033961283111704045), (3094, 0.004504576261717158), (3095, 0.029314869246152148), (3096, 0.01377361729964495), (3097, 0.013699489573418587), (3098, 0.022073866387583622), (3099, 0.015482946375574506), (3100, 0.006209833014725289), (3101, 0.003323740131717768), (3102, 0.04453978598637935), (3103, 0.0), (3104, 0.0), (3105, 0.0), (3106, 0.0), (3107, 0.0), (3108, 0.01862614764362301), (3109, 0.0), (3110, 0.015610712718282089), (3111, 0.0241979710627936), (3112, 0.010421901073570116), (3113, 0.0038153735492447195), (3114, 0.010783483760055746), (3115, 0.0), (3116, 0.003215407364877167), (3117, 0.0063228427693628984), (3118, 0.013771110127489931), (3119, 0.015436585600640599), (3120, 0.011822435124342792), (3121, 0.0), (3122, 0.009030758996035249), (3123, 0.010355563446392217), (3124, 0.006449038980975028), (3125, 0.009125078396920828), (3126, 0.005872810628422), (3127, 0.04517679155577545), (3128, 0.0038434093099404733), (3129, 0.022620359677340107), (3130, 0.0), (3131, 0.006700093256763322), (3132, 0.0), (3133, 0.005901879506077002), (3134, 0.007223245811950676), (3135, 0.0065353989377874445), (3136, 0.005690298854207197), (3137, 0.0030269755945486914), (3138, 0.0), (3139, 0.00430542275676343), (3140, 0.0037893094717117667), (3141, 0.0), (3142, 0.011463397078993638), (3143, 0.005427017922593579), (3144, 0.02491035502027167), (3145, 0.0), (3146, 0.038216529034719275), (3147, 0.0032150723900447957), (3148, 0.004150628852508495), (3149, 0.008783942000079021), (3150, 0.003779418816166679), (3151, 0.01290221967510552), (3152, 0.011167046478407064), (3153, 0.03220186942855576), (3154, 0.02199478299026942), (3155, 0.012536852915972556), (3156, 0.03451717815200886), (3157, 0.038589408686552334), (3158, 0.007093789398040521), (3159, 0.003772777008030807), (3160, 0.005769326257166129), (3161, 0.00592170353606623), (3162, 0.0), (3163, 0.007040760008172062), (3164, 0.009396341551375179), (3165, 0.003410587500981773), (3166, 0.004063619174807625), (3167, 0.03660466862142829), (3168, 0.006103613503339989), (3169, 0.0), (3170, 0.0033006137457615567), (3171, 0.012419920719705362), (3172, 0.0), (3173, 0.0034611334656662663), (3174, 0.03770469313439918), (3175, 0.0), (3176, 0.0), (3177, 0.0), (3178, 0.004695252262469953), (3179, 0.0064804181238164865), (3180, 0.006971772215986903), (3181, 0.0), (3182, 0.0034599703914483123), (3183, 0.0032778732217178287), (3184, 0.0036193808767947117), (3185, 0.00818172021776167), (3186, 0.004291878118819337), (3187, 0.003613062003444992), (3188, 0.0), (3189, 0.0), (3190, 0.0), (3191, 0.0072501453525846025), (3192, 0.010251060674400094), (3193, 0.0), (3194, 0.0036863525671805624), (3195, 0.009815184631769776), (3196, 0.010653393227447235), (3197, 0.0), (3198, 0.0031594520765927886), (3199, 0.0023741269646339936), (3200, 0.0029782855727101785), (3201, 0.0), (3202, 0.0), (3203, 0.06065501189217875), (3204, 0.0), (3205, 0.009551267088593156), (3206, 0.0036006227775353143), (3207, 0.0), (3208, 0.0), (3209, 0.0), (3210, 0.01928025815523144), (3211, 0.002830999145373283), (3212, 0.0), (3213, 0.021161438821349444), (3214, 0.0029131553663608034), (3215, 0.014149900681288859), (3216, 0.003339192258869932), (3217, 0.0), (3218, 0.013993483445873721), (3219, 0.003938235281614395), (3220, 0.0028867237564884564), (3221, 0.0), (3222, 0.029914997840294444), (3223, 0.0), (3224, 0.004024768949090521), (3225, 0.0034523351193124175), (3226, 0.01679868678876791), (3227, 0.00834836298775148), (3228, 0.021869290319006328), (3229, 0.0), (3230, 0.004028347350920916), (3231, 0.0), (3232, 0.013681585198726687), (3233, 0.010572939990175627), (3234, 0.003224415051153806), (3235, 0.0031136018175261073), (3236, 0.0), (3237, 0.014711300123093449), (3238, 0.0029749666082463334), (3239, 0.0039935899434860155), (3240, 0.013834273839311309), (3241, 0.00313849742929875), (3242, 0.0031620475928350574), (3243, 0.003221678453463813), (3244, 0.010456824710388517), (3245, 0.009825815904181537), (3246, 0.014408275355116833), (3247, 0.006516255145184367), (3248, 0.07815958143489807), (3249, 0.0043435626054796304), (3250, 0.0), (3251, 0.0), (3252, 0.0024451916369556937), (3253, 0.022289379717988514), (3254, 0.027261161602839465), (3255, 0.03955748471494535), (3256, 0.011531671614266104), (3257, 0.00397412358805958), (3258, 0.0032298220725775254), (3259, 0.010115601784745902), (3260, 0.0352656944611496), (3261, 0.0), (3262, 0.0038076306984285435), (3263, 0.0070357453515797076), (3264, 0.013898533225552498), (3265, 0.011554284817318872), (3266, 0.0), (3267, 0.01029928149933564), (3268, 0.0033608556797836194), (3269, 0.0032314995769483768), (3270, 0.0), (3271, 0.0037698919024539475), (3272, 0.0), (3273, 0.003398700824510819), (3274, 0.0033398269128186745), (3275, 0.019319507249720945), (3276, 0.13918763868476203), (3277, 0.0), (3278, 0.0031250948730396104), (3279, 0.023377463830067575), (3280, 0.009993116947079016), (3281, 0.0), (3282, 0.003949592141103395), (3283, 0.003060355097874442), (3284, 0.025199643681675675), (3285, 0.0322390532967597), (3286, 0.0), (3287, 0.0), (3288, 0.0), (3289, 0.003391775025005317), (3290, 0.0037196037753416096), (3291, 0.004065865771479674), (3292, 0.0043575414071100015), (3293, 0.010698466815967967), (3294, 0.00980325751829885), (3295, 0.018676595660924476), (3296, 0.0033782642095495875), (3297, 0.003293038436434609), (3298, 0.003172511783061505), (3299, 0.023192589620966295), (3300, 0.003531092413446049), (3301, 0.004218399208392811), (3302, 0.0038667035781276564), (3303, 0.008816533691425791), (3304, 0.003349327351213721), (3305, 0.0), (3306, 0.011251109037564457), (3307, 0.0037551450020470206), (3308, 0.0041407662489102905), (3309, 0.0), (3310, 0.0), (3311, 0.003096405937477534), (3312, 0.015983285785113405), (3313, 0.03686059794279012), (3314, 0.0033709822507736937), (3315, 0.044580127940979083), (3316, 0.009852354206748177), (3317, 0.015210681932315478), (3318, 0.018205383228139367), (3319, 0.027627009650096998), (3320, 0.0), (3321, 0.0), (3322, 0.0038191790460132525), (3323, 0.0), (3324, 0.0), (3325, 0.01522169087709659), (3326, 0.038603599684628155), (3327, 0.0031333906460047083), (3328, 0.03762664157471532), (3329, 0.0030090287853996463), (3330, 0.04384596108713137), (3331, 0.007534933496079262), (3332, 0.0), (3333, 0.0), (3334, 0.07723862140060202), (3335, 0.0035603650119189726), (3336, 0.0028902466030746796), (3337, 0.004161065018109902), (3338, 0.005552555329419748), (3339, 0.004810481667810457), (3340, 0.0), (3341, 0.0033458227978245565), (3342, 0.008703998974089326), (3343, 0.0), (3344, 0.03605736470209232), (3345, 0.025185584984436876), (3346, 0.0035657029275952966), (3347, 0.0027589521033996294), (3348, 0.003139878731192254), (3349, 0.008627823134165836), (3350, 0.0), (3351, 0.0033309345043022664), (3352, 0.0271076798213978), (3353, 0.003046202963556075), (3354, 0.0038261524427195496), (3355, 0.004119032250700704), (3356, 0.01744727026948416), (3357, 0.003714330931402485), (3358, 0.004204507661664689), (3359, 0.003511255608704354), (3360, 0.02247246386989283), (3361, 0.0059551230718223255), (3362, 0.029406823585827253), (3363, 0.003701265979590926), (3364, 0.003409760226078819), (3365, 0.0024371150793532897), (3366, 0.0), (3367, 0.0065683786705368116), (3368, 0.0), (3369, 0.003295791633911867), (3370, 0.017541370379891112), (3371, 0.0), (3372, 0.0037645924954428176), (3373, 0.05500317980460879), (3374, 0.05513410355862257), (3375, 0.018562545276730125), (3376, 0.041587189577236214), (3377, 0.037080332445901365), (3378, 0.0), (3379, 0.003826365085059946), (3380, 0.0028412253974330055), (3381, 0.003892136161412548), (3382, 0.012137206973177245), (3383, 0.0), (3384, 0.03046109484096522), (3385, 0.07825407741896566), (3386, 0.014306467152630377), (3387, 0.019116597929633126), (3388, 0.0036294357681170473), (3389, 0.012945015085178441), (3390, 0.003249540888653429), (3391, 0.004236781394200767), (3392, 0.0021372123787516896), (3393, 0.0030136831313546664), (3394, 0.0), (3395, 0.06927551383642425), (3396, 0.003425207544999931), (3397, 0.0), (3398, 0.006509933185323502), (3399, 0.013491403684805859), (3400, 0.0), (3401, 0.0), (3402, 0.003433324374680347), (3403, 0.02687887319276734), (3404, 0.006145439737134617), (3405, 0.005409638350713536), (3406, 0.003533187157875234), (3407, 0.022901762212565305), (3408, 0.05224294503829032), (3409, 0.05079629419724446), (3410, 0.011283846207855367), (3411, 0.0), (3412, 0.0031882121642615143), (3413, 0.004283951857666896), (3414, 0.003445194231613874), (3415, 0.0), (3416, 0.032252381421073714), (3417, 0.0037585252793860824), (3418, 0.011799778361678667), (3419, 0.004521995665395821), (3420, 0.03709991454851765), (3421, 0.019057424095250203), (3422, 0.0), (3423, 0.003747569041151916), (3424, 0.0), (3425, 0.003452984243843129), (3426, 0.016089162750804492), (3427, 0.05349898681166655), (3428, 0.028278582903352337), (3429, 0.0039421317319035185), (3430, 0.044230169533178), (3431, 0.0027064951214069255), (3432, 0.006450265922935272), (3433, 0.028878042586558256), (3434, 0.0034968351282924563), (3435, 0.010090191368010985), (3436, 0.0105012463174979), (3437, 0.020673105439460937), (3438, 0.006095347099154768), (3439, 0.0), (3440, 0.007512834971053762), (3441, 0.004233303750014401), (3442, 0.0), (3443, 0.006063396849126642), (3444, 0.0), (3445, 0.00355841821430744), (3446, 0.0327925119627589), (3447, 0.0383375815709395), (3448, 0.006702709213363166), (3449, 0.003509976298088037), (3450, 0.08004270128494172), (3451, 0.007308216122480108), (3452, 0.00974994010380998), (3453, 0.0), (3454, 0.0), (3455, 0.003675508802395648), (3456, 0.011005632913134857), (3457, 0.01257504127713502), (3458, 0.009618095688185075), (3459, 0.0), (3460, 0.008720037500231845), (3461, 0.0), (3462, 0.0867491940201585), (3463, 0.08643191755854626), (3464, 0.010426125965283042), (3465, 0.04949510957523884), (3466, 0.036309054412868864), (3467, 0.0), (3468, 0.007205873183362619), (3469, 0.028057930501947673), (3470, 0.04860515434294495), (3471, 0.029560608610513878), (3472, 0.0), (3473, 0.0), (3474, 0.008289405750215454), (3475, 0.0), (3476, 0.0), (3477, 0.00297893715845855), (3478, 0.00364358534356239), (3479, 0.004093782926466326), (3480, 0.08962321380912676), (3481, 0.0), (3482, 0.0), (3483, 0.03300930703922383), (3484, 0.00561115183087285), (3485, 0.0), (3486, 0.006597204187918156), (3487, 0.008954505503079482), (3488, 0.03658524762927649), (3489, 0.0), (3490, 0.0), (3491, 0.0035597680662986177), (3492, 0.029334918756077872), (3493, 0.0040435460032667205), (3494, 0.0), (3495, 0.0054199485479716975), (3496, 0.003829546600603168), (3497, 0.00340183369996264), (3498, 0.05019601399957608), (3499, 0.010225971243074467), (3500, 0.003091541944660605), (3501, 0.009533159275907607), (3502, 0.006443315456739199), (3503, 0.0031639082393704796), (3504, 0.026484794686526272), (3505, 0.0), (3506, 0.0034385903755844863), (3507, 0.017024566297266737), (3508, 0.010593801303594145), (3509, 0.00983659021680173), (3510, 0.0), (3511, 0.04873089710544968), (3512, 0.0045534583602752235), (3513, 0.0056517145037922), (3514, 0.010100894171671976), (3515, 0.010796520734872826), (3516, 0.009828007030925762), (3517, 0.0036064402024861804), (3518, 0.023033978198338145), (3519, 0.0), (3520, 0.006929564966188505), (3521, 0.010517560175832144), (3522, 0.0), (3523, 0.004246339046351502), (3524, 0.0039760169265964035), (3525, 0.0), (3526, 0.00320926275708965), (3527, 0.003064119827001442), (3528, 0.024107624843832737), (3529, 0.0), (3530, 0.0), (3531, 0.009614850300622724), (3532, 0.0), (3533, 0.0), (3534, 0.0024580935124704213), (3535, 0.020364895528572458), (3536, 0.016402154737198395), (3537, 0.0037674280991880148), (3538, 0.0027170368978176656), (3539, 0.0), (3540, 0.004347938012503506), (3541, 0.003458084067723615), (3542, 0.0035734054408487156), (3543, 0.0), (3544, 0.0038020566156744804), (3545, 0.0), (3546, 0.002902361193881564), (3547, 0.0), (3548, 0.002804250008409848), (3549, 0.0), (3550, 0.0), (3551, 0.003372933443151283), (3552, 0.052460253462618074), (3553, 0.025817228796866393), (3554, 0.0), (3555, 0.005907038475237994), (3556, 0.04189520248596429), (3557, 0.003218389250616286), (3558, 0.013464623025295861), (3559, 0.04994418750182518), (3560, 0.0039658514124496615), (3561, 0.0041306838370213485), (3562, 0.0), (3563, 0.0031413745858862615), (3564, 0.003532115339435306), (3565, 0.003296239007687282), (3566, 0.01074388558280477), (3567, 0.0), (3568, 0.0), (3569, 0.0028200901867044986), (3570, 0.009855899847744376), (3571, 0.010054694384770208), (3572, 0.03920429918766562), (3573, 0.0440298797019274), (3574, 0.03924794582165001), (3575, 0.0028932716026263084), (3576, 0.0061959661490242155), (3577, 0.003558911223748922), (3578, 0.0), (3579, 0.010958412473057583), (3580, 0.01982933007354639), (3581, 0.0), (3582, 0.016228611973345734), (3583, 0.006097136369845457), (3584, 0.006722444901589997), (3585, 0.0), (3586, 0.010645292498515022), (3587, 0.003909254270697841), (3588, 0.0065342186428988995), (3589, 0.0), (3590, 0.0032914273813361723), (3591, 0.0), (3592, 0.0), (3593, 0.004165168813790248), (3594, 0.009796203075384497), (3595, 0.0), (3596, 0.0033202185322901206), (3597, 0.030710019069561445), (3598, 0.010859094785400066), (3599, 0.0035950818849613043), (3600, 0.0), (3601, 0.003156026469473894), (3602, 0.007314114486719915), (3603, 0.0), (3604, 0.0065596117726416945), (3605, 0.03526865184548257), (3606, 0.004212384828445492), (3607, 0.0), (3608, 0.002033330088334125), (3609, 0.0), (3610, 0.0), (3611, 0.003964755342267635), (3612, 0.013045249035995922), (3613, 0.0037602969163805116), (3614, 0.0031745308261815564), (3615, 0.0030897658757709583), (3616, 0.0035825029668815505), (3617, 0.0), (3618, 0.010159825796236697), (3619, 0.005654450920660562), (3620, 0.003938572800796082), (3621, 0.004171086500214161), (3622, 0.0), (3623, 0.010371658327174625), (3624, 0.009912398843493438), (3625, 0.0), (3626, 0.0028364132653279973), (3627, 0.003305206026110982), (3628, 0.0), (3629, 0.035437217727345836), (3630, 0.01957702205320712), (3631, 0.0), (3632, 0.0), (3633, 0.0), (3634, 0.0031197793736739005), (3635, 0.011308142360838769), (3636, 0.003424353066447319), (3637, 0.01588496935246774), (3638, 0.010215037586880431), (3639, 0.0035979858919968242), (3640, 0.021685467706107096), (3641, 0.0033982511095786753), (3642, 0.02095644684364327), (3643, 0.01510578680045923), (3644, 0.0), (3645, 0.009739941088480773), (3646, 0.003347864503995916), (3647, 0.003006775149267379), (3648, 0.011775401273941867), (3649, 0.0), (3650, 0.0), (3651, 0.003380346964283421), (3652, 0.043418813131787096), (3653, 0.00993942769571634), (3654, 0.0035473490043198956), (3655, 0.03309183509957723), (3656, 0.03590701857385695), (3657, 0.0029642594843054273), (3658, 0.008363677121537865), (3659, 0.017363442656830142), (3660, 0.019172968453002967), (3661, 0.01144655162847253), (3662, 0.0), (3663, 0.0), (3664, 0.006488632395048472), (3665, 0.027980400258164596), (3666, 0.009595032710529606), (3667, 0.014020406552250855), (3668, 0.0025618810414939175), (3669, 0.0028136736248584844), (3670, 0.018661426925812425), (3671, 0.0), (3672, 0.004335454141550179), (3673, 0.0033960924822478266), (3674, 0.015452111814629927), (3675, 0.01994805031599886), (3676, 0.0), (3677, 0.0034905419021732244), (3678, 0.0033036229517513296), (3679, 0.011315455993437288), (3680, 0.010422548885027225), (3681, 0.0), (3682, 0.0), (3683, 0.0), (3684, 0.03588969577897523), (3685, 0.0), (3686, 0.0), (3687, 0.003800679413465873), (3688, 0.03479192796209017), (3689, 0.015303174367265861), (3690, 0.0), (3691, 0.0037552743488701227), (3692, 0.03178148515907362), (3693, 0.0), (3694, 0.022028938350892348), (3695, 0.0), (3696, 0.009307454806389512), (3697, 0.0), (3698, 0.0), (3699, 0.018629216461459992), (3700, 0.0), (3701, 0.03707880935033093), (3702, 0.0), (3703, 0.0), (3704, 0.009937265195609241), (3705, 0.008897326804592409), (3706, 0.003108233297210625), (3707, 0.0033896398590814013), (3708, 0.015775824406250118), (3709, 0.0), (3710, 0.006974307357458766), (3711, 0.034505477523654154), (3712, 0.0), (3713, 0.013267762266143486), (3714, 0.0036418830376099467), (3715, 0.006961103816507171), (3716, 0.0), (3717, 0.0), (3718, 0.0), (3719, 0.0029478279366790565), (3720, 0.045301630864544626), (3721, 0.007516246345118467), (3722, 0.0), (3723, 0.006143530191185241), (3724, 0.0), (3725, 0.0037248297212876683), (3726, 0.0), (3727, 0.0109019248716247), (3728, 0.0820204911641925), (3729, 0.0037384616013041464), (3730, 0.0), (3731, 0.0434681116873857), (3732, 0.0), (3733, 0.01490823219190642), (3734, 0.009499990582489171), (3735, 0.0), (3736, 0.0), (3737, 0.003430449044529033), (3738, 0.0), (3739, 0.0032716797742469014), (3740, 0.0), (3741, 0.01709844462026223), (3742, 0.0031242529728765615), (3743, 0.0), (3744, 0.0075362417063717276), (3745, 0.004498935314191687), (3746, 0.03392969877741349), (3747, 0.01952242467245674), (3748, 0.008578138094059334), (3749, 0.003781045069222485), (3750, 0.01567440446061749), (3751, 0.037604610356928136), (3752, 0.008881760745648828), (3753, 0.05634454548929617), (3754, 0.0033682267324795633), (3755, 0.003092605497692812), (3756, 0.0164084428121199), (3757, 0.003446999355731528), (3758, 0.0), (3759, 0.0), (3760, 0.0), (3761, 0.0), (3762, 0.0038674451456893804), (3763, 0.003939649426083735), (3764, 0.0), (3765, 0.003351321964473248), (3766, 0.01980255782424191), (3767, 0.04043879748802938), (3768, 0.01720328727188304), (3769, 0.006504186653942434), (3770, 0.003329224517621296), (3771, 0.010265216065538433), (3772, 0.0037175823082524267), (3773, 0.0302605943166686), (3774, 0.006489133821069107), (3775, 0.013764607890762628), (3776, 0.005688587974812804), (3777, 0.02020977128887048), (3778, 0.025751975863666045), (3779, 0.00446926603629051), (3780, 0.009767456691384256), (3781, 0.004039696439324062), (3782, 0.0077259397580450246), (3783, 0.0), (3784, 0.0144373295535319), (3785, 0.0), (3786, 0.0), (3787, 0.006734557055629135), (3788, 0.0058051766515382665), (3789, 0.0), (3790, 0.0), (3791, 0.0), (3792, 0.0036078046267147166), (3793, 0.060063176517967824), (3794, 0.014558026821129014), (3795, 0.003292190298196115), (3796, 0.0), (3797, 0.02452058100000947), (3798, 0.0), (3799, 0.0030757710020617402), (3800, 0.0), (3801, 0.032040305289537115), (3802, 0.005901725277045619), (3803, 0.0), (3804, 0.0032997570949993707), (3805, 0.0), (3806, 0.0052053746057718255), (3807, 0.019913755205511537), (3808, 0.0), (3809, 0.003962312385431094), (3810, 0.027021448910684025), (3811, 0.003261556583377594), (3812, 0.0), (3813, 0.003180201731386984), (3814, 0.03677482791270763), (3815, 0.006037703355667738), (3816, 0.0), (3817, 0.0), (3818, 0.0), (3819, 0.019876236704881242), (3820, 0.0), (3821, 0.012103574996977121), (3822, 0.015317792998995945), (3823, 0.005951829974719125), (3824, 0.005708240345441422), (3825, 0.010377559785883268), (3826, 0.013871592361920907), (3827, 0.0029016217398337555), (3828, 0.020686031563850744), (3829, 0.013683884301876083), (3830, 0.0), (3831, 0.0), (3832, 0.0036260630710707935), (3833, 0.0063113865435659834), (3834, 0.0), (3835, 0.026141615130753772), (3836, 0.0), (3837, 0.0), (3838, 0.0), (3839, 0.0219181879863713), (3840, 0.0), (3841, 0.008866287560703361), (3842, 0.0), (3843, 0.0), (3844, 0.006662390315179298), (3845, 0.003672723834094073), (3846, 0.0), (3847, 0.0), (3848, 0.0038635990158909584), (3849, 0.015849058551222414), (3850, 0.041174709637922594), (3851, 0.0), (3852, 0.03942523402294919), (3853, 0.02635746286409372), (3854, 0.01976397825923829), (3855, 0.0030188338768965383), (3856, 0.0), (3857, 0.024127494206054086), (3858, 0.0), (3859, 0.0), (3860, 0.014353208071788824), (3861, 0.01973769570406547), (3862, 0.018698129887382255), (3863, 0.0034813967678572534), (3864, 0.011958518103235042), (3865, 0.010849590074097026), (3866, 0.004079676527472629), (3867, 0.052932274370353874), (3868, 0.030800337036143748), (3869, 0.0), (3870, 0.0), (3871, 0.03666544964833179), (3872, 0.03417129423718953), (3873, 0.0036965351061996215), (3874, 0.003798261873165069), (3875, 0.029724497336794935), (3876, 0.010445791503493788), (3877, 0.0037521030752985783), (3878, 0.004136099159498145), (3879, 0.0), (3880, 0.042667197497113604), (3881, 0.00560851925672845), (3882, 0.003724580492415241), (3883, 0.018673172684399993), (3884, 0.0034151111437996803), (3885, 0.0), (3886, 0.0057041280131318005), (3887, 0.0), (3888, 0.013491046805438237), (3889, 0.0033170849333664133), (3890, 0.003242046967247122), (3891, 0.02642403011686996), (3892, 0.0038586536901796067), (3893, 0.003762687131322966), (3894, 0.0033819147400702704), (3895, 0.024725439974096434), (3896, 0.0), (3897, 0.005803822414766912), (3898, 0.0030430297719795164), (3899, 0.004839224279810287), (3900, 0.0033743899244346944), (3901, 0.010136133376683547), (3902, 0.00404875218709744), (3903, 0.016666413914303423), (3904, 0.03555666835200145), (3905, 0.009944227069094393), (3906, 0.003247637577305879), (3907, 0.006860400828945026), (3908, 0.006121953499548738), (3909, 0.011794209846491356), (3910, 0.008251770525393219), (3911, 0.0049275804494258914), (3912, 0.0), (3913, 0.027543415404479164), (3914, 0.0), (3915, 0.0038483464166420983), (3916, 0.0326074244364567), (3917, 0.003248908792053788), (3918, 0.0), (3919, 0.0035704586157984932), (3920, 0.003354557729797241), (3921, 0.0), (3922, 0.0036655577478801092), (3923, 0.02908075937805912), (3924, 0.01369945247114129), (3925, 0.004571552175903221), (3926, 0.010949863169701906), (3927, 0.027994554113176015), (3928, 0.0029535504468665213), (3929, 0.0), (3930, 0.0), (3931, 0.0), (3932, 0.0032890613876918394), (3933, 0.0), (3934, 0.026031353575317783), (3935, 0.004074660815560566), (3936, 0.0), (3937, 0.0), (3938, 0.006757011463046979), (3939, 0.0038510940020714873), (3940, 0.009755359489264216), (3941, 0.013960542092018139), (3942, 0.006490890105003566), (3943, 0.0), (3944, 0.005761673177830626), (3945, 0.008566743421452047), (3946, 0.028682810563448458), (3947, 0.04785201009819493), (3948, 0.0), (3949, 0.011462915263720659), (3950, 0.0), (3951, 0.015320932402036053), (3952, 0.0034062136225467936), (3953, 0.0035263259256608243), (3954, 0.017589984077204534), (3955, 0.0537710038615274), (3956, 0.011081498973552498), (3957, 0.017619091352118883), (3958, 0.017577740803029106), (3959, 0.02572893678023114), (3960, 0.010746984137992018), (3961, 0.044338159462932826), (3962, 0.0035106720561985214), (3963, 0.030353658042999235), (3964, 0.0), (3965, 0.0), (3966, 0.006451103876422958), (3967, 0.0034328957204026473), (3968, 0.0), (3969, 0.0), (3970, 0.0055616711834373615), (3971, 0.0), (3972, 0.0), (3973, 0.01494688162029162), (3974, 0.06305966958946606), (3975, 0.007004226991411346), (3976, 0.01982624365706148), (3977, 0.0), (3978, 0.017496983295119978), (3979, 0.0), (3980, 0.0), (3981, 0.0), (3982, 0.0), (3983, 0.04639373831168221), (3984, 0.011921640728501055), (3985, 0.0), (3986, 0.0031553437635192267), (3987, 0.004215847102527103), (3988, 0.0), (3989, 0.0046473298313928525), (3990, 0.0040944023254806975), (3991, 0.0), (3992, 0.014368904646741187), (3993, 0.014847200158865372), (3994, 0.0), (3995, 0.005777806724748841), (3996, 0.0), (3997, 0.0062807937504217185), (3998, 0.0), (3999, 0.0039034766233650036), (4000, 0.021258433440781644), (4001, 0.011085105441302713), (4002, 0.0035674496314207723), (4003, 0.0), (4004, 0.04246337693217112), (4005, 0.049834227907658395), (4006, 0.0), (4007, 0.02598178312365776), (4008, 0.013514938649588474), (4009, 0.010252591734532301), (4010, 0.0), (4011, 0.0033809007223243454), (4012, 0.022099259437084587), (4013, 0.010026472779041737), (4014, 0.002998753131566644), (4015, 0.002685558201095876), (4016, 0.0253512825831618), (4017, 0.004365661576991689), (4018, 0.0), (4019, 0.004075173544907065), (4020, 0.0032698217091180633), (4021, 0.0), (4022, 0.0), (4023, 0.047683980164993624), (4024, 0.003160985404421743), (4025, 0.015283467947792999), (4026, 0.0), (4027, 0.0), (4028, 0.021658512224919598), (4029, 0.0), (4030, 0.0034766762468613384), (4031, 0.0), (4032, 0.015068215031897552), (4033, 0.012635022477159343), (4034, 0.0), (4035, 0.03658813179849427), (4036, 0.0034078014199400678), (4037, 0.0), (4038, 0.010327940005828876), (4039, 0.005795540645630794), (4040, 0.0), (4041, 0.0), (4042, 0.003606539940097974), (4043, 0.006828615359385011), (4044, 0.005664107538680449), (4045, 0.009865346595079882), (4046, 0.010772747221425388), (4047, 0.006714851087643684), (4048, 0.01236060691132876), (4049, 0.0035083038259055813), (4050, 0.02606295841445948), (4051, 0.0036385592419783375), (4052, 0.003890195087137611), (4053, 0.02924701722619418), (4054, 0.0034472024295065734), (4055, 0.011177851715747407), (4056, 0.003407058271643549), (4057, 0.009246113925337243), (4058, 0.0), (4059, 0.0031874149572522275), (4060, 0.012621931119592499), (4061, 0.011765603037088344), (4062, 0.07233268985371868), (4063, 0.0), (4064, 0.04176078716476498), (4065, 0.0), (4066, 0.002852788322045956), (4067, 0.0), (4068, 0.019485717888501133), (4069, 0.0035928229332426614), (4070, 0.0), (4071, 0.005974015862514302), (4072, 0.0), (4073, 0.0), (4074, 0.0030636444382382733), (4075, 0.004264150246796583), (4076, 0.006393916779047809), (4077, 0.0), (4078, 0.0), (4079, 0.0032716247421154766), (4080, 0.003033365221777419), (4081, 0.023159272445678503), (4082, 0.004150025013946088), (4083, 0.0038875735756650175), (4084, 0.0), (4085, 0.0032251292741496463), (4086, 0.0), (4087, 0.0035060392972181024), (4088, 0.01743695422771677), (4089, 0.009473808184564924), (4090, 0.006334399352221883), (4091, 0.00725000380030341), (4092, 0.009403597772797954), (4093, 0.010259833744607514), (4094, 0.009769371526673832), (4095, 0.017713401594703956), (4096, 0.04086403696035792), (4097, 0.0), (4098, 0.009539353131788969), (4099, 0.012006318397975474), (4100, 0.0), (4101, 0.0032787284428547874), (4102, 0.0039751161672651756), (4103, 0.006051205370671026), (4104, 0.061086936425427465), (4105, 0.011256523978086486), (4106, 0.017289076619869916), (4107, 0.0036549812717893496), (4108, 0.0), (4109, 0.0), (4110, 0.01072102908258767), (4111, 0.0037359435114153895), (4112, 0.0), (4113, 0.0036234635747223816), (4114, 0.0), (4115, 0.0), (4116, 0.01998216301629808), (4117, 0.003936333481585493), (4118, 0.009504531006518048), (4119, 0.006501791808948968), (4120, 0.006276226330934657), (4121, 0.018621731502295374), (4122, 0.010285445857366179), (4123, 0.07624751701088003), (4124, 0.020869646944580857), (4125, 0.0), (4126, 0.0035396612190308915), (4127, 0.0), (4128, 0.029375935369850278), (4129, 0.0037481294990679166), (4130, 0.004000994726172599), (4131, 0.0), (4132, 0.0037715301778937496), (4133, 0.01017568543045801), (4134, 0.009768112310203194), (4135, 0.0034219084306822195), (4136, 0.0035771823300563793), (4137, 0.08067973196478477), (4138, 0.0039760148302561815), (4139, 0.0033020645461769665), (4140, 0.003905993252463544), (4141, 0.042434479975357174), (4142, 0.006204610519808614), (4143, 0.003460967045631221), (4144, 0.0), (4145, 0.003838933325065996), (4146, 0.0), (4147, 0.004355849979851235), (4148, 0.014887367763754957), (4149, 0.02216881072519613), (4150, 0.0), (4151, 0.0026870429145270033), (4152, 0.04584075989276726), (4153, 0.0), (4154, 0.009366918614125835), (4155, 0.0033572951022040904), (4156, 0.023649645459002656), (4157, 0.0), (4158, 0.013996260985392476), (4159, 0.0), (4160, 0.034559373101867914), (4161, 0.003695424283137869), (4162, 0.00737307017020392), (4163, 0.00990181746670662), (4164, 0.013800217358831218), (4165, 0.0508038988377978), (4166, 0.0), (4167, 0.0), (4168, 0.0), (4169, 0.0031467459839787213), (4170, 0.0), (4171, 0.0021058460208542872), (4172, 0.003922179584298899), (4173, 0.0), (4174, 0.0032698453204388364), (4175, 0.03961474119743754), (4176, 0.028384259558522498), (4177, 0.03246772144243305), (4178, 0.021769785222680162), (4179, 0.0), (4180, 0.0), (4181, 0.0), (4182, 0.0112620285745027), (4183, 0.003309146540392056), (4184, 0.009764763400365606), (4185, 0.0), (4186, 0.0), (4187, 0.01574971467519836), (4188, 0.0), (4189, 0.03208768995063986), (4190, 0.0), (4191, 0.0), (4192, 0.013275041733839513), (4193, 0.0056603083378152655), (4194, 0.0), (4195, 0.04593615823469199), (4196, 0.011571270316113956), (4197, 0.0035564837752164505), (4198, 0.0), (4199, 0.0), (4200, 0.0027048021426636245), (4201, 0.0), (4202, 0.004150079657888657), (4203, 0.02627712232679222), (4204, 0.0), (4205, 0.01459574983849924), (4206, 0.0028488414130077512), (4207, 0.0), (4208, 0.007304979920214571), (4209, 0.04050329483816995), (4210, 0.011774283392473607), (4211, 0.005951779505287362), (4212, 0.0), (4213, 0.003098355975039608), (4214, 0.0), (4215, 0.0), (4216, 0.015688779567078263), (4217, 0.011848189894246576), (4218, 0.0), (4219, 0.00693269464515272), (4220, 0.003060420623561448), (4221, 0.003971160012952249), (4222, 0.003982037351616571), (4223, 0.0), (4224, 0.0), (4225, 0.003115152324574936), (4226, 0.011472155216939976), (4227, 0.018714445637332246), (4228, 0.0029732822434197287), (4229, 0.0), (4230, 0.0038059127312213563), (4231, 0.017786562053666966), (4232, 0.009876883898295774), (4233, 0.010164409082523177), (4234, 0.0), (4235, 0.01549128223720787), (4236, 0.0), (4237, 0.0), (4238, 0.0), (4239, 0.0), (4240, 0.006449320710740228), (4241, 0.0), (4242, 0.031123180115129503), (4243, 0.003379152995697568), (4244, 0.022319124675457356), (4245, 0.004197375171078465), (4246, 0.012055959250225977), (4247, 0.0029461051896369954), (4248, 0.006175489755027744), (4249, 0.010504430751625021), (4250, 0.0), (4251, 0.00578335724956563), (4252, 0.044011712436493766), (4253, 0.0), (4254, 0.0029311727070567926), (4255, 0.021671056548396007), (4256, 0.0), (4257, 0.014219886032247431), (4258, 0.0), (4259, 0.003599883896722698), (4260, 0.0), (4261, 0.0069439984888781175), (4262, 0.003197822516119494), (4263, 0.0032637546811388075), (4264, 0.005960664904684152), (4265, 0.016764156202457123), (4266, 0.0033301734105671108), (4267, 0.003486588058148942), (4268, 0.06905945354623849), (4269, 0.003359210831955938), (4270, 0.0), (4271, 0.0), (4272, 0.04266188989645647), (4273, 0.003514706951681943), (4274, 0.00606745528485412), (4275, 0.0065559644038414), (4276, 0.0), (4277, 0.0028832649660952034), (4278, 0.0), (4279, 0.0), (4280, 0.003910265476246712), (4281, 0.028246819860031695), (4282, 0.008472923082954728), (4283, 0.03393136638054253), (4284, 0.008515556653198027), (4285, 0.007063026037754032), (4286, 0.0031750034729556625), (4287, 0.003263701468273532), (4288, 0.01779339762935761), (4289, 0.010206677111527144), (4290, 0.005545791363028739), (4291, 0.0), (4292, 0.005762346881739667), (4293, 0.012467517748988764), (4294, 0.03678450220893398), (4295, 0.004100450293091805), (4296, 0.0029182760855416684), (4297, 0.0), (4298, 0.003892977050880459), (4299, 0.009772740112953964), (4300, 0.0), (4301, 0.0023786842892243687), (4302, 0.0), (4303, 0.011131978927447437), (4304, 0.0028002383898264992), (4305, 0.0), (4306, 0.004040685383711046), (4307, 0.006056929567821491), (4308, 0.0033267813625665757), (4309, 0.0096918104730362), (4310, 0.006271916603151502), (4311, 0.00259125672613148), (4312, 0.0067002933887816965), (4313, 0.0), (4314, 0.021535001880739982), (4315, 0.0), (4316, 0.0), (4317, 0.0), (4318, 0.00364179210921115), (4319, 0.0), (4320, 0.0034700297977451095), (4321, 0.022353631914382808), (4322, 0.0057005427597928435), (4323, 0.0), (4324, 0.0), (4325, 0.014242485491244166), (4326, 0.0030246955637483206), (4327, 0.0), (4328, 0.00611831163646812), (4329, 0.0), (4330, 0.0035753131010754276), (4331, 0.006404766085815412), (4332, 0.0), (4333, 0.0034679021205217863), (4334, 0.0034081727134055756), (4335, 0.01119246345925492), (4336, 0.003483987583766768), (4337, 0.019058522612001694), (4338, 0.0), (4339, 0.005729364208367187), (4340, 0.0033372435575810258), (4341, 0.0), (4342, 0.01030991946554463), (4343, 0.002871272335076656), (4344, 0.02076709000252793), (4345, 0.0035549882720113278), (4346, 0.0), (4347, 0.0), (4348, 0.0029841661314948757), (4349, 0.023553449657647912), (4350, 0.00316496412133216), (4351, 0.0), (4352, 0.0), (4353, 0.0), (4354, 0.03473233003692731), (4355, 0.003882564754588145), (4356, 0.0031466282281594274), (4357, 0.0037149134438863364), (4358, 0.0), (4359, 0.002927532692224172), (4360, 0.0064829800847986405), (4361, 0.0031896198450500584), (4362, 0.009090948023281685), (4363, 0.003590863369129552), (4364, 0.0), (4365, 0.005607063693634593), (4366, 0.014058186833261467), (4367, 0.0), (4368, 0.003547428834819481), (4369, 0.0036950605354335074), (4370, 0.0), (4371, 0.0036836642956543987), (4372, 0.0), (4373, 0.008399869255012874), (4374, 0.017647777227136167), (4375, 0.0821498576602977), (4376, 0.006996346811687578), (4377, 0.005756167733032348), (4378, 0.04756074985181485), (4379, 0.01936174118280516), (4380, 0.024756015462645713), (4381, 0.0030237711212068225), (4382, 0.02743165682246722), (4383, 0.006460810632890581), (4384, 0.006565164299962627), (4385, 0.0), (4386, 0.0026523428513372735), (4387, 0.018940828850551636), (4388, 0.011765681237528127), (4389, 0.08099804849616903), (4390, 0.01000737957821494), (4391, 0.0034203879582274154), (4392, 0.006784295043643731), (4393, 0.0), (4394, 0.0033810030217047483), (4395, 0.025179593807903605), (4396, 0.0038644338358232617), (4397, 0.003960361377400305), (4398, 0.06996243250197708), (4399, 0.02253037901422547), (4400, 0.0039667877396107705), (4401, 0.003837529716602412), (4402, 0.04136976564886915), (4403, 0.04402529064443088), (4404, 0.0), (4405, 0.0), (4406, 0.0), (4407, 0.003859634303768742), (4408, 0.0), (4409, 0.003425569289183962), (4410, 0.0), (4411, 0.003190928180721701), (4412, 0.01069462800164274), (4413, 0.0), (4414, 0.0), (4415, 0.0), (4416, 0.003940637387362972), (4417, 0.0), (4418, 0.004159176726753173), (4419, 0.0032496956964497416), (4420, 0.0038284710133623507), (4421, 0.0), (4422, 0.003952497361048644), (4423, 0.003851288803277745), (4424, 0.0), (4425, 0.0), (4426, 0.0054938131248450425), (4427, 0.003476854972711139), (4428, 0.0037247667962163424), (4429, 0.003130012914909959), (4430, 0.011327109412062109), (4431, 0.009223200818870562), (4432, 0.008370915110442717), (4433, 0.0), (4434, 0.0), (4435, 0.013395629896835204), (4436, 0.02709270154784826), (4437, 0.0), (4438, 0.00619551331070566), (4439, 0.0), (4440, 0.023476245459585023), (4441, 0.005879262041476995), (4442, 0.01391710053045192), (4443, 0.040802582414882216), (4444, 0.010908058188998461), (4445, 0.002458316279623774), (4446, 0.0034608445061841686), (4447, 0.0), (4448, 0.003501829195106787), (4449, 0.0), (4450, 0.037693865396097634), (4451, 0.0), (4452, 0.046361405807054064), (4453, 0.0), (4454, 0.0), (4455, 0.0), (4456, 0.06750446932892133), (4457, 0.0), (4458, 0.003542472758805895), (4459, 0.01095250354008471), (4460, 0.0), (4461, 0.003158113563700526), (4462, 0.007094471635606809), (4463, 0.0), (4464, 0.007667523664300172), (4465, 0.014987624153322061), (4466, 0.02745919655905175), (4467, 0.011728213440417964), (4468, 0.005093318079749634), (4469, 0.014162466975272785), (4470, 0.009948992713085813), (4471, 0.0036006876454709913), (4472, 0.0032391449528986396), (4473, 0.003566875358454621), (4474, 0.01849390053161935), (4475, 0.017481053783369227), (4476, 0.0029612539997012272), (4477, 0.013884011974148795), (4478, 0.0), (4479, 0.0032487668671868125), (4480, 0.0), (4481, 0.014715835743337895), (4482, 0.020085084728449838), (4483, 0.0), (4484, 0.004478398806283385), (4485, 0.0), (4486, 0.022132379732083197), (4487, 0.003278640117600069), (4488, 0.05083348718521328), (4489, 0.0035992913837326846), (4490, 0.00991425592034806), (4491, 0.0), (4492, 0.024897359478634182), (4493, 0.0), (4494, 0.01060668132006811), (4495, 0.003257572175795618), (4496, 0.0), (4497, 0.0032640374898950425), (4498, 0.0), (4499, 0.0), (4500, 0.0), (4501, 0.0032637300685921422), (4502, 0.011908813353419055), (4503, 0.06446185960486668), (4504, 0.024485663861180305), (4505, 0.0033898576622006173), (4506, 0.0), (4507, 0.004118417715951012), (4508, 0.0), (4509, 0.0), (4510, 0.016340974170182886), (4511, 0.016613062274728602), (4512, 0.015395721084647443), (4513, 0.004763599281421954), (4514, 0.006494714833436055), (4515, 0.005933814662425236), (4516, 0.0040726912340751445), (4517, 0.008537665456665074), (4518, 0.006871146614461631), (4519, 0.0), (4520, 0.0035914026170655827), (4521, 0.003797976310059011), (4522, 0.009116265776313354), (4523, 0.00886603307447745), (4524, 0.0069909533230268165), (4525, 0.0), (4526, 0.0), (4527, 0.006202795935885939), (4528, 0.00369607553481408), (4529, 0.004478692802426289), (4530, 0.0038991108226899616), (4531, 0.022236138393706195), (4532, 0.0), (4533, 0.04411322311419672), (4534, 0.027989444829802836), (4535, 0.00399465107169403), (4536, 0.00326666565909708), (4537, 0.0070219767299688545), (4538, 0.03716196031099155), (4539, 0.0), (4540, 0.0031916295984137535), (4541, 0.0), (4542, 0.0), (4543, 0.014793045716503906), (4544, 0.0038053686567598097), (4545, 0.0035305666922125123), (4546, 0.011128562679968732), (4547, 0.0), (4548, 0.032108124069800875), (4549, 0.0), (4550, 0.003644961484059006), (4551, 0.013332986579035236), (4552, 0.0066643833316849185), (4553, 0.014016932023017271), (4554, 0.029920617250545303), (4555, 0.005321105927438706), (4556, 0.0), (4557, 0.01040106252771162), (4558, 0.0), (4559, 0.0), (4560, 0.0), (4561, 0.0), (4562, 0.0), (4563, 0.003560203691654004), (4564, 0.011714368756459667), (4565, 0.0), (4566, 0.0035170203387491373), (4567, 0.0029341329248869846), (4568, 0.0), (4569, 0.0), (4570, 0.0), (4571, 0.004719562852116406), (4572, 0.0036418086113844937), (4573, 0.0029137865293263087), (4574, 0.0036978534733355883), (4575, 0.0035460374753500156), (4576, 0.020693457457135495), (4577, 0.0), (4578, 0.0), (4579, 0.010254109967640996), (4580, 0.0), (4581, 0.010685926183560138), (4582, 0.00591018632415994), (4583, 0.02072325660959384), (4584, 0.003808458604645814), (4585, 0.005935676058997704), (4586, 0.006573782407778589), (4587, 0.0056283217924678434), (4588, 0.05747852740894668), (4589, 0.0034462616663004345), (4590, 0.040153333463073156), (4591, 0.009444357724258386), (4592, 0.0), (4593, 0.00921218255420227), (4594, 0.07547600541607584), (4595, 0.005976517695710054), (4596, 0.011557787011686835), (4597, 0.0), (4598, 0.002332393108946455), (4599, 0.0), (4600, 0.0), (4601, 0.006542234033210714), (4602, 0.04441713905162625), (4603, 0.003255622215026569), (4604, 0.0031507360264638132), (4605, 0.016866416971734972), (4606, 0.0038038035900251183), (4607, 0.004132620633660475), (4608, 0.033959180443295024), (4609, 0.0), (4610, 0.011751472667020747), (4611, 0.004039731776519096), (4612, 0.010677718712316025), (4613, 0.0), (4614, 0.03079885296374013), (4615, 0.0), (4616, 0.003186286966668085), (4617, 0.015326382458042295), (4618, 0.0), (4619, 0.012429070229344037), (4620, 0.0033320775319622717), (4621, 0.006498939838596115), (4622, 0.0), (4623, 0.015557648011955368), (4624, 0.010082213920088887), (4625, 0.003446780007517282), (4626, 0.0027320047714305754), (4627, 0.019228473390582364), (4628, 0.0), (4629, 0.009334454478046761), (4630, 0.006620660777371052), (4631, 0.0), (4632, 0.003501045028222797), (4633, 0.004287445619301816), (4634, 0.003128527020917369), (4635, 0.0), (4636, 0.0028001801546220654), (4637, 0.01985221910132936), (4638, 0.002889661840832201), (4639, 0.006280042530174899), (4640, 0.02677242767532189), (4641, 0.050133859536245384), (4642, 0.00669238178112247), (4643, 0.0030472397488371414), (4644, 0.0), (4645, 0.034565680511734344), (4646, 0.006790314036600778), (4647, 0.0), (4648, 0.0), (4649, 0.013615556927264941), (4650, 0.0035903312861141783), (4651, 0.0), (4652, 0.0022720381854497563), (4653, 0.0073216673772382385), (4654, 0.0), (4655, 0.0), (4656, 0.008961520337948356), (4657, 0.003847798309358981), (4658, 0.02877452324187662), (4659, 0.0271834674246662), (4660, 0.010257258104087487), (4661, 0.009039259203007431), (4662, 0.0), (4663, 0.044140368928746745), (4664, 0.006125114741588145), (4665, 0.00554041970928975), (4666, 0.0073036103565459745), (4667, 0.0), (4668, 0.03738178457927082), (4669, 0.020614524812763543), (4670, 0.008936404842403942), (4671, 0.0), (4672, 0.0), (4673, 0.018534828710656304), (4674, 0.007154040635090892), (4675, 0.0), (4676, 0.0), (4677, 0.00992709721609532), (4678, 0.006475530701828512), (4679, 0.025576580025295795), (4680, 0.0035604409601469955), (4681, 0.0), (4682, 0.06879435256160112), (4683, 0.0), (4684, 0.03645143567900631), (4685, 0.013056106737496331), (4686, 0.003351640329407844), (4687, 0.003338885352894958), (4688, 0.0), (4689, 0.005826255778537586), (4690, 0.0), (4691, 0.007360964463825043), (4692, 0.003940476159443837), (4693, 0.002885305705901903), (4694, 0.004009437654684857), (4695, 0.006887501680948785), (4696, 0.003951757248754663), (4697, 0.004943360502757341), (4698, 0.006508752684446238), (4699, 0.009434741530684515), (4700, 0.0), (4701, 0.031089361042007217), (4702, 0.0), (4703, 0.045494593701723984), (4704, 0.004056483146928275), (4705, 0.004616566505580788), (4706, 0.003436348141355752), (4707, 0.009353960613658601), (4708, 0.005996887174425448), (4709, 0.018689164214653147), (4710, 0.011195591563731594), (4711, 0.0), (4712, 0.0029424080075096397), (4713, 0.0035081760916286287), (4714, 0.0), (4715, 0.00927358219588276), (4716, 0.0), (4717, 0.0033679454346774995), (4718, 0.003387327361378414), (4719, 0.005716357723061008), (4720, 0.0), (4721, 0.04151795086686645), (4722, 0.01360891229399493), (4723, 0.0036929858351100573), (4724, 0.055106306373285854), (4725, 0.0), (4726, 0.008990924246970289), (4727, 0.041292124416747636), (4728, 0.0), (4729, 0.002977338761351453), (4730, 0.0), (4731, 0.029450948270092474), (4732, 0.003310402203473315), (4733, 0.007571050355018383), (4734, 0.003382772080777837), (4735, 0.019653077716284835), (4736, 0.0), (4737, 0.0), (4738, 0.0), (4739, 0.042428487327818266), (4740, 0.0), (4741, 0.0), (4742, 0.0), (4743, 0.003189985936616473), (4744, 0.0025219708079118994), (4745, 0.0), (4746, 0.006407455921616856), (4747, 0.015711764515381834), (4748, 0.014222879116895905), (4749, 0.0042369704915606946), (4750, 0.0), (4751, 0.0), (4752, 0.002584181022454443), (4753, 0.003386947439555061), (4754, 0.0), (4755, 0.0), (4756, 0.003056398642571166), (4757, 0.00938010847378992), (4758, 0.0), (4759, 0.0)]\n"
          ]
        }
      ]
    },
    {
      "cell_type": "code",
      "source": [
        "len(Recommendation_Score)"
      ],
      "metadata": {
        "colab": {
          "base_uri": "https://localhost:8080/"
        },
        "id": "3wq4xui6EZW1",
        "outputId": "34f39ace-36d4-429e-c786-1601fca7dd0b"
      },
      "execution_count": 31,
      "outputs": [
        {
          "output_type": "execute_result",
          "data": {
            "text/plain": [
              "4760"
            ]
          },
          "metadata": {},
          "execution_count": 31
        }
      ]
    },
    {
      "cell_type": "markdown",
      "source": [
        "# **Get All Movies Sort Based on Recommendation Score wrt Favourite Movie**"
      ],
      "metadata": {
        "id": "5dGQZOW4EinA"
      }
    },
    {
      "cell_type": "markdown",
      "source": [
        "**Sorting the movies based on their similarity score**"
      ],
      "metadata": {
        "id": "YsxWj4nTExMf"
      }
    },
    {
      "cell_type": "code",
      "source": [
        "Sorted_Similar_Movies=sorted(Recommendation_Score,key=lambda X:X[1],reverse=True)\n",
        "print(Sorted_Similar_Movies)"
      ],
      "metadata": {
        "colab": {
          "base_uri": "https://localhost:8080/"
        },
        "id": "-J2ICJW-Ec_L",
        "outputId": "b1c862a9-d49f-498b-98ea-3d3db3686fe5"
      },
      "execution_count": 32,
      "outputs": [
        {
          "output_type": "stream",
          "name": "stdout",
          "text": [
            "[(2692, 1.0000000000000002), (62, 0.1411679395649748), (3276, 0.13918763868476203), (1647, 0.12747562522212105), (2358, 0.12308559948058188), (110, 0.11509697595804669), (1994, 0.11163579515551389), (1977, 0.10242517402534493), (1341, 0.10120010207000306), (1886, 0.09791897169650336), (254, 0.0928364962588947), (3480, 0.08962321380912676), (3053, 0.08912314259269849), (3462, 0.0867491940201585), (3463, 0.08643191755854626), (1021, 0.08595224426131358), (2538, 0.084895055862774), (282, 0.08410152445491866), (4375, 0.0821498576602977), (3728, 0.0820204911641925), (4389, 0.08099804849616903), (1134, 0.08080719640999087), (4137, 0.08067973196478477), (3450, 0.08004270128494172), (3385, 0.07825407741896566), (3248, 0.07815958143489807), (292, 0.07803994523818952), (424, 0.07768818001892283), (3334, 0.07723862140060202), (1243, 0.07629136613412422), (4123, 0.07624751701088003), (4594, 0.07547600541607584), (2318, 0.07526804200514296), (137, 0.0746197114777721), (2112, 0.07323886890285007), (1970, 0.07296928301505215), (2653, 0.0727013710133614), (4062, 0.07233268985371868), (2630, 0.07081121804531755), (1030, 0.07059788532227607), (4398, 0.06996243250197708), (1809, 0.06948089328824196), (3395, 0.06927551383642425), (877, 0.0691058231476453), (4268, 0.06905945354623849), (2374, 0.06898492826634449), (4682, 0.06879435256160112), (1102, 0.0679966927063922), (4456, 0.06750446932892133), (761, 0.06683392279172676), (2579, 0.06634455529845971), (479, 0.06615061957707873), (384, 0.06608172356118572), (2151, 0.0655499253143321), (408, 0.06465243221287964), (4503, 0.06446185960486668), (1203, 0.0642682440472688), (2133, 0.06418866562546324), (2893, 0.06399634550908362), (1878, 0.06361147900724924), (412, 0.06321255382047206), (3974, 0.06305966958946606), (3023, 0.06303441547324351), (2944, 0.06206431780190221), (2294, 0.06119603766359567), (2745, 0.06118934550508247), (4104, 0.061086936425427465), (1261, 0.06103280904966153), (3203, 0.06065501189217875), (1257, 0.06041499845996552), (3793, 0.060063176517967824), (2191, 0.05963095627142147), (438, 0.05891377207111643), (3010, 0.05879328124087937), (1292, 0.05855720007875873), (519, 0.05816973375556276), (1358, 0.0579409699929215), (1393, 0.057658932961841686), (2550, 0.057609136016709014), (4588, 0.05747852740894668), (2971, 0.057192875995060614), (1248, 0.056873068107640846), (637, 0.0565689750859058), (3091, 0.05654927442710597), (1506, 0.056401718372603285), (3753, 0.05634454548929617), (673, 0.05624869808945741), (2012, 0.056167964354784064), (1850, 0.05595095024548771), (3374, 0.05513410355862257), (4724, 0.055106306373285854), (3373, 0.05500317980460879), (904, 0.05498263668167459), (2530, 0.05486050010733436), (615, 0.054392797912802326), (2417, 0.05434707061033531), (3955, 0.0537710038615274), (161, 0.05352097299600439), (3427, 0.05349898681166655), (1652, 0.05344740475033049), (44, 0.05334089092532415), (1527, 0.053095960289607134), (3867, 0.052932274370353874), (89, 0.05287345228950495), (3552, 0.052460253462618074), (632, 0.05244986738754055), (682, 0.05243618158938393), (3408, 0.05224294503829032), (1871, 0.05208804438486536), (788, 0.05206570563277954), (210, 0.05158090395042279), (1085, 0.05156825536353997), (126, 0.051017321237235624), (2517, 0.05099236221636565), (1302, 0.050947893134015966), (4488, 0.05083348718521328), (4165, 0.0508038988377978), (3409, 0.05079629419724446), (2621, 0.050788285973843904), (1024, 0.05073419076994114), (1676, 0.05051824938937735), (1675, 0.05039190509933346), (108, 0.050240250650165415), (3498, 0.05019601399957608), (4641, 0.050133859536245384), (1389, 0.050093409063273656), (3559, 0.04994418750182518), (1982, 0.049897067405204575), (4005, 0.049834227907658395), (3465, 0.04949510957523884), (1383, 0.04933940208446005), (1241, 0.04931349591325131), (1272, 0.04882756552894163), (3511, 0.04873089710544968), (774, 0.04862269869178252), (3470, 0.04860515434294495), (421, 0.0485824847402169), (818, 0.04856336709346987), (2018, 0.04846771273868055), (1146, 0.048259535223017215), (2869, 0.04806988466733924), (1702, 0.047879042469603506), (3947, 0.04785201009819493), (1369, 0.04779323795421386), (4023, 0.047683980164993624), (4378, 0.04756074985181485), (1752, 0.04738430642960846), (1173, 0.04731210558845252), (1837, 0.04719769672634243), (2371, 0.047076558703787595), (1770, 0.04697604054010811), (2295, 0.0468321071743792), (2212, 0.04681121942188765), (1973, 0.04670093308838508), (823, 0.0465786698195271), (3983, 0.04639373831168221), (4452, 0.046361405807054064), (812, 0.04629007920006563), (911, 0.0461867132789097), (185, 0.04609342960886185), (4195, 0.04593615823469199), (4152, 0.04584075989276726), (578, 0.04565445437929581), (334, 0.04550188349714277), (4703, 0.045494593701723984), (2316, 0.04540660833896224), (1118, 0.045359753960866035), (3720, 0.045301630864544626), (1885, 0.04519606994127809), (3127, 0.04517679155577545), (1713, 0.04502483627537448), (1379, 0.04494057751366761), (1063, 0.04473099232371722), (2868, 0.04466799227410741), (3315, 0.044580127940979083), (540, 0.04457111359988685), (166, 0.04454435802269682), (3102, 0.04453978598637935), (4602, 0.04441713905162625), (3961, 0.044338159462932826), (3430, 0.044230169533178), (3045, 0.04417668272203244), (4663, 0.044140368928746745), (4533, 0.04411322311419672), (1464, 0.04409125200850645), (3573, 0.0440298797019274), (4403, 0.04402529064443088), (4252, 0.044011712436493766), (721, 0.04398051056646105), (2037, 0.043866946199593915), (3330, 0.04384596108713137), (1043, 0.04371869072918647), (1750, 0.04363130798232076), (3731, 0.0434681116873857), (3652, 0.043418813131787096), (1367, 0.043399232662233174), (2443, 0.04338988012817565), (1236, 0.04330076368466559), (1568, 0.04286161351326398), (952, 0.04281788677675982), (2100, 0.0427974526926622), (1499, 0.042794932223568845), (3880, 0.042667197497113604), (250, 0.0426636852991619), (4272, 0.04266188989645647), (4004, 0.04246337693217112), (4141, 0.042434479975357174), (4739, 0.042428487327818266), (138, 0.04239166500401858), (2082, 0.04238690483795464), (2365, 0.042357711117373346), (2481, 0.04233668800516394), (84, 0.04231696706669597), (1795, 0.04211875856626292), (3556, 0.04189520248596429), (4064, 0.04176078716476498), (1868, 0.04168073492838637), (241, 0.04159298559254903), (3376, 0.041587189577236214), (593, 0.04157032173904308), (4721, 0.04151795086686645), (4402, 0.04136976564886915), (4727, 0.041292124416747636), (3850, 0.041174709637922594), (462, 0.04097643459870486), (976, 0.040891366282549746), (4096, 0.04086403696035792), (629, 0.040848932525894895), (4443, 0.040802582414882216), (1500, 0.04079265907472667), (1482, 0.040697416962487375), (4209, 0.04050329483816995), (2887, 0.040493971997823744), (3767, 0.04043879748802938), (874, 0.04037975803313085), (176, 0.04030495401182271), (1976, 0.04021212610927554), (428, 0.0401605001199182), (4590, 0.040153333463073156), (2723, 0.039969843763272034), (1990, 0.03974161135251752), (371, 0.03972845103006022), (2413, 0.039685520438814126), (4175, 0.03961474119743754), (2981, 0.03959054141930335), (3255, 0.03955748471494535), (3852, 0.03942523402294919), (1095, 0.0393484676585677), (852, 0.03926369520563526), (3574, 0.03924794582165001), (3572, 0.03920429918766562), (1847, 0.039089952038856075), (2221, 0.03907727440942522), (1845, 0.038986232943326066), (787, 0.03886408944582782), (430, 0.03879630969878534), (3326, 0.038603599684628155), (3157, 0.038589408686552334), (2706, 0.03846250576590247), (530, 0.03836961455554677), (2761, 0.03836135411642398), (3447, 0.0383375815709395), (1648, 0.03828177126905169), (2751, 0.03826211371736711), (3146, 0.038216529034719275), (1068, 0.038212915131835945), (693, 0.038152376131363804), (2476, 0.03787609991596194), (3004, 0.03786222080241108), (2791, 0.03774166560095778), (2912, 0.03771499477350258), (3174, 0.03770469313439918), (4450, 0.037693865396097634), (3328, 0.03762664157471532), (112, 0.037625285602419185), (3751, 0.037604610356928136), (2614, 0.03759712833212615), (2343, 0.03753497485841474), (2908, 0.037514297197828714), (2102, 0.03746413149439241), (4668, 0.03738178457927082), (1405, 0.03724216933964912), (618, 0.03721597786277338), (25, 0.03717968782262829), (4538, 0.03716196031099155), (116, 0.03714630085599959), (1634, 0.03712112164114281), (3420, 0.03709991454851765), (3377, 0.037080332445901365), (3701, 0.03707880935033093), (864, 0.03700131049056301), (3028, 0.03696904898403883), (124, 0.036896080118051164), (3313, 0.03686059794279012), (4294, 0.03678450220893398), (167, 0.036779143753849275), (3814, 0.03677482791270763), (1430, 0.03676118052021041), (1033, 0.036682677583156256), (3871, 0.03666544964833179), (3167, 0.03660466862142829), (4035, 0.03658813179849427), (3488, 0.03658524762927649), (1046, 0.03652531869049333), (2782, 0.036466333109266946), (4684, 0.03645143567900631), (3466, 0.036309054412868864), (284, 0.03623720833636254), (1205, 0.03620778075025549), (1060, 0.03607608820750142), (3344, 0.03605736470209232), (1720, 0.03596924591738575), (2710, 0.035934913098466005), (109, 0.03592621769617074), (1560, 0.035911785583246994), (3656, 0.03590701857385695), (3684, 0.03588969577897523), (2020, 0.03570981900835545), (1788, 0.03569243927337565), (2762, 0.03559565993392381), (2876, 0.03558846143802185), (3904, 0.03555666835200145), (240, 0.03553826468657333), (1137, 0.03552407596885647), (657, 0.035523900172874386), (1181, 0.03548776415121865), (3629, 0.035437217727345836), (1398, 0.03538689689481654), (3605, 0.03526865184548257), (3260, 0.0352656944611496), (903, 0.035242683601478704), (522, 0.035033276297628604), (1314, 0.03502295673772807), (2807, 0.03493032109992594), (459, 0.03486814119186539), (2487, 0.03483425607021447), (3688, 0.03479192796209017), (174, 0.03477864442660977), (2011, 0.034775513299126155), (1999, 0.034769802923924994), (4354, 0.03473233003692731), (2920, 0.03461998958141486), (2408, 0.03457435259797019), (4645, 0.034565680511734344), (4160, 0.034559373101867914), (3156, 0.03451717815200886), (3711, 0.034505477523654154), (2048, 0.0343897121893219), (3872, 0.03417129423718953), (465, 0.03414699401800647), (1412, 0.034101836834987666), (2802, 0.034074801229562274), (1059, 0.03396739458848624), (4608, 0.033959180443295024), (29, 0.03393356259662869), (4283, 0.03393136638054253), (3746, 0.03392969877741349), (2950, 0.033923914493747064), (345, 0.03384325050227231), (1283, 0.03382784052671551), (1195, 0.03381377215011548), (670, 0.033778539245406546), (547, 0.03369765574470222), (2713, 0.033642916724502536), (1629, 0.03362221526732653), (2972, 0.03351777121949452), (1763, 0.033437335182707494), (88, 0.03334723534542506), (2055, 0.03309986508178593), (3655, 0.03309183509957723), (2718, 0.033035158922589125), (1492, 0.033027050246370086), (515, 0.03302041993028876), (3483, 0.03300930703922383), (2023, 0.03298284197543261), (2094, 0.032979842613620546), (832, 0.032914637963023526), (2687, 0.03291095173606283), (1585, 0.032849471330807824), (1678, 0.03284459488710964), (2467, 0.0328040107858309), (3446, 0.0327925119627589), (1749, 0.03266207343080098), (1015, 0.032660580999055576), (3916, 0.0326074244364567), (269, 0.03259922176655169), (824, 0.03258843128833731), (4177, 0.03246772144243305), (1544, 0.03246700357428065), (2582, 0.032315268906077416), (3416, 0.032252381421073714), (15, 0.03224621584310476), (3285, 0.0322390532967597), (3153, 0.03220186942855576), (691, 0.032141954566172984), (4548, 0.032108124069800875), (1186, 0.032098872821936256), (4189, 0.03208768995063986), (3801, 0.032040305289537115), (2174, 0.03196858761451702), (1510, 0.031921477383170214), (1515, 0.03182625003755506), (330, 0.03178944758280947), (3692, 0.03178148515907362), (2647, 0.031772968424946875), (1530, 0.03166882108292868), (1505, 0.031629330171230145), (590, 0.03156084891169737), (175, 0.03153930101210455), (2157, 0.031457507478350376), (917, 0.03144157615786043), (2173, 0.03136242802092672), (1997, 0.03126134189548714), (2699, 0.031194386430482023), (1351, 0.031160467342769626), (4242, 0.031123180115129503), (3017, 0.03109318840372585), (4701, 0.031089361042007217), (766, 0.03097229056315604), (942, 0.030832734108640902), (566, 0.030829050061887145), (3868, 0.030800337036143748), (4614, 0.03079885296374013), (1471, 0.030791354577503694), (261, 0.030753647434319957), (885, 0.030728576749434102), (3597, 0.030710019069561445), (1057, 0.0304659356357132), (3384, 0.03046109484096522), (3963, 0.030353658042999235), (3773, 0.0302605943166686), (870, 0.03022465429868558), (2668, 0.030185508095228984), (967, 0.03012308571190323), (1985, 0.03011576344735431), (193, 0.030103305062734873), (2394, 0.030030101561762012), (4554, 0.029920617250545303), (3222, 0.029914997840294444), (398, 0.02990221354625519), (2638, 0.029857723625024937), (2689, 0.02975478148460841), (3875, 0.029724497336794935), (2013, 0.02963075870326081), (1671, 0.02960810409737217), (1721, 0.02957166780668287), (3471, 0.029560608610513878), (463, 0.029537668525022338), (442, 0.029498487218757936), (4731, 0.029450948270092474), (2808, 0.029421142206305463), (2026, 0.029417123898521087), (3362, 0.029406823585827253), (4128, 0.029375935369850278), (2822, 0.029366595524958395), (3492, 0.029334918756077872), (3095, 0.029314869246152148), (4053, 0.02924701722619418), (1865, 0.029206824040528667), (672, 0.02918599056478118), (1996, 0.029113386826866892), (3923, 0.02908075937805912), (1129, 0.02902133198778618), (257, 0.02899170012815217), (3433, 0.028878042586558256), (553, 0.02887272209850903), (1403, 0.02884499380403745), (4658, 0.02877452324187662), (1003, 0.02876242024718007), (1443, 0.028697651898793967), (3946, 0.028682810563448458), (1757, 0.028680715635469096), (1202, 0.028664624623778112), (1397, 0.0285744376753595), (2093, 0.028520752945956962), (4176, 0.028384259558522498), (2513, 0.028359278139641297), (669, 0.02834750750968009), (2598, 0.02834717247299124), (1270, 0.0283367236126593), (1377, 0.02831897346155842), (1074, 0.028291780650303175), (3428, 0.028278582903352337), (4281, 0.028246819860031695), (2767, 0.028244246179625628), (3469, 0.028057930501947673), (2276, 0.02802531410094382), (3927, 0.027994554113176015), (4534, 0.027989444829802836), (67, 0.027985821851186962), (3665, 0.027980400258164596), (1937, 0.027968260120519013), (643, 0.027912622005985634), (2484, 0.027869172768687774), (280, 0.02786286753130132), (1657, 0.02776288232533762), (3068, 0.02769845055572579), (3319, 0.027627009650096998), (3913, 0.027543415404479164), (968, 0.027537195227988476), (4466, 0.02745919655905175), (2560, 0.027452739026614558), (4382, 0.02743165682246722), (222, 0.027389238613770156), (2154, 0.027361061899798263), (757, 0.027336629562490652), (808, 0.027303546647652208), (2867, 0.02728857921107098), (3254, 0.027261161602839465), (1132, 0.02721804043645517), (4659, 0.0271834674246662), (3352, 0.0271076798213978), (4436, 0.02709270154784826), (3810, 0.027021448910684025), (160, 0.027017080379049516), (213, 0.027015665771329727), (2995, 0.026943823876975356), (1861, 0.02694366663465435), (1927, 0.02688313258510272), (3403, 0.02687887319276734), (2501, 0.026838538524018338), (4640, 0.02677242767532189), (2736, 0.02674151783820618), (2645, 0.02672798177718043), (2198, 0.02665048793306036), (142, 0.02664759494546983), (383, 0.02664022349795626), (2027, 0.026522527920998424), (1817, 0.026492620400989826), (3504, 0.026484794686526272), (2646, 0.026473460133167363), (2070, 0.026466839204361096), (3891, 0.02642403011686996), (3853, 0.02635746286409372), (2823, 0.026354784987894814), (895, 0.026344005807841606), (3083, 0.02633205963203009), (1838, 0.026328309000755043), (3085, 0.026290125709021568), (4203, 0.02627712232679222), (3835, 0.026141615130753772), (4050, 0.02606295841445948), (342, 0.026055763329386743), (3934, 0.026031353575317783), (204, 0.026018803240090264), (1254, 0.025988368479953103), (4007, 0.02598178312365776), (46, 0.025946290830289376), (61, 0.025891603474983843), (1052, 0.0258603018808), (3553, 0.025817228796866393), (876, 0.025805662488820505), (3778, 0.025751975863666045), (3959, 0.02572893678023114), (768, 0.02566433529244912), (2119, 0.0256091216445838), (4679, 0.025576580025295795), (1098, 0.02554055441956964), (2650, 0.025522780099842768), (937, 0.02550108755077014), (2742, 0.025494706734682737), (4016, 0.0253512825831618), (1872, 0.025314685737193542), (2449, 0.025238585545205895), (916, 0.025232422002149098), (3284, 0.025199643681675675), (3345, 0.025185584984436876), (4395, 0.025179593807903605), (1386, 0.02507954807909693), (1112, 0.025046824718954832), (677, 0.02493634541362748), (3144, 0.02491035502027167), (4492, 0.024897359478634182), (145, 0.024836284655996268), (364, 0.024804166329968406), (779, 0.024794574361569635), (409, 0.02478607208394163), (4380, 0.024756015462645713), (3895, 0.024725439974096434), (2917, 0.0247164828034295), (1245, 0.024681185136749745), (3797, 0.02452058100000947), (1278, 0.024500979658338133), (4504, 0.024485663861180305), (1064, 0.02447035246138962), (2167, 0.0244498518261809), (2347, 0.02437488412918743), (2376, 0.024364190513493856), (2301, 0.024320360194648935), (934, 0.024244687588109222), (1401, 0.024232315247172263), (2712, 0.024217583091398025), (3111, 0.0241979710627936), (860, 0.02417143464712299), (2553, 0.024137220741510243), (3857, 0.024127494206054086), (155, 0.02412371257036159), (1175, 0.024109615375323613), (3528, 0.024107624843832737), (1274, 0.024074974953202138), (1759, 0.02404156566015632), (3000, 0.02404076039980308), (2841, 0.024035849085794744), (1579, 0.023974908097822087), (1682, 0.023947595786751857), (2035, 0.02393175207528509), (2440, 0.023913714284495992), (762, 0.023884999635165383), (1774, 0.02388306930836526), (2362, 0.023871183054379304), (33, 0.023860752950596063), (209, 0.023833784568431517), (947, 0.023803948062978718), (2768, 0.023767792801815454), (873, 0.023754106249384645), (296, 0.023726841161894312), (4156, 0.023649645459002656), (2161, 0.023581533669902666), (858, 0.02355556458881506), (4349, 0.023553449657647912), (1148, 0.02349498447829341), (4440, 0.023476245459585023), (1184, 0.023470767537081286), (1220, 0.023385127512859094), (3279, 0.023377463830067575), (1365, 0.02319331623841973), (3299, 0.023192589620966295), (586, 0.023181695957604997), (4081, 0.023159272445678503), (533, 0.023083278751905394), (1853, 0.023079700810458036), (3518, 0.023033978198338145), (641, 0.023013299023184126), (1523, 0.022957260610829176), (1275, 0.022940696861945074), (796, 0.02292413193398298), (1935, 0.022902201335556864), (3407, 0.022901762212565305), (1384, 0.022819019843656606), (2045, 0.022787973313426337), (2760, 0.022778366375228426), (3129, 0.022620359677340107), (1417, 0.022605514170890274), (957, 0.022589148378483217), (1895, 0.022548603681922498), (4399, 0.02253037901422547), (279, 0.02247640039690489), (3360, 0.02247246386989283), (2008, 0.02237623750492078), (2005, 0.0223685396649103), (4321, 0.022353631914382808), (4244, 0.022319124675457356), (3253, 0.022289379717988514), (287, 0.022284988661959923), (4531, 0.022236138393706195), (2618, 0.022232789564808404), (43, 0.022182660234458508), (829, 0.02217225160835825), (4149, 0.02216881072519613), (1986, 0.022168748854067208), (543, 0.02213589384685928), (4486, 0.022132379732083197), (1045, 0.022127779035721155), (1988, 0.022119199147512005), (2932, 0.02210823657669181), (853, 0.022104306903653843), (4012, 0.022099259437084587), (2931, 0.022086571437678077), (3098, 0.022073866387583622), (1216, 0.022064748708681102), (1413, 0.02206163456653578), (203, 0.022051391923821696), (3694, 0.022028938350892348), (1119, 0.021995722718578532), (3154, 0.02199478299026942), (2258, 0.0219577624636072), (3839, 0.0219181879863713), (1361, 0.021908218617657876), (68, 0.021908032229757617), (2795, 0.021898694072805577), (3228, 0.021869290319006328), (212, 0.02177068419767896), (4178, 0.021769785222680162), (776, 0.0217641137745494), (1687, 0.02171133202948498), (1609, 0.021704401515080456), (3640, 0.021685467706107096), (4255, 0.021671056548396007), (4028, 0.021658512224919598), (1194, 0.02165386852530246), (1445, 0.021631304241286595), (48, 0.021601961518978703), (701, 0.021598096478381693), (2237, 0.021590160825706056), (638, 0.021580481149799314), (3036, 0.02156696735201369), (1331, 0.021553642943565023), (2524, 0.021547190022906296), (1512, 0.021540515407053044), (4314, 0.021535001880739982), (1418, 0.02152666600023625), (1192, 0.021472554248899513), (2639, 0.021424504028875753), (2522, 0.021420225165728224), (455, 0.02136145897474405), (251, 0.021336954257521037), (502, 0.02129870767304723), (218, 0.021285352724497462), (2654, 0.021262224203664123), (4000, 0.021258433440781644), (896, 0.021247199529638293), (3213, 0.021161438821349444), (2149, 0.02114641023352313), (989, 0.021133120477802553), (2784, 0.021106955696892696), (1707, 0.021089325294835037), (1716, 0.021019686084423575), (775, 0.020982587175021005), (3642, 0.02095644684364327), (2298, 0.020944283245162745), (52, 0.02091993724596297), (2469, 0.020903615937043887), (2040, 0.020891489115590925), (613, 0.020888956348309173), (4124, 0.020869646944580857), (51, 0.020868516990382613), (1876, 0.020772294240841864), (4344, 0.02076709000252793), (1741, 0.020724244314685156), (4583, 0.02072325660959384), (4576, 0.020693457457135495), (2207, 0.020692342272691695), (3828, 0.020686031563850744), (3437, 0.020673105439460937), (1249, 0.02064271604856796), (332, 0.020622298014464177), (2366, 0.020621451202246517), (4669, 0.020614524812763543), (652, 0.02056517488715795), (1141, 0.020545957699874242), (1906, 0.020542768183859906), (3043, 0.020491221318856945), (2368, 0.020489907981844694), (2214, 0.020475722665618666), (2903, 0.020453330064118105), (675, 0.020418279485884722), (2919, 0.020372313308992626), (3535, 0.020364895528572458), (2334, 0.0203631116773957), (2996, 0.02033485852243258), (370, 0.02031460353218171), (622, 0.020289922894547653), (1232, 0.0202376814127289), (3777, 0.02020977128887048), (1796, 0.020153455835963643), (2969, 0.020135730388611994), (2632, 0.020118569242312104), (4482, 0.020085084728449838), (879, 0.020083229574658756), (450, 0.02007748626926651), (584, 0.02006986983430445), (2254, 0.02006953119112266), (21, 0.020036828419402186), (1870, 0.020024238426303815), (763, 0.02001547726449467), (842, 0.020002865304361434), (452, 0.02000165414576808), (2096, 0.01998349016803941), (4116, 0.01998216301629808), (609, 0.019959438647754114), (481, 0.01995106741698312), (3019, 0.019950493024434378), (3675, 0.01994805031599886), (356, 0.019931108535146447), (2406, 0.01992368476390899), (3807, 0.019913755205511537), (3819, 0.019876236704881242), (2805, 0.019873793602515767), (4637, 0.01985221910132936), (3580, 0.01982933007354639), (3976, 0.01982624365706148), (3766, 0.01980255782424191), (2000, 0.01980076299971827), (795, 0.0197999178160425), (1090, 0.019795369250624913), (1290, 0.01979274512229102), (3854, 0.01976397825923829), (1252, 0.019745697981300298), (1385, 0.019745299210667464), (3861, 0.01973769570406547), (1942, 0.019722891581910984), (3012, 0.019717316083981244), (70, 0.019691225357196234), (4735, 0.019653077716284835), (2145, 0.01964431977457992), (1740, 0.01963066567480208), (1005, 0.019624977108560242), (2961, 0.019593762824701454), (3630, 0.01957702205320712), (447, 0.019568173939868483), (664, 0.019561918304563983), (1621, 0.019555858365683215), (534, 0.01955474189501344), (1880, 0.01954895124645298), (3747, 0.01952242467245674), (604, 0.019521192365863846), (2885, 0.019521065748902198), (4068, 0.019485717888501133), (1957, 0.019465991375726764), (833, 0.019455042963439806), (458, 0.01942962928624314), (929, 0.019423060633025662), (1337, 0.01942078245788028), (4379, 0.01936174118280516), (635, 0.01932945344852208), (3275, 0.019319507249720945), (3210, 0.01928025815523144), (988, 0.01926110765966607), (936, 0.01925483051756214), (1000, 0.019246553510303188), (4627, 0.019228473390582364), (1983, 0.019196238293769378), (2910, 0.019194747359008987), (276, 0.01919345702700341), (3660, 0.019172968453002967), (2644, 0.01916647183394216), (2053, 0.01915472550091309), (799, 0.019151354838215336), (2216, 0.019122430166407488), (3387, 0.019116597929633126), (1266, 0.01910325493429735), (1967, 0.01908742082258958), (1224, 0.01907717995412416), (4337, 0.019058522612001694), (3421, 0.019057424095250203), (2474, 0.018997749950194064), (429, 0.018990683040562062), (2196, 0.018983879949141205), (1665, 0.018976625053814138), (313, 0.01895659844970469), (4387, 0.018940828850551636), (3086, 0.018940083354517766), (1591, 0.018920728999789135), (2695, 0.01886990089562729), (1017, 0.01884826877980004), (545, 0.018824646328380743), (1317, 0.018786491810370228), (1107, 0.01877196912502964), (1185, 0.0187716614862079), (18, 0.018745034910232175), (1325, 0.01874183154521264), (4227, 0.018714445637332246), (106, 0.01871001707136532), (2024, 0.018698658332545318), (3862, 0.018698129887382255), (4709, 0.018689164214653147), (2290, 0.018687386056705033), (1035, 0.018676772588342362), (3295, 0.018676595660924476), (3883, 0.018673172684399993), (1481, 0.018666598488782944), (3670, 0.018661426925812425), (1152, 0.01865424689626793), (1483, 0.01865207371407725), (2210, 0.018639709955312535), (2275, 0.018633497865731014), (3699, 0.018629216461459992), (3108, 0.01862614764362301), (4121, 0.018621731502295374), (2874, 0.018598356025417713), (2727, 0.018573338001000805), (2649, 0.018571890146891083), (3375, 0.018562545276730125), (1343, 0.018560512646622968), (4673, 0.018534828710656304), (1335, 0.01852717408844472), (732, 0.018519137149161705), (1396, 0.01849551199120775), (4474, 0.01849390053161935), (1667, 0.018491577125364762), (1215, 0.018486072605352084), (888, 0.01844911080216656), (207, 0.018430871057167217), (667, 0.0182970648510746), (1342, 0.01826774147205511), (417, 0.01825823224404131), (3318, 0.018205383228139367), (555, 0.018196531463336302), (753, 0.01814498607540497), (57, 0.018138388681043238), (2066, 0.01811655898704469), (2353, 0.01810626538358989), (2229, 0.018105512401393676), (523, 0.018077972556790292), (866, 0.01804456745485028), (2939, 0.018042228118284882), (1815, 0.018027732135041122), (986, 0.017946474776206905), (87, 0.017944104526018932), (676, 0.017936403459783798), (244, 0.017793571953613512), (4288, 0.01779339762935761), (4231, 0.017786562053666966), (2114, 0.017784587357014194), (1680, 0.017748226323363682), (1162, 0.01773697014238079), (510, 0.017728268725452048), (4095, 0.017713401594703956), (72, 0.017678306819315044), (1058, 0.017676535673509974), (4374, 0.017647777227136167), (3957, 0.017619091352118883), (2224, 0.017617769184960975), (878, 0.017615038383619226), (1012, 0.017614735524441854), (75, 0.017606760372870362), (3954, 0.017589984077204534), (3958, 0.017577740803029106), (273, 0.01756070475393124), (147, 0.017560124238598755), (684, 0.01755691466063026), (3370, 0.017541370379891112), (1595, 0.01753716168282074), (2607, 0.01751400175879224), (3978, 0.017496983295119978), (4475, 0.017481053783369227), (199, 0.017475351695395096), (1799, 0.01745318002298559), (1183, 0.017448116907754566), (3356, 0.01744727026948416), (4088, 0.01743695422771677), (1226, 0.017386289658688294), (3659, 0.017363442656830142), (1567, 0.01736281370801126), (1958, 0.01734553401184643), (86, 0.017330904189784647), (1919, 0.017291054903441856), (4106, 0.017289076619869916), (2421, 0.017282209069291506), (970, 0.017276872229322525), (1478, 0.017273427049773832), (2771, 0.017251085515046446), (1436, 0.01723799850453781), (1230, 0.017229662777033534), (1612, 0.017227464881286417), (2177, 0.017211199501738075), (3768, 0.01720328727188304), (1432, 0.01719513569740562), (2062, 0.017163563302497915), (1739, 0.01711829892478342), (201, 0.017118263562658307), (3741, 0.01709844462026223), (2460, 0.017081773396764508), (1455, 0.017050114416996238), (236, 0.01702949464050415), (3507, 0.017024566297266737), (653, 0.017016381738214383), (2336, 0.017014781048244932), (654, 0.017013470642372033), (847, 0.01698197045818365), (844, 0.016939889735535375), (119, 0.016883460965315115), (1802, 0.016881640740792212), (4605, 0.016866416971734972), (1104, 0.016864639542564352), (2252, 0.01686329245151192), (3226, 0.01679868678876791), (2486, 0.016797672814978154), (2565, 0.016768992460647662), (4265, 0.016764156202457123), (2480, 0.016754512493934417), (1798, 0.01669784319987582), (1681, 0.0166921928719309), (3903, 0.016666413914303423), (1832, 0.016653206359927047), (2780, 0.01664175352871731), (1360, 0.016636809913899188), (418, 0.016621264483798075), (760, 0.01661974563097024), (4511, 0.016613062274728602), (2963, 0.016574372290401304), (13, 0.01657078311138428), (2617, 0.016560019816515534), (931, 0.016532443845190124), (1420, 0.01652562042985052), (733, 0.01647892083016789), (2057, 0.016473662933540557), (2978, 0.01642459104767564), (83, 0.01641790529348009), (3756, 0.0164084428121199), (3536, 0.016402154737198395), (1303, 0.016353723577108972), (4510, 0.016340974170182886), (7, 0.016334550221448203), (1406, 0.016330384333662358), (1053, 0.01630933631762456), (1237, 0.01627154592790593), (281, 0.01626670122539695), (1723, 0.016239090895538266), (3582, 0.016228611973345734), (1989, 0.016155541258775257), (905, 0.0161543783536583), (343, 0.016118866420988136), (790, 0.016111006053837824), (3426, 0.016089162750804492), (2992, 0.016086174351996024), (2468, 0.01607799298268141), (346, 0.016069272170695773), (353, 0.01605699654199137), (271, 0.016043682318902023), (1538, 0.016042915752334113), (2697, 0.016034520067948192), (1382, 0.016033327139962073), (1087, 0.016025742202159413), (1662, 0.01600975901098433), (3312, 0.015983285785113405), (918, 0.015969194067970878), (551, 0.015953665492831535), (354, 0.01592098455940176), (631, 0.01590624765126659), (1951, 0.015887431632660674), (2143, 0.015885008894855793), (3637, 0.01588496935246774), (327, 0.015876108585260153), (1949, 0.015855315726026407), (3849, 0.015849058551222414), (1630, 0.01584896670306428), (1419, 0.01582292356209688), (2109, 0.015814555466931297), (2798, 0.0158131793286806), (2447, 0.01580895645992452), (3708, 0.015775824406250118), (4187, 0.01574971467519836), (4747, 0.015711764515381834), (1688, 0.01569893874471184), (2680, 0.015691724201957784), (4216, 0.015688779567078263), (47, 0.015685165090930507), (560, 0.015676907618115233), (3750, 0.01567440446061749), (149, 0.015661649208599096), (2788, 0.015650629239343357), (2412, 0.015637095784143653), (190, 0.015614025896362054), (1047, 0.015613440372207129), (3110, 0.015610712718282089), (2418, 0.015576781615592849), (4623, 0.015557648011955368), (1542, 0.015551026313739669), (875, 0.015516386376123245), (79, 0.01550212147680588), (4235, 0.01549128223720787), (3099, 0.015482946375574506), (3674, 0.015452111814629927), (1124, 0.015449742544925616), (3119, 0.015436585600640599), (897, 0.015434857720365014), (620, 0.015407916618511118), (2284, 0.015404168965413544), (4512, 0.015395721084647443), (2279, 0.01538042864036884), (850, 0.01537430402254545), (719, 0.015370178336086662), (2103, 0.015331282801419994), (360, 0.015329751423789426), (4617, 0.015326382458042295), (678, 0.015323763585396617), (3951, 0.015320932402036053), (3822, 0.015317792998995945), (2977, 0.015307853012988325), (3689, 0.015303174367265861), (1754, 0.015288527147724964), (144, 0.01528757988299999), (4025, 0.015283467947792999), (123, 0.015279669317174994), (2110, 0.01525961131022857), (2436, 0.015240240459272369), (1514, 0.015228448334438503), (3325, 0.01522169087709659), (104, 0.015214706278736638), (3317, 0.015210681932315478), (274, 0.015180620355610401), (1619, 0.015173187941944551), (333, 0.015165865817453182), (1781, 0.015145661039651738), (0, 0.015132661710742871), (2206, 0.01510996201515153), (266, 0.015109685062629828), (3643, 0.01510578680045923), (1948, 0.015104512222582184), (2280, 0.015089446013860796), (683, 0.01508426795293124), (782, 0.015080729471734094), (4032, 0.015068215031897552), (3076, 0.015065667523367418), (1922, 0.015049183677531996), (2383, 0.015046364590861309), (2759, 0.015033356512711855), (170, 0.015030906192141629), (243, 0.015000731099399684), (2929, 0.014995358404297684), (4465, 0.014987624153322061), (827, 0.014975417253203508), (2740, 0.014961394029977648), (2602, 0.014959372749679524), (1710, 0.014950557244258334), (1513, 0.014950509391686937), (3973, 0.01494688162029162), (206, 0.01491591027089852), (3733, 0.01490823219190642), (120, 0.014903216507315253), (4148, 0.014887367763754957), (2285, 0.01486463014384716), (374, 0.014853941282041058), (3993, 0.014847200158865372), (1572, 0.014828624465014326), (2309, 0.014812922265118244), (1023, 0.014812274163139209), (1992, 0.014801859705552513), (4543, 0.014793045716503906), (734, 0.014741388075740406), (801, 0.01473522292813188), (1264, 0.01472226373698037), (4481, 0.014715835743337895), (3237, 0.014711300123093449), (1206, 0.014661655497780002), (3046, 0.014647332740551335), (1054, 0.014634618669052938), (2871, 0.01462681549177989), (899, 0.014625838451569883), (2178, 0.014613445028727044), (2463, 0.014609323713689996), (19, 0.014606824584883169), (2918, 0.014596468561256012), (4205, 0.01459574983849924), (1494, 0.014588629023518955), (2144, 0.014575643707937163), (3794, 0.014558026821129014), (2074, 0.014549131683444332), (1920, 0.014534872225646662), (825, 0.014509190419469511), (358, 0.014499108256940096), (792, 0.014493287594715866), (2429, 0.014467953317756188), (928, 0.014467919681567258), (695, 0.014442438014672588), (3784, 0.0144373295535319), (915, 0.014427015500958554), (1807, 0.014411523632857387), (3246, 0.014408275355116833), (1259, 0.014401575875057745), (1694, 0.014398101979577305), (1061, 0.014385684477372854), (2698, 0.014382664955888077), (3992, 0.014368904646741187), (1858, 0.014363820832110335), (216, 0.014355012672051356), (3860, 0.014353208071788824), (2587, 0.014350089321035805), (500, 0.014343709155297413), (1821, 0.014322900801115021), (1114, 0.01432222045378172), (1136, 0.014319197482777053), (3386, 0.014306467152630377), (291, 0.01430452168045827), (2925, 0.014264523826346163), (2980, 0.014261817215931052), (4325, 0.014242485491244166), (307, 0.01423410031068451), (4748, 0.014222879116895905), (1789, 0.014222395762129279), (4257, 0.014219886032247431), (1348, 0.01420965599201834), (173, 0.014205197379429815), (2193, 0.014189904870774414), (4469, 0.014162466975272785), (1874, 0.014159726085637975), (99, 0.014156363843022792), (3215, 0.014149900681288859), (270, 0.01414500227438439), (2016, 0.014143715299082229), (1234, 0.014130807730991155), (4366, 0.014058186833261467), (3667, 0.014020406552250855), (4553, 0.014016932023017271), (4158, 0.013996260985392476), (3218, 0.013993483445873721), (2640, 0.013990839757033573), (288, 0.013969723307134967), (2494, 0.013965936223350524), (3941, 0.013960542092018139), (2235, 0.013958178437249887), (1018, 0.013952762758979883), (1279, 0.013950303269100659), (2489, 0.0139437599895683), (962, 0.013937650785673151), (4442, 0.01391710053045192), (304, 0.013911859359139151), (3264, 0.013898533225552498), (2789, 0.013896867142645455), (4477, 0.013884011974148795), (1923, 0.013874913939122433), (3826, 0.013871592361920907), (532, 0.013854123885807406), (3240, 0.013834273839311309), (1339, 0.013828316224221926), (921, 0.01381605924435539), (2197, 0.013809242245124219), (4164, 0.013800217358831218), (994, 0.013779433666421818), (485, 0.013779159045254993), (3096, 0.01377361729964495), (828, 0.013772455339964318), (3118, 0.013771110127489931), (3775, 0.013764607890762628), (1727, 0.013754252508067777), (2211, 0.013735203652957665), (2303, 0.013733280317081795), (148, 0.013713143312221333), (2601, 0.013707436818370623), (2546, 0.01370734446643666), (3097, 0.013699489573418587), (3924, 0.01369945247114129), (1465, 0.013688355550595), (3070, 0.013686138254213862), (3829, 0.013683884301876083), (3232, 0.013681585198726687), (1854, 0.013668873105425802), (1875, 0.013648126633046292), (1736, 0.01363371639860756), (501, 0.013630719065986875), (4649, 0.013615556927264941), (4722, 0.01360891229399493), (2097, 0.013608150957130201), (1334, 0.01357650385211932), (1701, 0.013544586442350449), (2934, 0.013535099971471497), (1300, 0.01353101504448169), (4008, 0.013514938649588474), (3399, 0.013491403684805859), (3888, 0.013491046805438237), (2625, 0.013464855907842393), (3558, 0.013464623025295861), (60, 0.013462418105109548), (1440, 0.013461902430321613), (1793, 0.013426410505873607), (894, 0.013398252316362165), (4435, 0.013395629896835204), (597, 0.01336103901925939), (1539, 0.013345630179805664), (4551, 0.013332986579035236), (692, 0.013329977071541686), (2633, 0.013293803521399616), (2076, 0.013285871809283298), (2744, 0.013284929036220442), (4192, 0.013275041733839513), (3713, 0.013267762266143486), (544, 0.013236933523588519), (668, 0.01322741144948094), (1650, 0.013175049568894115), (403, 0.013167410251946031), (2510, 0.013162779389345606), (3, 0.013160861066208182), (172, 0.01315686005795999), (1092, 0.013140202145924231), (2162, 0.013121858310893315), (496, 0.01308518781785567), (752, 0.013072325795250979), (2126, 0.013071633591099722), (2321, 0.013069035377255976), (4685, 0.013056106737496331), (1620, 0.013052732199199574), (3612, 0.013045249035995922), (3067, 0.01302740672740335), (231, 0.013023068299155297), (2691, 0.013021712144948286), (2843, 0.013006608850466558), (1338, 0.012987327965090402), (3389, 0.012945015085178441), (2244, 0.012912124892199617), (1841, 0.012909188768485767), (3151, 0.01290221967510552), (2975, 0.012896951632480943), (5, 0.012893279604867932), (2739, 0.012844740550973677), (40, 0.012814845507126521), (2752, 0.012813396163087203), (2346, 0.012800265410912011), (483, 0.012786609911715775), (2464, 0.012741452739306538), (2265, 0.012721077233506576), (413, 0.012716405882046455), (1582, 0.012703948713496423), (85, 0.012699456838052077), (806, 0.012663428023501943), (4033, 0.012635022477159343), (4060, 0.012621931119592499), (3457, 0.01257504127713502), (542, 0.012573471726785114), (435, 0.012564157114036634), (1438, 0.012549209811301873), (113, 0.012546844807382596), (3155, 0.012536852915972556), (2512, 0.012522116274144254), (1509, 0.012514992011396213), (1571, 0.0124903967435246), (1425, 0.01247504139080263), (4293, 0.012467517748988764), (2831, 0.012446810743130126), (2942, 0.012437306718904697), (22, 0.012436340527687805), (4619, 0.012429070229344037), (3171, 0.012419920719705362), (1160, 0.012401261601861993), (2339, 0.012370150518764212), (2933, 0.012367676491756116), (4048, 0.01236060691132876), (621, 0.012358671620073399), (1115, 0.012351895135029177), (748, 0.012351612419500078), (2228, 0.012333317779315308), (56, 0.012328885033881172), (1276, 0.012326007364864888), (2732, 0.012307864432707526), (1960, 0.012285385023379364), (2075, 0.01228286902476528), (111, 0.012278492416772657), (1764, 0.01226122339378038), (96, 0.012233751165061733), (2029, 0.012233023032517387), (328, 0.01222481157186009), (1583, 0.012206875891914657), (1486, 0.012203805660641023), (2603, 0.012201334952033231), (2065, 0.012197744872273054), (1950, 0.012154677557793342), (2080, 0.012148466628317159), (1908, 0.012144942208670236), (3382, 0.012137206973177245), (105, 0.012109366143049362), (3821, 0.012103574996977121), (778, 0.012092966448522402), (1718, 0.0120856540496278), (2563, 0.012072799707659076), (1307, 0.012068828294561318), (2236, 0.012065446559559077), (441, 0.012061512590418504), (4246, 0.012055959250225977), (1111, 0.012040990215029272), (4099, 0.012006318397975474), (2849, 0.01198761521319636), (1911, 0.011960002996159753), (3864, 0.011958518103235042), (1050, 0.01194203701185033), (131, 0.011925700034400943), (3984, 0.011921640728501055), (107, 0.011919866214169073), (2985, 0.011913933037489782), (4502, 0.011908813353419055), (1924, 0.011884519989653659), (2886, 0.011854657211100062), (1501, 0.011854074314958987), (2777, 0.011852342453334934), (4217, 0.011848189894246576), (285, 0.01184756226601719), (2264, 0.011836653614283156), (1078, 0.011836602556312355), (851, 0.011829109455505478), (2101, 0.011823484152957945), (3120, 0.011822435124342792), (396, 0.011821899467681082), (3418, 0.011799778361678667), (3909, 0.011794209846491356), (3648, 0.011775401273941867), (4210, 0.011774283392473607), (4388, 0.011765681237528127), (4061, 0.011765603037088344), (3033, 0.011758718114095996), (1239, 0.011754791178224734), (4610, 0.011751472667020747), (4467, 0.011728213440417964), (2726, 0.011721768760125694), (4564, 0.011714368756459667), (2056, 0.011678269641575935), (2089, 0.011669877231431963), (2948, 0.011654690917313575), (2250, 0.011638686744012425), (9, 0.011616885377901938), (1250, 0.01161465949499305), (434, 0.011613978610002882), (1429, 0.011612369593604736), (1310, 0.011588906261393438), (1374, 0.01158120784249882), (368, 0.011578205442343463), (4196, 0.011571270316113956), (1674, 0.011558460044286144), (4596, 0.011557787011686835), (1654, 0.011555266702212071), (3265, 0.011554284817318872), (2844, 0.011553560019487909), (1144, 0.011545390836464277), (3256, 0.011531671614266104), (2816, 0.011529807296629304), (1238, 0.011528393586004534), (527, 0.011520279091200828), (1849, 0.011519360019575587), (628, 0.011515639763027743), (1260, 0.011476469807919578), (4226, 0.011472155216939976), (3142, 0.011463397078993638), (3949, 0.011462915263720659), (3661, 0.01144655162847253), (139, 0.011435426879149798), (309, 0.01143493060914986), (1776, 0.011434909982798573), (521, 0.01143267740185201), (63, 0.011413899262470266), (1282, 0.011410751142700121), (407, 0.011404994142914826), (1692, 0.011401965427527971), (2635, 0.011391244585152074), (482, 0.011376224599537636), (3039, 0.011372626845709641), (263, 0.011356008114474011), (4430, 0.011327109412062109), (3679, 0.011315455993437288), (3635, 0.011308142360838769), (474, 0.011300172867113503), (436, 0.011292268744118391), (3410, 0.011283846207855367), (4182, 0.0112620285745027), (4105, 0.011256523978086486), (3306, 0.011251109037564457), (38, 0.011244275337443281), (2158, 0.01122546484694091), (2503, 0.011222464428212682), (2239, 0.011213279578842324), (2077, 0.011211829849534907), (1900, 0.011210056388424528), (1387, 0.011207409336474343), (4710, 0.011195591563731594), (1787, 0.011193177321313821), (4335, 0.01119246345925492), (4055, 0.011177851715747407), (3152, 0.011167046478407064), (835, 0.011150160808322034), (130, 0.011148117427440004), (2555, 0.011146862416346486), (4303, 0.011131978927447437), (4546, 0.011128562679968732), (939, 0.011127635167083608), (948, 0.011118191539651897), (688, 0.011095713418750416), (350, 0.011087964170511718), (4001, 0.011085105441302713), (3956, 0.011081498973552498), (180, 0.011071098855333592), (159, 0.011067044320840231), (1157, 0.01106011172957812), (385, 0.011056392410722999), (2655, 0.011030468109972234), (558, 0.01102206861980269), (443, 0.011021324991359733), (3032, 0.011019567060935962), (2205, 0.011019307017019902), (1968, 0.011015971346258785), (2714, 0.011013861002220335), (3456, 0.011005632913134857), (2335, 0.011000506688328861), (834, 0.010994713852680282), (3579, 0.010958412473057583), (4459, 0.01095250354008471), (3926, 0.010949863169701906), (1705, 0.010949399763808878), (1174, 0.010943292664297093), (1083, 0.01092743780906592), (1540, 0.01091930613778402), (2091, 0.01091148281077477), (4444, 0.010908058188998461), (3727, 0.0109019248716247), (568, 0.010893321600993806), (1897, 0.01087889422198066), (3598, 0.010859094785400066), (2873, 0.010858691011935387), (10, 0.010855416814072826), (3865, 0.010849590074097026), (1329, 0.010836420487396255), (1140, 0.01082976904784021), (1461, 0.010825175149055547), (3515, 0.010796520734872826), (2255, 0.010787918567149089), (3114, 0.010783483760055746), (2881, 0.010783188535044457), (4046, 0.010772747221425388), (3960, 0.010746984137992018), (2600, 0.010746289851674773), (3566, 0.01074388558280477), (729, 0.010743607506642345), (208, 0.01073973392837713), (1489, 0.01072923729254853), (4110, 0.01072102908258767), (1537, 0.010717539851066351), (2160, 0.010716164589680756), (1507, 0.010708430624484696), (3293, 0.010698466815967967), (4412, 0.01069462800164274), (2175, 0.01068860318447161), (4581, 0.010685926183560138), (4612, 0.010677718712316025), (636, 0.01067476910261941), (3196, 0.010653393227447235), (1818, 0.010648812281973133), (1971, 0.010648676724692541), (3586, 0.010645292498515022), (1327, 0.010635928054396834), (4494, 0.01060668132006811), (1448, 0.01059609045565293), (3508, 0.010593801303594145), (1714, 0.0105901058300274), (493, 0.010583436909251863), (1116, 0.010583028443386619), (940, 0.010580619107946094), (3233, 0.010572939990175627), (1225, 0.0105644695328568), (1526, 0.010562383968135008), (1454, 0.010542857429571282), (1400, 0.010533147491738384), (3521, 0.010517560175832144), (4249, 0.010504430751625021), (3436, 0.0105012463174979), (1643, 0.010495569065466014), (255, 0.010493757740753184), (1866, 0.010492255467681346), (2058, 0.010474539923920263), (3244, 0.010456824710388517), (2879, 0.010455025410419717), (2088, 0.010452272996274046), (3876, 0.010445791503493788), (34, 0.01043174029078962), (35, 0.010426239977903956), (3464, 0.010426125965283042), (1488, 0.01042432089082768), (3680, 0.010422548885027225), (1684, 0.010421960903338719), (3112, 0.010421901073570116), (1779, 0.010421259500804792), (1945, 0.010416365090164286), (2962, 0.010414785567090551), (4557, 0.01040106252771162), (583, 0.010400658692373438), (509, 0.01039742357621102), (3825, 0.010377559785883268), (1316, 0.010372655949655609), (3623, 0.010371658327174625), (143, 0.010361065155456104), (2935, 0.010360649723049592), (539, 0.010356573555688562), (3123, 0.010355563446392217), (503, 0.010346217386002873), (980, 0.010340318410388662), (2184, 0.010328969117485718), (2104, 0.010328496124951538), (2363, 0.010328356601082294), (4038, 0.010327940005828876), (2459, 0.010327672373462046), (4342, 0.01030991946554463), (1267, 0.010306647335888963), (2291, 0.010299824846523843), (3267, 0.01029928149933564), (816, 0.010289744587664152), (4122, 0.010285445857366179), (2988, 0.010270055691835861), (2304, 0.010269025282648841), (3771, 0.010265216065538433), (4093, 0.010259833744607514), (4660, 0.010257258104087487), (4579, 0.010254109967640996), (4009, 0.010252591734532301), (728, 0.010251388340930968), (3192, 0.010251060674400094), (1498, 0.010246644261243412), (1902, 0.010244455282077281), (3499, 0.010225971243074467), (3638, 0.010215037586880431), (1044, 0.010211288647407874), (4289, 0.010206677111527144), (2581, 0.010189954677789438), (329, 0.010183871550004718), (4133, 0.01017568543045801), (1306, 0.01016590102113259), (4233, 0.010164409082523177), (2188, 0.010161581536048235), (3618, 0.010159825796236697), (181, 0.010148341742002619), (2477, 0.010146043607670387), (1128, 0.010145715838783933), (1009, 0.010142602699088857), (3901, 0.010136133376683547), (1806, 0.010118336795732513), (3259, 0.010115601784745902), (742, 0.010112628017263614), (2778, 0.010111862145965987), (1934, 0.010102154415549725), (3514, 0.010100894171671976), (81, 0.010100363855360027), (406, 0.010098021185159914), (1536, 0.010092211057201622), (3435, 0.010090191368010985), (4624, 0.010082213920088887), (1123, 0.010072671846781525), (1918, 0.010070711645458532), (1484, 0.010065528938965482), (3571, 0.010054694384770208), (2688, 0.010036407355373103), (580, 0.010031749810348016), (4013, 0.010026472779041737), (470, 0.010025869225132962), (4390, 0.01000737957821494), (716, 0.009996039271370041), (50, 0.009994859486952067), (3280, 0.009993116947079016), (2606, 0.009987358028227335), (42, 0.00995065181679273), (4470, 0.009948992713085813), (3905, 0.009944227069094393), (1811, 0.009940252020836388), (3653, 0.00993942769571634), (3704, 0.009937265195609241), (2069, 0.009936952063668247), (1931, 0.0099365446115479), (4677, 0.00992709721609532), (1188, 0.009924729949640228), (1179, 0.009920236556715523), (4490, 0.00991425592034806), (3624, 0.009912398843493438), (4163, 0.00990181746670662), (862, 0.009898424119145542), (1715, 0.009893293197840883), (1223, 0.009892930578483132), (4232, 0.009876883898295774), (2203, 0.009869626883933122), (4045, 0.009865346595079882), (3570, 0.009855899847744376), (3316, 0.009852354206748177), (3509, 0.00983659021680173), (2156, 0.009829499514324852), (3516, 0.009828007030925762), (3245, 0.009825815904181537), (3195, 0.009815184631769776), (1738, 0.00980572613090064), (3294, 0.00980325751829885), (3594, 0.009796203075384497), (4299, 0.009772740112953964), (660, 0.00976971671855776), (4094, 0.009769371526673832), (4134, 0.009768112310203194), (3780, 0.009767456691384256), (4184, 0.009764763400365606), (3940, 0.009755359489264216), (1653, 0.009755114486784967), (3452, 0.00974994010380998), (3645, 0.009739941088480773), (1229, 0.009735306424244469), (238, 0.009734616587170643), (606, 0.009731762795071854), (845, 0.009710371308082917), (1191, 0.009700555605792778), (4309, 0.0096918104730362), (1421, 0.00968007814409241), (743, 0.009676360792951411), (689, 0.009669529703495735), (750, 0.00965786825816331), (930, 0.009647202763894346), (2427, 0.009643691581092838), (908, 0.00964156936778754), (769, 0.009624614813948086), (3458, 0.009618095688185075), (2428, 0.009615820153196375), (3531, 0.009614850300622724), (494, 0.009613717382001077), (3666, 0.009595032710529606), (2558, 0.00956401474343558), (2496, 0.00956308344057527), (1001, 0.009558819731261485), (3205, 0.009551267088593156), (1735, 0.009542144373512432), (4098, 0.009539353131788969), (1433, 0.009534089310191568), (3501, 0.009533159275907607), (4118, 0.009504531006518048), (2815, 0.009501124801143556), (3734, 0.009499990582489171), (1453, 0.00949478191908015), (2061, 0.009489240551446346), (1076, 0.009477365056649263), (1797, 0.009474515664095318), (4089, 0.009473808184564924), (863, 0.009464503588836926), (277, 0.009460384895302562), (4591, 0.009444357724258386), (31, 0.009437136355369781), (4699, 0.009434741530684515), (2825, 0.00943451587351748), (727, 0.009427841528028792), (177, 0.009415691516751486), (4092, 0.009403597772797954), (3164, 0.009396341551375179), (4757, 0.00938010847378992), (963, 0.009376311468235483), (4154, 0.009366918614125835), (4707, 0.009353960613658601), (2185, 0.009351133291387157), (4629, 0.009334454478046761), (1414, 0.009323329174623158), (2840, 0.009317915423232334), (3696, 0.009307454806389512), (868, 0.009299726218709711), (1375, 0.009295847504227777), (1177, 0.009295223207170425), (880, 0.009288142235097377), (4715, 0.00927358219588276), (1864, 0.009270023382858787), (311, 0.009266327230097945), (1472, 0.009257990046864607), (1071, 0.009249523891311378), (4057, 0.009246113925337243), (4431, 0.009223200818870562), (991, 0.009214265320593065), (4593, 0.00921218255420227), (869, 0.00920541175809768), (1041, 0.00920427714881626), (2426, 0.009202394045461889), (1138, 0.00919791333243742), (696, 0.00917897881040148), (1504, 0.009163405680526778), (200, 0.009145935634920334), (2854, 0.009143855766619084), (1330, 0.009142100438480388), (3125, 0.009125078396920828), (1964, 0.009120869605104675), (4522, 0.009116265776313354), (2994, 0.009101388480931309), (4362, 0.009090948023281685), (217, 0.009090032325819501), (900, 0.009089458604694647), (2439, 0.009077448589415204), (256, 0.009053483189408235), (2540, 0.009044061933851905), (4661, 0.009039259203007431), (2665, 0.009033305275132809), (3122, 0.009030758996035249), (1519, 0.009012572862570062), (1462, 0.009011442192200037), (1555, 0.008997476185730723), (4726, 0.008990924246970289), (1819, 0.008980139444426867), (2344, 0.008965112442166974), (4656, 0.008961520337948356), (3487, 0.008954505503079482), (367, 0.008951826914790831), (2897, 0.008944994579632019), (1760, 0.0089398513494599), (4670, 0.008936404842403942), (1627, 0.008927653277158182), (744, 0.008921722238677515), (3705, 0.008897326804592409), (3752, 0.008881760745648828), (1255, 0.008880202855747976), (1442, 0.008879191668738183), (3841, 0.008866287560703361), (4523, 0.00886603307447745), (477, 0.008854631291621971), (923, 0.008835039101254528), (1892, 0.008830451768073531), (2716, 0.00882249582855598), (3303, 0.008816533691425791), (608, 0.008802938307415114), (745, 0.008800644670761545), (1231, 0.008798576100245295), (3149, 0.008783942000079021), (2121, 0.008777938884836411), (2519, 0.00877173452348408), (2803, 0.00875616609656471), (2899, 0.008743645092886596), (694, 0.00872628011241184), (3460, 0.008720037500231845), (1371, 0.008711878421248594), (3342, 0.008703998974089326), (1065, 0.008686315111727412), (800, 0.008627900642412452), (3349, 0.008627823134165836), (1125, 0.008596812796351556), (644, 0.008595909454048738), (3748, 0.008578138094059334), (642, 0.00857061176145225), (414, 0.008567606400023395), (3945, 0.008566743421452047), (2022, 0.008559431791879032), (1816, 0.008554399046201446), (4517, 0.008537665456665074), (2444, 0.008525098349342996), (4284, 0.008515556653198027), (2064, 0.008483680273927152), (3018, 0.008477576956215182), (4282, 0.008472923082954728), (1608, 0.008468724484827227), (804, 0.008462803863049645), (2113, 0.008441042377488628), (1213, 0.008429233129436645), (4373, 0.008399869255012874), (2724, 0.008381590847512806), (4432, 0.008370915110442717), (3658, 0.008363677121537865), (3227, 0.00834836298775148), (617, 0.008343486939294611), (3474, 0.008289405750215454), (3910, 0.008251770525393219), (2424, 0.00824788012995482), (2031, 0.008202851072347112), (1356, 0.008187748381048384), (2833, 0.008183273598510647), (3185, 0.00818172021776167), (1987, 0.008171749769310156), (563, 0.00812241595870555), (1214, 0.008056247575141976), (910, 0.008043586877460242), (581, 0.008020299622234562), (981, 0.008012756147584918), (2580, 0.008005629876827533), (2348, 0.00799713256845933), (3065, 0.007993980603646988), (3035, 0.00795531046586563), (336, 0.007954168023916908), (1941, 0.007923334376965177), (2355, 0.00789267128058505), (1939, 0.007868589520834112), (1981, 0.007849883417015455), (595, 0.007808899314263419), (2567, 0.007799511908611366), (16, 0.0077627823325600405), (128, 0.007747177272267277), (3782, 0.0077259397580450246), (2576, 0.007706153242652829), (561, 0.00767100101535575), (4464, 0.007667523664300172), (996, 0.007612651366363002), (433, 0.007590894477506655), (4733, 0.007571050355018383), (571, 0.007557839522471622), (3744, 0.0075362417063717276), (3331, 0.007534933496079262), (2913, 0.007534503615991124), (3721, 0.007516246345118467), (953, 0.007515856852142625), (3440, 0.007512834971053762), (855, 0.007394420793894077), (4162, 0.00737307017020392), (4691, 0.007360964463825043), (537, 0.007349050876383415), (4653, 0.0073216673772382385), (189, 0.0073150618873251685), (3602, 0.007314114486719915), (3451, 0.007308216122480108), (1344, 0.007307563707108103), (4208, 0.007304979920214571), (303, 0.007304778709352817), (4666, 0.0073036103565459745), (1732, 0.00728652451512803), (562, 0.00728232456170256), (2626, 0.007272187049752248), (125, 0.0072574772356452065), (3191, 0.0072501453525846025), (4091, 0.00725000380030341), (239, 0.007246419604107013), (1659, 0.007238249509411204), (3134, 0.007223245811950676), (861, 0.007217450517475183), (1381, 0.007213637605758235), (3468, 0.007205873183362619), (2733, 0.007198073627480414), (2314, 0.007197086624830828), (765, 0.007187916491510392), (2181, 0.00715804501228521), (4674, 0.007154040635090892), (1320, 0.007138549584074917), (380, 0.007133564451556704), (4462, 0.007094471635606809), (3158, 0.007093789398040521), (1881, 0.007064801837254934), (4285, 0.007063026037754032), (2660, 0.007045437811127484), (3163, 0.007040760008172062), (1696, 0.00703816182358976), (425, 0.007037808853868042), (102, 0.007035863365161963), (3263, 0.0070357453515797076), (4537, 0.0070219767299688545), (3975, 0.007004226991411346), (550, 0.007000777060031307), (2231, 0.006997659497397091), (4376, 0.006996346811687578), (4524, 0.0069909533230268165), (512, 0.0069814890410714895), (666, 0.006978289218919984), (3710, 0.006974307357458766), (3180, 0.006971772215986903), (27, 0.006963521489129899), (3715, 0.006961103816507171), (1158, 0.006953306062800779), (2015, 0.006951631784185888), (1761, 0.006948698609611446), (4261, 0.0069439984888781175), (90, 0.006941532014392703), (1554, 0.00693398502863668), (809, 0.00693392704366449), (4219, 0.00693269464515272), (3520, 0.006929564966188505), (369, 0.006913794697084069), (1587, 0.006910507347072955), (2599, 0.006898926281513144), (1940, 0.006892906019539495), (4695, 0.006887501680948785), (1150, 0.006880260194594832), (4518, 0.006871146614461631), (1904, 0.006865017417187196), (6, 0.006863424443014932), (3907, 0.006860400828945026), (220, 0.006848426767293927), (1952, 0.006844403088379471), (1332, 0.006842849165994353), (4043, 0.006828615359385011), (1661, 0.006823125698961534), (420, 0.006815479128469708), (1724, 0.00680400893072323), (451, 0.00679596075148505), (4646, 0.006790314036600778), (4392, 0.006784295043643731), (2084, 0.006782190747269412), (1099, 0.006777933389380856), (3938, 0.006757011463046979), (3787, 0.006734557055629135), (3584, 0.006722444901589997), (4047, 0.006714851087643684), (3448, 0.006702709213363166), (4312, 0.0067002933887816965), (3131, 0.006700093256763322), (3049, 0.006698435460426082), (4642, 0.00669238178112247), (1962, 0.0066893804854002495), (1407, 0.006677390678717837), (514, 0.006670213264964541), (341, 0.006667451378248878), (4552, 0.0066643833316849185), (3844, 0.006662390315179298), (460, 0.006652277897414388), (2136, 0.006647427777071819), (135, 0.006627627969400434), (1167, 0.006622711864181005), (4630, 0.006620660777371052), (320, 0.006619577112837691), (2328, 0.0066177756331476925), (2283, 0.006605815229186319), (1380, 0.006604505334719115), (1262, 0.006604444915334847), (1614, 0.006598656204255199), (3486, 0.006597204187918156), (802, 0.006581805781989651), (1391, 0.006576206847608141), (1575, 0.0065741816396037), (4586, 0.006573782407778589), (3367, 0.0065683786705368116), (4384, 0.006565164299962627), (3604, 0.0065596117726416945), (4275, 0.0065559644038414), (1635, 0.006548783145791064), (1791, 0.0065455127526570945), (2278, 0.006544664934447385), (2790, 0.00654446319422454), (4601, 0.006542234033210714), (3135, 0.0065353989377874445), (1426, 0.006534825596287374), (3588, 0.0065342186428988995), (992, 0.006533372153483319), (685, 0.0065333007649020815), (2044, 0.006519679088517298), (3247, 0.006516255145184367), (3398, 0.006509933185323502), (661, 0.006509098254199004), (4698, 0.006508752684446238), (3769, 0.006504186653942434), (4119, 0.006501791808948968), (4621, 0.006498939838596115), (4514, 0.006494714833436055), (3942, 0.006490890105003566), (80, 0.006490544021351888), (3774, 0.006489133821069107), (3664, 0.006488632395048472), (4360, 0.0064829800847986405), (3179, 0.0064804181238164865), (2819, 0.0064775713600115515), (513, 0.006476523211448375), (4678, 0.006475530701828512), (4383, 0.006460810632890581), (1469, 0.006453372845921554), (3966, 0.006451103876422958), (3432, 0.006450265922935272), (4240, 0.006449320710740228), (3124, 0.006449038980975028), (2991, 0.006446261220158837), (3502, 0.006443315456739199), (1449, 0.006433849049286656), (902, 0.0064323473905423065), (95, 0.006429852069295178), (1082, 0.006429396356982857), (619, 0.006428793543405853), (389, 0.006416528552858753), (1859, 0.006410574377376188), (4746, 0.006407455921616856), (2683, 0.006405557761095212), (4331, 0.006404766085815412), (152, 0.006400586526949086), (4076, 0.006393916779047809), (1280, 0.00638853208911418), (919, 0.006377028317328972), (1998, 0.006367865141842693), (1852, 0.00636678704917427), (1164, 0.006364094916476197), (2330, 0.006356116733833274), (2959, 0.006354976094077704), (2273, 0.00634197280220036), (898, 0.0063406218474654635), (4090, 0.006334399352221883), (467, 0.006329912218894906), (1502, 0.006328417276515336), (1452, 0.006327199710449581), (3117, 0.0063228427693628984), (1930, 0.006321413668610038), (1829, 0.006318794612691541), (3833, 0.0063113865435659834), (1812, 0.006304525453254617), (2960, 0.006292318699528864), (30, 0.006292315877482683), (2246, 0.0062895569341050095), (1588, 0.006287811884529624), (3997, 0.0062807937504217185), (4639, 0.006280042530174899), (118, 0.006277593263552363), (4120, 0.006276226330934657), (793, 0.00627571054328084), (1531, 0.006274552466478196), (4310, 0.006271916603151502), (2847, 0.006268929627949309), (3022, 0.006266571760306), (2232, 0.0062598735109508225), (2245, 0.006255423040323426), (1435, 0.006254485319048888), (831, 0.006249603750084138), (260, 0.006249358310457152), (305, 0.006236567775324575), (1633, 0.006221355379362495), (3100, 0.006209833014725289), (347, 0.006206776793536683), (4142, 0.006204610519808614), (4527, 0.006202795935885939), (3576, 0.0061959661490242155), (4438, 0.00619551331070566), (316, 0.006188471895090363), (2130, 0.006186828531639242), (1975, 0.006182379456170902), (39, 0.006181814322379095), (322, 0.0061776491923625715), (4248, 0.006175489755027744), (3005, 0.006172303411601285), (1493, 0.006171830216329478), (1622, 0.006171207382226222), (1431, 0.006159632498773467), (2208, 0.0061554096947778565), (315, 0.006155054553016745), (1901, 0.006145781196853511), (3404, 0.006145439737134617), (3723, 0.006143530191185241), (1773, 0.006142947965368565), (2432, 0.006138264598089105), (1551, 0.00612520862400159), (4664, 0.006125114741588145), (3908, 0.006121953499548738), (4328, 0.00611831163646812), (321, 0.006111369031852459), (3168, 0.006103613503339989), (3583, 0.006097136369845457), (3438, 0.006095347099154768), (4274, 0.00606745528485412), (1207, 0.006065536387117679), (3443, 0.006063396849126642), (4307, 0.006056929567821491), (2700, 0.006056805251350141), (4103, 0.006051205370671026), (3815, 0.006037703355667738), (1991, 0.006033111234490896), (1347, 0.006024575195297451), (3079, 0.0060241835444968675), (811, 0.006023116229141744), (1573, 0.006012019149313301), (1873, 0.00600248202852648), (2139, 0.005999651521285382), (4708, 0.005996887174425448), (1699, 0.005984606892607364), (4595, 0.005976517695710054), (1127, 0.0059751419036992975), (4071, 0.005974015862514302), (4264, 0.005960664904684152), (3361, 0.0059551230718223255), (1846, 0.005952056112966471), (3823, 0.005951829974719125), (4211, 0.005951779505287362), (849, 0.005938953691631574), (4585, 0.005935676058997704), (4515, 0.005933814662425236), (468, 0.005933652812178181), (1914, 0.0059308903498786645), (93, 0.005928241703333189), (1211, 0.005926806354499147), (3161, 0.00592170353606623), (1566, 0.005915294740490298), (2801, 0.005910414280552775), (4582, 0.00591018632415994), (1451, 0.005908894254298809), (3555, 0.005907038475237994), (3133, 0.005901879506077002), (3802, 0.005901725277045619), (687, 0.005901062703375842), (1933, 0.005895557215542623), (891, 0.005886938976413393), (4441, 0.005879262041476995), (3126, 0.005872810628422), (633, 0.00587222650850295), (323, 0.005867079006871289), (375, 0.005864772148859759), (2787, 0.005853681935137865), (94, 0.005853417532128638), (1953, 0.0058514043138051764), (1559, 0.005846546260643844), (233, 0.005842655407548777), (893, 0.005842265476054404), (1857, 0.00584137075668936), (1395, 0.005833531385252182), (1840, 0.00582726839791229), (4689, 0.005826255778537586), (397, 0.0058232037256956545), (974, 0.0058167124825872), (3011, 0.005808504943772568), (3788, 0.0058051766515382665), (3897, 0.005803822414766912), (310, 0.005802694142677004), (4039, 0.005795540645630794), (69, 0.005786943607597079), (4251, 0.00578335724956563), (3995, 0.005777806724748841), (2949, 0.00577733915972423), (1281, 0.005777155437187837), (1562, 0.005774018157356805), (3160, 0.005769326257166129), (4292, 0.005762346881739667), (2820, 0.005762328432809998), (3944, 0.005761673177830626), (4377, 0.005756167733032348), (1993, 0.005734637104623609), (4339, 0.005729364208367187), (2573, 0.005726081221627281), (1784, 0.005719617244158362), (1428, 0.005717298226981985), (4719, 0.005716357723061008), (979, 0.005716159147787234), (3824, 0.005708240345441422), (1753, 0.005706507676018714), (1632, 0.005706167553824146), (3886, 0.0057041280131318005), (2711, 0.005702203752152555), (4322, 0.0057005427597928435), (3136, 0.005690298854207197), (3776, 0.005688587974812804), (511, 0.005677900523866234), (1631, 0.005675619405977936), (997, 0.005669798943851645), (639, 0.0056666407314080475), (4044, 0.005664107538680449), (4193, 0.0056603083378152655), (634, 0.005655175099586331), (3619, 0.005654450920660562), (3513, 0.0056517145037922), (1623, 0.005630163392792503), (4587, 0.0056283217924678434), (3484, 0.00561115183087285), (3881, 0.00560851925672845), (4365, 0.005607063693634593), (2682, 0.005604287608772057), (756, 0.0055967954615865215), (927, 0.005596453989218283), (1197, 0.00559545603078487), (78, 0.005589737114236367), (314, 0.005585713644149631), (426, 0.005583041911159961), (627, 0.005575517390016814), (1309, 0.005574493310732845), (306, 0.0055722956139163836), (3970, 0.0055616711834373615), (3338, 0.005552555329419748), (4290, 0.005545791363028739), (4665, 0.00554041970928975), (2984, 0.005530604368619618), (2568, 0.00549982950142297), (4426, 0.0054938131248450425), (1480, 0.0054922909437441015), (611, 0.005490039742699245), (1458, 0.005479310821066276), (810, 0.005478103546098259), (2506, 0.005472753633768289), (2442, 0.005468954590272034), (559, 0.005458843085324292), (191, 0.005442223365877879), (803, 0.005431771606292314), (3143, 0.005427017922593579), (3495, 0.0054199485479716975), (2678, 0.005414702645053702), (187, 0.00540985098658878), (3405, 0.005409638350713536), (2947, 0.005384885405352929), (2622, 0.005382265406223308), (289, 0.005368426468314303), (234, 0.005342150255899266), (4555, 0.005321105927438706), (625, 0.005318429566535567), (1154, 0.005309818138070165), (1120, 0.005306026352493073), (723, 0.005301166352248635), (1590, 0.005263151694878761), (932, 0.005233624254381878), (3806, 0.0052053746057718255), (690, 0.005175347800796172), (1772, 0.005165914768581513), (76, 0.0051638190145714856), (4468, 0.005093318079749634), (640, 0.005047018831525077), (1546, 0.005040779392991095), (1925, 0.005039312567507769), (1910, 0.004959469125048518), (2541, 0.004954858946261205), (469, 0.004945480040541568), (4697, 0.004943360502757341), (3911, 0.0049275804494258914), (290, 0.0048715505981453), (1576, 0.0048395700750855026), (3899, 0.004839224279810287), (295, 0.004812644790244257), (3339, 0.004810481667810457), (4513, 0.004763599281421954), (4571, 0.004719562852116406), (1121, 0.004717960366241018), (308, 0.004712788473180726), (738, 0.004706427569071585), (3178, 0.004695252262469953), (402, 0.004656195206269838), (3989, 0.0046473298313928525), (294, 0.004631204086858285), (1792, 0.00462967598392527), (2694, 0.00462425738212303), (4705, 0.004616566505580788), (475, 0.004572685377701969), (3925, 0.004571552175903221), (2078, 0.00456094617288494), (77, 0.004554415901452416), (3512, 0.0045534583602752235), (2757, 0.004545452597695197), (2326, 0.004534607655792238), (3419, 0.004521995665395821), (3094, 0.004504576261717158), (889, 0.004503370262708838), (3745, 0.004498935314191687), (4529, 0.004478692802426289), (4484, 0.004478398806283385), (2557, 0.004469479671101565), (3779, 0.00446926603629051), (2998, 0.004451692463991415), (2299, 0.004439948138769033), (1748, 0.004420583334377746), (489, 0.004405907756502009), (3031, 0.004399582153638409), (2937, 0.0043706859417560265), (999, 0.004367992270622767), (4017, 0.004365661576991689), (3292, 0.0043575414071100015), (4147, 0.004355849979851235), (1711, 0.004354333420024408), (518, 0.004353762338169629), (3540, 0.004347938012503506), (3249, 0.0043435626054796304), (3672, 0.004335454141550179), (596, 0.004329112693541075), (2306, 0.004325627196299951), (2661, 0.004320740836700484), (2223, 0.004320015402959379), (3139, 0.00430542275676343), (2403, 0.00430407114042125), (2176, 0.004302478036997713), (326, 0.004299817811517931), (2529, 0.004298822467913119), (3186, 0.004291878118819337), (735, 0.004291849076846312), (1145, 0.00429076368894567), (2199, 0.004288426754448224), (4633, 0.004287445619301816), (3413, 0.004283951857666896), (998, 0.004281490490096968), (431, 0.004280730123040143), (1708, 0.004279568342795517), (2490, 0.004278584892725456), (2379, 0.004277688823508275), (2142, 0.00426610364394987), (2722, 0.004264550137885038), (4075, 0.004264150246796583), (2189, 0.004263292402444747), (1153, 0.004259833308219457), (3523, 0.004246339046351502), (576, 0.004243053095244122), (949, 0.004242618514964218), (2349, 0.004237103912210487), (4749, 0.0042369704915606946), (3391, 0.004236781394200767), (1497, 0.004234594897910191), (3441, 0.004233303750014401), (777, 0.0042318963565156345), (2797, 0.004229733302642504), (2936, 0.004228038942963144), (1656, 0.0042241799240055646), (3051, 0.0042190819549016), (1670, 0.004218781340572601), (3301, 0.004218399208392811), (1187, 0.004216229083735269), (3987, 0.004215847102527103), (1169, 0.004214064426255321), (3606, 0.004212384828445492), (2137, 0.004208537363084113), (3358, 0.004204507661664689), (680, 0.004202299959592094), (4245, 0.004197375171078465), (2848, 0.004195596206626078), (1843, 0.00419492689796047), (2858, 0.004194557335860586), (2888, 0.004191607449288429), (2438, 0.004189150144694148), (476, 0.004188850499143238), (1210, 0.004188520843276338), (235, 0.0041875236590963785), (2286, 0.004183739532506565), (3026, 0.0041802271223374005), (2051, 0.004179060621623772), (3055, 0.004176806724017822), (11, 0.004174935359223957), (1077, 0.004174025814759353), (2537, 0.004173192188281358), (419, 0.0041731788756199425), (1862, 0.004172468129835322), (3621, 0.004171086500214161), (41, 0.004170563080074129), (1947, 0.0041704732495381055), (1909, 0.004168494679409311), (3593, 0.004165168813790248), (3084, 0.004162403207965305), (3337, 0.004161065018109902), (2764, 0.004160876243666988), (2507, 0.004160822698380748), (4418, 0.004159176726753173), (448, 0.004158590487243665), (1349, 0.004154284741244842), (2883, 0.0041515660490263), (3148, 0.004150628852508495), (4202, 0.004150079657888657), (4082, 0.004150025013946088), (2915, 0.004149616010970105), (2775, 0.004149471672503326), (2895, 0.004143430987174692), (2987, 0.0041408140195916794), (3308, 0.0041407662489102905), (3042, 0.0041402320238092365), (2989, 0.0041386858086747665), (3878, 0.004136099159498145), (4607, 0.004132620633660475), (2134, 0.004130982956972359), (3561, 0.0041306838370213485), (2251, 0.004129950848001236), (2628, 0.004122946247272984), (3355, 0.004119032250700704), (4507, 0.004118417715951012), (3040, 0.004104018599525342), (2390, 0.004101524642216269), (4295, 0.004100450293091805), (564, 0.004098978645047577), (1168, 0.004098438372341038), (2310, 0.004097390837222287), (3990, 0.0040944023254806975), (2407, 0.004093783804840862), (3479, 0.004093782926466326), (2832, 0.004089710481825767), (2889, 0.004087864353098671), (526, 0.004086905627517607), (922, 0.004081277132040684), (3866, 0.004079676527472629), (4019, 0.004075173544907065), (3935, 0.004074660815560566), (4516, 0.0040726912340751445), (2702, 0.004066778254559077), (3291, 0.004065865771479674), (3166, 0.004063619174807625), (1355, 0.0040591739512317905), (2209, 0.004058296656651744), (3052, 0.004056802565364103), (4704, 0.004056483146928275), (1474, 0.004051980050906092), (505, 0.0040518474886630145), (3902, 0.00404875218709744), (1547, 0.004046713948848944), (387, 0.004043658415340927), (3493, 0.0040435460032667205), (1658, 0.004043487225051678), (2923, 0.004042450224401267), (4306, 0.004040685383711046), (2404, 0.004039833766424415), (4611, 0.004039731776519096), (3781, 0.004039696439324062), (227, 0.004030674290934007), (2629, 0.0040304751946752555), (3230, 0.004028347350920916), (1049, 0.0040268721029479105), (8, 0.004026474348973654), (2870, 0.004026373847208459), (1182, 0.004025891286582552), (3224, 0.004024768949090521), (3030, 0.004023739680862522), (2776, 0.00402347987763991), (2861, 0.004016575434561272), (253, 0.004014841303050196), (4694, 0.004009437654684857), (2378, 0.0040078772271284835), (739, 0.004006727864756895), (4130, 0.004000994726172599), (1208, 0.003995348096050772), (4535, 0.00399465107169403), (3239, 0.0039935899434860155), (4222, 0.003982037351616571), (614, 0.003977854947714567), (3524, 0.0039760169265964035), (4138, 0.0039760148302561815), (4102, 0.0039751161672651756), (3257, 0.00397412358805958), (4221, 0.003971160012952249), (2559, 0.003966931085021423), (4400, 0.0039667877396107705), (3560, 0.0039658514124496615), (884, 0.003964873104674992), (3611, 0.003964755342267635), (3809, 0.003962312385431094), (4397, 0.003960361377400305), (2924, 0.003956290486584144), (887, 0.003956276209092812), (1822, 0.0039543213025815096), (478, 0.003954072447122296), (1574, 0.003953850976146446), (4422, 0.003952497361048644), (4696, 0.003951757248754663), (3282, 0.003949592141103395), (3429, 0.0039421317319035185), (4416, 0.003940637387362972), (4692, 0.003940476159443837), (3763, 0.003939649426083735), (3620, 0.003938572800796082), (3219, 0.003938235281614395), (4117, 0.003936333481585493), (1593, 0.003931638118818878), (2610, 0.003927049070417269), (318, 0.003923415293473454), (4172, 0.003922179584298899), (1980, 0.003921729537086632), (2609, 0.003913796045407385), (211, 0.00391101368625273), (1887, 0.003910281886907252), (4280, 0.003910265476246712), (3587, 0.003909254270697841), (4140, 0.003905993252463544), (3999, 0.0039034766233650036), (1703, 0.0039026477458787828), (1006, 0.003902050963020099), (4530, 0.0038991108226899616), (1637, 0.003898889489066873), (444, 0.003898696956432811), (2478, 0.0038986774193769864), (508, 0.0038980518329938428), (4298, 0.003892977050880459), (3381, 0.003892136161412548), (4052, 0.003890195087137611), (4083, 0.0038875735756650175), (192, 0.0038839082646226907), (4355, 0.003882564754588145), (2083, 0.003881290234333873), (2350, 0.0038810983539853306), (1890, 0.0038801702342031023), (2673, 0.0038787774438088078), (1733, 0.0038780804419705603), (1655, 0.003877395071165509), (2731, 0.003875594926129454), (3072, 0.003873060042261849), (737, 0.0038721056280870037), (1685, 0.003870333773466103), (1831, 0.0038695941470139727), (2595, 0.0038680092954804777), (3762, 0.0038674451456893804), (3302, 0.0038667035781276564), (1294, 0.00386660908649081), (2830, 0.0038648441398777753), (4396, 0.0038644338358232617), (3848, 0.0038635990158909584), (395, 0.0038618990743882805), (1882, 0.0038615564391403724), (1516, 0.003860847164504924), (4407, 0.003859634303768742), (2392, 0.0038596046398231237), (3892, 0.0038586536901796067), (2067, 0.003856290810691053), (2159, 0.003854759899774091), (4, 0.003851308882924458), (4423, 0.003851288803277745), (3939, 0.0038510940020714873), (2425, 0.0038496649129392737), (3915, 0.0038483464166420983), (2664, 0.003847970124614821), (4657, 0.003847798309358981), (3128, 0.0038434093099404733), (12, 0.003842269257802477), (1422, 0.0038398431763330704), (4145, 0.003838933325065996), (4401, 0.003837529716602412), (2643, 0.003836750812332642), (2187, 0.0038335835244989224), (1580, 0.0038329404244472165), (3015, 0.0038325488912824184), (2260, 0.003829666599209438), (3496, 0.003829546600603168), (890, 0.0038289146985203454), (4420, 0.0038284710133623507), (755, 0.0038282762685263668), (3379, 0.003826365085059946), (3354, 0.0038261524427195496), (2324, 0.003824355205023739), (2192, 0.0038231353399980684), (1298, 0.0038225311504988067), (1896, 0.003820480729767561), (2302, 0.0038194370390988207), (3322, 0.0038191790460132525), (2448, 0.003815941686446345), (3113, 0.0038153735492447195), (1907, 0.0038142035463049058), (987, 0.0038106386546548337), (2901, 0.0038101051729312187), (377, 0.003808611219238545), (4584, 0.003808458604645814), (2257, 0.0038081414565211253), (1324, 0.003808084915772801), (3262, 0.0038076306984285435), (2049, 0.0038075885419985443), (2356, 0.0038074858148767457), (4230, 0.0038059127312213563), (4544, 0.0038053686567598097), (3064, 0.003804528360607431), (2623, 0.003803990717046385), (4606, 0.0038038035900251183), (3544, 0.0038020566156744804), (3687, 0.003800679413465873), (3874, 0.003798261873165069), (4521, 0.003797976310059011), (697, 0.0037972553892055955), (20, 0.0037947491921736737), (794, 0.003794671701993261), (2826, 0.0037936844630217154), (3074, 0.003791931949886507), (1364, 0.0037904240439310343), (3140, 0.0037893094717117667), (985, 0.0037892147291592026), (1570, 0.0037886264023228454), (2393, 0.0037883672982982667), (2846, 0.003785006749303727), (3020, 0.003784844449142645), (2838, 0.00378282882265442), (2411, 0.0037813649249351855), (3749, 0.003781045069222485), (3150, 0.003779418816166679), (813, 0.003777449433482865), (23, 0.003777178369759907), (2769, 0.0037768120128255957), (2419, 0.0037759207601170946), (2796, 0.0037748338315524536), (1439, 0.0037746797267711445), (3159, 0.003772777008030807), (4132, 0.0037715301778937496), (3271, 0.0037698919024539475), (2108, 0.0037692355566254815), (872, 0.003768597153355676), (3537, 0.0037674280991880148), (2087, 0.003764867330992418), (3372, 0.0037645924954428176), (2884, 0.0037638217876532886), (3893, 0.003762687131322966), (2361, 0.003761144940287344), (3613, 0.0037602969163805116), (3417, 0.0037585252793860824), (717, 0.0037574128167752476), (3691, 0.0037552743488701227), (3307, 0.0037551450020470206), (3877, 0.0037521030752985783), (2857, 0.0037487332050744272), (4129, 0.0037481294990679166), (3423, 0.003747569041151916), (2388, 0.003744542818484758), (1176, 0.0037439223763474643), (588, 0.003743310868183765), (2423, 0.0037409183904886633), (2105, 0.0037391931096187555), (3729, 0.0037384616013041464), (4111, 0.0037359435114153895), (2505, 0.003732907811315249), (1905, 0.0037316465508109766), (1109, 0.0037295637313816956), (3725, 0.0037248297212876683), (4428, 0.0037247667962163424), (3882, 0.003724580492415241), (715, 0.0037231865900972175), (71, 0.0037226294001610296), (499, 0.0037224474635059743), (3290, 0.0037196037753416096), (587, 0.0037176870139671685), (3772, 0.0037175823082524267), (1995, 0.0037163872609916686), (4357, 0.0037149134438863364), (925, 0.0037144818215847004), (3357, 0.003714330931402485), (1402, 0.0037116139546288676), (2466, 0.0037115457194058974), (2592, 0.003708228616120458), (857, 0.0037078648342269635), (3013, 0.003703983420708376), (2148, 0.0037026813368803133), (3363, 0.003701265979590926), (2999, 0.0037002832905836916), (4574, 0.0036978534733355883), (2809, 0.003697740153184316), (3873, 0.0036965351061996215), (4528, 0.00369607553481408), (4161, 0.003695424283137869), (4369, 0.0036950605354335074), (2966, 0.003694082169295638), (4723, 0.0036929858351100573), (3194, 0.0036863525671805624), (2974, 0.003683936058850693), (4371, 0.0036836642956543987), (115, 0.0036833896219336834), (1594, 0.003682931368029977), (2834, 0.0036802301328697187), (2313, 0.0036800960945841416), (966, 0.0036781686269660827), (488, 0.003677527771508865), (871, 0.00367732621371154), (3455, 0.003675508802395648), (2544, 0.0036754557377053176), (3845, 0.003672723834094073), (2964, 0.0036710667348100762), (865, 0.0036699985006712773), (1893, 0.003667266399753869), (1765, 0.0036662797636194486), (178, 0.003665892463214493), (1712, 0.0036655622506151122), (3922, 0.0036655577478801092), (2116, 0.0036619910299557925), (2437, 0.0036618239923470485), (826, 0.003661616588940848), (1034, 0.003661552918896864), (182, 0.0036609541748323037), (2878, 0.0036593000904448676), (2720, 0.0036583471443334447), (1475, 0.0036564288793917423), (4107, 0.0036549812717893496), (1936, 0.0036528838580754982), (2738, 0.003652230871480455), (2266, 0.003651716079909272), (1072, 0.0036511619136385862), (1409, 0.003648685455707967), (1319, 0.003647740184574209), (1479, 0.0036457052497688883), (4550, 0.003644961484059006), (3478, 0.00364358534356239), (1959, 0.003642405118346771), (3714, 0.0036418830376099467), (4572, 0.0036418086113844937), (4318, 0.00364179210921115), (1851, 0.0036400963368503486), (2993, 0.0036393031407237595), (4051, 0.0036385592419783375), (66, 0.0036376545328572806), (3081, 0.0036332216795645187), (3388, 0.0036294357681170473), (1075, 0.0036292103552642272), (2986, 0.003627252436656246), (348, 0.003626475724842107), (3832, 0.0036260630710707935), (1048, 0.003625526476222002), (4113, 0.0036234635747223816), (1660, 0.003622143846737853), (2863, 0.0036208770464047), (1742, 0.0036193809311901625), (3184, 0.0036193808767947117), (3003, 0.0036177337665420544), (1969, 0.003613667563458093), (3187, 0.003613062003444992), (2957, 0.0036110097354832547), (1273, 0.0036085000574232985), (2375, 0.00360828219932818), (3792, 0.0036078046267147166), (1020, 0.0036074314003342036), (4042, 0.003606539940097974), (3517, 0.0036064402024861804), (2911, 0.0036033453613034806), (1131, 0.0036017022081476628), (4471, 0.0036006876454709913), (3206, 0.0036006227775353143), (4259, 0.003599883896722698), (1304, 0.003599723640778556), (4489, 0.0035992913837326846), (2240, 0.0035989587943992827), (2415, 0.00359884803863102), (507, 0.003598373128739124), (3639, 0.0035979858919968242), (1122, 0.003595233702575918), (3599, 0.0035950818849613043), (4069, 0.0035928229332426614), (2277, 0.0035915711980838445), (4520, 0.0035914026170655827), (4363, 0.003590863369129552), (4650, 0.0035903312861141783), (1848, 0.003588674357825549), (2454, 0.0035860903616750555), (2434, 0.003585172713254559), (2430, 0.0035844306376944693), (3616, 0.0035825029668815505), (2570, 0.0035809754019872635), (472, 0.0035791356980868576), (2792, 0.0035787679798528135), (2461, 0.003577617952237308), (4136, 0.0035771823300563793), (2940, 0.003576878771073515), (3016, 0.003576398967041094), (246, 0.003575767036097168), (4330, 0.0035753131010754276), (2405, 0.0035741787359740017), (3542, 0.0035734054408487156), (2613, 0.0035731030878785918), (3919, 0.0035704586157984932), (1427, 0.003569900441157956), (2535, 0.0035690140817063246), (1313, 0.0035688518406874594), (4002, 0.0035674496314207723), (4473, 0.003566875358454621), (3346, 0.0035657029275952966), (1805, 0.0035633102623137108), (1693, 0.003562593756197778), (2619, 0.003562292478319981), (1359, 0.0035617439651532915), (4680, 0.0035604409601469955), (3335, 0.0035603650119189726), (4563, 0.003560203691654004), (3491, 0.0035597680662986177), (3577, 0.003558911223748922), (3445, 0.00355841821430744), (2725, 0.0035574400125280093), (2155, 0.003556754827162161), (4197, 0.0035564837752164505), (262, 0.003555634789849155), (4345, 0.0035549882720113278), (2122, 0.003553272476905413), (2488, 0.0035532464946609714), (2926, 0.003552635644329871), (2970, 0.003551511835325686), (712, 0.0035484827694773316), (378, 0.003547933909424418), (4368, 0.003547428834819481), (3654, 0.0035473490043198956), (4575, 0.0035460374753500156), (1163, 0.00354572120223952), (4458, 0.003542472758805895), (2914, 0.003541964756213574), (4126, 0.0035396612190308915), (2786, 0.003534113676953623), (3406, 0.003533187157875234), (1476, 0.003532707882451713), (2370, 0.0035321230767652993), (3564, 0.003532115339435306), (3300, 0.003531092413446049), (1550, 0.0035310612779869267), (4545, 0.0035305666922125123), (1558, 0.0035305427413557296), (2482, 0.003529534788815181), (830, 0.003529359478359773), (1642, 0.0035274605495080416), (848, 0.00352737852811445), (456, 0.0035271502017778546), (3953, 0.0035263259256608243), (504, 0.0035242409773213654), (1916, 0.0035239677148339193), (1645, 0.0035233644816778575), (2545, 0.003521601314440964), (1891, 0.003519662570261763), (2894, 0.0035186742945785047), (1706, 0.003517261643115269), (2292, 0.0035172565073131744), (4566, 0.0035170203387491373), (2319, 0.0035156443491268403), (4273, 0.003514706951681943), (3359, 0.003511255608704354), (3962, 0.0035106720561985214), (3449, 0.003509976298088037), (2386, 0.0035098447722239586), (4049, 0.0035083038259055813), (4713, 0.0035081760916286287), (993, 0.0035071038833228447), (867, 0.003507048498709424), (4087, 0.0035060392972181024), (749, 0.0035046355695597616), (1683, 0.003503719872381439), (623, 0.0035034781133524108), (4448, 0.003501829195106787), (2696, 0.0035011748235857466), (4632, 0.003501045028222797), (325, 0.00349833382133118), (3434, 0.0034968351282924563), (349, 0.003496469990826548), (1007, 0.0034946955669238598), (2242, 0.0034909859881149304), (3677, 0.0034905419021732244), (1518, 0.003489050433958628), (3044, 0.003488460743938276), (114, 0.0034877223021143543), (2812, 0.003486726554979746), (4267, 0.003486588058148942), (1860, 0.0034857148838575696), (4336, 0.003483987583766768), (3863, 0.0034813967678572534), (2953, 0.0034799581300273895), (26, 0.0034792019301030713), (1411, 0.0034791689738000293), (1084, 0.0034789049250961894), (4427, 0.003476854972711139), (4030, 0.0034766762468613384), (1744, 0.003476255549872871), (1308, 0.0034744302354230688), (1408, 0.0034736188150962222), (410, 0.0034731782100065767), (2190, 0.003472814997273812), (4320, 0.0034700297977451095), (74, 0.0034696565393201595), (2396, 0.0034686377979935156), (4333, 0.0034679021205217863), (2268, 0.003467799091748948), (2707, 0.0034657673605229256), (854, 0.0034655684607443125), (1768, 0.003463981672984614), (1722, 0.0034633820235812464), (1079, 0.003462786765225597), (2772, 0.003461613200867313), (3173, 0.0034611334656662663), (4143, 0.003460967045631221), (4446, 0.0034608445061841686), (2073, 0.003460699827765025), (2943, 0.003460373649572292), (3182, 0.0034599703914483123), (3541, 0.003458084067723615), (3425, 0.003452984243843129), (1170, 0.0034529678353191024), (229, 0.0034524143466365567), (3225, 0.0034523351193124175), (2320, 0.003447750980714756), (2585, 0.0034473371477355234), (4054, 0.0034472024295065734), (3757, 0.003446999355731528), (4625, 0.003446780007517282), (4589, 0.0034462616663004345), (3414, 0.003445194231613874), (2397, 0.0034446429603159413), (446, 0.0034424975997168496), (2387, 0.003441204394277483), (2269, 0.0034397350051283615), (646, 0.0034386748469229724), (3506, 0.0034385903755844863), (598, 0.003438387304312252), (4706, 0.003436348141355752), (2525, 0.003435025528752434), (3402, 0.003433324374680347), (3967, 0.0034328957204026473), (3737, 0.003430449044529033), (2859, 0.003429976263078614), (4409, 0.003425569289183962), (3396, 0.003425207544999931), (3636, 0.003424353066447319), (2169, 0.003423992158108359), (1204, 0.0034225675201122814), (4135, 0.0034219084306822195), (1717, 0.0034213180491460236), (4391, 0.0034203879582274154), (886, 0.0034202983767037238), (2872, 0.0034190160488493616), (416, 0.003416089170556927), (3884, 0.0034151111437996803), (359, 0.003414112378184223), (215, 0.0034119523157989926), (3165, 0.003410587500981773), (3364, 0.003409760226078819), (944, 0.003409288168453778), (4334, 0.0034081727134055756), (136, 0.003408001898592668), (4036, 0.0034078014199400678), (4056, 0.003407058271643549), (2755, 0.0034067811504292275), (3952, 0.0034062136225467936), (1598, 0.003406018201104282), (2354, 0.0034059670103299302), (400, 0.003405630350477527), (798, 0.0034051431158124935), (2735, 0.003404444729215668), (2904, 0.003404405095799322), (1877, 0.003403633240167831), (169, 0.0034031051579182926), (2385, 0.0034029471774505615), (3497, 0.00340183369996264), (3273, 0.003398700824510819), (3641, 0.0033982511095786753), (973, 0.0033969626085218045), (3093, 0.0033961283111704045), (3673, 0.0033960924822478266), (1378, 0.003393679788118201), (3289, 0.003391775025005317), (2195, 0.0033915167209341394), (1477, 0.0033911843391383166), (4505, 0.0033898576622006173), (3707, 0.0033896398590814013), (612, 0.003387779315160415), (4718, 0.003387327361378414), (4753, 0.003386947439555061), (4734, 0.003382772080777837), (1463, 0.0033820424678886168), (3894, 0.0033819147400702704), (4394, 0.0033810030217047483), (4011, 0.0033809007223243454), (3651, 0.003380346964283421), (4243, 0.003379152995697568), (3296, 0.0033782642095495875), (1117, 0.003377093808137599), (1350, 0.003376799514797741), (2783, 0.0033760462444386453), (3900, 0.0033743899244346944), (594, 0.003373575664227086), (3551, 0.003372933443151283), (2293, 0.0033718410981360388), (3314, 0.0033709822507736937), (969, 0.00336868580750566), (3754, 0.0033682267324795633), (4717, 0.0033679454346774995), (437, 0.0033664229744380467), (1641, 0.003365494248373585), (935, 0.0033612076450143277), (3268, 0.0033608556797836194), (1943, 0.0033607886266372616), (1026, 0.003360693584726013), (783, 0.003360526852365437), (579, 0.0033604586202063075), (4269, 0.003359210831955938), (4155, 0.0033572951022040904), (2746, 0.003357015126744948), (1002, 0.003354714917629389), (3920, 0.003354557729797241), (2410, 0.0033533599733771564), (466, 0.003352533886795464), (4686, 0.003351640329407844), (3765, 0.003351321964473248), (3304, 0.003349327351213721), (3646, 0.003347864503995916), (1027, 0.0033472097445276746), (3341, 0.0033458227978245565), (2748, 0.003345794127892821), (2909, 0.0033455285959002926), (2400, 0.003344838983656411), (805, 0.0033411079502126757), (3274, 0.0033398269128186745), (2890, 0.003339494019139363), (3216, 0.003339192258869932), (4687, 0.003338885352894958), (2201, 0.0033383893027792108), (4340, 0.0033372435575810258), (247, 0.003335844417597474), (1946, 0.0033352396602063807), (198, 0.0033340757215360155), (705, 0.0033338873656370686), (3007, 0.0033330394122204586), (4620, 0.0033320775319622717), (817, 0.003331554284351745), (3351, 0.0033309345043022664), (4266, 0.0033301734105671108), (3075, 0.0033298770219873674), (3770, 0.003329224517621296), (4308, 0.0033267813625665757), (1833, 0.0033253407659936955), (3101, 0.003323740131717768), (2743, 0.00332371060888469), (2916, 0.0033235109659070002), (1372, 0.0033232049026019218), (2123, 0.003322565584081402), (3596, 0.0033202185322901206), (1617, 0.003317623193164347), (3889, 0.0033170849333664133), (1663, 0.0033132325585683094), (373, 0.003313100999062306), (2131, 0.003310693994148763), (4732, 0.003310402203473315), (1605, 0.0033102064009255605), (4183, 0.003309146540392056), (3627, 0.003305206026110982), (1730, 0.003305146645640794), (3678, 0.0033036229517513296), (2624, 0.0033026750041599035), (1247, 0.003302543314491778), (154, 0.003302494278090937), (372, 0.003302095264303433), (4139, 0.0033020645461769665), (127, 0.0033020140407458358), (3170, 0.0033006137457615567), (3804, 0.0032997570949993707), (164, 0.003299529052226212), (3565, 0.003296239007687282), (3369, 0.003295791633911867), (1672, 0.0032957742915771444), (2129, 0.003293653207843068), (3297, 0.003293038436434609), (3795, 0.003292190298196115), (698, 0.003291826123562223), (3590, 0.0032914273813361723), (98, 0.0032906338249973697), (226, 0.0032904464291144387), (3932, 0.0032890613876918394), (1340, 0.0032881380064166683), (1446, 0.0032871152224292948), (140, 0.0032864862386671185), (2612, 0.0032833475953800155), (2473, 0.0032824459578887485), (651, 0.0032801834759502682), (2882, 0.003279047943002407), (4101, 0.0032787284428547874), (4487, 0.003278640117600069), (3183, 0.0032778732217178287), (2728, 0.0032743655559370304), (541, 0.0032734520556484247), (3739, 0.0032716797742469014), (4079, 0.0032716247421154766), (2554, 0.003271480417001632), (1019, 0.003271442594923859), (4174, 0.0032698453204388364), (4020, 0.0032698217091180633), (1533, 0.0032688465957224984), (703, 0.003266698573317959), (2141, 0.003266686974108917), (4536, 0.00326666565909708), (4497, 0.0032640374898950425), (4263, 0.0032637546811388075), (4501, 0.0032637300685921422), (4287, 0.003263701468273532), (791, 0.0032622962830462796), (1814, 0.0032622360657395795), (3811, 0.003261556583377594), (3062, 0.003261478328463431), (197, 0.0032613100809052334), (2800, 0.003260707120687095), (4495, 0.003257572175795618), (2338, 0.0032567873504061825), (1284, 0.003256677238324231), (1921, 0.0032560916246002023), (4603, 0.003255622215026569), (2004, 0.0032531502297465926), (1597, 0.003250276912992686), (4419, 0.0032496956964497416), (3390, 0.003249540888653429), (3917, 0.003248908792053788), (4479, 0.0032487668671868125), (1032, 0.003247841183248491), (3906, 0.003247637577305879), (883, 0.0032460223299599117), (2475, 0.0032452609548725246), (2117, 0.0032451437554551956), (3890, 0.003242046967247122), (2945, 0.0032413278703217526), (4472, 0.0032391449528986396), (464, 0.003239080327904848), (1410, 0.0032381658833267597), (2072, 0.003234408611335153), (2391, 0.003234205976882208), (3071, 0.0032340336578514047), (1217, 0.003231846523409814), (3269, 0.0032314995769483768), (2533, 0.0032308805576571845), (3258, 0.0032298220725775254), (1110, 0.003225531186410191), (4085, 0.0032251292741496463), (3234, 0.003224415051153806), (1096, 0.0032236051909699122), (2422, 0.0032231238584406277), (3243, 0.003221678453463813), (731, 0.00321899787727419), (2399, 0.0032186450535156047), (3557, 0.003218389250616286), (1004, 0.003217575145516584), (1286, 0.0032171025305989605), (3116, 0.003215407364877167), (3147, 0.0032150723900447957), (2060, 0.0032147419936392305), (2705, 0.0032144170529727852), (2571, 0.0032144119159031644), (2862, 0.0032143570688568817), (524, 0.003213767393954362), (471, 0.003211836315085726), (1666, 0.003210808476695516), (3526, 0.00320926275708965), (473, 0.0032084652997980806), (2965, 0.003205374062340543), (2821, 0.00320500981320842), (2457, 0.0032012351041409066), (2367, 0.0032009789138771412), (838, 0.003200775253761163), (907, 0.003199058104276561), (2068, 0.0031989324129281732), (4262, 0.003197822516119494), (221, 0.0031965037043364696), (959, 0.0031962460482384387), (1628, 0.003191708709368591), (4540, 0.0031916295984137535), (4411, 0.003190928180721701), (4743, 0.003189985936616473), (4361, 0.0031896198450500584), (2572, 0.003189001632379655), (2127, 0.00318824889185842), (3412, 0.0031882121642615143), (2679, 0.003187847419403965), (4059, 0.0031874149572522275), (2323, 0.0031871580901002114), (1690, 0.0031864256178188396), (4616, 0.003186286966668085), (1036, 0.003182888706937878), (3069, 0.003181369925114887), (1826, 0.0031808997713961683), (3813, 0.003180201731386984), (4286, 0.0031750034729556625), (2853, 0.0031745872851036304), (3614, 0.0031745308261815564), (1434, 0.0031727553728106697), (3298, 0.003172511783061505), (490, 0.0031708478327355017), (659, 0.003170018513302035), (2248, 0.00316949840370193), (2270, 0.003168609770868514), (767, 0.0031679008232898347), (4350, 0.00316496412133216), (1392, 0.0031648706112845605), (3503, 0.0031639082393704796), (2340, 0.0031622476645199117), (3242, 0.0031620475928350574), (4024, 0.003160985404421743), (1869, 0.0031599061083280623), (3198, 0.0031594520765927886), (933, 0.003158850318034993), (4461, 0.003158113563700526), (3601, 0.003156026469473894), (3986, 0.0031553437635192267), (2446, 0.003155298440421219), (3050, 0.0031552096078414954), (2779, 0.0031550951533855917), (1830, 0.003154132762883061), (1404, 0.003152777992697752), (1394, 0.0031518789747878406), (4604, 0.0031507360264638132), (4169, 0.0031467459839787213), (4356, 0.0031466282281594274), (324, 0.003145692624925816), (1199, 0.0031440146240542216), (2288, 0.0031416277924825103), (3563, 0.0031413745858862615), (647, 0.0031406433669411977), (3348, 0.003139878731192254), (3241, 0.00313849742929875), (2166, 0.0031381635622575086), (2230, 0.003137432319856749), (97, 0.003136981310618073), (3037, 0.0031353446969654636), (975, 0.0031350862513767957), (1954, 0.0031345701172502565), (157, 0.003134137200953598), (3014, 0.0031338919793630587), (1416, 0.003133691472221123), (3327, 0.0031333906460047083), (4429, 0.003130012914909959), (2765, 0.003128728814680649), (4634, 0.003128527020917369), (388, 0.0031251052075201), (3278, 0.0031250948730396104), (3742, 0.0031242529728765615), (1528, 0.0031232759759000535), (252, 0.0031228484515511954), (2946, 0.0031203387488166505), (3634, 0.0031197793736739005), (856, 0.003119658521390604), (984, 0.00311753313646233), (132, 0.0031163763330646003), (268, 0.003115682767954963), (4225, 0.003115152324574936), (3235, 0.0031136018175261073), (722, 0.003113264880713175), (2552, 0.0031128966002965676), (1782, 0.0031112477652844197), (317, 0.0031106816060556), (3706, 0.003108233297210625), (759, 0.0031059206661487857), (1161, 0.003105044382004931), (2099, 0.003104370294596769), (1100, 0.003104150036980106), (4213, 0.003098355975039608), (487, 0.003097376840878842), (1813, 0.003096741415052963), (2528, 0.003096629715026347), (3311, 0.003096405937477534), (3755, 0.003092605497692812), (3500, 0.003091541944660605), (3615, 0.0030897658757709583), (183, 0.0030894656108507476), (2561, 0.0030883965477648385), (1042, 0.003087668972618998), (815, 0.0030766750778542643), (3799, 0.0030757710020617402), (2900, 0.003075000353667023), (2593, 0.003071770473011299), (1808, 0.003069502194999293), (2997, 0.0030643967158095935), (2954, 0.0030641533433786033), (3527, 0.003064119827001442), (4074, 0.0030636444382382733), (1929, 0.003061340116647246), (4220, 0.003060420623561448), (3283, 0.003060355097874442), (1370, 0.00305899303412958), (158, 0.003056462664916321), (4756, 0.003056398642571166), (2146, 0.0030544292964734005), (4643, 0.0030472397488371414), (3353, 0.003046202963556075), (2047, 0.0030432356803186426), (3898, 0.0030430297719795164), (184, 0.0030426848163543044), (1080, 0.0030348082405540376), (4080, 0.003033365221777419), (1762, 0.0030325429698984632), (357, 0.003031817718802745), (2163, 0.003031470115400647), (1827, 0.003029540395473835), (3137, 0.0030269755945486914), (4326, 0.0030246955637483206), (399, 0.0030240225734082696), (4381, 0.0030237711212068225), (2382, 0.0030236448232384846), (2531, 0.0030233258692107974), (655, 0.003020303667679), (2642, 0.0030190297762095605), (3855, 0.0030188338768965383), (2495, 0.0030184751226413), (3393, 0.0030136831313546664), (2287, 0.003012123029960452), (355, 0.003010014799136031), (3329, 0.0030090287853996463), (3647, 0.003006775149267379), (1719, 0.0030038394620305496), (2226, 0.0030021261283368784), (449, 0.0030000957557219845), (2634, 0.002999947455774509), (4014, 0.002998753131566644), (194, 0.0029985628102780684), (1456, 0.002994392304191289), (951, 0.0029925367352823086), (2976, 0.0029914731448322444), (1543, 0.0029900725008554685), (1423, 0.002987090886447528), (4348, 0.0029841661314948757), (924, 0.0029820793770302754), (457, 0.002981916720503019), (707, 0.0029807480062366055), (1743, 0.002980744184925634), (3477, 0.00297893715845855), (3200, 0.0029782855727101785), (4729, 0.002977338761351453), (3238, 0.0029749666082463334), (4228, 0.0029732822434197287), (589, 0.0029719065177556125), (121, 0.0029717525670610273), (2492, 0.002968894175714404), (3657, 0.0029642594843054273), (2652, 0.002963043656352865), (4476, 0.0029612539997012272), (103, 0.002959147439997845), (3928, 0.0029535504468665213), (1884, 0.002951864259372427), (2289, 0.0029484438289172875), (1352, 0.0029482485860874157), (3719, 0.0029478279366790565), (4247, 0.0029461051896369954), (2010, 0.002944442023580904), (4712, 0.0029424080075096397), (1624, 0.0029420137676003195), (1616, 0.002941522121322181), (1553, 0.0029409024165596657), (2753, 0.0029408261689491426), (1503, 0.0029368491964952073), (1318, 0.00293628197028465), (4567, 0.0029341329248869846), (1625, 0.0029325616567142687), (4254, 0.0029311727070567926), (4359, 0.002927532692224172), (286, 0.00292742883524329), (2402, 0.0029231939872905286), (2416, 0.00292016330132093), (1691, 0.0029194284389319155), (4296, 0.0029182760855416684), (4573, 0.0029137865293263087), (3214, 0.0029131553663608034), (92, 0.0029129895750965385), (2569, 0.002911113514696328), (1357, 0.002903459544776551), (3546, 0.002902361193881564), (3827, 0.0029016217398337555), (2721, 0.002900903012767142), (2453, 0.0028988503022213444), (2111, 0.0028981945003598232), (32, 0.002897883212490397), (2401, 0.0028977506398093324), (2213, 0.0028973503226927635), (2651, 0.00289518431150611), (3575, 0.0028932716026263084), (1251, 0.0028922205369890717), (165, 0.0028913307839563743), (3336, 0.0028902466030746796), (4638, 0.002889661840832201), (941, 0.0028889009056138203), (82, 0.002887810617590309), (605, 0.0028873128643087235), (3220, 0.0028867237564884564), (242, 0.0028856505020556683), (4693, 0.002885305705901903), (1301, 0.0028844909989722335), (4277, 0.0028832649660952034), (2741, 0.0028816163930889195), (480, 0.0028815930847329923), (2556, 0.00287873228269687), (1219, 0.002875066263060882), (4343, 0.002871272335076656), (1312, 0.002871043056629839), (445, 0.0028700738566484023), (1037, 0.002869322323984144), (2674, 0.0028669109475363197), (1801, 0.002863431065430443), (2845, 0.0028613034584516923), (4066, 0.002852788322045956), (1305, 0.0028498891755698065), (4206, 0.0028488414130077512), (1565, 0.0028474828156614205), (624, 0.0028449117735514203), (3380, 0.0028412253974330055), (843, 0.002840515405404394), (3626, 0.0028364132653279973), (195, 0.0028357368489202524), (3211, 0.002830999145373283), (495, 0.002828909812647756), (1747, 0.0028282654220765633), (1209, 0.002825535793802472), (2502, 0.002821439822122775), (3569, 0.0028200901867044986), (3669, 0.0028136736248584844), (1828, 0.002810407293857286), (3057, 0.0028100560728935085), (706, 0.002808423716756925), (196, 0.0028078389523793048), (2441, 0.0028043721651019793), (3548, 0.002804250008409848), (4304, 0.0028002383898264992), (4636, 0.0028001801546220654), (1677, 0.0027970908359989492), (267, 0.002796501413560963), (2758, 0.0027868753713558682), (2747, 0.0027749595773407633), (249, 0.0027708900510038585), (3027, 0.002765243989197875), (626, 0.0027614578396985313), (3347, 0.0027589521033996294), (2892, 0.0027579825324319353), (901, 0.002757383785624581), (2039, 0.0027564704386061232), (1415, 0.0027537111247332457), (2317, 0.0027537090356468375), (2527, 0.00275343550854745), (645, 0.0027460531775893916), (2359, 0.002745350684488057), (2509, 0.002745290630942513), (2132, 0.0027425814023473486), (2907, 0.002741404811596384), (1277, 0.0027353456950661337), (4626, 0.0027320047714305754), (278, 0.0027246027457664083), (3024, 0.0027190415320829226), (3538, 0.0027170368978176656), (1450, 0.002712921743793228), (2611, 0.0027122924916247837), (3431, 0.0027064951214069255), (2520, 0.002705110351527726), (4200, 0.0027048021426636245), (616, 0.002699725770717262), (156, 0.002690699999067248), (432, 0.002690457551032959), (4151, 0.0026870429145270033), (4015, 0.002685558201095876), (1366, 0.0026854730998096665), (2034, 0.002680253504038217), (2526, 0.0026712664883809193), (4386, 0.0026523428513372735), (3056, 0.0026307116169258377), (2591, 0.0026271733661038955), (1040, 0.0026052580411041674), (4311, 0.00259125672613148), (224, 0.0025843789124568076), (4752, 0.002584181022454443), (2766, 0.0025788888748752782), (1088, 0.0025767526967052294), (3668, 0.0025618810414939175), (4744, 0.0025219708079118994), (607, 0.0025178557916413226), (453, 0.0024698523010951556), (4445, 0.002458316279623774), (3534, 0.0024580935124704213), (351, 0.0024568337895959557), (3252, 0.0024451916369556937), (3365, 0.0024371150793532897), (228, 0.002420668540438184), (4301, 0.0023786842892243687), (3199, 0.0023741269646339936), (2902, 0.0023549131271343128), (293, 0.00233437674210595), (4598, 0.002332393108946455), (283, 0.00230900129337145), (4652, 0.0022720381854497563), (129, 0.0022611530172958944), (2636, 0.002206688400807935), (740, 0.0021822979783967583), (3392, 0.0021372123787516896), (4171, 0.0021058460208542872), (202, 0.0020853485704426826), (24, 0.002050230099149021), (3608, 0.002033330088334125), (1780, 0.0020170370205210403), (2534, 0.0013558984067433973), (1, 0.0), (2, 0.0), (14, 0.0), (17, 0.0), (28, 0.0), (36, 0.0), (37, 0.0), (45, 0.0), (49, 0.0), (53, 0.0), (54, 0.0), (55, 0.0), (58, 0.0), (59, 0.0), (64, 0.0), (65, 0.0), (73, 0.0), (91, 0.0), (100, 0.0), (101, 0.0), (117, 0.0), (122, 0.0), (133, 0.0), (134, 0.0), (141, 0.0), (146, 0.0), (150, 0.0), (151, 0.0), (153, 0.0), (162, 0.0), (163, 0.0), (168, 0.0), (171, 0.0), (179, 0.0), (186, 0.0), (188, 0.0), (205, 0.0), (214, 0.0), (219, 0.0), (223, 0.0), (225, 0.0), (230, 0.0), (232, 0.0), (237, 0.0), (245, 0.0), (248, 0.0), (258, 0.0), (259, 0.0), (264, 0.0), (265, 0.0), (272, 0.0), (275, 0.0), (297, 0.0), (298, 0.0), (299, 0.0), (300, 0.0), (301, 0.0), (302, 0.0), (312, 0.0), (319, 0.0), (331, 0.0), (335, 0.0), (337, 0.0), (338, 0.0), (339, 0.0), (340, 0.0), (344, 0.0), (352, 0.0), (361, 0.0), (362, 0.0), (363, 0.0), (365, 0.0), (366, 0.0), (376, 0.0), (379, 0.0), (381, 0.0), (382, 0.0), (386, 0.0), (390, 0.0), (391, 0.0), (392, 0.0), (393, 0.0), (394, 0.0), (401, 0.0), (404, 0.0), (405, 0.0), (411, 0.0), (415, 0.0), (422, 0.0), (423, 0.0), (427, 0.0), (439, 0.0), (440, 0.0), (454, 0.0), (461, 0.0), (484, 0.0), (486, 0.0), (491, 0.0), (492, 0.0), (497, 0.0), (498, 0.0), (506, 0.0), (516, 0.0), (517, 0.0), (520, 0.0), (525, 0.0), (528, 0.0), (529, 0.0), (531, 0.0), (535, 0.0), (536, 0.0), (538, 0.0), (546, 0.0), (548, 0.0), (549, 0.0), (552, 0.0), (554, 0.0), (556, 0.0), (557, 0.0), (565, 0.0), (567, 0.0), (569, 0.0), (570, 0.0), (572, 0.0), (573, 0.0), (574, 0.0), (575, 0.0), (577, 0.0), (582, 0.0), (585, 0.0), (591, 0.0), (592, 0.0), (599, 0.0), (600, 0.0), (601, 0.0), (602, 0.0), (603, 0.0), (610, 0.0), (630, 0.0), (648, 0.0), (649, 0.0), (650, 0.0), (656, 0.0), (658, 0.0), (662, 0.0), (663, 0.0), (665, 0.0), (671, 0.0), (674, 0.0), (679, 0.0), (681, 0.0), (686, 0.0), (699, 0.0), (700, 0.0), (702, 0.0), (704, 0.0), (708, 0.0), (709, 0.0), (710, 0.0), (711, 0.0), (713, 0.0), (714, 0.0), (718, 0.0), (720, 0.0), (724, 0.0), (725, 0.0), (726, 0.0), (730, 0.0), (736, 0.0), (741, 0.0), (746, 0.0), (747, 0.0), (751, 0.0), (754, 0.0), (758, 0.0), (764, 0.0), (770, 0.0), (771, 0.0), (772, 0.0), (773, 0.0), (780, 0.0), (781, 0.0), (784, 0.0), (785, 0.0), (786, 0.0), (789, 0.0), (797, 0.0), (807, 0.0), (814, 0.0), (819, 0.0), (820, 0.0), (821, 0.0), (822, 0.0), (836, 0.0), (837, 0.0), (839, 0.0), (840, 0.0), (841, 0.0), (846, 0.0), (859, 0.0), (881, 0.0), (882, 0.0), (892, 0.0), (906, 0.0), (909, 0.0), (912, 0.0), (913, 0.0), (914, 0.0), (920, 0.0), (926, 0.0), (938, 0.0), (943, 0.0), (945, 0.0), (946, 0.0), (950, 0.0), (954, 0.0), (955, 0.0), (956, 0.0), (958, 0.0), (960, 0.0), (961, 0.0), (964, 0.0), (965, 0.0), (971, 0.0), (972, 0.0), (977, 0.0), (978, 0.0), (982, 0.0), (983, 0.0), (990, 0.0), (995, 0.0), (1008, 0.0), (1010, 0.0), (1011, 0.0), (1013, 0.0), (1014, 0.0), (1016, 0.0), (1022, 0.0), (1025, 0.0), (1028, 0.0), (1029, 0.0), (1031, 0.0), (1038, 0.0), (1039, 0.0), (1051, 0.0), (1055, 0.0), (1056, 0.0), (1062, 0.0), (1066, 0.0), (1067, 0.0), (1069, 0.0), (1070, 0.0), (1073, 0.0), (1081, 0.0), (1086, 0.0), (1089, 0.0), (1091, 0.0), (1093, 0.0), (1094, 0.0), (1097, 0.0), (1101, 0.0), (1103, 0.0), (1105, 0.0), (1106, 0.0), (1108, 0.0), (1113, 0.0), (1126, 0.0), (1130, 0.0), (1133, 0.0), (1135, 0.0), (1139, 0.0), (1142, 0.0), (1143, 0.0), (1147, 0.0), (1149, 0.0), (1151, 0.0), (1155, 0.0), (1156, 0.0), (1159, 0.0), (1165, 0.0), (1166, 0.0), (1171, 0.0), (1172, 0.0), (1178, 0.0), (1180, 0.0), (1189, 0.0), (1190, 0.0), (1193, 0.0), (1196, 0.0), (1198, 0.0), (1200, 0.0), (1201, 0.0), (1212, 0.0), (1218, 0.0), (1221, 0.0), (1222, 0.0), (1227, 0.0), (1228, 0.0), (1233, 0.0), (1235, 0.0), (1240, 0.0), (1242, 0.0), (1244, 0.0), (1246, 0.0), (1253, 0.0), (1256, 0.0), (1258, 0.0), (1263, 0.0), (1265, 0.0), (1268, 0.0), (1269, 0.0), (1271, 0.0), (1285, 0.0), (1287, 0.0), (1288, 0.0), (1289, 0.0), (1291, 0.0), (1293, 0.0), (1295, 0.0), (1296, 0.0), (1297, 0.0), (1299, 0.0), (1311, 0.0), (1315, 0.0), (1321, 0.0), (1322, 0.0), (1323, 0.0), (1326, 0.0), (1328, 0.0), (1333, 0.0), (1336, 0.0), (1345, 0.0), (1346, 0.0), (1353, 0.0), (1354, 0.0), (1362, 0.0), (1363, 0.0), (1368, 0.0), (1373, 0.0), (1376, 0.0), (1388, 0.0), (1390, 0.0), (1399, 0.0), (1424, 0.0), (1437, 0.0), (1441, 0.0), (1444, 0.0), (1447, 0.0), (1457, 0.0), (1459, 0.0), (1460, 0.0), (1466, 0.0), (1467, 0.0), (1468, 0.0), (1470, 0.0), (1473, 0.0), (1485, 0.0), (1487, 0.0), (1490, 0.0), (1491, 0.0), (1495, 0.0), (1496, 0.0), (1508, 0.0), (1511, 0.0), (1517, 0.0), (1520, 0.0), (1521, 0.0), (1522, 0.0), (1524, 0.0), (1525, 0.0), (1529, 0.0), (1532, 0.0), (1534, 0.0), (1535, 0.0), (1541, 0.0), (1545, 0.0), (1548, 0.0), (1549, 0.0), (1552, 0.0), (1556, 0.0), (1557, 0.0), (1561, 0.0), (1563, 0.0), (1564, 0.0), (1569, 0.0), (1577, 0.0), (1578, 0.0), (1581, 0.0), (1584, 0.0), (1586, 0.0), (1589, 0.0), (1592, 0.0), (1596, 0.0), (1599, 0.0), (1600, 0.0), (1601, 0.0), (1602, 0.0), (1603, 0.0), (1604, 0.0), (1606, 0.0), (1607, 0.0), (1610, 0.0), (1611, 0.0), (1613, 0.0), (1615, 0.0), (1618, 0.0), (1626, 0.0), (1636, 0.0), (1638, 0.0), (1639, 0.0), (1640, 0.0), (1644, 0.0), (1646, 0.0), (1649, 0.0), (1651, 0.0), (1664, 0.0), (1668, 0.0), (1669, 0.0), (1673, 0.0), (1679, 0.0), (1686, 0.0), (1689, 0.0), (1695, 0.0), (1697, 0.0), (1698, 0.0), (1700, 0.0), (1704, 0.0), (1709, 0.0), (1725, 0.0), (1726, 0.0), (1728, 0.0), (1729, 0.0), (1731, 0.0), (1734, 0.0), (1737, 0.0), (1745, 0.0), (1746, 0.0), (1751, 0.0), (1755, 0.0), (1756, 0.0), (1758, 0.0), (1766, 0.0), (1767, 0.0), (1769, 0.0), (1771, 0.0), (1775, 0.0), (1777, 0.0), (1778, 0.0), (1783, 0.0), (1785, 0.0), (1786, 0.0), (1790, 0.0), (1794, 0.0), (1800, 0.0), (1803, 0.0), (1804, 0.0), (1810, 0.0), (1820, 0.0), (1823, 0.0), (1824, 0.0), (1825, 0.0), (1834, 0.0), (1835, 0.0), (1836, 0.0), (1839, 0.0), (1842, 0.0), (1844, 0.0), (1855, 0.0), (1856, 0.0), (1863, 0.0), (1867, 0.0), (1879, 0.0), (1883, 0.0), (1888, 0.0), (1889, 0.0), (1894, 0.0), (1898, 0.0), (1899, 0.0), (1903, 0.0), (1912, 0.0), (1913, 0.0), (1915, 0.0), (1917, 0.0), (1926, 0.0), (1928, 0.0), (1932, 0.0), (1938, 0.0), (1944, 0.0), (1955, 0.0), (1956, 0.0), (1961, 0.0), (1963, 0.0), (1965, 0.0), (1966, 0.0), (1972, 0.0), (1974, 0.0), (1978, 0.0), (1979, 0.0), (1984, 0.0), (2001, 0.0), (2002, 0.0), (2003, 0.0), (2006, 0.0), (2007, 0.0), (2009, 0.0), (2014, 0.0), (2017, 0.0), (2019, 0.0), (2021, 0.0), (2025, 0.0), (2028, 0.0), (2030, 0.0), (2032, 0.0), (2033, 0.0), (2036, 0.0), (2038, 0.0), (2041, 0.0), (2042, 0.0), (2043, 0.0), (2046, 0.0), (2050, 0.0), (2052, 0.0), (2054, 0.0), (2059, 0.0), (2063, 0.0), (2071, 0.0), (2079, 0.0), (2081, 0.0), (2085, 0.0), (2086, 0.0), (2090, 0.0), (2092, 0.0), (2095, 0.0), (2098, 0.0), (2106, 0.0), (2107, 0.0), (2115, 0.0), (2118, 0.0), (2120, 0.0), (2124, 0.0), (2125, 0.0), (2128, 0.0), (2135, 0.0), (2138, 0.0), (2140, 0.0), (2147, 0.0), (2150, 0.0), (2152, 0.0), (2153, 0.0), (2164, 0.0), (2165, 0.0), (2168, 0.0), (2170, 0.0), (2171, 0.0), (2172, 0.0), (2179, 0.0), (2180, 0.0), (2182, 0.0), (2183, 0.0), (2186, 0.0), (2194, 0.0), (2200, 0.0), (2202, 0.0), (2204, 0.0), (2215, 0.0), (2217, 0.0), (2218, 0.0), (2219, 0.0), (2220, 0.0), (2222, 0.0), (2225, 0.0), (2227, 0.0), (2233, 0.0), (2234, 0.0), (2238, 0.0), (2241, 0.0), (2243, 0.0), (2247, 0.0), (2249, 0.0), (2253, 0.0), (2256, 0.0), (2259, 0.0), (2261, 0.0), (2262, 0.0), (2263, 0.0), (2267, 0.0), (2271, 0.0), (2272, 0.0), (2274, 0.0), (2281, 0.0), (2282, 0.0), (2296, 0.0), (2297, 0.0), (2300, 0.0), (2305, 0.0), (2307, 0.0), (2308, 0.0), (2311, 0.0), (2312, 0.0), (2315, 0.0), (2322, 0.0), (2325, 0.0), (2327, 0.0), (2329, 0.0), (2331, 0.0), (2332, 0.0), (2333, 0.0), (2337, 0.0), (2341, 0.0), (2342, 0.0), (2345, 0.0), (2351, 0.0), (2352, 0.0), (2357, 0.0), (2360, 0.0), (2364, 0.0), (2369, 0.0), (2372, 0.0), (2373, 0.0), (2377, 0.0), (2380, 0.0), (2381, 0.0), (2384, 0.0), (2389, 0.0), (2395, 0.0), (2398, 0.0), (2409, 0.0), (2414, 0.0), (2420, 0.0), (2431, 0.0), (2433, 0.0), (2435, 0.0), (2445, 0.0), (2450, 0.0), (2451, 0.0), (2452, 0.0), (2455, 0.0), (2456, 0.0), (2458, 0.0), (2462, 0.0), (2465, 0.0), (2470, 0.0), (2471, 0.0), (2472, 0.0), (2479, 0.0), (2483, 0.0), (2485, 0.0), (2491, 0.0), (2493, 0.0), (2497, 0.0), (2498, 0.0), (2499, 0.0), (2500, 0.0), (2504, 0.0), (2508, 0.0), (2511, 0.0), (2514, 0.0), (2515, 0.0), (2516, 0.0), (2518, 0.0), (2521, 0.0), (2523, 0.0), (2532, 0.0), (2536, 0.0), (2539, 0.0), (2542, 0.0), (2543, 0.0), (2547, 0.0), (2548, 0.0), (2549, 0.0), (2551, 0.0), (2562, 0.0), (2564, 0.0), (2566, 0.0), (2574, 0.0), (2575, 0.0), (2577, 0.0), (2578, 0.0), (2583, 0.0), (2584, 0.0), (2586, 0.0), (2588, 0.0), (2589, 0.0), (2590, 0.0), (2594, 0.0), (2596, 0.0), (2597, 0.0), (2604, 0.0), (2605, 0.0), (2608, 0.0), (2615, 0.0), (2616, 0.0), (2620, 0.0), (2627, 0.0), (2631, 0.0), (2637, 0.0), (2641, 0.0), (2648, 0.0), (2656, 0.0), (2657, 0.0), (2658, 0.0), (2659, 0.0), (2662, 0.0), (2663, 0.0), (2666, 0.0), (2667, 0.0), (2669, 0.0), (2670, 0.0), (2671, 0.0), (2672, 0.0), (2675, 0.0), (2676, 0.0), (2677, 0.0), (2681, 0.0), (2684, 0.0), (2685, 0.0), (2686, 0.0), (2690, 0.0), (2693, 0.0), (2701, 0.0), (2703, 0.0), (2704, 0.0), (2708, 0.0), (2709, 0.0), (2715, 0.0), (2717, 0.0), (2719, 0.0), (2729, 0.0), (2730, 0.0), (2734, 0.0), (2737, 0.0), (2749, 0.0), (2750, 0.0), (2754, 0.0), (2756, 0.0), (2763, 0.0), (2770, 0.0), (2773, 0.0), (2774, 0.0), (2781, 0.0), (2785, 0.0), (2793, 0.0), (2794, 0.0), (2799, 0.0), (2804, 0.0), (2806, 0.0), (2810, 0.0), (2811, 0.0), (2813, 0.0), (2814, 0.0), (2817, 0.0), (2818, 0.0), (2824, 0.0), (2827, 0.0), (2828, 0.0), (2829, 0.0), (2835, 0.0), (2836, 0.0), (2837, 0.0), (2839, 0.0), (2842, 0.0), (2850, 0.0), (2851, 0.0), (2852, 0.0), (2855, 0.0), (2856, 0.0), (2860, 0.0), (2864, 0.0), (2865, 0.0), (2866, 0.0), (2875, 0.0), (2877, 0.0), (2880, 0.0), (2891, 0.0), (2896, 0.0), (2898, 0.0), (2905, 0.0), (2906, 0.0), (2921, 0.0), (2922, 0.0), (2927, 0.0), (2928, 0.0), (2930, 0.0), (2938, 0.0), (2941, 0.0), (2951, 0.0), (2952, 0.0), (2955, 0.0), (2956, 0.0), (2958, 0.0), (2967, 0.0), (2968, 0.0), (2973, 0.0), (2979, 0.0), (2982, 0.0), (2983, 0.0), (2990, 0.0), (3001, 0.0), (3002, 0.0), (3006, 0.0), (3008, 0.0), (3009, 0.0), (3021, 0.0), (3025, 0.0), (3029, 0.0), (3034, 0.0), (3038, 0.0), (3041, 0.0), (3047, 0.0), (3048, 0.0), (3054, 0.0), (3058, 0.0), (3059, 0.0), (3060, 0.0), (3061, 0.0), (3063, 0.0), (3066, 0.0), (3073, 0.0), (3077, 0.0), (3078, 0.0), (3080, 0.0), (3082, 0.0), (3087, 0.0), (3088, 0.0), (3089, 0.0), (3090, 0.0), (3092, 0.0), (3103, 0.0), (3104, 0.0), (3105, 0.0), (3106, 0.0), (3107, 0.0), (3109, 0.0), (3115, 0.0), (3121, 0.0), (3130, 0.0), (3132, 0.0), (3138, 0.0), (3141, 0.0), (3145, 0.0), (3162, 0.0), (3169, 0.0), (3172, 0.0), (3175, 0.0), (3176, 0.0), (3177, 0.0), (3181, 0.0), (3188, 0.0), (3189, 0.0), (3190, 0.0), (3193, 0.0), (3197, 0.0), (3201, 0.0), (3202, 0.0), (3204, 0.0), (3207, 0.0), (3208, 0.0), (3209, 0.0), (3212, 0.0), (3217, 0.0), (3221, 0.0), (3223, 0.0), (3229, 0.0), (3231, 0.0), (3236, 0.0), (3250, 0.0), (3251, 0.0), (3261, 0.0), (3266, 0.0), (3270, 0.0), (3272, 0.0), (3277, 0.0), (3281, 0.0), (3286, 0.0), (3287, 0.0), (3288, 0.0), (3305, 0.0), (3309, 0.0), (3310, 0.0), (3320, 0.0), (3321, 0.0), (3323, 0.0), (3324, 0.0), (3332, 0.0), (3333, 0.0), (3340, 0.0), (3343, 0.0), (3350, 0.0), (3366, 0.0), (3368, 0.0), (3371, 0.0), (3378, 0.0), (3383, 0.0), (3394, 0.0), (3397, 0.0), (3400, 0.0), (3401, 0.0), (3411, 0.0), (3415, 0.0), (3422, 0.0), (3424, 0.0), (3439, 0.0), (3442, 0.0), (3444, 0.0), (3453, 0.0), (3454, 0.0), (3459, 0.0), (3461, 0.0), (3467, 0.0), (3472, 0.0), (3473, 0.0), (3475, 0.0), (3476, 0.0), (3481, 0.0), (3482, 0.0), (3485, 0.0), (3489, 0.0), (3490, 0.0), (3494, 0.0), (3505, 0.0), (3510, 0.0), (3519, 0.0), (3522, 0.0), (3525, 0.0), (3529, 0.0), (3530, 0.0), (3532, 0.0), (3533, 0.0), (3539, 0.0), (3543, 0.0), (3545, 0.0), (3547, 0.0), (3549, 0.0), (3550, 0.0), (3554, 0.0), (3562, 0.0), (3567, 0.0), (3568, 0.0), (3578, 0.0), (3581, 0.0), (3585, 0.0), (3589, 0.0), (3591, 0.0), (3592, 0.0), (3595, 0.0), (3600, 0.0), (3603, 0.0), (3607, 0.0), (3609, 0.0), (3610, 0.0), (3617, 0.0), (3622, 0.0), (3625, 0.0), (3628, 0.0), (3631, 0.0), (3632, 0.0), (3633, 0.0), (3644, 0.0), (3649, 0.0), (3650, 0.0), (3662, 0.0), (3663, 0.0), (3671, 0.0), (3676, 0.0), (3681, 0.0), (3682, 0.0), (3683, 0.0), (3685, 0.0), (3686, 0.0), (3690, 0.0), (3693, 0.0), (3695, 0.0), (3697, 0.0), (3698, 0.0), (3700, 0.0), (3702, 0.0), (3703, 0.0), (3709, 0.0), (3712, 0.0), (3716, 0.0), (3717, 0.0), (3718, 0.0), (3722, 0.0), (3724, 0.0), (3726, 0.0), (3730, 0.0), (3732, 0.0), (3735, 0.0), (3736, 0.0), (3738, 0.0), (3740, 0.0), (3743, 0.0), (3758, 0.0), (3759, 0.0), (3760, 0.0), (3761, 0.0), (3764, 0.0), (3783, 0.0), (3785, 0.0), (3786, 0.0), (3789, 0.0), (3790, 0.0), (3791, 0.0), (3796, 0.0), (3798, 0.0), (3800, 0.0), (3803, 0.0), (3805, 0.0), (3808, 0.0), (3812, 0.0), (3816, 0.0), (3817, 0.0), (3818, 0.0), (3820, 0.0), (3830, 0.0), (3831, 0.0), (3834, 0.0), (3836, 0.0), (3837, 0.0), (3838, 0.0), (3840, 0.0), (3842, 0.0), (3843, 0.0), (3846, 0.0), (3847, 0.0), (3851, 0.0), (3856, 0.0), (3858, 0.0), (3859, 0.0), (3869, 0.0), (3870, 0.0), (3879, 0.0), (3885, 0.0), (3887, 0.0), (3896, 0.0), (3912, 0.0), (3914, 0.0), (3918, 0.0), (3921, 0.0), (3929, 0.0), (3930, 0.0), (3931, 0.0), (3933, 0.0), (3936, 0.0), (3937, 0.0), (3943, 0.0), (3948, 0.0), (3950, 0.0), (3964, 0.0), (3965, 0.0), (3968, 0.0), (3969, 0.0), (3971, 0.0), (3972, 0.0), (3977, 0.0), (3979, 0.0), (3980, 0.0), (3981, 0.0), (3982, 0.0), (3985, 0.0), (3988, 0.0), (3991, 0.0), (3994, 0.0), (3996, 0.0), (3998, 0.0), (4003, 0.0), (4006, 0.0), (4010, 0.0), (4018, 0.0), (4021, 0.0), (4022, 0.0), (4026, 0.0), (4027, 0.0), (4029, 0.0), (4031, 0.0), (4034, 0.0), (4037, 0.0), (4040, 0.0), (4041, 0.0), (4058, 0.0), (4063, 0.0), (4065, 0.0), (4067, 0.0), (4070, 0.0), (4072, 0.0), (4073, 0.0), (4077, 0.0), (4078, 0.0), (4084, 0.0), (4086, 0.0), (4097, 0.0), (4100, 0.0), (4108, 0.0), (4109, 0.0), (4112, 0.0), (4114, 0.0), (4115, 0.0), (4125, 0.0), (4127, 0.0), (4131, 0.0), (4144, 0.0), (4146, 0.0), (4150, 0.0), (4153, 0.0), (4157, 0.0), (4159, 0.0), (4166, 0.0), (4167, 0.0), (4168, 0.0), (4170, 0.0), (4173, 0.0), (4179, 0.0), (4180, 0.0), (4181, 0.0), (4185, 0.0), (4186, 0.0), (4188, 0.0), (4190, 0.0), (4191, 0.0), (4194, 0.0), (4198, 0.0), (4199, 0.0), (4201, 0.0), (4204, 0.0), (4207, 0.0), (4212, 0.0), (4214, 0.0), (4215, 0.0), (4218, 0.0), (4223, 0.0), (4224, 0.0), (4229, 0.0), (4234, 0.0), (4236, 0.0), (4237, 0.0), (4238, 0.0), (4239, 0.0), (4241, 0.0), (4250, 0.0), (4253, 0.0), (4256, 0.0), (4258, 0.0), (4260, 0.0), (4270, 0.0), (4271, 0.0), (4276, 0.0), (4278, 0.0), (4279, 0.0), (4291, 0.0), (4297, 0.0), (4300, 0.0), (4302, 0.0), (4305, 0.0), (4313, 0.0), (4315, 0.0), (4316, 0.0), (4317, 0.0), (4319, 0.0), (4323, 0.0), (4324, 0.0), (4327, 0.0), (4329, 0.0), (4332, 0.0), (4338, 0.0), (4341, 0.0), (4346, 0.0), (4347, 0.0), (4351, 0.0), (4352, 0.0), (4353, 0.0), (4358, 0.0), (4364, 0.0), (4367, 0.0), (4370, 0.0), (4372, 0.0), (4385, 0.0), (4393, 0.0), (4404, 0.0), (4405, 0.0), (4406, 0.0), (4408, 0.0), (4410, 0.0), (4413, 0.0), (4414, 0.0), (4415, 0.0), (4417, 0.0), (4421, 0.0), (4424, 0.0), (4425, 0.0), (4433, 0.0), (4434, 0.0), (4437, 0.0), (4439, 0.0), (4447, 0.0), (4449, 0.0), (4451, 0.0), (4453, 0.0), (4454, 0.0), (4455, 0.0), (4457, 0.0), (4460, 0.0), (4463, 0.0), (4478, 0.0), (4480, 0.0), (4483, 0.0), (4485, 0.0), (4491, 0.0), (4493, 0.0), (4496, 0.0), (4498, 0.0), (4499, 0.0), (4500, 0.0), (4506, 0.0), (4508, 0.0), (4509, 0.0), (4519, 0.0), (4525, 0.0), (4526, 0.0), (4532, 0.0), (4539, 0.0), (4541, 0.0), (4542, 0.0), (4547, 0.0), (4549, 0.0), (4556, 0.0), (4558, 0.0), (4559, 0.0), (4560, 0.0), (4561, 0.0), (4562, 0.0), (4565, 0.0), (4568, 0.0), (4569, 0.0), (4570, 0.0), (4577, 0.0), (4578, 0.0), (4580, 0.0), (4592, 0.0), (4597, 0.0), (4599, 0.0), (4600, 0.0), (4609, 0.0), (4613, 0.0), (4615, 0.0), (4618, 0.0), (4622, 0.0), (4628, 0.0), (4631, 0.0), (4635, 0.0), (4644, 0.0), (4647, 0.0), (4648, 0.0), (4651, 0.0), (4654, 0.0), (4655, 0.0), (4662, 0.0), (4667, 0.0), (4671, 0.0), (4672, 0.0), (4675, 0.0), (4676, 0.0), (4681, 0.0), (4683, 0.0), (4688, 0.0), (4690, 0.0), (4700, 0.0), (4702, 0.0), (4711, 0.0), (4714, 0.0), (4716, 0.0), (4720, 0.0), (4725, 0.0), (4728, 0.0), (4730, 0.0), (4736, 0.0), (4737, 0.0), (4738, 0.0), (4740, 0.0), (4741, 0.0), (4742, 0.0), (4745, 0.0), (4750, 0.0), (4751, 0.0), (4754, 0.0), (4755, 0.0), (4758, 0.0), (4759, 0.0)]\n"
          ]
        }
      ]
    },
    {
      "cell_type": "markdown",
      "source": [
        "Print the name of similar movies based on the index"
      ],
      "metadata": {
        "id": "d7PSjKxYFQVe"
      }
    },
    {
      "cell_type": "code",
      "source": [
        "print(\"Top 30 Movies Suggested for You :\\n\")\n",
        "i=1\n",
        "for movie in Sorted_Similar_Movies:\n",
        "  index=movie[0]\n",
        "  title_from_index=data[data.index==index][\"Movie_Title\"].values[0]\n",
        "  if(i<32):\n",
        "    print(i,\".\",title_from_index)\n",
        "    i+=1\n"
      ],
      "metadata": {
        "colab": {
          "base_uri": "https://localhost:8080/"
        },
        "id": "-F-fCzT6FNZk",
        "outputId": "d4034867-8536-4273-83a5-293a84745c19"
      },
      "execution_count": 33,
      "outputs": [
        {
          "output_type": "stream",
          "name": "stdout",
          "text": [
            "Top 30 Movies Suggested for You :\n",
            "\n",
            "1 . Niagara\n",
            "2 . Brokeback Mountain\n",
            "3 . Caravans\n",
            "4 . Night of the Living Dead\n",
            "5 . Mad Hot Ballroom\n",
            "6 . Some Like It Hot\n",
            "7 . The Kentucky Fried Movie\n",
            "8 . The Misfits\n",
            "9 . Superman III\n",
            "10 . Tora! Tora! Tora!\n",
            "11 . To Kill a Mockingbird\n",
            "12 . Beyond the Black Rainbow\n",
            "13 . Duel in the Sun\n",
            "14 . The Change-Up\n",
            "15 . Man of Steel\n",
            "16 . Running with Scissors\n",
            "17 . All That Jazz\n",
            "18 . Butch Cassidy and the Sundance Kid\n",
            "19 . The Boy Next Door\n",
            "20 . The Odd Life of Timothy Green\n",
            "21 . The Lazarus Effect\n",
            "22 . Mad Max 2: The Road Warrior\n",
            "23 . Dallas Buyers Club\n",
            "24 . The Dark Knight Rises\n",
            "25 . Source Code\n",
            "26 . Camping Sauvage\n",
            "27 . Twister\n",
            "28 . Mission: Impossible\n",
            "29 . I Spit on Your Grave\n",
            "30 . The Longest Yard\n",
            "31 . Prisoners\n"
          ]
        }
      ]
    },
    {
      "cell_type": "markdown",
      "source": [
        "# **Top 10 Movie Recommendation System**"
      ],
      "metadata": {
        "id": "Y_oyT1c6GjQ5"
      }
    },
    {
      "cell_type": "code",
      "source": [
        "Movie_Name=input(\"Enter your favourite movie name :\")\n",
        "list_of_all_titles=data[\"Movie_Title\"].tolist()\n",
        "Find_Close_Match=difflib.get_close_matches(Movie_Name,list_of_all_titles)\n",
        "Close_Match=Find_Close_Match[0]\n",
        "Index_of_Movie=data[data.Movie_Title==Close_Match][\"Movie_ID\"].values[0]\n",
        "Recommendation_Score=list(enumerate(Similarity_score[Index_of_Movie]))\n",
        "sorted_similar_movies=sorted(Recommendation_Score,key=lambda X:X[1],reverse=True)\n",
        "\n",
        "i=1\n",
        "for movie in sorted_similar_movies:\n",
        "  index=movie[0]\n",
        "  title_from_index=data[data.Movie_ID==index][\"Movie_Title\"].values\n",
        "  if(i<11):\n",
        "    print(i,'.',title_from_index)\n",
        "    i+=1"
      ],
      "metadata": {
        "colab": {
          "base_uri": "https://localhost:8080/"
        },
        "id": "8sTSffP-GZaz",
        "outputId": "cb34bb7c-61c8-4256-be26-47382a78f3ea"
      },
      "execution_count": 34,
      "outputs": [
        {
          "output_type": "stream",
          "name": "stdout",
          "text": [
            "Enter your favourite movie name :avtaar\n",
            "1 . ['Avatar']\n",
            "2 . ['Donnie Darko']\n",
            "3 . ['The Girl on the Train']\n",
            "4 . ['Freaky Friday']\n",
            "5 . ['Repo! The Genetic Opera']\n",
            "6 . ['The Godfather']\n",
            "7 . ['New Nightmare']\n",
            "8 . ['Rollerball']\n",
            "9 . ['A Prairie Home Companion']\n",
            "10 . ['The Merchant of Venice']\n"
          ]
        }
      ]
    },
    {
      "cell_type": "markdown",
      "source": [
        "\n",
        "\n",
        "---\n",
        "\n",
        "\n",
        "\n",
        "---\n",
        "\n"
      ],
      "metadata": {
        "id": "JGf3MGQvJJ84"
      }
    }
  ]
}