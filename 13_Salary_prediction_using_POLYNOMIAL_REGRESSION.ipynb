{
 "cells": [
  {
   "cell_type": "markdown",
   "metadata": {
    "id": "NdHIE4CSDCp3"
   },
   "source": [
    "# **Day-13 | Salary prediction using POLYNOMIAL REGRESSION**"
   ]
  },
  {
   "cell_type": "markdown",
   "metadata": {
    "id": "1NTrKL3eIgZ8"
   },
   "source": [
    "### *Importing Libraries*"
   ]
  },
  {
   "cell_type": "code",
   "execution_count": 1,
   "metadata": {
    "id": "ae6Pxuc-CNeu"
   },
   "outputs": [],
   "source": [
    "import pandas as pd"
   ]
  },
  {
   "cell_type": "markdown",
   "metadata": {
    "id": "6oo4HsbHInXM"
   },
   "source": [
    "### *Load Dataset from Local directory*"
   ]
  },
  {
   "cell_type": "code",
   "execution_count": 2,
   "metadata": {
    "id": "w0WCVounIsJ5"
   },
   "outputs": [
    {
     "ename": "ModuleNotFoundError",
     "evalue": "No module named 'google.colab'",
     "output_type": "error",
     "traceback": [
      "\u001b[1;31m---------------------------------------------------------------------------\u001b[0m",
      "\u001b[1;31mModuleNotFoundError\u001b[0m                       Traceback (most recent call last)",
      "Input \u001b[1;32mIn [2]\u001b[0m, in \u001b[0;36m<cell line: 1>\u001b[1;34m()\u001b[0m\n\u001b[1;32m----> 1\u001b[0m \u001b[38;5;28;01mfrom\u001b[39;00m \u001b[38;5;21;01mgoogle\u001b[39;00m\u001b[38;5;21;01m.\u001b[39;00m\u001b[38;5;21;01mcolab\u001b[39;00m \u001b[38;5;28;01mimport\u001b[39;00m files\n\u001b[0;32m      2\u001b[0m uploaded \u001b[38;5;241m=\u001b[39m files\u001b[38;5;241m.\u001b[39mupload()\n",
      "\u001b[1;31mModuleNotFoundError\u001b[0m: No module named 'google.colab'"
     ]
    }
   ],
   "source": [
    "from google.colab import files\n",
    "uploaded = files.upload()"
   ]
  },
  {
   "cell_type": "markdown",
   "metadata": {
    "id": "NHijCKx7I0k8"
   },
   "source": [
    "### *Load Dataset*"
   ]
  },
  {
   "cell_type": "code",
   "execution_count": null,
   "metadata": {
    "id": "zxBak91bI2yh"
   },
   "outputs": [],
   "source": [
    "dataset = pd.read_csv('dataset.csv')"
   ]
  },
  {
   "cell_type": "markdown",
   "metadata": {
    "id": "5XKSRUPWI5Q-"
   },
   "source": [
    "### *Summarize Dataset*"
   ]
  },
  {
   "cell_type": "code",
   "execution_count": null,
   "metadata": {
    "id": "63BR2xiKI7oZ"
   },
   "outputs": [],
   "source": [
    "print(dataset.shape)\n",
    "print(dataset.head(5))"
   ]
  },
  {
   "cell_type": "markdown",
   "metadata": {
    "id": "Zv8cn1g8Jix-"
   },
   "source": [
    "### *Segregate Dataset into Input X & Output Y*"
   ]
  },
  {
   "cell_type": "code",
   "execution_count": null,
   "metadata": {
    "id": "iR3g4pDjJoj9"
   },
   "outputs": [],
   "source": [
    "X = dataset.iloc[:, :-1].values\n",
    "X"
   ]
  },
  {
   "cell_type": "code",
   "execution_count": null,
   "metadata": {
    "id": "LyJ8ghMFKcMe"
   },
   "outputs": [],
   "source": [
    "Y = dataset.iloc[:, -1].values\n",
    "Y"
   ]
  },
  {
   "cell_type": "markdown",
   "metadata": {
    "id": "XP-L6ZRyL30I"
   },
   "source": [
    "### *Training Dataset using Linear Regression*"
   ]
  },
  {
   "cell_type": "code",
   "execution_count": null,
   "metadata": {
    "id": "c4x1C89ZVjr9"
   },
   "outputs": [],
   "source": [
    "from sklearn.linear_model import LinearRegression\n",
    "modelLR = LinearRegression()\n",
    "modelLR.fit(X,Y)"
   ]
  },
  {
   "cell_type": "markdown",
   "metadata": {
    "id": "1QIRCVJDYPcx"
   },
   "source": [
    "### *Visualizing Linear Regression results*"
   ]
  },
  {
   "cell_type": "code",
   "execution_count": null,
   "metadata": {
    "id": "OX7tg4mZVori"
   },
   "outputs": [],
   "source": [
    "import matplotlib.pyplot as plt\n",
    "plt.scatter(X,Y, color=\"red\")\n",
    "plt.plot(X, modelLR.predict(X))\n",
    "plt.title(\"Linear Regression\")\n",
    "plt.xlabel(\"Level\")\n",
    "plt.ylabel(\"Salary\")\n",
    "plt.show()"
   ]
  },
  {
   "cell_type": "markdown",
   "metadata": {
    "id": "5uGPFul3meTJ"
   },
   "source": [
    "### *fit() - Training Model - Calculating the initial parameters*\n",
    "\n",
    "### *transform() - After Training we gonna transform Data by using above calculated values*\n",
    "\n",
    "### *fit_transform() - First fit & Transform*\n"
   ]
  },
  {
   "cell_type": "markdown",
   "metadata": {
    "id": "hZsunqlaYh94"
   },
   "source": [
    "###*Convert X to Polynomial Format (X^n)*\n",
    "###*n-degree*\n",
    "###*n=2 consist x & x^2*\n",
    "###*n=3 consist x & x^2 & x^3*"
   ]
  },
  {
   "cell_type": "code",
   "execution_count": null,
   "metadata": {
    "id": "7jalKVwtL5Gq"
   },
   "outputs": [],
   "source": [
    "from sklearn.preprocessing import PolynomialFeatures\n",
    "modelPR = PolynomialFeatures(degree = 4)\n",
    "xPoly = modelPR.fit_transform(X)"
   ]
  },
  {
   "cell_type": "markdown",
   "metadata": {
    "id": "0bDl6FGFb0tP"
   },
   "source": [
    "###*Train same Linear Regression with X-Polynomial instead of X*"
   ]
  },
  {
   "cell_type": "code",
   "execution_count": null,
   "metadata": {
    "id": "rET2XIDYWbb7"
   },
   "outputs": [],
   "source": [
    "modelPLR = LinearRegression()\n",
    "modelPLR.fit(xPoly,Y)"
   ]
  },
  {
   "cell_type": "markdown",
   "metadata": {
    "id": "WHkfO4LChDBl"
   },
   "source": [
    "### *Visualizing Polynomial Regression results*"
   ]
  },
  {
   "cell_type": "code",
   "execution_count": null,
   "metadata": {
    "id": "JZZOZyQ6We2w"
   },
   "outputs": [],
   "source": [
    "plt.scatter(X,Y, color=\"red\")\n",
    "plt.plot(X, modelPLR.predict(modelPR.fit_transform(X)))\n",
    "plt.title(\"Polynomial Regression\")\n",
    "plt.xlabel(\"Level\")\n",
    "plt.ylabel(\"Salary\")\n",
    "plt.show()"
   ]
  },
  {
   "cell_type": "markdown",
   "metadata": {
    "id": "4YOj1wVjerek"
   },
   "source": [
    "### *Prediction using Polynomial Regression*"
   ]
  },
  {
   "cell_type": "code",
   "execution_count": null,
   "metadata": {
    "id": "mt_Z7EDqWhdB"
   },
   "outputs": [],
   "source": [
    "x=5\n",
    "salaryPred = modelPLR.predict(modelPR.fit_transform([[x]]))\n",
    "print('Salary of a person with Level {0} is {1}'.format(x,salaryPred))"
   ]
  }
 ],
 "metadata": {
  "colab": {
   "collapsed_sections": [],
   "name": "13_Salary prediction using POLYNOMIAL REGRESSION.ipynb",
   "provenance": []
  },
  "kernelspec": {
   "display_name": "Python 3 (ipykernel)",
   "language": "python",
   "name": "python3"
  },
  "language_info": {
   "codemirror_mode": {
    "name": "ipython",
    "version": 3
   },
   "file_extension": ".py",
   "mimetype": "text/x-python",
   "name": "python",
   "nbconvert_exporter": "python",
   "pygments_lexer": "ipython3",
   "version": "3.10.4"
  }
 },
 "nbformat": 4,
 "nbformat_minor": 1
}
