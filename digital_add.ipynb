{
  "nbformat": 4,
  "nbformat_minor": 0,
  "metadata": {
    "colab": {
      "provenance": [],
      "authorship_tag": "ABX9TyPwvsv4qCCq3K0DcQ5WByu9",
      "include_colab_link": true
    },
    "kernelspec": {
      "name": "python3",
      "display_name": "Python 3"
    },
    "language_info": {
      "name": "python"
    }
  },
  "cells": [
    {
      "cell_type": "markdown",
      "metadata": {
        "id": "view-in-github",
        "colab_type": "text"
      },
      "source": [
        "<a href=\"https://colab.research.google.com/github/pramanand-coder/Machine-Learning/blob/main/digital_add.ipynb\" target=\"_parent\"><img src=\"https://colab.research.google.com/assets/colab-badge.svg\" alt=\"Open In Colab\"/></a>"
      ]
    },
    {
      "cell_type": "code",
      "execution_count": null,
      "metadata": {
        "colab": {
          "base_uri": "https://localhost:8080/",
          "height": 73
        },
        "id": "0MHqVcydEJ2-",
        "outputId": "a4ac5aea-8013-403e-cdcf-e4f0dbe9b0ae"
      },
      "outputs": [
        {
          "output_type": "display_data",
          "data": {
            "text/plain": [
              "<IPython.core.display.HTML object>"
            ],
            "text/html": [
              "\n",
              "     <input type=\"file\" id=\"files-3ce6efa1-b66f-4a4d-b4b4-2a5f40eb8ce9\" name=\"files[]\" multiple disabled\n",
              "        style=\"border:none\" />\n",
              "     <output id=\"result-3ce6efa1-b66f-4a4d-b4b4-2a5f40eb8ce9\">\n",
              "      Upload widget is only available when the cell has been executed in the\n",
              "      current browser session. Please rerun this cell to enable.\n",
              "      </output>\n",
              "      <script>// Copyright 2017 Google LLC\n",
              "//\n",
              "// Licensed under the Apache License, Version 2.0 (the \"License\");\n",
              "// you may not use this file except in compliance with the License.\n",
              "// You may obtain a copy of the License at\n",
              "//\n",
              "//      http://www.apache.org/licenses/LICENSE-2.0\n",
              "//\n",
              "// Unless required by applicable law or agreed to in writing, software\n",
              "// distributed under the License is distributed on an \"AS IS\" BASIS,\n",
              "// WITHOUT WARRANTIES OR CONDITIONS OF ANY KIND, either express or implied.\n",
              "// See the License for the specific language governing permissions and\n",
              "// limitations under the License.\n",
              "\n",
              "/**\n",
              " * @fileoverview Helpers for google.colab Python module.\n",
              " */\n",
              "(function(scope) {\n",
              "function span(text, styleAttributes = {}) {\n",
              "  const element = document.createElement('span');\n",
              "  element.textContent = text;\n",
              "  for (const key of Object.keys(styleAttributes)) {\n",
              "    element.style[key] = styleAttributes[key];\n",
              "  }\n",
              "  return element;\n",
              "}\n",
              "\n",
              "// Max number of bytes which will be uploaded at a time.\n",
              "const MAX_PAYLOAD_SIZE = 100 * 1024;\n",
              "\n",
              "function _uploadFiles(inputId, outputId) {\n",
              "  const steps = uploadFilesStep(inputId, outputId);\n",
              "  const outputElement = document.getElementById(outputId);\n",
              "  // Cache steps on the outputElement to make it available for the next call\n",
              "  // to uploadFilesContinue from Python.\n",
              "  outputElement.steps = steps;\n",
              "\n",
              "  return _uploadFilesContinue(outputId);\n",
              "}\n",
              "\n",
              "// This is roughly an async generator (not supported in the browser yet),\n",
              "// where there are multiple asynchronous steps and the Python side is going\n",
              "// to poll for completion of each step.\n",
              "// This uses a Promise to block the python side on completion of each step,\n",
              "// then passes the result of the previous step as the input to the next step.\n",
              "function _uploadFilesContinue(outputId) {\n",
              "  const outputElement = document.getElementById(outputId);\n",
              "  const steps = outputElement.steps;\n",
              "\n",
              "  const next = steps.next(outputElement.lastPromiseValue);\n",
              "  return Promise.resolve(next.value.promise).then((value) => {\n",
              "    // Cache the last promise value to make it available to the next\n",
              "    // step of the generator.\n",
              "    outputElement.lastPromiseValue = value;\n",
              "    return next.value.response;\n",
              "  });\n",
              "}\n",
              "\n",
              "/**\n",
              " * Generator function which is called between each async step of the upload\n",
              " * process.\n",
              " * @param {string} inputId Element ID of the input file picker element.\n",
              " * @param {string} outputId Element ID of the output display.\n",
              " * @return {!Iterable<!Object>} Iterable of next steps.\n",
              " */\n",
              "function* uploadFilesStep(inputId, outputId) {\n",
              "  const inputElement = document.getElementById(inputId);\n",
              "  inputElement.disabled = false;\n",
              "\n",
              "  const outputElement = document.getElementById(outputId);\n",
              "  outputElement.innerHTML = '';\n",
              "\n",
              "  const pickedPromise = new Promise((resolve) => {\n",
              "    inputElement.addEventListener('change', (e) => {\n",
              "      resolve(e.target.files);\n",
              "    });\n",
              "  });\n",
              "\n",
              "  const cancel = document.createElement('button');\n",
              "  inputElement.parentElement.appendChild(cancel);\n",
              "  cancel.textContent = 'Cancel upload';\n",
              "  const cancelPromise = new Promise((resolve) => {\n",
              "    cancel.onclick = () => {\n",
              "      resolve(null);\n",
              "    };\n",
              "  });\n",
              "\n",
              "  // Wait for the user to pick the files.\n",
              "  const files = yield {\n",
              "    promise: Promise.race([pickedPromise, cancelPromise]),\n",
              "    response: {\n",
              "      action: 'starting',\n",
              "    }\n",
              "  };\n",
              "\n",
              "  cancel.remove();\n",
              "\n",
              "  // Disable the input element since further picks are not allowed.\n",
              "  inputElement.disabled = true;\n",
              "\n",
              "  if (!files) {\n",
              "    return {\n",
              "      response: {\n",
              "        action: 'complete',\n",
              "      }\n",
              "    };\n",
              "  }\n",
              "\n",
              "  for (const file of files) {\n",
              "    const li = document.createElement('li');\n",
              "    li.append(span(file.name, {fontWeight: 'bold'}));\n",
              "    li.append(span(\n",
              "        `(${file.type || 'n/a'}) - ${file.size} bytes, ` +\n",
              "        `last modified: ${\n",
              "            file.lastModifiedDate ? file.lastModifiedDate.toLocaleDateString() :\n",
              "                                    'n/a'} - `));\n",
              "    const percent = span('0% done');\n",
              "    li.appendChild(percent);\n",
              "\n",
              "    outputElement.appendChild(li);\n",
              "\n",
              "    const fileDataPromise = new Promise((resolve) => {\n",
              "      const reader = new FileReader();\n",
              "      reader.onload = (e) => {\n",
              "        resolve(e.target.result);\n",
              "      };\n",
              "      reader.readAsArrayBuffer(file);\n",
              "    });\n",
              "    // Wait for the data to be ready.\n",
              "    let fileData = yield {\n",
              "      promise: fileDataPromise,\n",
              "      response: {\n",
              "        action: 'continue',\n",
              "      }\n",
              "    };\n",
              "\n",
              "    // Use a chunked sending to avoid message size limits. See b/62115660.\n",
              "    let position = 0;\n",
              "    do {\n",
              "      const length = Math.min(fileData.byteLength - position, MAX_PAYLOAD_SIZE);\n",
              "      const chunk = new Uint8Array(fileData, position, length);\n",
              "      position += length;\n",
              "\n",
              "      const base64 = btoa(String.fromCharCode.apply(null, chunk));\n",
              "      yield {\n",
              "        response: {\n",
              "          action: 'append',\n",
              "          file: file.name,\n",
              "          data: base64,\n",
              "        },\n",
              "      };\n",
              "\n",
              "      let percentDone = fileData.byteLength === 0 ?\n",
              "          100 :\n",
              "          Math.round((position / fileData.byteLength) * 100);\n",
              "      percent.textContent = `${percentDone}% done`;\n",
              "\n",
              "    } while (position < fileData.byteLength);\n",
              "  }\n",
              "\n",
              "  // All done.\n",
              "  yield {\n",
              "    response: {\n",
              "      action: 'complete',\n",
              "    }\n",
              "  };\n",
              "}\n",
              "\n",
              "scope.google = scope.google || {};\n",
              "scope.google.colab = scope.google.colab || {};\n",
              "scope.google.colab._files = {\n",
              "  _uploadFiles,\n",
              "  _uploadFilesContinue,\n",
              "};\n",
              "})(self);\n",
              "</script> "
            ]
          },
          "metadata": {}
        },
        {
          "output_type": "stream",
          "name": "stdout",
          "text": [
            "Saving DigitalAd_dataset.csv to DigitalAd_dataset.csv\n"
          ]
        }
      ],
      "source": [
        "from google.colab import files\n",
        "downloaded=files.upload()"
      ]
    },
    {
      "cell_type": "code",
      "source": [
        "import numpy as np\n",
        "import pandas as pd"
      ],
      "metadata": {
        "id": "Vktvd_RMEURl"
      },
      "execution_count": null,
      "outputs": []
    },
    {
      "cell_type": "code",
      "source": [
        "data=pd.read_csv(\"DigitalAd_dataset.csv\")"
      ],
      "metadata": {
        "id": "GY_PPW3lEoJv"
      },
      "execution_count": null,
      "outputs": []
    },
    {
      "cell_type": "code",
      "source": [
        "data.head("
      ],
      "metadata": {
        "colab": {
          "base_uri": "https://localhost:8080/",
          "height": 206
        },
        "id": "yFKO0hQyEyYN",
        "outputId": "5760fe7e-9eb2-43ea-ce33-f9a2b8ecd577"
      },
      "execution_count": null,
      "outputs": [
        {
          "output_type": "execute_result",
          "data": {
            "text/plain": [
              "   Age  Salary  Status\n",
              "0   18   82000       0\n",
              "1   29   80000       0\n",
              "2   47   25000       1\n",
              "3   45   26000       1\n",
              "4   46   28000       1"
            ],
            "text/html": [
              "\n",
              "  <div id=\"df-8e13053a-5b34-4a37-9167-da42a44ecd2b\">\n",
              "    <div class=\"colab-df-container\">\n",
              "      <div>\n",
              "<style scoped>\n",
              "    .dataframe tbody tr th:only-of-type {\n",
              "        vertical-align: middle;\n",
              "    }\n",
              "\n",
              "    .dataframe tbody tr th {\n",
              "        vertical-align: top;\n",
              "    }\n",
              "\n",
              "    .dataframe thead th {\n",
              "        text-align: right;\n",
              "    }\n",
              "</style>\n",
              "<table border=\"1\" class=\"dataframe\">\n",
              "  <thead>\n",
              "    <tr style=\"text-align: right;\">\n",
              "      <th></th>\n",
              "      <th>Age</th>\n",
              "      <th>Salary</th>\n",
              "      <th>Status</th>\n",
              "    </tr>\n",
              "  </thead>\n",
              "  <tbody>\n",
              "    <tr>\n",
              "      <th>0</th>\n",
              "      <td>18</td>\n",
              "      <td>82000</td>\n",
              "      <td>0</td>\n",
              "    </tr>\n",
              "    <tr>\n",
              "      <th>1</th>\n",
              "      <td>29</td>\n",
              "      <td>80000</td>\n",
              "      <td>0</td>\n",
              "    </tr>\n",
              "    <tr>\n",
              "      <th>2</th>\n",
              "      <td>47</td>\n",
              "      <td>25000</td>\n",
              "      <td>1</td>\n",
              "    </tr>\n",
              "    <tr>\n",
              "      <th>3</th>\n",
              "      <td>45</td>\n",
              "      <td>26000</td>\n",
              "      <td>1</td>\n",
              "    </tr>\n",
              "    <tr>\n",
              "      <th>4</th>\n",
              "      <td>46</td>\n",
              "      <td>28000</td>\n",
              "      <td>1</td>\n",
              "    </tr>\n",
              "  </tbody>\n",
              "</table>\n",
              "</div>\n",
              "      <button class=\"colab-df-convert\" onclick=\"convertToInteractive('df-8e13053a-5b34-4a37-9167-da42a44ecd2b')\"\n",
              "              title=\"Convert this dataframe to an interactive table.\"\n",
              "              style=\"display:none;\">\n",
              "        \n",
              "  <svg xmlns=\"http://www.w3.org/2000/svg\" height=\"24px\"viewBox=\"0 0 24 24\"\n",
              "       width=\"24px\">\n",
              "    <path d=\"M0 0h24v24H0V0z\" fill=\"none\"/>\n",
              "    <path d=\"M18.56 5.44l.94 2.06.94-2.06 2.06-.94-2.06-.94-.94-2.06-.94 2.06-2.06.94zm-11 1L8.5 8.5l.94-2.06 2.06-.94-2.06-.94L8.5 2.5l-.94 2.06-2.06.94zm10 10l.94 2.06.94-2.06 2.06-.94-2.06-.94-.94-2.06-.94 2.06-2.06.94z\"/><path d=\"M17.41 7.96l-1.37-1.37c-.4-.4-.92-.59-1.43-.59-.52 0-1.04.2-1.43.59L10.3 9.45l-7.72 7.72c-.78.78-.78 2.05 0 2.83L4 21.41c.39.39.9.59 1.41.59.51 0 1.02-.2 1.41-.59l7.78-7.78 2.81-2.81c.8-.78.8-2.07 0-2.86zM5.41 20L4 18.59l7.72-7.72 1.47 1.35L5.41 20z\"/>\n",
              "  </svg>\n",
              "      </button>\n",
              "      \n",
              "  <style>\n",
              "    .colab-df-container {\n",
              "      display:flex;\n",
              "      flex-wrap:wrap;\n",
              "      gap: 12px;\n",
              "    }\n",
              "\n",
              "    .colab-df-convert {\n",
              "      background-color: #E8F0FE;\n",
              "      border: none;\n",
              "      border-radius: 50%;\n",
              "      cursor: pointer;\n",
              "      display: none;\n",
              "      fill: #1967D2;\n",
              "      height: 32px;\n",
              "      padding: 0 0 0 0;\n",
              "      width: 32px;\n",
              "    }\n",
              "\n",
              "    .colab-df-convert:hover {\n",
              "      background-color: #E2EBFA;\n",
              "      box-shadow: 0px 1px 2px rgba(60, 64, 67, 0.3), 0px 1px 3px 1px rgba(60, 64, 67, 0.15);\n",
              "      fill: #174EA6;\n",
              "    }\n",
              "\n",
              "    [theme=dark] .colab-df-convert {\n",
              "      background-color: #3B4455;\n",
              "      fill: #D2E3FC;\n",
              "    }\n",
              "\n",
              "    [theme=dark] .colab-df-convert:hover {\n",
              "      background-color: #434B5C;\n",
              "      box-shadow: 0px 1px 3px 1px rgba(0, 0, 0, 0.15);\n",
              "      filter: drop-shadow(0px 1px 2px rgba(0, 0, 0, 0.3));\n",
              "      fill: #FFFFFF;\n",
              "    }\n",
              "  </style>\n",
              "\n",
              "      <script>\n",
              "        const buttonEl =\n",
              "          document.querySelector('#df-8e13053a-5b34-4a37-9167-da42a44ecd2b button.colab-df-convert');\n",
              "        buttonEl.style.display =\n",
              "          google.colab.kernel.accessAllowed ? 'block' : 'none';\n",
              "\n",
              "        async function convertToInteractive(key) {\n",
              "          const element = document.querySelector('#df-8e13053a-5b34-4a37-9167-da42a44ecd2b');\n",
              "          const dataTable =\n",
              "            await google.colab.kernel.invokeFunction('convertToInteractive',\n",
              "                                                     [key], {});\n",
              "          if (!dataTable) return;\n",
              "\n",
              "          const docLinkHtml = 'Like what you see? Visit the ' +\n",
              "            '<a target=\"_blank\" href=https://colab.research.google.com/notebooks/data_table.ipynb>data table notebook</a>'\n",
              "            + ' to learn more about interactive tables.';\n",
              "          element.innerHTML = '';\n",
              "          dataTable['output_type'] = 'display_data';\n",
              "          await google.colab.output.renderOutput(dataTable, element);\n",
              "          const docLink = document.createElement('div');\n",
              "          docLink.innerHTML = docLinkHtml;\n",
              "          element.appendChild(docLink);\n",
              "        }\n",
              "      </script>\n",
              "    </div>\n",
              "  </div>\n",
              "  "
            ]
          },
          "metadata": {},
          "execution_count": 4
        }
      ]
    },
    {
      "cell_type": "code",
      "source": [
        "data.shape"
      ],
      "metadata": {
        "colab": {
          "base_uri": "https://localhost:8080/"
        },
        "id": "KJnzeLQwE1TM",
        "outputId": "6d9ac231-d6f0-4b75-c50f-674367d57c78"
      },
      "execution_count": null,
      "outputs": [
        {
          "output_type": "execute_result",
          "data": {
            "text/plain": [
              "(400, 3)"
            ]
          },
          "metadata": {},
          "execution_count": 5
        }
      ]
    },
    {
      "cell_type": "code",
      "source": [
        "data.dtypes"
      ],
      "metadata": {
        "colab": {
          "base_uri": "https://localhost:8080/"
        },
        "id": "_vnI8gXBE5F9",
        "outputId": "9cb7ff38-a92f-440f-dd08-847d1c880bf1"
      },
      "execution_count": null,
      "outputs": [
        {
          "output_type": "execute_result",
          "data": {
            "text/plain": [
              "Age       int64\n",
              "Salary    int64\n",
              "Status    int64\n",
              "dtype: object"
            ]
          },
          "metadata": {},
          "execution_count": 6
        }
      ]
    },
    {
      "cell_type": "code",
      "source": [
        "data.isnull().sum()"
      ],
      "metadata": {
        "colab": {
          "base_uri": "https://localhost:8080/"
        },
        "id": "IRsdzFVtE9JU",
        "outputId": "fb861086-0032-467d-f29d-1865af523de0"
      },
      "execution_count": null,
      "outputs": [
        {
          "output_type": "execute_result",
          "data": {
            "text/plain": [
              "Age       0\n",
              "Salary    0\n",
              "Status    0\n",
              "dtype: int64"
            ]
          },
          "metadata": {},
          "execution_count": 7
        }
      ]
    },
    {
      "cell_type": "code",
      "source": [
        "data[\"Status\"].value_counts()"
      ],
      "metadata": {
        "colab": {
          "base_uri": "https://localhost:8080/"
        },
        "id": "J3fSaHRME_9_",
        "outputId": "735aeb76-8f77-45e2-e2ee-1eb04ccb4ab4"
      },
      "execution_count": null,
      "outputs": [
        {
          "output_type": "execute_result",
          "data": {
            "text/plain": [
              "0    257\n",
              "1    143\n",
              "Name: Status, dtype: int64"
            ]
          },
          "metadata": {},
          "execution_count": 8
        }
      ]
    },
    {
      "cell_type": "code",
      "source": [
        "X=data.iloc[:,:-1]\n",
        "print(X)"
      ],
      "metadata": {
        "colab": {
          "base_uri": "https://localhost:8080/"
        },
        "id": "GmhQpmy7FIUu",
        "outputId": "08bc7316-158e-47ea-be33-2be4d2da1ac6"
      },
      "execution_count": null,
      "outputs": [
        {
          "output_type": "stream",
          "name": "stdout",
          "text": [
            "     Age  Salary\n",
            "0     18   82000\n",
            "1     29   80000\n",
            "2     47   25000\n",
            "3     45   26000\n",
            "4     46   28000\n",
            "..   ...     ...\n",
            "395   35   65000\n",
            "396   26   80000\n",
            "397   26   52000\n",
            "398   20   86000\n",
            "399   32   18000\n",
            "\n",
            "[400 rows x 2 columns]\n"
          ]
        }
      ]
    },
    {
      "cell_type": "code",
      "source": [
        "Y=data.iloc[:,-1]\n",
        "print(Y)"
      ],
      "metadata": {
        "colab": {
          "base_uri": "https://localhost:8080/"
        },
        "id": "q9UzUvc4FXLA",
        "outputId": "c730c24a-1bda-40e2-8ec4-96cafe0e4f8b"
      },
      "execution_count": null,
      "outputs": [
        {
          "output_type": "stream",
          "name": "stdout",
          "text": [
            "0      0\n",
            "1      0\n",
            "2      1\n",
            "3      1\n",
            "4      1\n",
            "      ..\n",
            "395    0\n",
            "396    0\n",
            "397    0\n",
            "398    0\n",
            "399    0\n",
            "Name: Status, Length: 400, dtype: int64\n"
          ]
        }
      ]
    },
    {
      "cell_type": "code",
      "source": [
        "from sklearn.model_selection import train_test_split\n",
        "x_train,x_test,y_train,y_test=train_test_split(X,Y,test_size=0.25,random_state=0)"
      ],
      "metadata": {
        "id": "JzVkz34AFd4_"
      },
      "execution_count": null,
      "outputs": []
    },
    {
      "cell_type": "code",
      "source": [
        "print(\"shape of training data:\",x_train.shape)\n",
        "print(\"shape of testing data:\",x_test.shape)"
      ],
      "metadata": {
        "colab": {
          "base_uri": "https://localhost:8080/"
        },
        "id": "bm0rF12pFztv",
        "outputId": "993badd7-4d66-4c79-bf3c-b32ef8a15532"
      },
      "execution_count": null,
      "outputs": [
        {
          "output_type": "stream",
          "name": "stdout",
          "text": [
            "shape of training data: (300, 2)\n",
            "shape of testing data: (100, 2)\n"
          ]
        }
      ]
    },
    {
      "cell_type": "code",
      "source": [
        "from sklearn.preprocessing import StandardScaler\n",
        "sc=StandardScaler()\n",
        "x_train=sc.fit_transform(x_train)\n",
        "x_test=sc.transform(x_test)"
      ],
      "metadata": {
        "id": "hbE6GPLGGD3n"
      },
      "execution_count": null,
      "outputs": []
    },
    {
      "cell_type": "code",
      "source": [
        "print(x_train)\n",
        "print(x_test)"
      ],
      "metadata": {
        "colab": {
          "base_uri": "https://localhost:8080/"
        },
        "id": "Xov1inNeGdgX",
        "outputId": "79c894ad-0789-44c2-a4d9-5ce8207d1b93"
      },
      "execution_count": null,
      "outputs": [
        {
          "output_type": "stream",
          "name": "stdout",
          "text": [
            "[[ 0.97446763  0.56400811]\n",
            " [-1.52088611 -1.28151705]\n",
            " [ 0.30264162  0.03671521]\n",
            " [-0.36918439 -0.81281224]\n",
            " [ 0.49459191  1.20847722]\n",
            " [-0.1772341   0.82765456]\n",
            " [-0.27320924 -0.78351819]\n",
            " [ 0.39861676  0.24177356]\n",
            " [-0.27320924  0.00742116]\n",
            " [ 0.01471619 -0.60775389]\n",
            " [ 0.11069133  0.00742116]\n",
            " [-0.46515953  2.29235707]\n",
            " [ 0.39861676 -0.02187289]\n",
            " [-0.27320924 -1.28151705]\n",
            " [ 1.93421906 -1.39869325]\n",
            " [-0.27320924  2.23376897]\n",
            " [ 0.11069133  1.03271291]\n",
            " [-0.56113467  1.44282962]\n",
            " [ 0.97446763  1.85294632]\n",
            " [ 0.30264162  0.03671521]\n",
            " [-1.13698554 -1.04716465]\n",
            " [-0.08125895  0.27106761]\n",
            " [ 0.30264162 -0.54916579]\n",
            " [-0.27320924 -0.60775389]\n",
            " [ 0.87849248 -1.39869325]\n",
            " [ 0.78251734 -0.34410744]\n",
            " [-0.46515953 -1.252223  ]\n",
            " [ 0.20666648  0.12459736]\n",
            " [ 0.39861676  0.97412481]\n",
            " [-0.56113467  1.35494747]\n",
            " [-0.46515953 -0.05116694]\n",
            " [-0.56113467  2.32165112]\n",
            " [-0.75308496  0.27106761]\n",
            " [ 1.16641791 -0.78351819]\n",
            " [ 0.20666648  1.06200696]\n",
            " [ 0.20666648 -0.40269554]\n",
            " [ 0.30264162 -0.31481339]\n",
            " [ 0.20666648  2.08729872]\n",
            " [ 1.45434334  0.97412481]\n",
            " [-1.04101039  1.94082847]\n",
            " [-1.32893582 -1.39869325]\n",
            " [-0.27320924 -0.92998845]\n",
            " [-0.94503525  0.38824381]\n",
            " [-0.75308496 -1.57445755]\n",
            " [ 1.07044277  0.50542001]\n",
            " [-0.1772341  -0.54916579]\n",
            " [ 0.11069133  0.06600926]\n",
            " [ 0.68654219  1.76506417]\n",
            " [-0.27320924  0.76906646]\n",
            " [-0.65710982 -0.37340149]\n",
            " [ 0.87849248  1.00341886]\n",
            " [-0.94503525 -0.46128364]\n",
            " [-0.08125895  0.24177356]\n",
            " [ 0.39861676 -0.16834314]\n",
            " [ 0.39861676  0.27106761]\n",
            " [-1.13698554 -1.63304565]\n",
            " [-0.08125895  0.21247951]\n",
            " [-1.80881154  0.41753786]\n",
            " [ 2.03019421 -0.84210629]\n",
            " [ 1.07044277  2.05800467]\n",
            " [-0.1772341  -0.22693124]\n",
            " [ 0.30264162 -1.1936349 ]\n",
            " [-1.04101039 -0.49057769]\n",
            " [ 0.68654219 -0.75422414]\n",
            " [-0.27320924 -0.69563604]\n",
            " [-0.75308496  1.88224037]\n",
            " [ 1.26239306  2.20447492]\n",
            " [-0.08125895  0.00742116]\n",
            " [-0.94503525 -0.98857655]\n",
            " [-0.36918439  1.20847722]\n",
            " [-0.65710982  0.00742116]\n",
            " [ 0.39861676  0.06600926]\n",
            " [ 0.87849248 -0.81281224]\n",
            " [-1.04101039 -0.37340149]\n",
            " [ 0.30264162  0.03671521]\n",
            " [ 0.97446763  0.09530331]\n",
            " [ 0.20666648  0.12459736]\n",
            " [-1.04101039 -1.4865754 ]\n",
            " [ 1.83824392 -0.31481339]\n",
            " [-1.13698554  0.27106761]\n",
            " [ 0.78251734  0.32965571]\n",
            " [-0.94503525  0.41753786]\n",
            " [ 0.30264162 -0.75422414]\n",
            " [ 0.78251734 -0.87140035]\n",
            " [ 0.01471619  1.20847722]\n",
            " [-0.27320924 -0.31481339]\n",
            " [-0.75308496 -1.63304565]\n",
            " [-0.36918439 -0.81281224]\n",
            " [-0.08125895  0.27106761]\n",
            " [-0.08125895  0.65189026]\n",
            " [-1.32893582 -0.37340149]\n",
            " [ 0.01471619 -0.16834314]\n",
            " [ 1.93421906 -0.69563604]\n",
            " [-0.46515953 -0.57845984]\n",
            " [ 0.87849248 -1.34010515]\n",
            " [ 0.11069133 -0.84210629]\n",
            " [-1.61686125  0.50542001]\n",
            " [-0.1772341   1.61859392]\n",
            " [ 0.97446763 -1.10575275]\n",
            " [ 0.78251734  0.24177356]\n",
            " [-0.65710982  0.15389141]\n",
            " [ 0.59056705 -0.92998845]\n",
            " [ 1.07044277  0.44683191]\n",
            " [ 0.30264162  0.24177356]\n",
            " [ 1.64629363 -0.92998845]\n",
            " [ 1.45434334  0.32965571]\n",
            " [-0.08125895  2.20447492]\n",
            " [-0.65710982  0.53471406]\n",
            " [ 0.78251734  0.73977241]\n",
            " [-1.04101039  0.38824381]\n",
            " [ 0.11069133 -0.84210629]\n",
            " [-1.13698554  0.03671521]\n",
            " [ 1.45434334  0.03671521]\n",
            " [-1.52088611 -1.5451635 ]\n",
            " [ 1.3583682   0.56400811]\n",
            " [-0.75308496  0.53471406]\n",
            " [-1.04101039  0.53471406]\n",
            " [ 0.11069133 -0.28551934]\n",
            " [-1.13698554 -1.6037516 ]\n",
            " [-1.04101039 -0.40269554]\n",
            " [ 1.16641791 -1.4865754 ]\n",
            " [ 1.55031849 -0.02187289]\n",
            " [-1.04101039 -0.37340149]\n",
            " [-1.61686125 -1.6037516 ]\n",
            " [ 0.68654219  0.24177356]\n",
            " [-0.8490601  -1.252223  ]\n",
            " [-0.27320924  0.03671521]\n",
            " [-1.23296068 -1.10575275]\n",
            " [-0.65710982  1.38424152]\n",
            " [ 0.87849248 -1.1936349 ]\n",
            " [ 0.97446763 -1.10575275]\n",
            " [ 1.74226877  1.82365227]\n",
            " [ 1.07044277 -1.0178706 ]\n",
            " [-1.13698554 -0.81281224]\n",
            " [ 1.16641791  0.50542001]\n",
            " [-0.36918439  0.03671521]\n",
            " [ 0.20666648 -0.34410744]\n",
            " [-1.42491097 -1.252223  ]\n",
            " [-0.94503525  1.53071177]\n",
            " [ 0.30264162  0.00742116]\n",
            " [-1.13698554 -0.54916579]\n",
            " [-0.75308496  0.47612596]\n",
            " [ 0.87849248  2.14588682]\n",
            " [ 0.11069133  1.85294632]\n",
            " [-0.08125895  2.14588682]\n",
            " [ 0.97446763 -1.04716465]\n",
            " [ 0.30264162 -0.57845984]\n",
            " [-0.27320924 -0.9592825 ]\n",
            " [-0.36918439  1.29635937]\n",
            " [-1.52088611 -0.46128364]\n",
            " [-0.65710982  0.09530331]\n",
            " [ 1.3583682  -1.45728135]\n",
            " [-0.27320924 -0.60775389]\n",
            " [-0.27320924 -0.51987174]\n",
            " [-0.27320924  0.12459736]\n",
            " [ 2.03019421  2.11659277]\n",
            " [ 0.87849248  1.06200696]\n",
            " [-0.1772341  -0.60775389]\n",
            " [-0.08125895 -0.54916579]\n",
            " [ 0.20666648 -0.16834314]\n",
            " [ 1.64629363  1.58929987]\n",
            " [ 0.30264162 -0.54916579]\n",
            " [-0.94503525 -0.78351819]\n",
            " [ 0.39861676  2.29235707]\n",
            " [ 1.3583682   1.97012252]\n",
            " [ 0.68654219 -1.3108111 ]\n",
            " [ 0.11069133  1.85294632]\n",
            " [-1.80881154 -1.34010515]\n",
            " [-0.75308496  1.32565342]\n",
            " [-1.13698554  0.27106761]\n",
            " [ 0.11069133  0.12459736]\n",
            " [ 2.12616935 -0.84210629]\n",
            " [ 0.49459191  1.70647607]\n",
            " [-0.75308496  0.24177356]\n",
            " [ 2.12616935 -0.72493009]\n",
            " [-0.8490601   0.35894976]\n",
            " [ 2.12616935 -0.84210629]\n",
            " [ 0.87849248 -1.4865754 ]\n",
            " [ 0.01471619 -0.60775389]\n",
            " [-1.04101039  0.50542001]\n",
            " [ 2.03019421  0.50542001]\n",
            " [-1.32893582 -1.1350468 ]\n",
            " [ 1.26239306 -1.39869325]\n",
            " [-1.7128364  -1.39869325]\n",
            " [-1.32893582 -0.46128364]\n",
            " [ 0.97446763  2.05800467]\n",
            " [ 2.03019421  0.35894976]\n",
            " [ 2.12616935  0.91553671]\n",
            " [ 0.97446763  1.41353557]\n",
            " [ 0.01471619 -0.57845984]\n",
            " [ 0.30264162 -0.22693124]\n",
            " [-0.75308496  1.06200696]\n",
            " [ 0.20666648 -0.40269554]\n",
            " [-1.90478668 -0.54916579]\n",
            " [ 1.55031849  0.97412481]\n",
            " [-0.36918439 -1.34010515]\n",
            " [ 1.07044277  0.09530331]\n",
            " [-0.75308496 -0.63704794]\n",
            " [-0.94503525  0.24177356]\n",
            " [-1.90478668  0.32965571]\n",
            " [ 2.12616935  1.09130101]\n",
            " [-0.08125895 -0.40269554]\n",
            " [ 0.01471619 -0.28551934]\n",
            " [-0.27320924 -1.4865754 ]\n",
            " [-0.8490601  -0.81281224]\n",
            " [ 0.49459191  1.82365227]\n",
            " [-1.13698554  0.44683191]\n",
            " [ 1.07044277 -1.252223  ]\n",
            " [ 0.01471619  0.27106761]\n",
            " [ 2.03019421 -1.22292895]\n",
            " [-0.46515953 -0.81281224]\n",
            " [-0.27320924  0.50542001]\n",
            " [-0.1772341  -0.31481339]\n",
            " [-1.42491097 -0.13904909]\n",
            " [-0.27320924  0.59330216]\n",
            " [-0.08125895  0.18318546]\n",
            " [ 0.01471619 -0.34410744]\n",
            " [-0.08125895 -1.10575275]\n",
            " [-0.8490601   0.12459736]\n",
            " [-0.94503525  0.53471406]\n",
            " [-1.32893582  0.53471406]\n",
            " [ 2.12616935  0.35894976]\n",
            " [-1.7128364   0.44683191]\n",
            " [ 0.01471619  0.00742116]\n",
            " [ 0.01471619 -0.46128364]\n",
            " [ 0.20666648  0.21247951]\n",
            " [-0.27320924  0.06600926]\n",
            " [-1.42491097 -0.22693124]\n",
            " [ 0.39861676 -0.49057769]\n",
            " [ 0.39861676 -0.19763719]\n",
            " [-1.61686125  0.03671521]\n",
            " [-0.27320924 -1.34010515]\n",
            " [-0.27320924 -0.28551934]\n",
            " [-1.61686125 -0.08046099]\n",
            " [ 0.39861676 -0.49057769]\n",
            " [-1.32893582 -1.28151705]\n",
            " [-0.1772341  -0.49057769]\n",
            " [ 2.03019421  0.15389141]\n",
            " [ 1.55031849 -1.3108111 ]\n",
            " [-1.42491097 -0.66634199]\n",
            " [ 0.30264162 -0.34410744]\n",
            " [ 0.59056705  1.99941657]\n",
            " [ 0.97446763  1.97012252]\n",
            " [ 0.78251734  0.50542001]\n",
            " [-0.8490601   0.35894976]\n",
            " [-1.42491097  0.32965571]\n",
            " [ 1.45434334 -1.0764587 ]\n",
            " [-0.27320924 -0.34410744]\n",
            " [ 0.20666648 -0.31481339]\n",
            " [-0.27320924  1.09130101]\n",
            " [-1.7128364  -1.0178706 ]\n",
            " [-1.23296068 -1.4279873 ]\n",
            " [-1.90478668  0.44683191]\n",
            " [ 1.93421906  0.71047836]\n",
            " [ 1.07044277 -0.16834314]\n",
            " [-1.42491097 -1.4865754 ]\n",
            " [-1.23296068  0.24177356]\n",
            " [-1.90478668 -0.08046099]\n",
            " [-0.27320924 -1.4279873 ]\n",
            " [ 1.07044277 -0.92998845]\n",
            " [-0.08125895  1.94082847]\n",
            " [ 0.78251734  0.09530331]\n",
            " [-1.23296068  0.56400811]\n",
            " [ 0.78251734  1.35494747]\n",
            " [ 1.83824392 -1.10575275]\n",
            " [-1.80881154 -1.3108111 ]\n",
            " [-0.08125895 -0.46128364]\n",
            " [ 0.39861676  0.56400811]\n",
            " [ 0.01471619 -0.28551934]\n",
            " [ 1.3583682   2.32165112]\n",
            " [ 0.20666648 -0.40269554]\n",
            " [-1.13698554  0.38824381]\n",
            " [ 1.16641791 -1.0178706 ]\n",
            " [-1.32893582 -0.46128364]\n",
            " [ 1.55031849  1.09130101]\n",
            " [-1.04101039 -1.16434085]\n",
            " [-0.65710982 -1.0764587 ]\n",
            " [-0.08125895  0.12459736]\n",
            " [-0.1772341  -1.10575275]\n",
            " [-0.27320924  0.03671521]\n",
            " [-1.80881154 -1.51586945]\n",
            " [-0.27320924 -1.39869325]\n",
            " [ 1.3583682   1.26706532]\n",
            " [-0.1772341   1.38424152]\n",
            " [-0.56113467  0.44683191]\n",
            " [-0.75308496 -0.25622529]\n",
            " [-0.94503525 -0.34410744]\n",
            " [ 1.26239306  1.85294632]\n",
            " [ 0.30264162  0.03671521]\n",
            " [ 1.07044277  0.53471406]\n",
            " [-0.08125895 -0.51987174]\n",
            " [ 0.68654219 -1.4279873 ]\n",
            " [ 2.03019421  1.73577012]\n",
            " [ 0.78251734 -1.4279873 ]\n",
            " [ 0.39861676  1.09130101]\n",
            " [-0.27320924  0.24177356]\n",
            " [ 1.64629363  1.73577012]\n",
            " [-0.46515953 -1.16434085]\n",
            " [-1.23296068  0.47612596]\n",
            " [-1.7128364   0.32965571]]\n",
            "[[-1.04101039  0.73977241]\n",
            " [ 0.97446763 -1.1936349 ]\n",
            " [ 2.12616935 -1.0764587 ]\n",
            " [ 0.97446763  0.73977241]\n",
            " [-0.27320924  0.18318546]\n",
            " [-0.56113467 -1.5451635 ]\n",
            " [-0.8490601  -0.69563604]\n",
            " [ 1.83824392  0.09530331]\n",
            " [-0.65710982 -1.63304565]\n",
            " [ 0.20666648  0.03671521]\n",
            " [-1.90478668 -0.78351819]\n",
            " [-0.8490601  -0.28551934]\n",
            " [-1.13698554 -1.1350468 ]\n",
            " [ 0.87849248 -0.60775389]\n",
            " [ 1.07044277 -1.252223  ]\n",
            " [-0.46515953  1.23777127]\n",
            " [ 0.87849248  1.23777127]\n",
            " [ 0.20666648 -0.69563604]\n",
            " [ 0.30264162  0.27106761]\n",
            " [-0.27320924 -0.37340149]\n",
            " [-1.32893582  0.38824381]\n",
            " [-0.08125895 -0.02187289]\n",
            " [-0.94503525 -0.34410744]\n",
            " [ 0.20666648  0.00742116]\n",
            " [-0.94503525 -1.1350468 ]\n",
            " [ 0.39861676  0.12459736]\n",
            " [-1.13698554 -1.63304565]\n",
            " [-0.65710982 -1.5451635 ]\n",
            " [ 1.93421906 -0.9592825 ]\n",
            " [-0.27320924  0.12459736]\n",
            " [-0.46515953 -0.31481339]\n",
            " [-0.27320924 -0.46128364]\n",
            " [ 0.11069133  0.18318546]\n",
            " [ 1.45434334  2.11659277]\n",
            " [-1.13698554 -1.57445755]\n",
            " [-1.52088611  0.30036166]\n",
            " [-1.80881154 -1.45728135]\n",
            " [-0.46515953 -0.87140035]\n",
            " [-1.80881154 -0.02187289]\n",
            " [-0.56113467 -1.5451635 ]\n",
            " [ 0.39861676  0.27106761]\n",
            " [ 1.93421906  2.14588682]\n",
            " [ 0.68654219 -1.4279873 ]\n",
            " [-0.8490601   0.27106761]\n",
            " [ 0.11069133  0.73977241]\n",
            " [-1.52088611 -0.22693124]\n",
            " [ 0.87849248 -1.0764587 ]\n",
            " [ 0.20666648 -0.28551934]\n",
            " [-1.13698554  1.38424152]\n",
            " [ 1.83824392  1.50141772]\n",
            " [-0.1772341   2.14588682]\n",
            " [-1.13698554 -1.1936349 ]\n",
            " [-0.1772341   1.58929987]\n",
            " [-0.65710982 -0.13904909]\n",
            " [-0.27320924 -0.40269554]\n",
            " [ 0.39861676 -0.16834314]\n",
            " [-1.32893582 -1.51586945]\n",
            " [ 0.78251734 -1.39869325]\n",
            " [-1.04101039 -1.57445755]\n",
            " [-0.56113467  1.35494747]\n",
            " [-1.13698554  0.30036166]\n",
            " [-0.08125895 -0.25622529]\n",
            " [ 0.78251734 -1.252223  ]\n",
            " [ 0.01471619  0.00742116]\n",
            " [ 0.87849248 -0.69563604]\n",
            " [ 1.74226877 -0.31481339]\n",
            " [-0.56113467  1.88224037]\n",
            " [ 0.97446763 -1.22292895]\n",
            " [-0.8490601   2.26306302]\n",
            " [ 0.97446763  1.76506417]\n",
            " [ 0.87849248 -0.63704794]\n",
            " [ 1.83824392 -1.3108111 ]\n",
            " [-1.7128364  -0.63704794]\n",
            " [-1.04101039  0.56400811]\n",
            " [-0.08125895  0.03671521]\n",
            " [-0.8490601  -0.81281224]\n",
            " [ 0.39861676 -0.51987174]\n",
            " [ 0.68654219 -1.1350468 ]\n",
            " [ 0.78251734 -1.1350468 ]\n",
            " [ 0.87849248 -0.57845984]\n",
            " [ 0.01471619  1.23777127]\n",
            " [-0.94503525  0.47612596]\n",
            " [-0.65710982 -0.08046099]\n",
            " [-0.1772341   0.12459736]\n",
            " [ 0.11069133  0.24177356]\n",
            " [ 1.74226877  0.97412481]\n",
            " [-1.7128364   0.32965571]\n",
            " [ 0.11069133  0.00742116]\n",
            " [-0.27320924 -0.16834314]\n",
            " [ 0.11069133  1.50141772]\n",
            " [ 0.11069133 -0.34410744]\n",
            " [-0.08125895  0.09530331]\n",
            " [-1.23296068  0.27106761]\n",
            " [ 0.97446763 -0.87140035]\n",
            " [ 1.93421906  0.88624266]\n",
            " [-0.56113467  0.85694861]\n",
            " [-1.7128364   0.09530331]\n",
            " [-1.80881154  0.15389141]\n",
            " [ 1.3583682  -0.9592825 ]\n",
            " [ 0.30264162  0.47612596]]\n"
          ]
        }
      ]
    },
    {
      "cell_type": "code",
      "source": [
        "from sklearn.neighbors import KNeighborsClassifier\n",
        "error=[]\n",
        "for i in range(1,40):\n",
        "  model=KNeighborsClassifier(n_neighbors=i)\n",
        "  model.fit(x_train,y_train)\n",
        "  pred_i=model.predict(x_test)\n",
        "  error.append(np.mean(pred_i != y_test))"
      ],
      "metadata": {
        "id": "PfapnPTiGms3"
      },
      "execution_count": null,
      "outputs": []
    },
    {
      "cell_type": "code",
      "source": [
        "import matplotlib.pyplot as plt\n",
        "plt.figure(figsize=(12,6))\n",
        "plt.plot(range(1,40),error,color=\"red\",linestyle=\"dashed\",markerfacecolor=\"blue\",markersize=10,marker=\"o\")\n",
        "plt.title(\"Mean error Vs K Value\")\n",
        "plt.xlabel(\"K Value\")\n",
        "plt.ylabel(\"Mean Error\")\n",
        "plt.show()"
      ],
      "metadata": {
        "colab": {
          "base_uri": "https://localhost:8080/",
          "height": 404
        },
        "id": "CcWI1nzzIX8q",
        "outputId": "037473a0-521d-45ca-caf5-40f4ff7aec5a"
      },
      "execution_count": null,
      "outputs": [
        {
          "output_type": "display_data",
          "data": {
            "text/plain": [
              "<Figure size 864x432 with 1 Axes>"
            ],
            "image/png": "[encoded data removed]"
          },
          "metadata": {
            "needs_background": "light"
          }
        }
      ]
    },
    {
      "cell_type": "code",
      "source": [
        "odel = KNeighborsClassifier(n_neighbors = 3, metric = 'minkowski', p = 2)\n",
        "model.fit(x_train, y_train)\n",
        "y_pred=model.predict(x_test)\n",
        "print(y_pred)"
      ],
      "metadata": {
        "colab": {
          "base_uri": "https://localhost:8080/"
        },
        "id": "go4cUEw-JQuB",
        "outputId": "886c64e3-39e6-438f-c59c-685d6d08b8f8"
      },
      "execution_count": null,
      "outputs": [
        {
          "output_type": "stream",
          "name": "stdout",
          "text": [
            "[0 1 1 1 0 0 0 1 0 0 0 0 0 1 1 1 1 0 0 0 0 0 0 0 0 0 0 0 1 0 0 0 0 1 0 0 0\n",
            " 0 0 0 0 1 1 0 1 0 1 0 1 1 1 0 1 0 0 0 0 1 0 1 0 0 1 0 1 1 1 1 1 1 1 1 0 0\n",
            " 0 0 0 1 1 0 1 0 0 0 0 1 0 0 0 1 0 0 0 1 1 1 0 0 1 1]\n"
          ]
        }
      ]
    },
    {
      "cell_type": "code",
      "source": [
        "from sklearn.metrics import confusion_matrix,accuracy_score\n",
        "cm=confusion_matrix(y_pred,y_test)\n",
        "cm"
      ],
      "metadata": {
        "colab": {
          "base_uri": "https://localhost:8080/"
        },
        "id": "DnWiFIOxLupb",
        "outputId": "fd3c2d6e-12ee-4566-e098-7b2922712468"
      },
      "execution_count": null,
      "outputs": [
        {
          "output_type": "execute_result",
          "data": {
            "text/plain": [
              "array([[57,  4],\n",
              "       [ 4, 35]])"
            ]
          },
          "metadata": {},
          "execution_count": 33
        }
      ]
    },
    {
      "cell_type": "code",
      "source": [
        "print(\"Accuracy Score:\",accuracy_score(y_pred,y_test)*100)"
      ],
      "metadata": {
        "colab": {
          "base_uri": "https://localhost:8080/"
        },
        "id": "2fxWxD_IOcmX",
        "outputId": "2ab58a97-dc01-4149-cbd9-cfa808698338"
      },
      "execution_count": null,
      "outputs": [
        {
          "output_type": "stream",
          "name": "stdout",
          "text": [
            "Accuracy Score: 92.0\n"
          ]
        }
      ]
    }
  ]
}